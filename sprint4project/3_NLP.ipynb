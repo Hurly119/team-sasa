{
 "metadata": {
  "language_info": {
   "codemirror_mode": {
    "name": "ipython",
    "version": 3
   },
   "file_extension": ".py",
   "mimetype": "text/x-python",
   "name": "python",
   "nbconvert_exporter": "python",
   "pygments_lexer": "ipython3",
   "version": "3.8.8-final"
  },
  "orig_nbformat": 2,
  "kernelspec": {
   "name": "python3",
   "display_name": "Python 3.8.8 64-bit ('base': conda)",
   "metadata": {
    "interpreter": {
     "hash": "e134e05457d34029b6460cd73bbf1ed73f339b5b6d98c95be70b69eba114fe95"
    }
   }
  }
 },
 "nbformat": 4,
 "nbformat_minor": 2,
 "cells": [
  {
   "source": [
    "# TEAM-KMJS (a.k.a Team Sasa)     \n",
    "### Sprint4 - News "
   ],
   "cell_type": "markdown",
   "metadata": {}
  },
  {
   "cell_type": "code",
   "execution_count": 1,
   "metadata": {},
   "outputs": [
    {
     "output_type": "stream",
     "name": "stderr",
     "text": [
      "/usr/local/anaconda3/lib/python3.8/site-packages/ipykernel/pylab/config.py:70: DeprecationWarning: InlineBackend._figure_formats_changed is deprecated in traitlets 4.1: use @observe and @unobserve instead.\n",
      "  def _figure_formats_changed(self, name, old, new):\n",
      "/usr/local/anaconda3/lib/python3.8/site-packages/nltk/decorators.py:67: DeprecationWarning: `formatargspec` is deprecated since Python 3.5. Use `signature` and the `Signature` object directly\n",
      "  signature = inspect.formatargspec(\n",
      "/usr/local/anaconda3/lib/python3.8/site-packages/nltk/lm/counter.py:15: DeprecationWarning: Using or importing the ABCs from 'collections' instead of from 'collections.abc' is deprecated since Python 3.3, and in 3.9 it will stop working\n",
      "  from collections import Sequence, defaultdict\n",
      "/usr/local/anaconda3/lib/python3.8/site-packages/nltk/lm/vocabulary.py:13: DeprecationWarning: Using or importing the ABCs from 'collections' instead of from 'collections.abc' is deprecated since Python 3.3, and in 3.9 it will stop working\n",
      "  from collections import Counter, Iterable\n",
      "[nltk_data] Downloading package stopwords to\n",
      "[nltk_data]     /Users/rodelarenas/nltk_data...\n",
      "[nltk_data]   Package stopwords is already up-to-date!\n",
      "[nltk_data] Downloading package vader_lexicon to\n",
      "[nltk_data]     /Users/rodelarenas/nltk_data...\n",
      "[nltk_data]   Package vader_lexicon is already up-to-date!\n",
      "[nltk_data] Downloading package punkt to\n",
      "[nltk_data]     /Users/rodelarenas/nltk_data...\n",
      "[nltk_data]   Package punkt is already up-to-date!\n"
     ]
    }
   ],
   "source": [
    "import spacy\n",
    "import en_core_web_lg, en_core_web_sm, en_core_web_md\n",
    "\n",
    "import gensim \n",
    "from gensim.models import CoherenceModel, LdaModel, LsiModel, HdpModel\n",
    "from gensim.models.wrappers import LdaMallet\n",
    "from gensim.corpora import Dictionary\n",
    "from gensim.utils import simple_preprocess\n",
    "\n",
    "import pyLDAvis.gensim\n",
    "\n",
    "import numpy as np \n",
    "import pandas as pd\n",
    "import math \n",
    "\n",
    "import matplotlib.pyplot as plt \n",
    "from wordcloud import WordCloud \n",
    "\n",
    "from scipy.sparse import csr_matrix\n",
    "from sklearn.preprocessing import normalize\n",
    "from sklearn.feature_extraction import text\n",
    "from sklearn.feature_extraction.text import TfidfVectorizer\n",
    "\n",
    "import nltk\n",
    "nltk.download('stopwords')\n",
    "nltk.download('vader_lexicon')\n",
    "nltk.download('punkt')\n",
    "from nltk.corpus import stopwords\n",
    "from nltk.sentiment.vader import SentimentIntensityAnalyzer\n",
    "\n",
    "from textblob import TextBlob \n",
    "# https://www.loc.gov/standards/iso639-2/php/code_list.php\n",
    "\n",
    "from collections import  Counter\n",
    "import string, os, re, operator, warnings\n",
    "warnings.filterwarnings('ignore')\n",
    "%matplotlib inline"
   ]
  },
  {
   "cell_type": "code",
   "execution_count": 2,
   "metadata": {},
   "outputs": [
    {
     "output_type": "stream",
     "name": "stdout",
     "text": [
      "SpaCy:\t3.0.4\nen_core_web_lg:\t3.0.0\nNLTK:\t3.4.4\ngensim:\t3.8.3\n"
     ]
    }
   ],
   "source": [
    "print(f'SpaCy:\\t{spacy.__version__}')\n",
    "print(f'en_core_web_lg:\\t{en_core_web_lg.__version__}')\n",
    "print(f'NLTK:\\t{nltk.__version__}')\n",
    "print(f'gensim:\\t{gensim.__version__}')"
   ]
  },
  {
   "cell_type": "code",
   "execution_count": 3,
   "metadata": {},
   "outputs": [
    {
     "output_type": "stream",
     "name": "stdout",
     "text": [
      "['i', 'me', 'my', 'myself', 'we', 'our', 'ours', 'ourselves', 'you', \"you're\", \"you've\", \"you'll\", \"you'd\", 'your', 'yours', 'yourself', 'yourselves', 'he', 'him', 'his', 'himself', 'she', \"she's\", 'her', 'hers', 'herself', 'it', \"it's\", 'its', 'itself', 'they', 'them', 'their', 'theirs', 'themselves', 'what', 'which', 'who', 'whom', 'this', 'that', \"that'll\", 'these', 'those', 'am', 'is', 'are', 'was', 'were', 'be', 'been', 'being', 'have', 'has', 'had', 'having', 'do', 'does', 'did', 'doing', 'a', 'an', 'the', 'and', 'but', 'if', 'or', 'because', 'as', 'until', 'while', 'of', 'at', 'by', 'for', 'with', 'about', 'against', 'between', 'into', 'through', 'during', 'before', 'after', 'above', 'below', 'to', 'from', 'up', 'down', 'in', 'out', 'on', 'off', 'over', 'under', 'again', 'further', 'then', 'once', 'here', 'there', 'when', 'where', 'why', 'how', 'all', 'any', 'both', 'each', 'few', 'more', 'most', 'other', 'some', 'such', 'no', 'nor', 'not', 'only', 'own', 'same', 'so', 'than', 'too', 'very', 's', 't', 'can', 'will', 'just', 'don', \"don't\", 'should', \"should've\", 'now', 'd', 'll', 'm', 'o', 're', 've', 'y', 'ain', 'aren', \"aren't\", 'couldn', \"couldn't\", 'didn', \"didn't\", 'doesn', \"doesn't\", 'hadn', \"hadn't\", 'hasn', \"hasn't\", 'haven', \"haven't\", 'isn', \"isn't\", 'ma', 'mightn', \"mightn't\", 'mustn', \"mustn't\", 'needn', \"needn't\", 'shan', \"shan't\", 'shouldn', \"shouldn't\", 'wasn', \"wasn't\", 'weren', \"weren't\", 'won', \"won't\", 'wouldn', \"wouldn't\", 'news', 'advertisement', 'rappler', 'gma', 'inquirer', 'manila', 'philippines', 'philippine', 'bulletin', 'star', 'cnn', 'abs', 'cbn', 'abscbn', 'abs-cbn', 'sunstar', 'covid', 'covid-19', 'covid19', 'vaccine', 'say']\n"
     ]
    }
   ],
   "source": [
    "\n",
    "### NLP Model\n",
    "# NLP = en_core_web_lg.load()\n",
    "NLP = spacy.load('en_core_web_lg', disable=['parser', 'ner'])\n",
    "\n",
    "\n",
    "### Stop Words\n",
    "STOPWORDS = stopwords.words('english')\n",
    "STOPWORDS.extend(['news', 'advertisement', 'rappler', 'gma', 'inquirer', 'manila', 'philippines', 'philippine', 'bulletin', 'star',\\\n",
    "    'cnn', 'abs', 'cbn', 'abscbn', 'abs-cbn', 'sunstar', 'covid', 'covid-19', 'covid19', 'vaccine', 'say'])\n",
    "print(STOPWORDS)\n",
    "\n",
    "### Doc Object\n",
    "def get_doc(text):\n",
    "    docstring =  str(''.join([i if ord(i) < 128 else ' ' for i in text]))\n",
    "    return NLP(docstring)\n"
   ]
  },
  {
   "cell_type": "code",
   "execution_count": 4,
   "metadata": {},
   "outputs": [
    {
     "output_type": "stream",
     "name": "stdout",
     "text": [
      "<class 'pandas.core.frame.DataFrame'>\nRangeIndex: 370 entries, 0 to 369\nData columns (total 6 columns):\n #   Column            Non-Null Count  Dtype         \n---  ------            --------------  -----         \n 0   urls              370 non-null    object        \n 1   titles            370 non-null    object        \n 2   authors           370 non-null    object        \n 3   published_dates   370 non-null    datetime64[ns]\n 4   articles_content  370 non-null    object        \n 5   news_org          370 non-null    object        \ndtypes: datetime64[ns](1), object(5)\nmemory usage: 17.5+ KB\n"
     ]
    },
    {
     "output_type": "execute_result",
     "data": {
      "text/plain": [
       "                                                  urls  \\\n",
       "0    https://www.rappler.com/newsbreak/explainers/w...   \n",
       "1    https://www.rappler.com/newsbreak/iq/timeline-...   \n",
       "2    https://www.rappler.com/nation/philippines-rec...   \n",
       "3    https://www.rappler.com/nation/philippines-gra...   \n",
       "4    https://www.rappler.com/nation/philippines-rec...   \n",
       "..                                                 ...   \n",
       "365  https://www.gmanetwork.com/news/scitech/scienc...   \n",
       "366  https://www.gmanetwork.com/news/scitech/scienc...   \n",
       "367  https://www.gmanetwork.com/news/news/regions/7...   \n",
       "368  https://www.gmanetwork.com/news/news/nation/75...   \n",
       "369  https://www.gmanetwork.com/news/scitech/scienc...   \n",
       "\n",
       "                                                titles  \\\n",
       "0    Here’s why COVID-19 vaccines haven’t arrived i...   \n",
       "1    TIMELINE: The Philippines’ 2021 COVID-19 vacci...   \n",
       "2    After initial delay, Philippines to receive As...   \n",
       "3    Philippines grants emergency approval for Sino...   \n",
       "4    Philippines receives first COVID-19 vaccine de...   \n",
       "..                                                 ...   \n",
       "365  UK starts accelerated review for AstraZeneca’s...   \n",
       "366  J&J's COVID-19 vaccine produces strong immune ...   \n",
       "367  COVID-19 vaccine clinical trials for Cavite re...   \n",
       "368  China eyes COVID-19 vaccine by year-end or ear...   \n",
       "369  US firm announces ‘positive interim’ phase 1 r...   \n",
       "\n",
       "                     authors     published_dates  \\\n",
       "0             SOFIA TOMACRUZ 2021-02-18 09:22:00   \n",
       "1             SOFIA TOMACRUZ 2021-02-04 19:43:00   \n",
       "2             SOFIA TOMACRUZ 2021-03-03 14:41:00   \n",
       "3             SOFIA TOMACRUZ 2021-02-22 12:19:00   \n",
       "4             SOFIA TOMACRUZ 2021-02-28 16:16:00   \n",
       "..                       ...                 ...   \n",
       "365           KANISHKA SINGH 2020-11-01 21:09:00   \n",
       "366              NANCY LAPID 2020-09-26 04:06:00   \n",
       "367        ANNA FELICIA BAJO 2020-08-28 09:31:00   \n",
       "368  NICOLE-ANNE C. LAGRIMAS 2020-09-08 19:09:00   \n",
       "369                 GMA News 2020-05-18 20:53:00   \n",
       "\n",
       "                                      articles_content  news_org  \n",
       "0    MANILA, PHILIPPINES\\nThe Philippine government...   Rappler  \n",
       "1    MANILA, PHILIPPINES\\n(UPDATED) On March 1, the...   Rappler  \n",
       "2    MANILA, PHILIPPINES\\n(UPDATED) Malacañang says...   Rappler  \n",
       "3    MANILA, PHILIPPINES\\n(UPDATED) Its lower effic...   Rappler  \n",
       "4    MANILA, PHILIPPINES\\n(3rd UPDATE) The arrival ...   Rappler  \n",
       "..                                                 ...       ...  \n",
       "365  AstraZeneca Plc said on Sunday Britain's healt...  GMA News  \n",
       "366  A single dose of Johnson & Johnson's experimen...  GMA News  \n",
       "367  The clinical trials for vaccines against COVID...  GMA News  \n",
       "368  China hopes to be ready with a vaccine against...  GMA News  \n",
       "369  WASHINGTON — US biotech firm Moderna on Monday...  GMA News  \n",
       "\n",
       "[370 rows x 6 columns]"
      ],
      "text/html": "<div>\n<style scoped>\n    .dataframe tbody tr th:only-of-type {\n        vertical-align: middle;\n    }\n\n    .dataframe tbody tr th {\n        vertical-align: top;\n    }\n\n    .dataframe thead th {\n        text-align: right;\n    }\n</style>\n<table border=\"1\" class=\"dataframe\">\n  <thead>\n    <tr style=\"text-align: right;\">\n      <th></th>\n      <th>urls</th>\n      <th>titles</th>\n      <th>authors</th>\n      <th>published_dates</th>\n      <th>articles_content</th>\n      <th>news_org</th>\n    </tr>\n  </thead>\n  <tbody>\n    <tr>\n      <th>0</th>\n      <td>https://www.rappler.com/newsbreak/explainers/w...</td>\n      <td>Here’s why COVID-19 vaccines haven’t arrived i...</td>\n      <td>SOFIA TOMACRUZ</td>\n      <td>2021-02-18 09:22:00</td>\n      <td>MANILA, PHILIPPINES\\nThe Philippine government...</td>\n      <td>Rappler</td>\n    </tr>\n    <tr>\n      <th>1</th>\n      <td>https://www.rappler.com/newsbreak/iq/timeline-...</td>\n      <td>TIMELINE: The Philippines’ 2021 COVID-19 vacci...</td>\n      <td>SOFIA TOMACRUZ</td>\n      <td>2021-02-04 19:43:00</td>\n      <td>MANILA, PHILIPPINES\\n(UPDATED) On March 1, the...</td>\n      <td>Rappler</td>\n    </tr>\n    <tr>\n      <th>2</th>\n      <td>https://www.rappler.com/nation/philippines-rec...</td>\n      <td>After initial delay, Philippines to receive As...</td>\n      <td>SOFIA TOMACRUZ</td>\n      <td>2021-03-03 14:41:00</td>\n      <td>MANILA, PHILIPPINES\\n(UPDATED) Malacañang says...</td>\n      <td>Rappler</td>\n    </tr>\n    <tr>\n      <th>3</th>\n      <td>https://www.rappler.com/nation/philippines-gra...</td>\n      <td>Philippines grants emergency approval for Sino...</td>\n      <td>SOFIA TOMACRUZ</td>\n      <td>2021-02-22 12:19:00</td>\n      <td>MANILA, PHILIPPINES\\n(UPDATED) Its lower effic...</td>\n      <td>Rappler</td>\n    </tr>\n    <tr>\n      <th>4</th>\n      <td>https://www.rappler.com/nation/philippines-rec...</td>\n      <td>Philippines receives first COVID-19 vaccine de...</td>\n      <td>SOFIA TOMACRUZ</td>\n      <td>2021-02-28 16:16:00</td>\n      <td>MANILA, PHILIPPINES\\n(3rd UPDATE) The arrival ...</td>\n      <td>Rappler</td>\n    </tr>\n    <tr>\n      <th>...</th>\n      <td>...</td>\n      <td>...</td>\n      <td>...</td>\n      <td>...</td>\n      <td>...</td>\n      <td>...</td>\n    </tr>\n    <tr>\n      <th>365</th>\n      <td>https://www.gmanetwork.com/news/scitech/scienc...</td>\n      <td>UK starts accelerated review for AstraZeneca’s...</td>\n      <td>KANISHKA SINGH</td>\n      <td>2020-11-01 21:09:00</td>\n      <td>AstraZeneca Plc said on Sunday Britain's healt...</td>\n      <td>GMA News</td>\n    </tr>\n    <tr>\n      <th>366</th>\n      <td>https://www.gmanetwork.com/news/scitech/scienc...</td>\n      <td>J&amp;J's COVID-19 vaccine produces strong immune ...</td>\n      <td>NANCY LAPID</td>\n      <td>2020-09-26 04:06:00</td>\n      <td>A single dose of Johnson &amp; Johnson's experimen...</td>\n      <td>GMA News</td>\n    </tr>\n    <tr>\n      <th>367</th>\n      <td>https://www.gmanetwork.com/news/news/regions/7...</td>\n      <td>COVID-19 vaccine clinical trials for Cavite re...</td>\n      <td>ANNA FELICIA BAJO</td>\n      <td>2020-08-28 09:31:00</td>\n      <td>The clinical trials for vaccines against COVID...</td>\n      <td>GMA News</td>\n    </tr>\n    <tr>\n      <th>368</th>\n      <td>https://www.gmanetwork.com/news/news/nation/75...</td>\n      <td>China eyes COVID-19 vaccine by year-end or ear...</td>\n      <td>NICOLE-ANNE C. LAGRIMAS</td>\n      <td>2020-09-08 19:09:00</td>\n      <td>China hopes to be ready with a vaccine against...</td>\n      <td>GMA News</td>\n    </tr>\n    <tr>\n      <th>369</th>\n      <td>https://www.gmanetwork.com/news/scitech/scienc...</td>\n      <td>US firm announces ‘positive interim’ phase 1 r...</td>\n      <td>GMA News</td>\n      <td>2020-05-18 20:53:00</td>\n      <td>WASHINGTON — US biotech firm Moderna on Monday...</td>\n      <td>GMA News</td>\n    </tr>\n  </tbody>\n</table>\n<p>370 rows × 6 columns</p>\n</div>"
     },
     "metadata": {},
     "execution_count": 4
    }
   ],
   "source": [
    "FILENAME = 'datasets/combined_and_cleaned.csv'\n",
    "\n",
    "df = pd.read_csv(FILENAME)\n",
    "df['published_dates'] = pd.to_datetime(df['published_dates'])\n",
    "df.info()\n",
    "df"
   ]
  },
  {
   "source": [
    "# TOPIC MODELING\n",
    "### https://www.machinelearningplus.com/nlp/topic-modeling-gensim-python/"
   ],
   "cell_type": "markdown",
   "metadata": {}
  },
  {
   "source": [
    "## Tokenize words and Clean-up text\n"
   ],
   "cell_type": "markdown",
   "metadata": {}
  },
  {
   "source": [
    "# Convert to list\n",
    "data = df['articles_content'].values.tolist()\n",
    "\n",
    "# Convert R&D to Research and Development\n",
    "data = [sent.lower().replace('r&d', 'Research and Development') for sent in data]\n",
    "\n",
    "# Remove URLs\n",
    "data = [re.sub(\"(?i)\\b((?:https?://|www\\d{0,3}[.]|[a-z0-9.\\-]+[.][a-z]{2,4}/)(?:[^\\s()<>]+|\\(([^\\s()<>]+|(\\([^\\s()<>]+\\)))*\\))+(?:\\(([^\\s()<>]+|(\\([^\\s()<>]+\\)))*\\)|[^\\s`!()\\[\\]{};:'\\\".,<>?«»“”‘’]))\", '', sent) for sent in data]\n",
    "\n",
    "# Remove Emails\n",
    "data = [re.sub('\\S*@\\S*\\s?', '', sent) for sent in data]\n",
    "\n",
    "# Remove new line characters\n",
    "data = [re.sub('\\s+', ' ', sent) for sent in data]\n",
    "\n",
    "# Remove distracting single quotes\n",
    "data = [re.sub(\"\\'\", \"\", sent) for sent in data]\n",
    "\n",
    "def sent_to_words(sentences):\n",
    "    for sentence in sentences:\n",
    "        yield(gensim.utils.simple_preprocess(str(sentence), deacc=True))  # deacc=True removes punctuations\n",
    "\n",
    "data = list(sent_to_words(data))\n",
    "\n",
    "print(data[:1])"
   ],
   "cell_type": "code",
   "metadata": {},
   "execution_count": 5,
   "outputs": [
    {
     "output_type": "stream",
     "name": "stdout",
     "text": [
      "[['manila', 'philippines', 'the', 'philippine', 'government', 'needs', 'key', 'measure', 'on', 'indemnification', 'funds', 'to', 'be', 'signed', 'into', 'law', 'philippine', 'pandemic', 'officials', 'announced', 'the', 'delivery', 'of', 'the', 'country', 'first', 'batch', 'of', 'coronavirus', 'vaccines', 'could', 'be', 'expected', 'by', 'mid', 'february', 'but', 'with', 'that', 'timeline', 'looking', 'less', 'likely', 'to', 'be', 'met', 'the', 'duterte', 'government', 'task', 'force', 'officials', 'announced', 'there', 'would', 'be', 'slight', 'delay', 'in', 'the', 'arrival', 'of', 'vaccines', 'due', 'to', 'of', 'all', 'things', 'paperwork', 'vaccine', 'czar', 'carlito', 'galvez', 'jr', 'and', 'national', 'task', 'force', 'covid', 'deputy', 'chief', 'implementer', 'vince', 'dizon', 'pointed', 'to', 'documentary', 'requirements', 'involving', 'an', 'indemnification', 'fund', 'as', 'the', 'culprit', 'behind', 'the', 'delayed', 'schedule', 'why', 'do', 'we', 'need', 'an', 'indemnification', 'fund', 'an', 'indemnification', 'fund', 'galvez', 'earlier', 'told', 'lawmakers', 'during', 'congressional', 'hearings', 'was', 'necessary', 'for', 'the', 'philippines', 'to', 'gain', 'access', 'to', 'vaccine', 'doses', 'from', 'pharmaceutical', 'companies', 'as', 'well', 'as', 'the', 'covax', 'global', 'facility', 'he', 'requested', 'lawmakers', 'to', 'consider', 'bills', 'that', 'would', 'provide', 'for', 'such', 'in', 'mid', 'january', 'adding', 'it', 'could', 'give', 'the', 'philippines', 'an', 'opportunity', 'to', 'gain', 'access', 'to', 'larger', 'supplies', 'of', 'vaccines', 'and', 'increase', 'public', 'confidence', 'in', 'the', 'government', 'rollout', 'the', 'reason', 'why', 'indemnification', 'funds', 'or', 'programs', 'are', 'required', 'of', 'countries', 'is', 'because', 'vaccines', 'being', 'used', 'worldwide', 'are', 'still', 'under', 'emergency', 'use', 'authorization', 'eua', 'with', 'only', 'limited', 'short', 'term', 'data', 'available', 'on', 'the', 'full', 'effects', 'that', 'could', 'arise', 'from', 'receiving', 'shot', 'under', 'indemnification', 'programs', 'governments', 'agree', 'that', 'distributing', 'entities', 'like', 'covax', 'along', 'with', 'vaccine', 'manufacturers', 'will', 'not', 'be', 'held', 'liable', 'for', 'unexpected', 'adverse', 'events', 'this', 'is', 'risk', 'governments', 'absorb', 'during', 'the', 'pandemic', 'when', 'granting', 'vaccines', 'emergency', 'use', 'approval', 'you', 'll', 'have', 'an', 'indemnification', 'program', 'because', 'there', 'is', 'no', 'full', 'data', 'yet', 'so', 'if', 'an', 'unexpected', 'adverse', 'event', 'happens', 'any', 'company', 'cannot', 'be', 'sued', 'because', 'you', 'enter', 'an', 'agreement', 'with', 'the', 'company', 'where', 'you', 'are', 'guaranteeing', 'them', 'that', 'you', 'will', 'take', 'responsibility', 'for', 'any', 'adverse', 'event', 'because', 'you', 're', 'aware', 'the', 'data', 'is', 'not', 'complete', 'yet', 'but', 'you', 're', 'allowing', 'its', 'use', 'because', 'there', 'is', 'national', 'emergency', 'said', 'dr', 'aileen', 'espina', 'public', 'health', 'and', 'family', 'medicine', 'specialist', 'and', 'member', 'of', 'the', 'healthcare', 'professionals', 'alliance', 'against', 'covid', 'hpaac', 'that', 'why', 'we', 're', 'particular', 'that', 'for', 'any', 'vaccine', 'that', 'will', 'be', 'used', 'the', 'benefits', 'outweigh', 'the', 'risks', 'she', 'added', 'but', 'vaccines', 'arent', 'here', 'yet', 'what', 'else', 'should', 'the', 'government', 'do', 'on', 'monday', 'night', 'february', 'galvez', 'said', 'that', 'task', 'force', 'for', 'vaccine', 'procurement', 'officials', 'have', 'done', 'their', 'part', 'in', 'submitting', 'requirements', 'needed', 'to', 'facilitate', 'filipinos', 'access', 'to', 'vaccines', 'this', 'is', 'on', 'top', 'of', 'efforts', 'by', 'the', 'department', 'of', 'health', 'specifically', 'government', 'lawyers', 'have', 'finished', 'fine', 'tuning', 'details', 'of', 'an', 'indemnification', 'clause', 'with', 'covax', 'and', 'are', 'now', 'waiting', 'on', 'the', 'facility', 'the', 'world', 'health', 'organization', 'who', 'and', 'pfizer', 'to', 'finalize', 'it', 'among', 'the', 'vaccines', 'expected', 'to', 'arrive', 'in', 'the', 'philippines', 'in', 'the', 'first', 'quarter', 'of', 'are', 'those', 'developed', 'by', 'pfizer', 'biontech', 'and', 'astrazeneca', 'on', 'wednesday', 'february', 'galvez', 'said', 'that', 'the', 'philippine', 'government', 'has', 'already', 'signed', 'onto', 'the', 'agreements', 'the', 'vaccine', 'czar', 'said', 'it', 'was', 'now', 'waiting', 'on', 'congress', 'and', 'the', 'who', 'to', 'ensure', 'the', 'availability', 'of', 'an', 'indemnification', 'fund', 'and', 'concur', 'with', 'the', 'philippines', 'proposed', 'indemnification', 'program', 'respectively', 'nandoon', 'po', 'sa', 'congress', 'ang', 'ball', 'at', 'saka', 'po', 'nandoon', 'po', 'sa', 'who', 'the', 'ball', 'is', 'with', 'congress', 'and', 'the', 'who', 'galvez', 'said', 'while', 'requirements', 'for', 'vaccines', 'coming', 'from', 'covax', 'are', 'steps', 'away', 'from', 'being', 'finalized', 'lawmakers', 'in', 'congress', 'will', 'still', 'need', 'to', 'pass', 'measures', 'creating', 'an', 'indemnification', 'program', 'to', 'facilitate', 'access', 'to', 'vaccines', 'purchased', 'through', 'agreements', 'between', 'the', 'philippines', 'and', 'vaccine', 'manufacturers', 'why', 'are', 'we', 'talking', 'about', 'indemnification', 'only', 'now', 'if', 'its', 'important', 'the', 'government', 'was', 'informed', 'of', 'the', 'indemnification', 'requirement', 'only', 'during', 'the', 'latter', 'phase', 'of', 'vaccine', 'negotiations', 'senator', 'sonny', 'angara', 'said', 'on', 'wednesday', 'february', 'that', 'this', 'issue', 'was', 'not', 'even', 'raised', 'during', 'the', 'budget', 'deliberations', 'otherwise', 'congress', 'would', 'have', 'put', 'fund', 'on', 'that', 'galvez', 'first', 'informed', 'the', 'senate', 'about', 'the', 'need', 'for', 'legislation', 'on', 'the', 'indemnification', 'program', 'during', 'committee', 'of', 'the', 'whole', 'hearings', 'in', 'january', 'it', 'was', 'only', 'on', 'february', 'that', 'the', 'urgency', 'of', 'this', 'measure', 'was', 'tackled', 'in', 'depth', 'during', 'public', 'hearing', 'nandoon', 'po', 'sa', 'congress', 'ang', 'ball', 'at', 'saka', 'po', 'nandoon', 'po', 'sa', 'who', 'secretary', 'carlito', 'galvez', 'jr', 'why', 'do', 'we', 'need', 'law', 'wont', 'this', 'further', 'delay', 'vaccine', 'arrival', 'law', 'is', 'needed', 'to', 'be', 'able', 'to', 'tap', 'into', 'the', 'contingent', 'fund', 'as', 'this', 'expense', 'was', 'not', 'covered', 'under', 'the', 'gaa', 'budget', 'secretary', 'wendel', 'avisado', 'told', 'rappler', 'national', 'task', 'force', 'covid', 'deputy', 'implementer', 'vince', 'dizon', 'said', 'law', 'is', 'also', 'being', 'required', 'by', 'vaccine', 'manufacturers', 'aside', 'from', 'the', 'covax', 'facility', 'to', 'hold', 'them', 'free', 'from', 'any', 'liabilities', 'for', 'severe', 'adverse', 'effects', 'arising', 'from', 'immunization', 'covax', 'officials', 'earlier', 'listed', 'this', 'as', 'part', 'of', 'requirements', 'for', 'all', 'countries', 'participating', 'in', 'the', 'global', 'scheme', 'to', 'ensure', 'equitable', 'access', 'to', 'vaccines', 'saying', 'vaccine', 'manufacturers', 'were', 'reluctant', 'to', 'guarantee', 'supplies', 'if', 'they', 'were', 'not', 'indemnified', 'against', 'possible', 'liability', 'given', 'the', 'unprecedented', 'speed', 'and', 'scope', 'of', 'deployment', 'of', 'recently', 'licensed', 'vaccines', 'manufacturers', 'have', 'highlighted', 'the', 'risks', 'of', 'unforeseen', 'claims', 'due', 'to', 'injury', 'associated', 'with', 'the', 'vaccine', 'manufacturers', 'are', 'reluctant', 'to', 'deliver', 'covid', 'vaccines', 'if', 'this', 'risk', 'is', 'not', 'addressed', 'covax', 'said', 'for', 'countries', 'like', 'the', 'philippines', 'that', 'will', 'receive', 'donated', 'vaccines', 'from', 'the', 'facility', 'covax', 'said', 'model', 'indemnification', 'agreement', 'will', 'already', 'be', 'incorporated', 'in', 'agreements', 'with', 'manufacturers', 'to', 'decrease', 'time', 'spent', 'for', 'negotiations', 'where', 'will', 'the', 'government', 'source', 'indemnity', 'payments', 'since', 'there', 'was', 'no', 'allocation', 'in', 'the', 'trillion', 'budget', 'the', 'philippine', 'government', 'and', 'congress', 'have', 'to', 'look', 'where', 'they', 'could', 'source', 'this', 'during', 'february', 'senate', 'hearing', 'two', 'options', 'were', 'considered', 'for', 'the', 'indemnity', 'payments', 'to', 'be', 'included', 'under', 'philhealths', 'coverage', 'using', 'its', 'funds', 'tapping', 'into', 'the', 'billion', 'contingent', 'fund', 'in', 'the', 'national', 'budget', 'which', 'would', 'require', 'law', 'during', 'that', 'hearing', 'health', 'secretary', 'francisco', 'duque', 'iii', 'said', 'that', 'philhealth', 'did', 'not', 'include', 'this', 'in', 'its', 'corporate', 'budget', 'this', 'year', 'but', 'that', 'the', 'state', 'health', 'insurer', 'will', 'study', 'the', 'possibility', 'of', 'tapping', 'into', 'its', 'billion', 'reserve', 'funds', 'the', 'result', 'of', 'the', 'february', 'hearing', 'is', 'senate', 'bill', 'sb', 'which', 'is', 'currently', 'being', 'tackled', 'at', 'the', 'upper', 'chambers', 'plenary', 'the', 'bill', 'is', 'proposing', 'the', 'creation', 'of', 'million', 'indemnification', 'fund', 'to', 'be', 'sourced', 'from', 'the', 'contingent', 'fund', 'this', 'will', 'cover', 'compensation', 'in', 'case', 'of', 'death', 'and', 'medical', 'treatment', 'for', 'vaccine', 'recipients', 'experiencing', 'severe', 'adverse', 'effects', 'in', 'the', 'house', 'of', 'representatives', 'lawmakers', 'have', 'also', 'filed', 'counterpart', 'measure', 'through', 'house', 'bill', 'no', 'hb', 'which', 'seeks', 'to', 'exempt', 'local', 'government', 'units', 'from', 'bidding', 'requirements', 'under', 'the', 'procurement', 'law', 'grant', 'tax', 'exemptions', 'for', 'vaccines', 'and', 'create', 'an', 'indemnification', 'fund', 'for', 'the', 'country', 'covid', 'vaccine', 'program', 'so', 'far', 'hb', 'does', 'not', 'include', 'an', 'immunity', 'clause', 'nor', 'an', 'amount', 'that', 'will', 'be', 'allocated', 'for', 'the', 'indemnification', 'fund', 'who', 'will', 'implement', 'the', 'indemnification', 'program', 'according', 'to', 'senate', 'majority', 'leader', 'juan', 'miguel', 'zubiri', 'while', 'funds', 'will', 'be', 'administered', 'by', 'philhealth', 'the', 'doh', 'will', 'be', 'in', 'charge', 'of', 'implementing', 'the', 'indemnification', 'program', 'where', 'adverse', 'events', 'linked', 'to', 'vaccine', 'may', 'be', 'determined', 'this', 'means', 'that', 'if', 'someone', 'were', 'to', 'experience', 'serious', 'adverse', 'reaction', 'the', 'doh', 'through', 'its', 'post', 'monitoring', 'of', 'vaccinations', 'will', 'determine', 'if', 'an', 'adverse', 'effect', 'is', 'indeed', 'linked', 'to', 'the', 'vaccine', 'if', 'so', 'philhealth', 'would', 'cover', 'the', 'cost', 'of', 'care', 'with', 'funds', 'sourced', 'from', 'the', 'indemnity', 'fund', 'must', 'read', 'timeline', 'the', 'philippines', 'covid', 'vaccine', 'plan', 'whats', 'the', 'status', 'of', 'pending', 'bills', 'in', 'congress', 'both', 'senate', 'and', 'house', 'bills', 'were', 'already', 'sponsored', 'at', 'the', 'plenary', 'at', 'the', 'upper', 'chamber', 'interpellations', 'will', 'resume', 'on', 'monday', 'february', 'before', 'the', 'senate', 'version', 'of', 'the', 'indemnification', 'bill', 'is', 'scheduled', 'to', 'be', 'passed', 'on', 'nd', 'reading', 'at', 'the', 'house', 'amendments', 'to', 'hb', 'were', 'finalized', 'on', 'wednesday', 'it', 'is', 'also', 'up', 'for', 'nd', 'reading', 'at', 'their', 'current', 'pace', 'the', 'bills', 'could', 'be', 'passed', 'on', 'final', 'reading', 'during', 'the', 'last', 'week', 'of', 'february', 'or', 'during', 'the', 'first', 'week', 'of', 'march', 'due', 'to', 'the', 'day', 'interval', 'rule', 'between', 'the', 'nd', 'and', 'rd', 'reading', 'since', 'the', 'current', 'versions', 'of', 'the', 'senate', 'and', 'house', 'bills', 'are', 'different', 'theres', 'also', 'chance', 'of', 'bicameral', 'conference', 'committee', 'bicam', 'if', 'president', 'rodrigo', 'duterte', 'certifies', 'the', 'vaccine', 'bill', 'as', 'urgent', 'as', 'requested', 'by', 'galvez', 'congress', 'can', 'do', 'away', 'with', 'the', 'day', 'interval', 'rule', 'if', 'the', 'president', 'issues', 'the', 'certification', 'in', 'the', 'last', 'week', 'of', 'february', 'then', 'there', 'chance', 'that', 'both', 'chambers', 'will', 'also', 'be', 'able', 'to', 'pass', 'the', 'bills', 'on', 'final', 'reading', 'that', 'same', 'week', 'to', 'further', 'hasten', 'the', 'process', 'the', 'senate', 'or', 'the', 'house', 'may', 'need', 'to', 'adopt', 'the', 'other', 'chambers', 'version', 'so', 'that', 'bicam', 'wont', 'be', 'needed', 'the', 'bill', 'will', 'then', 'be', 'up', 'for', 'signature', 'by', 'the', 'president', 'for', 'it', 'to', 'become', 'law', 'once', 'law', 'is', 'passed', 'will', 'we', 'get', 'our', 'vaccine', 'supply', 'immediately', 'this', 'will', 'still', 'depend', 'on', 'when', 'the', 'government', 'will', 'sign', 'supply', 'agreements', 'with', 'vaccine', 'firms', 'as', 'well', 'as', 'the', 'capacity', 'of', 'vaccine', 'manufacturers', 'to', 'deliver', 'doses', 'to', 'all', 'countries', 'that', 'have', 'locked', 'in', 'orders', 'as', 'it', 'stands', 'galvez', 'said', 'only', 'term', 'sheets', 'have', 'been', 'signed', 'with', 'vaccine', 'manufacturers', 'as', 'of', 'mid', 'february', 'term', 'sheets', 'are', 'the', 'second', 'to', 'the', 'last', 'step', 'in', 'vaccine', 'negotiations', 'required', 'to', 'lock', 'in', 'logistics', 'needed', 'for', 'production', 'and', 'delivery', 'for', 'the', 'last', 'step', 'supply', 'agreement', 'will', 'still', 'need', 'to', 'be', 'signed', 'with', 'these', 'companies', 'to', 'facilitate', 'actual', 'purchase', 'and', 'payment', 'as', 'well', 'as', 'set', 'definite', 'date', 'for', 'delivery', 'galvez', 'earlier', 'said', 'that', 'current', 'limited', 'global', 'supply', 'has', 'prevented', 'vaccine', 'manufacturers', 'from', 'entering', 'binding', 'supply', 'agreements', 'with', 'the', 'government', 'with', 'reports', 'from', 'mara', 'cepeda', 'rappler', 'com']]\n"
     ]
    }
   ]
  },
  {
   "source": [
    "## Creating Bigram and Trigram Models"
   ],
   "cell_type": "markdown",
   "metadata": {}
  },
  {
   "cell_type": "code",
   "execution_count": 6,
   "metadata": {},
   "outputs": [
    {
     "output_type": "stream",
     "name": "stdout",
     "text": [
      "['manila', 'philippines', 'the', 'philippine', 'government', 'needs', 'key', 'measure', 'on', 'indemnification', 'funds', 'to', 'be', 'signed', 'into', 'law', 'philippine', 'pandemic', 'officials', 'announced', 'the', 'delivery', 'of', 'the', 'country', 'first', 'batch', 'of', 'coronavirus', 'vaccines', 'could', 'be', 'expected', 'by', 'mid_february', 'but', 'with', 'that', 'timeline', 'looking', 'less', 'likely', 'to', 'be', 'met', 'the', 'duterte', 'government', 'task_force', 'officials', 'announced', 'there', 'would', 'be', 'slight', 'delay', 'in', 'the', 'arrival', 'of', 'vaccines', 'due', 'to', 'of', 'all', 'things', 'paperwork', 'vaccine', 'czar_carlito_galvez_jr', 'and', 'national_task_force', 'covid', 'deputy', 'chief_implementer', 'vince_dizon', 'pointed', 'to', 'documentary', 'requirements', 'involving', 'an', 'indemnification_fund', 'as', 'the', 'culprit', 'behind', 'the', 'delayed', 'schedule', 'why', 'do', 'we', 'need', 'an', 'indemnification_fund', 'an', 'indemnification_fund', 'galvez', 'earlier', 'told', 'lawmakers', 'during', 'congressional', 'hearings', 'was', 'necessary', 'for', 'the', 'philippines', 'to', 'gain', 'access', 'to', 'vaccine', 'doses', 'from', 'pharmaceutical_companies', 'as', 'well', 'as', 'the', 'covax', 'global', 'facility', 'he', 'requested', 'lawmakers', 'to', 'consider', 'bills', 'that', 'would', 'provide', 'for', 'such', 'in', 'mid', 'january', 'adding', 'it', 'could', 'give', 'the', 'philippines', 'an', 'opportunity', 'to', 'gain', 'access', 'to', 'larger', 'supplies', 'of', 'vaccines', 'and', 'increase', 'public', 'confidence', 'in', 'the', 'government', 'rollout', 'the', 'reason', 'why', 'indemnification', 'funds', 'or', 'programs', 'are', 'required', 'of', 'countries', 'is', 'because', 'vaccines', 'being', 'used', 'worldwide', 'are', 'still', 'under', 'emergency_use_authorization_eua', 'with', 'only', 'limited', 'short', 'term', 'data', 'available', 'on', 'the', 'full', 'effects', 'that', 'could', 'arise', 'from', 'receiving', 'shot', 'under', 'indemnification', 'programs', 'governments', 'agree', 'that', 'distributing', 'entities', 'like', 'covax', 'along', 'with', 'vaccine', 'manufacturers', 'will', 'not', 'be', 'held', 'liable', 'for', 'unexpected', 'adverse_events', 'this', 'is', 'risk', 'governments', 'absorb', 'during', 'the', 'pandemic', 'when', 'granting', 'vaccines', 'emergency_use', 'approval', 'you', 'll', 'have', 'an', 'indemnification', 'program', 'because', 'there', 'is', 'no', 'full', 'data', 'yet', 'so', 'if', 'an', 'unexpected', 'adverse', 'event', 'happens', 'any', 'company', 'cannot', 'be', 'sued', 'because', 'you', 'enter', 'an', 'agreement', 'with', 'the', 'company', 'where', 'you', 'are', 'guaranteeing', 'them', 'that', 'you', 'will', 'take', 'responsibility', 'for', 'any', 'adverse', 'event', 'because', 'you', 're', 'aware', 'the', 'data', 'is', 'not', 'complete', 'yet', 'but', 'you', 're', 'allowing', 'its', 'use', 'because', 'there', 'is', 'national', 'emergency', 'said', 'dr', 'aileen', 'espina', 'public', 'health', 'and', 'family', 'medicine', 'specialist', 'and', 'member', 'of', 'the', 'healthcare', 'professionals', 'alliance', 'against', 'covid', 'hpaac', 'that', 'why', 'we', 're', 'particular', 'that', 'for', 'any', 'vaccine', 'that', 'will', 'be', 'used', 'the', 'benefits', 'outweigh', 'the', 'risks', 'she', 'added', 'but', 'vaccines', 'arent', 'here', 'yet', 'what', 'else', 'should', 'the', 'government', 'do', 'on', 'monday', 'night', 'february', 'galvez', 'said', 'that', 'task_force', 'for', 'vaccine', 'procurement', 'officials', 'have', 'done', 'their', 'part', 'in', 'submitting', 'requirements', 'needed', 'to', 'facilitate', 'filipinos', 'access', 'to', 'vaccines', 'this', 'is', 'on', 'top', 'of', 'efforts', 'by', 'the', 'department', 'of', 'health', 'specifically', 'government', 'lawyers', 'have', 'finished', 'fine', 'tuning', 'details', 'of', 'an', 'indemnification', 'clause', 'with', 'covax', 'and', 'are', 'now', 'waiting', 'on', 'the', 'facility', 'the', 'world', 'health', 'organization', 'who', 'and', 'pfizer', 'to', 'finalize', 'it', 'among', 'the', 'vaccines', 'expected', 'to', 'arrive', 'in', 'the', 'philippines', 'in', 'the', 'first', 'quarter', 'of', 'are', 'those', 'developed', 'by', 'pfizer_biontech', 'and', 'astrazeneca', 'on', 'wednesday', 'february', 'galvez', 'said', 'that', 'the', 'philippine', 'government', 'has', 'already', 'signed', 'onto', 'the', 'agreements', 'the', 'vaccine', 'czar', 'said', 'it', 'was', 'now', 'waiting', 'on', 'congress', 'and', 'the', 'who', 'to', 'ensure', 'the', 'availability', 'of', 'an', 'indemnification_fund', 'and', 'concur', 'with', 'the', 'philippines', 'proposed', 'indemnification', 'program', 'respectively', 'nandoon', 'po', 'sa', 'congress', 'ang', 'ball', 'at', 'saka', 'po', 'nandoon', 'po', 'sa', 'who', 'the', 'ball', 'is', 'with', 'congress', 'and', 'the', 'who', 'galvez', 'said', 'while', 'requirements', 'for', 'vaccines', 'coming', 'from', 'covax', 'are', 'steps', 'away', 'from', 'being', 'finalized', 'lawmakers', 'in', 'congress', 'will', 'still', 'need', 'to', 'pass', 'measures', 'creating', 'an', 'indemnification', 'program', 'to', 'facilitate', 'access', 'to', 'vaccines', 'purchased', 'through', 'agreements', 'between', 'the', 'philippines', 'and', 'vaccine', 'manufacturers', 'why', 'are', 'we', 'talking', 'about', 'indemnification', 'only', 'now', 'if', 'its', 'important', 'the', 'government', 'was', 'informed', 'of', 'the', 'indemnification', 'requirement', 'only', 'during', 'the', 'latter', 'phase', 'of', 'vaccine', 'negotiations', 'senator_sonny_angara', 'said', 'on', 'wednesday', 'february', 'that', 'this', 'issue', 'was', 'not', 'even', 'raised', 'during', 'the', 'budget', 'deliberations', 'otherwise', 'congress', 'would', 'have', 'put', 'fund', 'on', 'that', 'galvez', 'first', 'informed', 'the', 'senate', 'about', 'the', 'need', 'for', 'legislation', 'on', 'the', 'indemnification', 'program', 'during', 'committee', 'of', 'the', 'whole', 'hearings', 'in', 'january', 'it', 'was', 'only', 'on', 'february', 'that', 'the', 'urgency', 'of', 'this', 'measure', 'was', 'tackled', 'in', 'depth', 'during', 'public', 'hearing', 'nandoon', 'po', 'sa', 'congress', 'ang', 'ball', 'at', 'saka', 'po', 'nandoon', 'po', 'sa', 'who', 'secretary_carlito_galvez_jr', 'why', 'do', 'we', 'need', 'law', 'wont', 'this', 'further', 'delay', 'vaccine', 'arrival', 'law', 'is', 'needed', 'to', 'be', 'able', 'to', 'tap', 'into', 'the', 'contingent_fund', 'as', 'this', 'expense', 'was', 'not', 'covered', 'under', 'the', 'gaa', 'budget', 'secretary', 'wendel', 'avisado', 'told', 'rappler', 'national_task_force', 'covid', 'deputy', 'implementer_vince', 'dizon', 'said', 'law', 'is', 'also', 'being', 'required', 'by', 'vaccine', 'manufacturers', 'aside', 'from', 'the', 'covax_facility', 'to', 'hold', 'them', 'free', 'from', 'any', 'liabilities', 'for', 'severe', 'adverse_effects', 'arising', 'from', 'immunization', 'covax', 'officials', 'earlier', 'listed', 'this', 'as', 'part', 'of', 'requirements', 'for', 'all', 'countries', 'participating', 'in', 'the', 'global', 'scheme', 'to', 'ensure', 'equitable_access', 'to', 'vaccines', 'saying', 'vaccine', 'manufacturers', 'were', 'reluctant', 'to', 'guarantee', 'supplies', 'if', 'they', 'were', 'not', 'indemnified', 'against', 'possible', 'liability', 'given', 'the', 'unprecedented', 'speed', 'and', 'scope', 'of', 'deployment', 'of', 'recently', 'licensed', 'vaccines', 'manufacturers', 'have', 'highlighted', 'the', 'risks', 'of', 'unforeseen', 'claims', 'due', 'to', 'injury', 'associated', 'with', 'the', 'vaccine', 'manufacturers', 'are', 'reluctant', 'to', 'deliver', 'covid', 'vaccines', 'if', 'this', 'risk', 'is', 'not', 'addressed', 'covax', 'said', 'for', 'countries', 'like', 'the', 'philippines', 'that', 'will', 'receive', 'donated', 'vaccines', 'from', 'the', 'facility', 'covax', 'said', 'model', 'indemnification', 'agreement', 'will', 'already', 'be', 'incorporated', 'in', 'agreements', 'with', 'manufacturers', 'to', 'decrease', 'time', 'spent', 'for', 'negotiations', 'where', 'will', 'the', 'government', 'source', 'indemnity', 'payments', 'since', 'there', 'was', 'no', 'allocation', 'in', 'the', 'trillion', 'budget', 'the', 'philippine', 'government', 'and', 'congress', 'have', 'to', 'look', 'where', 'they', 'could', 'source', 'this', 'during', 'february', 'senate', 'hearing', 'two', 'options', 'were', 'considered', 'for', 'the', 'indemnity', 'payments', 'to', 'be', 'included', 'under', 'philhealths', 'coverage', 'using', 'its', 'funds', 'tapping', 'into', 'the', 'billion', 'contingent_fund', 'in', 'the', 'national', 'budget', 'which', 'would', 'require', 'law', 'during', 'that', 'hearing', 'health', 'secretary_francisco_duque_iii', 'said', 'that', 'philhealth', 'did', 'not', 'include', 'this', 'in', 'its', 'corporate', 'budget', 'this', 'year', 'but', 'that', 'the', 'state', 'health', 'insurer', 'will', 'study', 'the', 'possibility', 'of', 'tapping', 'into', 'its', 'billion', 'reserve', 'funds', 'the', 'result', 'of', 'the', 'february', 'hearing', 'is', 'senate', 'bill', 'sb', 'which', 'is', 'currently', 'being', 'tackled', 'at', 'the', 'upper', 'chambers', 'plenary', 'the', 'bill', 'is', 'proposing', 'the', 'creation', 'of', 'million', 'indemnification_fund', 'to', 'be', 'sourced', 'from', 'the', 'contingent_fund', 'this', 'will', 'cover', 'compensation', 'in', 'case', 'of', 'death', 'and', 'medical', 'treatment', 'for', 'vaccine', 'recipients', 'experiencing', 'severe', 'adverse_effects', 'in', 'the', 'house', 'of', 'representatives', 'lawmakers', 'have', 'also', 'filed', 'counterpart', 'measure', 'through', 'house', 'bill', 'no', 'hb', 'which', 'seeks', 'to', 'exempt', 'local', 'government', 'units', 'from', 'bidding', 'requirements', 'under', 'the', 'procurement', 'law', 'grant', 'tax', 'exemptions', 'for', 'vaccines', 'and', 'create', 'an', 'indemnification_fund', 'for', 'the', 'country', 'covid', 'vaccine', 'program', 'so_far', 'hb', 'does', 'not', 'include', 'an', 'immunity', 'clause', 'nor', 'an', 'amount', 'that', 'will', 'be', 'allocated', 'for', 'the', 'indemnification_fund', 'who', 'will', 'implement', 'the', 'indemnification', 'program', 'according', 'to', 'senate', 'majority', 'leader', 'juan', 'miguel', 'zubiri', 'while', 'funds', 'will', 'be', 'administered', 'by', 'philhealth', 'the', 'doh', 'will', 'be', 'in', 'charge', 'of', 'implementing', 'the', 'indemnification', 'program', 'where', 'adverse_events', 'linked', 'to', 'vaccine', 'may', 'be', 'determined', 'this', 'means', 'that', 'if', 'someone', 'were', 'to', 'experience', 'serious_adverse', 'reaction', 'the', 'doh', 'through', 'its', 'post', 'monitoring', 'of', 'vaccinations', 'will', 'determine', 'if', 'an', 'adverse', 'effect', 'is', 'indeed', 'linked', 'to', 'the', 'vaccine', 'if', 'so', 'philhealth', 'would', 'cover', 'the', 'cost', 'of', 'care', 'with', 'funds', 'sourced', 'from', 'the', 'indemnity_fund', 'must_read', 'timeline', 'the', 'philippines', 'covid', 'vaccine', 'plan', 'whats', 'the', 'status', 'of', 'pending', 'bills', 'in', 'congress', 'both', 'senate', 'and', 'house', 'bills', 'were', 'already', 'sponsored', 'at', 'the', 'plenary', 'at', 'the', 'upper', 'chamber', 'interpellations', 'will', 'resume', 'on', 'monday', 'february', 'before', 'the', 'senate', 'version', 'of', 'the', 'indemnification', 'bill', 'is', 'scheduled', 'to', 'be', 'passed', 'on', 'nd', 'reading', 'at', 'the', 'house', 'amendments', 'to', 'hb', 'were', 'finalized', 'on', 'wednesday', 'it', 'is', 'also', 'up', 'for', 'nd', 'reading', 'at', 'their', 'current', 'pace', 'the', 'bills', 'could', 'be', 'passed', 'on', 'final', 'reading', 'during', 'the', 'last_week', 'of', 'february', 'or', 'during', 'the', 'first', 'week', 'of', 'march', 'due', 'to', 'the', 'day', 'interval', 'rule', 'between', 'the', 'nd', 'and', 'rd', 'reading', 'since', 'the', 'current', 'versions', 'of', 'the', 'senate', 'and', 'house', 'bills', 'are', 'different', 'theres', 'also', 'chance', 'of', 'bicameral', 'conference', 'committee', 'bicam', 'if', 'president_rodrigo_duterte', 'certifies', 'the', 'vaccine', 'bill', 'as', 'urgent', 'as', 'requested', 'by', 'galvez', 'congress', 'can', 'do', 'away', 'with', 'the', 'day', 'interval', 'rule', 'if', 'the', 'president', 'issues', 'the', 'certification', 'in', 'the', 'last_week', 'of', 'february', 'then', 'there', 'chance', 'that', 'both', 'chambers', 'will', 'also', 'be', 'able', 'to', 'pass', 'the', 'bills', 'on', 'final', 'reading', 'that', 'same', 'week', 'to', 'further', 'hasten', 'the', 'process', 'the', 'senate', 'or', 'the', 'house', 'may', 'need', 'to', 'adopt', 'the', 'other', 'chambers', 'version', 'so', 'that', 'bicam', 'wont', 'be', 'needed', 'the', 'bill', 'will', 'then', 'be', 'up', 'for', 'signature', 'by', 'the', 'president', 'for', 'it', 'to', 'become', 'law', 'once', 'law', 'is', 'passed', 'will', 'we', 'get', 'our', 'vaccine', 'supply', 'immediately', 'this', 'will', 'still', 'depend', 'on', 'when', 'the', 'government', 'will', 'sign', 'supply', 'agreements', 'with', 'vaccine', 'firms', 'as', 'well', 'as', 'the', 'capacity', 'of', 'vaccine', 'manufacturers', 'to', 'deliver', 'doses', 'to', 'all', 'countries', 'that', 'have', 'locked', 'in', 'orders', 'as', 'it', 'stands', 'galvez', 'said', 'only', 'term_sheets', 'have', 'been', 'signed', 'with', 'vaccine', 'manufacturers', 'as', 'of', 'mid_february', 'term_sheets', 'are', 'the', 'second', 'to', 'the', 'last', 'step', 'in', 'vaccine', 'negotiations', 'required', 'to', 'lock', 'in', 'logistics', 'needed', 'for', 'production', 'and', 'delivery', 'for', 'the', 'last', 'step', 'supply', 'agreement', 'will', 'still', 'need', 'to', 'be', 'signed', 'with', 'these', 'companies', 'to', 'facilitate', 'actual', 'purchase', 'and', 'payment', 'as', 'well', 'as', 'set', 'definite', 'date', 'for', 'delivery', 'galvez', 'earlier', 'said', 'that', 'current', 'limited', 'global', 'supply', 'has', 'prevented', 'vaccine', 'manufacturers', 'from', 'entering', 'binding', 'supply', 'agreements', 'with', 'the', 'government', 'with', 'reports', 'from', 'mara', 'cepeda', 'rappler_com']\n"
     ]
    }
   ],
   "source": [
    "# Build the bigram and trigram models\n",
    "bigram = gensim.models.Phrases(data, min_count=5, threshold=100) # higher threshold fewer phrases.\n",
    "trigram = gensim.models.Phrases(bigram[data], threshold=100)  \n",
    "\n",
    "# Faster way to get a sentence clubbed as a trigram/bigram\n",
    "bigram_mod = gensim.models.phrases.Phraser(bigram)\n",
    "trigram_mod = gensim.models.phrases.Phraser(trigram)\n",
    "\n",
    "# See trigram example\n",
    "print(trigram_mod[bigram_mod[data[0]]])"
   ]
  },
  {
   "source": [
    "## Remove Stopwords, Make Bigrams and Lemmatize\n"
   ],
   "cell_type": "markdown",
   "metadata": {}
  },
  {
   "cell_type": "code",
   "execution_count": 7,
   "metadata": {},
   "outputs": [],
   "source": [
    "# Define functions for stopwords, bigrams, trigrams and lemmatization\n",
    "def remove_stopwords(texts):\n",
    "    return [[word for word in gensim.utils.simple_preprocess(str(doc)) if word not in STOPWORDS] for doc in texts]\n",
    "\n",
    "def make_bigrams(texts):\n",
    "    return [bigram_mod[doc] for doc in texts]\n",
    "\n",
    "def make_trigrams(texts):\n",
    "    return [trigram_mod[bigram_mod[doc]] for doc in texts]\n",
    "\n",
    "def lemmatization(texts, allowed_postags=['NOUN', 'ADJ', 'VERB', 'ADV']):\n",
    "    # https://spacy.io/api/annotation\n",
    "    texts_out = []\n",
    "    for sent in texts:\n",
    "        doc = NLP(\" \".join(sent)) \n",
    "        texts_out.append([token.lemma_ for token in doc if token.pos_ in allowed_postags])\n",
    "    return texts_out\n"
   ]
  },
  {
   "cell_type": "code",
   "execution_count": 8,
   "metadata": {},
   "outputs": [
    {
     "output_type": "stream",
     "name": "stdout",
     "text": [
      "[['government', 'need', 'key', 'measure', 'indemnification', 'fund', 'sign', 'law', 'pandemic', 'official', 'announce', 'delivery', 'country', 'first', 'batch', 'coronavirus', 'vaccine', 'expect', 'mid_february', 'timeline', 'look', 'less', 'likely', 'meet', 'government', 'official', 'announce', 'slight', 'delay', 'arrival', 'vaccine', 'due', 'thing', 'paperwork', 'force', 'deputy', 'point', 'documentary', 'requirement', 'involve', 'culprit', 'delay', 'schedule', 'need', 'galvez', 'early', 'tell', 'lawmaker', 'congressional', 'hearing', 'necessary', 'gain', 'access', 'dose', 'pharmaceutical_companie', 'well', 'covax', 'global', 'facility', 'request', 'lawmaker', 'consider', 'bill', 'provide', 'mid', 'january', 'add', 'give', 'opportunity', 'gain', 'access', 'large', 'supply', 'vaccine', 'increase', 'public', 'confidence', 'government', 'rollout', 'reason', 'indemnification', 'fund', 'program', 'require', 'country', 'vaccine', 'use', 'worldwide', 'still', 'limit', 'short', 'term', 'datum', 'available', 'full', 'effect', 'arise', 'receive', 'shot', 'indemnification', 'program', 'government', 'agree', 'distribute', 'entity', 'covax', 'manufacturer', 'hold', 'liable', 'unexpected', 'adverse_event', 'risk', 'government', 'absorb', 'pandemic', 'grant', 'vaccine', 'approval', 'indemnification', 'program', 'full', 'datum', 'unexpected', 'adverse', 'event', 'happen', 'company', 'sue', 'enter', 'agreement', 'company', 'guarantee', 'take', 'responsibility', 'adverse', 'event', 'aware', 'datum', 'complete', 'allow', 'use', 'national', 'emergency', 'say', 'public', 'health', 'family', 'medicine', 'specialist', 'member', 'healthcare', 'professional', 'alliance', 'hpaac', 'particular', 'use', 'benefit', 'outweigh', 'risk', 'add', 'vaccine', 'be', 'yet', 'else', 'government', 'night', 'february', 'galvez', 'say', 'procurement', 'official', 'do', 'part', 'submit', 'requirement', 'need', 'facilitate', 'filipino', 'access', 'vaccine', 'top', 'effort', 'department', 'health', 'specifically', 'government', 'lawyer', 'finish', 'fine', 'tuning', 'detail', 'indemnification', 'clause', 'covax', 'wait', 'facility', 'world', 'health', 'organization', 'pfizer', 'finalize', 'vaccine', 'expect', 'arrive', 'first', 'quarter', 'develop', 'pfizer_biontech', 'astrazeneca', 'february', 'galvez', 'say', 'government', 'already', 'sign', 'agreement', 'czar', 'say', 'wait', 'congress', 'ensure', 'availability', 'concur', 'propose', 'indemnification', 'program', 'respectively', 'nandoon', 'po', 'sa', 'congress', 'ang', 'ball', 'saka', 'po', 'nandoon', 'po', 'sa', 'ball', 'congress', 'galvez', 'say', 'requirement', 'vaccine', 'come', 'covax', 'step', 'away', 'finalize', 'lawmaker', 'congress', 'still', 'need', 'pass', 'measure', 'create', 'indemnification', 'program', 'facilitate', 'access', 'vaccine', 'purchase', 'agreement', 'manufacturer', 'talk', 'indemnification', 'important', 'government', 'inform', 'indemnification', 'requirement', 'latter', 'phase', 'negotiation', 'say', 'february', 'issue', 'even', 'raise', 'budget', 'deliberation', 'otherwise', 'congress', 'put', 'fund', 'galvez', 'first', 'inform', 'senate', 'need', 'legislation', 'indemnification', 'program', 'committee', 'whole', 'hearing', 'january', 'february', 'urgency', 'measure', 'tackle', 'depth', 'public', 'hear', 'nandoon', 'po', 'congress', 'ang', 'ball', 'saka', 'po', 'nandoon', 'po', 'secretary_carlito', 'need', 'law', 'nt', 'delay', 'arrival', 'law', 'need', 'able', 'tap', 'expense', 'cover', 'gaa', 'budget', 'secretary', 'tell', 'force', 'deputy', 'dizon', 'say', 'law', 'also', 'require', 'manufacturer', 'covax_facility', 'hold', 'free', 'liability', 'severe', 'adverse_effect', 'arise', 'immunization', 'covax', 'official', 'early', 'list', 'part', 'requirement', 'country', 'participate', 'global', 'scheme', 'ensure', 'equitable_access', 'vaccine', 'say', 'manufacturer', 'reluctant', 'guarantee', 'supply', 'indemnify', 'possible', 'liability', 'give', 'unprecedented', 'speed', 'scope', 'deployment', 'recently', 'license', 'vaccine', 'manufacturer', 'highlight', 'risk', 'unforeseen', 'claim', 'due', 'injury', 'associate', 'manufacturer', 'reluctant', 'deliver', 'vaccine', 'risk', 'address', 'covax', 'say', 'country', 'receive', 'donate', 'vaccine', 'facility', 'covax', 'say', 'model', 'indemnification', 'agreement', 'already', 'incorporate', 'agreement', 'manufacturer', 'decrease', 'time', 'spend', 'negotiation', 'government', 'source', 'indemnity', 'payment', 'allocation', 'budget', 'government', 'congress', 'look', 'source', 'february', 'senate', 'hear', 'option', 'consider', 'indemnity', 'payment', 'include', 'philhealth', 'coverage', 'use', 'fund', 'tap', 'national', 'budget', 'require', 'law', 'hearing', 'health', 'say', 'philhealth', 'include', 'corporate', 'budget', 'year', 'state', 'health', 'insurer', 'study', 'possibility', 'tap', 'reserve', 'fund', 'result', 'february', 'hearing', 'senate', 'bill', 'currently', 'tackle', 'upper', 'chamber', 'plenary', 'bill', 'propose', 'creation', 'indemnification_fund', 'source', 'cover', 'compensation', 'case', 'death', 'medical', 'treatment', 'recipient', 'experience', 'severe', 'adverse_effect', 'house', 'representative', 'lawmaker', 'also', 'file', 'counterpart', 'measure', 'house', 'bill', 'seek', 'exempt', 'local', 'government', 'unit', 'bidding', 'requirement', 'procurement', 'law', 'grant', 'tax', 'exemption', 'vaccine', 'create', 'country', 'program', 'far', 'include', 'immunity', 'clause', 'amount', 'allocate', 'implement', 'indemnification', 'program', 'accord', 'majority', 'leader', 'zubiri', 'fund', 'administer', 'philhealth', 'doh', 'charge', 'implement', 'indemnification', 'program', 'link', 'determine', 'mean', 'experience', 'reaction', 'doh', 'post', 'monitor', 'vaccination', 'determine', 'adverse', 'effect', 'indeed', 'link', 'philhealth', 'cover', 'cost', 'care', 'fund', 'source', 'must_read', 'timeline', 'plan', 's', 'status', 'pende', 'bill', 'congress', 'senate', 'house', 'bill', 'already', 'sponsor', 'plenary', 'upper', 'chamber', 'interpellation', 'resume', 'february', 'version', 'indemnification', 'bill', 'schedule', 'pass', 'nd', 'read', 'house', 'amendment', 'finalize', 'wednesday', 'also', 'nd', 'read', 'current', 'pace', 'bill', 'pass', 'final', 'reading', 'first', 'week', 'march', 'due', 'day', 'interval', 'rule', 'nd', 'rd', 'reading', 'current', 'version', 'house', 'bill', 'different', 's', 'also', 'chance', 'bicameral', 'conference', 'committee', 'bicam', 'duterte', 'certify', 'bill', 'urgent', 'request', 'galvez', 'congress', 'away', 'day', 'interval', 'rule', 'president', 'issue', 'certification', 'february', 'chance', 'chamber', 'also', 'able', 'pass', 'bill', 'final', 'reading', 'week', 'hasten', 'process', 'senate', 'house', 'need', 'adopt', 'chamber', 'version', 'bicam', 'nt', 'need', 'bill', 'signature', 'president', 'become', 'law', 'law', 'pass', 'get', 'supply', 'immediately', 'still', 'depend', 'government', 'sign', 'supply', 'agreement', 'firm', 'well', 'capacity', 'manufacturer', 'deliver', 'dose', 'country', 'lock', 'order', 'stand', 'galvez', 'say', 'sign', 'manufacturer', 'term_sheet', 'second', 'last', 'step', 'negotiation', 'require', 'lock', 'logistic', 'need', 'production', 'delivery', 'last', 'step', 'supply', 'agreement', 'still', 'need', 'sign', 'company', 'facilitate', 'actual', 'purchase', 'payment', 'well', 'set', 'definite', 'date', 'delivery', 'galvez', 'early', 'say', 'current', 'limited', 'global', 'supply', 'prevent', 'manufacturer', 'enter', 'bind', 'supply', 'agreement', 'government', 'report', 'mara', 'com']]\n"
     ]
    }
   ],
   "source": [
    "# Remove Stop Words\n",
    "data = remove_stopwords(data)\n",
    "\n",
    "# Form Bigrams\n",
    "data = make_bigrams(data)\n",
    "\n",
    "# Do lemmatization keeping only noun, adj, vb, adv\n",
    "data = lemmatization(data)\n",
    "\n",
    "print(data[:1])"
   ]
  },
  {
   "cell_type": "code",
   "execution_count": 9,
   "metadata": {},
   "outputs": [
    {
     "output_type": "stream",
     "name": "stdout",
     "text": [
      "[[(0, 2), (1, 1), (2, 4), (3, 1), (4, 1), (5, 2), (6, 1), (7, 1), (8, 1), (9, 3), (10, 2), (11, 1), (12, 1), (13, 8), (14, 1), (15, 1), (16, 1), (17, 1), (18, 3), (19, 5), (20, 1), (21, 1), (22, 2), (23, 2), (24, 1), (25, 2), (26, 2), (27, 1), (28, 1), (29, 1), (30, 1), (31, 1), (32, 1), (33, 2), (34, 3), (35, 1), (36, 1), (37, 1), (38, 1), (39, 2), (40, 1), (41, 1), (42, 12), (43, 1), (44, 5), (45, 1), (46, 1), (47, 1), (48, 1), (49, 1), (50, 4), (51, 2), (52, 1), (53, 1), (54, 2), (55, 1), (56, 1), (57, 2), (58, 3), (59, 1), (60, 1), (61, 1), (62, 1), (63, 1), (64, 9), (65, 1), (66, 2), (67, 1), (68, 1), (69, 1), (70, 1), (71, 6), (72, 7), (73, 1), (74, 3), (75, 1), (76, 2), (77, 1), (78, 1), (79, 3), (80, 1), (81, 1), (82, 1), (83, 3), (84, 2), (85, 1), (86, 1), (87, 1), (88, 3), (89, 1), (90, 2), (91, 3), (92, 1), (93, 1), (94, 1), (95, 1), (96, 2), (97, 1), (98, 2), (99, 1), (100, 1), (101, 1), (102, 1), (103, 1), (104, 1), (105, 2), (106, 1), (107, 2), (108, 3), (109, 1), (110, 3), (111, 2), (112, 1), (113, 1), (114, 1), (115, 2), (116, 2), (117, 1), (118, 1), (119, 1), (120, 2), (121, 1), (122, 1), (123, 2), (124, 1), (125, 2), (126, 3), (127, 3), (128, 1), (129, 1), (130, 8), (131, 1), (132, 1), (133, 2), (134, 3), (135, 1), (136, 1), (137, 1), (138, 4), (139, 2), (140, 1), (141, 2), (142, 7), (143, 1), (144, 2), (145, 8), (146, 1), (147, 2), (148, 3), (149, 14), (150, 2), (151, 2), (152, 1), (153, 1), (154, 5), (155, 1), (156, 2), (157, 4), (158, 1), (159, 2), (160, 6), (161, 1), (162, 1), (163, 1), (164, 1), (165, 2), (166, 1), (167, 3), (168, 1), (169, 1), (170, 1), (171, 14), (172, 1), (173, 1), (174, 2), (175, 2), (176, 1), (177, 1), (178, 1), (179, 2), (180, 1), (181, 2), (182, 2), (183, 1), (184, 1), (185, 2), (186, 1), (187, 8), (188, 4), (189, 1), (190, 1), (191, 1), (192, 1), (193, 2), (194, 1), (195, 1), (196, 1), (197, 1), (198, 1), (199, 2), (200, 1), (201, 1), (202, 2), (203, 1), (204, 2), (205, 1), (206, 10), (207, 1), (208, 1), (209, 1), (210, 4), (211, 1), (212, 1), (213, 1), (214, 1), (215, 1), (216, 1), (217, 1), (218, 1), (219, 1), (220, 4), (221, 2), (222, 3), (223, 1), (224, 11), (225, 3), (226, 1), (227, 2), (228, 4), (229, 1), (230, 1), (231, 1), (232, 1), (233, 1), (234, 1), (235, 1), (236, 2), (237, 1), (238, 2), (239, 1), (240, 1), (241, 5), (242, 3), (243, 1), (244, 1), (245, 1), (246, 1), (247, 1), (248, 4), (249, 1), (250, 2), (251, 6), (252, 1), (253, 1), (254, 1), (255, 1), (256, 2), (257, 1), (258, 1), (259, 2), (260, 1), (261, 1), (262, 9), (263, 2), (264, 1), (265, 3), (266, 2), (267, 1), (268, 1), (269, 1), (270, 1), (271, 1), (272, 2), (273, 3), (274, 1), (275, 2), (276, 1), (277, 1), (278, 2), (279, 1), (280, 1), (281, 2), (282, 4), (283, 6), (284, 1), (285, 1), (286, 1), (287, 1), (288, 1), (289, 4), (290, 1), (291, 2), (292, 2), (293, 2), (294, 2), (295, 13), (296, 2), (297, 1), (298, 1), (299, 1), (300, 1), (301, 1), (302, 1), (303, 5), (304, 1), (305, 2), (306, 1), (307, 1), (308, 5), (309, 1), (310, 1), (311, 4), (312, 1), (313, 1), (314, 1), (315, 1), (316, 1), (317, 1), (318, 1), (319, 1), (320, 3), (321, 4), (322, 1), (323, 1), (324, 1), (325, 7), (326, 2), (327, 1), (328, 1), (329, 3), (330, 1), (331, 2), (332, 1), (333, 1), (334, 1), (335, 1), (336, 2), (337, 1), (338, 1), (339, 1), (340, 2), (341, 1), (342, 1), (343, 1), (344, 2), (345, 1), (346, 1), (347, 4), (348, 1), (349, 15), (350, 3), (351, 2), (352, 1), (353, 2), (354, 3), (355, 1), (356, 1), (357, 1), (358, 1), (359, 1), (360, 1)]]\n"
     ]
    }
   ],
   "source": [
    "# Create Dictionary\n",
    "id2word_dictionary = Dictionary(data)\n",
    "\n",
    "# Create Corpus\n",
    "texts = data\n",
    "\n",
    "# Term Document Frequency\n",
    "corpus = [id2word_dictionary.doc2bow(text) for text in texts]\n",
    "\n",
    "# View\n",
    "print(corpus[:1])\n",
    "\n",
    "# Human readable format of corpus (term-frequency)\n",
    "# [(id2word_dictionary[id], freq) for id, freq in cp] for cp in corpus[:1]]"
   ]
  },
  {
   "source": [
    "## Building the Topic Model"
   ],
   "cell_type": "markdown",
   "metadata": {}
  },
  {
   "cell_type": "code",
   "execution_count": 10,
   "metadata": {},
   "outputs": [
    {
     "output_type": "display_data",
     "data": {
      "text/plain": "<Figure size 432x288 with 1 Axes>",
      "image/svg+xml": "<?xml version=\"1.0\" encoding=\"utf-8\" standalone=\"no\"?>\n<!DOCTYPE svg PUBLIC \"-//W3C//DTD SVG 1.1//EN\"\n  \"http://www.w3.org/Graphics/SVG/1.1/DTD/svg11.dtd\">\n<!-- Created with matplotlib (https://matplotlib.org/) -->\n<svg height=\"262.19625pt\" version=\"1.1\" viewBox=\"0 0 392.14375 262.19625\" width=\"392.14375pt\" xmlns=\"http://www.w3.org/2000/svg\" xmlns:xlink=\"http://www.w3.org/1999/xlink\">\n <metadata>\n  <rdf:RDF xmlns:cc=\"http://creativecommons.org/ns#\" xmlns:dc=\"http://purl.org/dc/elements/1.1/\" xmlns:rdf=\"http://www.w3.org/1999/02/22-rdf-syntax-ns#\">\n   <cc:Work>\n    <dc:type rdf:resource=\"http://purl.org/dc/dcmitype/StillImage\"/>\n    <dc:date>2021-03-11T19:09:28.024692</dc:date>\n    <dc:format>image/svg+xml</dc:format>\n    <dc:creator>\n     <cc:Agent>\n      <dc:title>Matplotlib v3.3.4, https://matplotlib.org/</dc:title>\n     </cc:Agent>\n    </dc:creator>\n   </cc:Work>\n  </rdf:RDF>\n </metadata>\n <defs>\n  <style type=\"text/css\">*{stroke-linecap:butt;stroke-linejoin:round;}</style>\n </defs>\n <g id=\"figure_1\">\n  <g id=\"patch_1\">\n   <path d=\"M 0 262.19625 \nL 392.14375 262.19625 \nL 392.14375 0 \nL 0 0 \nz\n\" style=\"fill:none;\"/>\n  </g>\n  <g id=\"axes_1\">\n   <g id=\"patch_2\">\n    <path d=\"M 50.14375 224.64 \nL 384.94375 224.64 \nL 384.94375 7.2 \nL 50.14375 7.2 \nz\n\" style=\"fill:#ffffff;\"/>\n   </g>\n   <g id=\"matplotlib.axis_1\">\n    <g id=\"xtick_1\">\n     <g id=\"line2d_1\">\n      <defs>\n       <path d=\"M 0 0 \nL 0 3.5 \n\" id=\"mdcf5f9fc11\" style=\"stroke:#000000;stroke-width:0.8;\"/>\n      </defs>\n      <g>\n       <use style=\"stroke:#000000;stroke-width:0.8;\" x=\"99.180114\" xlink:href=\"#mdcf5f9fc11\" y=\"224.64\"/>\n      </g>\n     </g>\n     <g id=\"text_1\">\n      <!-- 10 -->\n      <g transform=\"translate(92.817614 239.238438)scale(0.1 -0.1)\">\n       <defs>\n        <path d=\"M 12.40625 8.296875 \nL 28.515625 8.296875 \nL 28.515625 63.921875 \nL 10.984375 60.40625 \nL 10.984375 69.390625 \nL 28.421875 72.90625 \nL 38.28125 72.90625 \nL 38.28125 8.296875 \nL 54.390625 8.296875 \nL 54.390625 0 \nL 12.40625 0 \nz\n\" id=\"DejaVuSans-49\"/>\n        <path d=\"M 31.78125 66.40625 \nQ 24.171875 66.40625 20.328125 58.90625 \nQ 16.5 51.421875 16.5 36.375 \nQ 16.5 21.390625 20.328125 13.890625 \nQ 24.171875 6.390625 31.78125 6.390625 \nQ 39.453125 6.390625 43.28125 13.890625 \nQ 47.125 21.390625 47.125 36.375 \nQ 47.125 51.421875 43.28125 58.90625 \nQ 39.453125 66.40625 31.78125 66.40625 \nz\nM 31.78125 74.21875 \nQ 44.046875 74.21875 50.515625 64.515625 \nQ 56.984375 54.828125 56.984375 36.375 \nQ 56.984375 17.96875 50.515625 8.265625 \nQ 44.046875 -1.421875 31.78125 -1.421875 \nQ 19.53125 -1.421875 13.0625 8.265625 \nQ 6.59375 17.96875 6.59375 36.375 \nQ 6.59375 54.828125 13.0625 64.515625 \nQ 19.53125 74.21875 31.78125 74.21875 \nz\n\" id=\"DejaVuSans-48\"/>\n       </defs>\n       <use xlink:href=\"#DejaVuSans-49\"/>\n       <use x=\"63.623047\" xlink:href=\"#DejaVuSans-48\"/>\n      </g>\n     </g>\n    </g>\n    <g id=\"xtick_2\">\n     <g id=\"line2d_2\">\n      <g>\n       <use style=\"stroke:#000000;stroke-width:0.8;\" x=\"166.816477\" xlink:href=\"#mdcf5f9fc11\" y=\"224.64\"/>\n      </g>\n     </g>\n     <g id=\"text_2\">\n      <!-- 20 -->\n      <g transform=\"translate(160.453977 239.238438)scale(0.1 -0.1)\">\n       <defs>\n        <path d=\"M 19.1875 8.296875 \nL 53.609375 8.296875 \nL 53.609375 0 \nL 7.328125 0 \nL 7.328125 8.296875 \nQ 12.9375 14.109375 22.625 23.890625 \nQ 32.328125 33.6875 34.8125 36.53125 \nQ 39.546875 41.84375 41.421875 45.53125 \nQ 43.3125 49.21875 43.3125 52.78125 \nQ 43.3125 58.59375 39.234375 62.25 \nQ 35.15625 65.921875 28.609375 65.921875 \nQ 23.96875 65.921875 18.8125 64.3125 \nQ 13.671875 62.703125 7.8125 59.421875 \nL 7.8125 69.390625 \nQ 13.765625 71.78125 18.9375 73 \nQ 24.125 74.21875 28.421875 74.21875 \nQ 39.75 74.21875 46.484375 68.546875 \nQ 53.21875 62.890625 53.21875 53.421875 \nQ 53.21875 48.921875 51.53125 44.890625 \nQ 49.859375 40.875 45.40625 35.40625 \nQ 44.1875 33.984375 37.640625 27.21875 \nQ 31.109375 20.453125 19.1875 8.296875 \nz\n\" id=\"DejaVuSans-50\"/>\n       </defs>\n       <use xlink:href=\"#DejaVuSans-50\"/>\n       <use x=\"63.623047\" xlink:href=\"#DejaVuSans-48\"/>\n      </g>\n     </g>\n    </g>\n    <g id=\"xtick_3\">\n     <g id=\"line2d_3\">\n      <g>\n       <use style=\"stroke:#000000;stroke-width:0.8;\" x=\"234.452841\" xlink:href=\"#mdcf5f9fc11\" y=\"224.64\"/>\n      </g>\n     </g>\n     <g id=\"text_3\">\n      <!-- 30 -->\n      <g transform=\"translate(228.090341 239.238438)scale(0.1 -0.1)\">\n       <defs>\n        <path d=\"M 40.578125 39.3125 \nQ 47.65625 37.796875 51.625 33 \nQ 55.609375 28.21875 55.609375 21.1875 \nQ 55.609375 10.40625 48.1875 4.484375 \nQ 40.765625 -1.421875 27.09375 -1.421875 \nQ 22.515625 -1.421875 17.65625 -0.515625 \nQ 12.796875 0.390625 7.625 2.203125 \nL 7.625 11.71875 \nQ 11.71875 9.328125 16.59375 8.109375 \nQ 21.484375 6.890625 26.8125 6.890625 \nQ 36.078125 6.890625 40.9375 10.546875 \nQ 45.796875 14.203125 45.796875 21.1875 \nQ 45.796875 27.640625 41.28125 31.265625 \nQ 36.765625 34.90625 28.71875 34.90625 \nL 20.21875 34.90625 \nL 20.21875 43.015625 \nL 29.109375 43.015625 \nQ 36.375 43.015625 40.234375 45.921875 \nQ 44.09375 48.828125 44.09375 54.296875 \nQ 44.09375 59.90625 40.109375 62.90625 \nQ 36.140625 65.921875 28.71875 65.921875 \nQ 24.65625 65.921875 20.015625 65.03125 \nQ 15.375 64.15625 9.8125 62.3125 \nL 9.8125 71.09375 \nQ 15.4375 72.65625 20.34375 73.4375 \nQ 25.25 74.21875 29.59375 74.21875 \nQ 40.828125 74.21875 47.359375 69.109375 \nQ 53.90625 64.015625 53.90625 55.328125 \nQ 53.90625 49.265625 50.4375 45.09375 \nQ 46.96875 40.921875 40.578125 39.3125 \nz\n\" id=\"DejaVuSans-51\"/>\n       </defs>\n       <use xlink:href=\"#DejaVuSans-51\"/>\n       <use x=\"63.623047\" xlink:href=\"#DejaVuSans-48\"/>\n      </g>\n     </g>\n    </g>\n    <g id=\"xtick_4\">\n     <g id=\"line2d_4\">\n      <g>\n       <use style=\"stroke:#000000;stroke-width:0.8;\" x=\"302.089205\" xlink:href=\"#mdcf5f9fc11\" y=\"224.64\"/>\n      </g>\n     </g>\n     <g id=\"text_4\">\n      <!-- 40 -->\n      <g transform=\"translate(295.726705 239.238438)scale(0.1 -0.1)\">\n       <defs>\n        <path d=\"M 37.796875 64.3125 \nL 12.890625 25.390625 \nL 37.796875 25.390625 \nz\nM 35.203125 72.90625 \nL 47.609375 72.90625 \nL 47.609375 25.390625 \nL 58.015625 25.390625 \nL 58.015625 17.1875 \nL 47.609375 17.1875 \nL 47.609375 0 \nL 37.796875 0 \nL 37.796875 17.1875 \nL 4.890625 17.1875 \nL 4.890625 26.703125 \nz\n\" id=\"DejaVuSans-52\"/>\n       </defs>\n       <use xlink:href=\"#DejaVuSans-52\"/>\n       <use x=\"63.623047\" xlink:href=\"#DejaVuSans-48\"/>\n      </g>\n     </g>\n    </g>\n    <g id=\"xtick_5\">\n     <g id=\"line2d_5\">\n      <g>\n       <use style=\"stroke:#000000;stroke-width:0.8;\" x=\"369.725568\" xlink:href=\"#mdcf5f9fc11\" y=\"224.64\"/>\n      </g>\n     </g>\n     <g id=\"text_5\">\n      <!-- 50 -->\n      <g transform=\"translate(363.363068 239.238438)scale(0.1 -0.1)\">\n       <defs>\n        <path d=\"M 10.796875 72.90625 \nL 49.515625 72.90625 \nL 49.515625 64.59375 \nL 19.828125 64.59375 \nL 19.828125 46.734375 \nQ 21.96875 47.46875 24.109375 47.828125 \nQ 26.265625 48.1875 28.421875 48.1875 \nQ 40.625 48.1875 47.75 41.5 \nQ 54.890625 34.8125 54.890625 23.390625 \nQ 54.890625 11.625 47.5625 5.09375 \nQ 40.234375 -1.421875 26.90625 -1.421875 \nQ 22.3125 -1.421875 17.546875 -0.640625 \nQ 12.796875 0.140625 7.71875 1.703125 \nL 7.71875 11.625 \nQ 12.109375 9.234375 16.796875 8.0625 \nQ 21.484375 6.890625 26.703125 6.890625 \nQ 35.15625 6.890625 40.078125 11.328125 \nQ 45.015625 15.765625 45.015625 23.390625 \nQ 45.015625 31 40.078125 35.4375 \nQ 35.15625 39.890625 26.703125 39.890625 \nQ 22.75 39.890625 18.8125 39.015625 \nQ 14.890625 38.140625 10.796875 36.28125 \nz\n\" id=\"DejaVuSans-53\"/>\n       </defs>\n       <use xlink:href=\"#DejaVuSans-53\"/>\n       <use x=\"63.623047\" xlink:href=\"#DejaVuSans-48\"/>\n      </g>\n     </g>\n    </g>\n    <g id=\"text_6\">\n     <!-- Number of Topics -->\n     <g transform=\"translate(174.279688 252.916563)scale(0.1 -0.1)\">\n      <defs>\n       <path d=\"M 9.8125 72.90625 \nL 23.09375 72.90625 \nL 55.421875 11.921875 \nL 55.421875 72.90625 \nL 64.984375 72.90625 \nL 64.984375 0 \nL 51.703125 0 \nL 19.390625 60.984375 \nL 19.390625 0 \nL 9.8125 0 \nz\n\" id=\"DejaVuSans-78\"/>\n       <path d=\"M 8.5 21.578125 \nL 8.5 54.6875 \nL 17.484375 54.6875 \nL 17.484375 21.921875 \nQ 17.484375 14.15625 20.5 10.265625 \nQ 23.53125 6.390625 29.59375 6.390625 \nQ 36.859375 6.390625 41.078125 11.03125 \nQ 45.3125 15.671875 45.3125 23.6875 \nL 45.3125 54.6875 \nL 54.296875 54.6875 \nL 54.296875 0 \nL 45.3125 0 \nL 45.3125 8.40625 \nQ 42.046875 3.421875 37.71875 1 \nQ 33.40625 -1.421875 27.6875 -1.421875 \nQ 18.265625 -1.421875 13.375 4.4375 \nQ 8.5 10.296875 8.5 21.578125 \nz\nM 31.109375 56 \nz\n\" id=\"DejaVuSans-117\"/>\n       <path d=\"M 52 44.1875 \nQ 55.375 50.25 60.0625 53.125 \nQ 64.75 56 71.09375 56 \nQ 79.640625 56 84.28125 50.015625 \nQ 88.921875 44.046875 88.921875 33.015625 \nL 88.921875 0 \nL 79.890625 0 \nL 79.890625 32.71875 \nQ 79.890625 40.578125 77.09375 44.375 \nQ 74.3125 48.1875 68.609375 48.1875 \nQ 61.625 48.1875 57.5625 43.546875 \nQ 53.515625 38.921875 53.515625 30.90625 \nL 53.515625 0 \nL 44.484375 0 \nL 44.484375 32.71875 \nQ 44.484375 40.625 41.703125 44.40625 \nQ 38.921875 48.1875 33.109375 48.1875 \nQ 26.21875 48.1875 22.15625 43.53125 \nQ 18.109375 38.875 18.109375 30.90625 \nL 18.109375 0 \nL 9.078125 0 \nL 9.078125 54.6875 \nL 18.109375 54.6875 \nL 18.109375 46.1875 \nQ 21.1875 51.21875 25.484375 53.609375 \nQ 29.78125 56 35.6875 56 \nQ 41.65625 56 45.828125 52.96875 \nQ 50 49.953125 52 44.1875 \nz\n\" id=\"DejaVuSans-109\"/>\n       <path d=\"M 48.6875 27.296875 \nQ 48.6875 37.203125 44.609375 42.84375 \nQ 40.53125 48.484375 33.40625 48.484375 \nQ 26.265625 48.484375 22.1875 42.84375 \nQ 18.109375 37.203125 18.109375 27.296875 \nQ 18.109375 17.390625 22.1875 11.75 \nQ 26.265625 6.109375 33.40625 6.109375 \nQ 40.53125 6.109375 44.609375 11.75 \nQ 48.6875 17.390625 48.6875 27.296875 \nz\nM 18.109375 46.390625 \nQ 20.953125 51.265625 25.265625 53.625 \nQ 29.59375 56 35.59375 56 \nQ 45.5625 56 51.78125 48.09375 \nQ 58.015625 40.1875 58.015625 27.296875 \nQ 58.015625 14.40625 51.78125 6.484375 \nQ 45.5625 -1.421875 35.59375 -1.421875 \nQ 29.59375 -1.421875 25.265625 0.953125 \nQ 20.953125 3.328125 18.109375 8.203125 \nL 18.109375 0 \nL 9.078125 0 \nL 9.078125 75.984375 \nL 18.109375 75.984375 \nz\n\" id=\"DejaVuSans-98\"/>\n       <path d=\"M 56.203125 29.59375 \nL 56.203125 25.203125 \nL 14.890625 25.203125 \nQ 15.484375 15.921875 20.484375 11.0625 \nQ 25.484375 6.203125 34.421875 6.203125 \nQ 39.59375 6.203125 44.453125 7.46875 \nQ 49.3125 8.734375 54.109375 11.28125 \nL 54.109375 2.78125 \nQ 49.265625 0.734375 44.1875 -0.34375 \nQ 39.109375 -1.421875 33.890625 -1.421875 \nQ 20.796875 -1.421875 13.15625 6.1875 \nQ 5.515625 13.8125 5.515625 26.8125 \nQ 5.515625 40.234375 12.765625 48.109375 \nQ 20.015625 56 32.328125 56 \nQ 43.359375 56 49.78125 48.890625 \nQ 56.203125 41.796875 56.203125 29.59375 \nz\nM 47.21875 32.234375 \nQ 47.125 39.59375 43.09375 43.984375 \nQ 39.0625 48.390625 32.421875 48.390625 \nQ 24.90625 48.390625 20.390625 44.140625 \nQ 15.875 39.890625 15.1875 32.171875 \nz\n\" id=\"DejaVuSans-101\"/>\n       <path d=\"M 41.109375 46.296875 \nQ 39.59375 47.171875 37.8125 47.578125 \nQ 36.03125 48 33.890625 48 \nQ 26.265625 48 22.1875 43.046875 \nQ 18.109375 38.09375 18.109375 28.8125 \nL 18.109375 0 \nL 9.078125 0 \nL 9.078125 54.6875 \nL 18.109375 54.6875 \nL 18.109375 46.1875 \nQ 20.953125 51.171875 25.484375 53.578125 \nQ 30.03125 56 36.53125 56 \nQ 37.453125 56 38.578125 55.875 \nQ 39.703125 55.765625 41.0625 55.515625 \nz\n\" id=\"DejaVuSans-114\"/>\n       <path id=\"DejaVuSans-32\"/>\n       <path d=\"M 30.609375 48.390625 \nQ 23.390625 48.390625 19.1875 42.75 \nQ 14.984375 37.109375 14.984375 27.296875 \nQ 14.984375 17.484375 19.15625 11.84375 \nQ 23.34375 6.203125 30.609375 6.203125 \nQ 37.796875 6.203125 41.984375 11.859375 \nQ 46.1875 17.53125 46.1875 27.296875 \nQ 46.1875 37.015625 41.984375 42.703125 \nQ 37.796875 48.390625 30.609375 48.390625 \nz\nM 30.609375 56 \nQ 42.328125 56 49.015625 48.375 \nQ 55.71875 40.765625 55.71875 27.296875 \nQ 55.71875 13.875 49.015625 6.21875 \nQ 42.328125 -1.421875 30.609375 -1.421875 \nQ 18.84375 -1.421875 12.171875 6.21875 \nQ 5.515625 13.875 5.515625 27.296875 \nQ 5.515625 40.765625 12.171875 48.375 \nQ 18.84375 56 30.609375 56 \nz\n\" id=\"DejaVuSans-111\"/>\n       <path d=\"M 37.109375 75.984375 \nL 37.109375 68.5 \nL 28.515625 68.5 \nQ 23.6875 68.5 21.796875 66.546875 \nQ 19.921875 64.59375 19.921875 59.515625 \nL 19.921875 54.6875 \nL 34.71875 54.6875 \nL 34.71875 47.703125 \nL 19.921875 47.703125 \nL 19.921875 0 \nL 10.890625 0 \nL 10.890625 47.703125 \nL 2.296875 47.703125 \nL 2.296875 54.6875 \nL 10.890625 54.6875 \nL 10.890625 58.5 \nQ 10.890625 67.625 15.140625 71.796875 \nQ 19.390625 75.984375 28.609375 75.984375 \nz\n\" id=\"DejaVuSans-102\"/>\n       <path d=\"M -0.296875 72.90625 \nL 61.375 72.90625 \nL 61.375 64.59375 \nL 35.5 64.59375 \nL 35.5 0 \nL 25.59375 0 \nL 25.59375 64.59375 \nL -0.296875 64.59375 \nz\n\" id=\"DejaVuSans-84\"/>\n       <path d=\"M 18.109375 8.203125 \nL 18.109375 -20.796875 \nL 9.078125 -20.796875 \nL 9.078125 54.6875 \nL 18.109375 54.6875 \nL 18.109375 46.390625 \nQ 20.953125 51.265625 25.265625 53.625 \nQ 29.59375 56 35.59375 56 \nQ 45.5625 56 51.78125 48.09375 \nQ 58.015625 40.1875 58.015625 27.296875 \nQ 58.015625 14.40625 51.78125 6.484375 \nQ 45.5625 -1.421875 35.59375 -1.421875 \nQ 29.59375 -1.421875 25.265625 0.953125 \nQ 20.953125 3.328125 18.109375 8.203125 \nz\nM 48.6875 27.296875 \nQ 48.6875 37.203125 44.609375 42.84375 \nQ 40.53125 48.484375 33.40625 48.484375 \nQ 26.265625 48.484375 22.1875 42.84375 \nQ 18.109375 37.203125 18.109375 27.296875 \nQ 18.109375 17.390625 22.1875 11.75 \nQ 26.265625 6.109375 33.40625 6.109375 \nQ 40.53125 6.109375 44.609375 11.75 \nQ 48.6875 17.390625 48.6875 27.296875 \nz\n\" id=\"DejaVuSans-112\"/>\n       <path d=\"M 9.421875 54.6875 \nL 18.40625 54.6875 \nL 18.40625 0 \nL 9.421875 0 \nz\nM 9.421875 75.984375 \nL 18.40625 75.984375 \nL 18.40625 64.59375 \nL 9.421875 64.59375 \nz\n\" id=\"DejaVuSans-105\"/>\n       <path d=\"M 48.78125 52.59375 \nL 48.78125 44.1875 \nQ 44.96875 46.296875 41.140625 47.34375 \nQ 37.3125 48.390625 33.40625 48.390625 \nQ 24.65625 48.390625 19.8125 42.84375 \nQ 14.984375 37.3125 14.984375 27.296875 \nQ 14.984375 17.28125 19.8125 11.734375 \nQ 24.65625 6.203125 33.40625 6.203125 \nQ 37.3125 6.203125 41.140625 7.25 \nQ 44.96875 8.296875 48.78125 10.40625 \nL 48.78125 2.09375 \nQ 45.015625 0.34375 40.984375 -0.53125 \nQ 36.96875 -1.421875 32.421875 -1.421875 \nQ 20.0625 -1.421875 12.78125 6.34375 \nQ 5.515625 14.109375 5.515625 27.296875 \nQ 5.515625 40.671875 12.859375 48.328125 \nQ 20.21875 56 33.015625 56 \nQ 37.15625 56 41.109375 55.140625 \nQ 45.0625 54.296875 48.78125 52.59375 \nz\n\" id=\"DejaVuSans-99\"/>\n       <path d=\"M 44.28125 53.078125 \nL 44.28125 44.578125 \nQ 40.484375 46.53125 36.375 47.5 \nQ 32.28125 48.484375 27.875 48.484375 \nQ 21.1875 48.484375 17.84375 46.4375 \nQ 14.5 44.390625 14.5 40.28125 \nQ 14.5 37.15625 16.890625 35.375 \nQ 19.28125 33.59375 26.515625 31.984375 \nL 29.59375 31.296875 \nQ 39.15625 29.25 43.1875 25.515625 \nQ 47.21875 21.78125 47.21875 15.09375 \nQ 47.21875 7.46875 41.1875 3.015625 \nQ 35.15625 -1.421875 24.609375 -1.421875 \nQ 20.21875 -1.421875 15.453125 -0.5625 \nQ 10.6875 0.296875 5.421875 2 \nL 5.421875 11.28125 \nQ 10.40625 8.6875 15.234375 7.390625 \nQ 20.0625 6.109375 24.8125 6.109375 \nQ 31.15625 6.109375 34.5625 8.28125 \nQ 37.984375 10.453125 37.984375 14.40625 \nQ 37.984375 18.0625 35.515625 20.015625 \nQ 33.0625 21.96875 24.703125 23.78125 \nL 21.578125 24.515625 \nQ 13.234375 26.265625 9.515625 29.90625 \nQ 5.8125 33.546875 5.8125 39.890625 \nQ 5.8125 47.609375 11.28125 51.796875 \nQ 16.75 56 26.8125 56 \nQ 31.78125 56 36.171875 55.265625 \nQ 40.578125 54.546875 44.28125 53.078125 \nz\n\" id=\"DejaVuSans-115\"/>\n      </defs>\n      <use xlink:href=\"#DejaVuSans-78\"/>\n      <use x=\"74.804688\" xlink:href=\"#DejaVuSans-117\"/>\n      <use x=\"138.183594\" xlink:href=\"#DejaVuSans-109\"/>\n      <use x=\"235.595703\" xlink:href=\"#DejaVuSans-98\"/>\n      <use x=\"299.072266\" xlink:href=\"#DejaVuSans-101\"/>\n      <use x=\"360.595703\" xlink:href=\"#DejaVuSans-114\"/>\n      <use x=\"401.708984\" xlink:href=\"#DejaVuSans-32\"/>\n      <use x=\"433.496094\" xlink:href=\"#DejaVuSans-111\"/>\n      <use x=\"494.677734\" xlink:href=\"#DejaVuSans-102\"/>\n      <use x=\"529.882812\" xlink:href=\"#DejaVuSans-32\"/>\n      <use x=\"561.669922\" xlink:href=\"#DejaVuSans-84\"/>\n      <use x=\"605.753906\" xlink:href=\"#DejaVuSans-111\"/>\n      <use x=\"666.935547\" xlink:href=\"#DejaVuSans-112\"/>\n      <use x=\"730.412109\" xlink:href=\"#DejaVuSans-105\"/>\n      <use x=\"758.195312\" xlink:href=\"#DejaVuSans-99\"/>\n      <use x=\"813.175781\" xlink:href=\"#DejaVuSans-115\"/>\n     </g>\n    </g>\n   </g>\n   <g id=\"matplotlib.axis_2\">\n    <g id=\"ytick_1\">\n     <g id=\"line2d_6\">\n      <defs>\n       <path d=\"M 0 0 \nL -3.5 0 \n\" id=\"m18283b61b5\" style=\"stroke:#000000;stroke-width:0.8;\"/>\n      </defs>\n      <g>\n       <use style=\"stroke:#000000;stroke-width:0.8;\" x=\"50.14375\" xlink:href=\"#m18283b61b5\" y=\"220.72438\"/>\n      </g>\n     </g>\n     <g id=\"text_7\">\n      <!-- 0.27 -->\n      <g transform=\"translate(20.878125 224.523598)scale(0.1 -0.1)\">\n       <defs>\n        <path d=\"M 10.6875 12.40625 \nL 21 12.40625 \nL 21 0 \nL 10.6875 0 \nz\n\" id=\"DejaVuSans-46\"/>\n        <path d=\"M 8.203125 72.90625 \nL 55.078125 72.90625 \nL 55.078125 68.703125 \nL 28.609375 0 \nL 18.3125 0 \nL 43.21875 64.59375 \nL 8.203125 64.59375 \nz\n\" id=\"DejaVuSans-55\"/>\n       </defs>\n       <use xlink:href=\"#DejaVuSans-48\"/>\n       <use x=\"63.623047\" xlink:href=\"#DejaVuSans-46\"/>\n       <use x=\"95.410156\" xlink:href=\"#DejaVuSans-50\"/>\n       <use x=\"159.033203\" xlink:href=\"#DejaVuSans-55\"/>\n      </g>\n     </g>\n    </g>\n    <g id=\"ytick_2\">\n     <g id=\"line2d_7\">\n      <g>\n       <use style=\"stroke:#000000;stroke-width:0.8;\" x=\"50.14375\" xlink:href=\"#m18283b61b5\" y=\"185.796995\"/>\n      </g>\n     </g>\n     <g id=\"text_8\">\n      <!-- 0.28 -->\n      <g transform=\"translate(20.878125 189.596214)scale(0.1 -0.1)\">\n       <defs>\n        <path d=\"M 31.78125 34.625 \nQ 24.75 34.625 20.71875 30.859375 \nQ 16.703125 27.09375 16.703125 20.515625 \nQ 16.703125 13.921875 20.71875 10.15625 \nQ 24.75 6.390625 31.78125 6.390625 \nQ 38.8125 6.390625 42.859375 10.171875 \nQ 46.921875 13.96875 46.921875 20.515625 \nQ 46.921875 27.09375 42.890625 30.859375 \nQ 38.875 34.625 31.78125 34.625 \nz\nM 21.921875 38.8125 \nQ 15.578125 40.375 12.03125 44.71875 \nQ 8.5 49.078125 8.5 55.328125 \nQ 8.5 64.0625 14.71875 69.140625 \nQ 20.953125 74.21875 31.78125 74.21875 \nQ 42.671875 74.21875 48.875 69.140625 \nQ 55.078125 64.0625 55.078125 55.328125 \nQ 55.078125 49.078125 51.53125 44.71875 \nQ 48 40.375 41.703125 38.8125 \nQ 48.828125 37.15625 52.796875 32.3125 \nQ 56.78125 27.484375 56.78125 20.515625 \nQ 56.78125 9.90625 50.3125 4.234375 \nQ 43.84375 -1.421875 31.78125 -1.421875 \nQ 19.734375 -1.421875 13.25 4.234375 \nQ 6.78125 9.90625 6.78125 20.515625 \nQ 6.78125 27.484375 10.78125 32.3125 \nQ 14.796875 37.15625 21.921875 38.8125 \nz\nM 18.3125 54.390625 \nQ 18.3125 48.734375 21.84375 45.5625 \nQ 25.390625 42.390625 31.78125 42.390625 \nQ 38.140625 42.390625 41.71875 45.5625 \nQ 45.3125 48.734375 45.3125 54.390625 \nQ 45.3125 60.0625 41.71875 63.234375 \nQ 38.140625 66.40625 31.78125 66.40625 \nQ 25.390625 66.40625 21.84375 63.234375 \nQ 18.3125 60.0625 18.3125 54.390625 \nz\n\" id=\"DejaVuSans-56\"/>\n       </defs>\n       <use xlink:href=\"#DejaVuSans-48\"/>\n       <use x=\"63.623047\" xlink:href=\"#DejaVuSans-46\"/>\n       <use x=\"95.410156\" xlink:href=\"#DejaVuSans-50\"/>\n       <use x=\"159.033203\" xlink:href=\"#DejaVuSans-56\"/>\n      </g>\n     </g>\n    </g>\n    <g id=\"ytick_3\">\n     <g id=\"line2d_8\">\n      <g>\n       <use style=\"stroke:#000000;stroke-width:0.8;\" x=\"50.14375\" xlink:href=\"#m18283b61b5\" y=\"150.869611\"/>\n      </g>\n     </g>\n     <g id=\"text_9\">\n      <!-- 0.29 -->\n      <g transform=\"translate(20.878125 154.668829)scale(0.1 -0.1)\">\n       <defs>\n        <path d=\"M 10.984375 1.515625 \nL 10.984375 10.5 \nQ 14.703125 8.734375 18.5 7.8125 \nQ 22.3125 6.890625 25.984375 6.890625 \nQ 35.75 6.890625 40.890625 13.453125 \nQ 46.046875 20.015625 46.78125 33.40625 \nQ 43.953125 29.203125 39.59375 26.953125 \nQ 35.25 24.703125 29.984375 24.703125 \nQ 19.046875 24.703125 12.671875 31.3125 \nQ 6.296875 37.9375 6.296875 49.421875 \nQ 6.296875 60.640625 12.9375 67.421875 \nQ 19.578125 74.21875 30.609375 74.21875 \nQ 43.265625 74.21875 49.921875 64.515625 \nQ 56.59375 54.828125 56.59375 36.375 \nQ 56.59375 19.140625 48.40625 8.859375 \nQ 40.234375 -1.421875 26.421875 -1.421875 \nQ 22.703125 -1.421875 18.890625 -0.6875 \nQ 15.09375 0.046875 10.984375 1.515625 \nz\nM 30.609375 32.421875 \nQ 37.25 32.421875 41.125 36.953125 \nQ 45.015625 41.5 45.015625 49.421875 \nQ 45.015625 57.28125 41.125 61.84375 \nQ 37.25 66.40625 30.609375 66.40625 \nQ 23.96875 66.40625 20.09375 61.84375 \nQ 16.21875 57.28125 16.21875 49.421875 \nQ 16.21875 41.5 20.09375 36.953125 \nQ 23.96875 32.421875 30.609375 32.421875 \nz\n\" id=\"DejaVuSans-57\"/>\n       </defs>\n       <use xlink:href=\"#DejaVuSans-48\"/>\n       <use x=\"63.623047\" xlink:href=\"#DejaVuSans-46\"/>\n       <use x=\"95.410156\" xlink:href=\"#DejaVuSans-50\"/>\n       <use x=\"159.033203\" xlink:href=\"#DejaVuSans-57\"/>\n      </g>\n     </g>\n    </g>\n    <g id=\"ytick_4\">\n     <g id=\"line2d_9\">\n      <g>\n       <use style=\"stroke:#000000;stroke-width:0.8;\" x=\"50.14375\" xlink:href=\"#m18283b61b5\" y=\"115.942226\"/>\n      </g>\n     </g>\n     <g id=\"text_10\">\n      <!-- 0.30 -->\n      <g transform=\"translate(20.878125 119.741445)scale(0.1 -0.1)\">\n       <use xlink:href=\"#DejaVuSans-48\"/>\n       <use x=\"63.623047\" xlink:href=\"#DejaVuSans-46\"/>\n       <use x=\"95.410156\" xlink:href=\"#DejaVuSans-51\"/>\n       <use x=\"159.033203\" xlink:href=\"#DejaVuSans-48\"/>\n      </g>\n     </g>\n    </g>\n    <g id=\"ytick_5\">\n     <g id=\"line2d_10\">\n      <g>\n       <use style=\"stroke:#000000;stroke-width:0.8;\" x=\"50.14375\" xlink:href=\"#m18283b61b5\" y=\"81.014842\"/>\n      </g>\n     </g>\n     <g id=\"text_11\">\n      <!-- 0.31 -->\n      <g transform=\"translate(20.878125 84.81406)scale(0.1 -0.1)\">\n       <use xlink:href=\"#DejaVuSans-48\"/>\n       <use x=\"63.623047\" xlink:href=\"#DejaVuSans-46\"/>\n       <use x=\"95.410156\" xlink:href=\"#DejaVuSans-51\"/>\n       <use x=\"159.033203\" xlink:href=\"#DejaVuSans-49\"/>\n      </g>\n     </g>\n    </g>\n    <g id=\"ytick_6\">\n     <g id=\"line2d_11\">\n      <g>\n       <use style=\"stroke:#000000;stroke-width:0.8;\" x=\"50.14375\" xlink:href=\"#m18283b61b5\" y=\"46.087457\"/>\n      </g>\n     </g>\n     <g id=\"text_12\">\n      <!-- 0.32 -->\n      <g transform=\"translate(20.878125 49.886676)scale(0.1 -0.1)\">\n       <use xlink:href=\"#DejaVuSans-48\"/>\n       <use x=\"63.623047\" xlink:href=\"#DejaVuSans-46\"/>\n       <use x=\"95.410156\" xlink:href=\"#DejaVuSans-51\"/>\n       <use x=\"159.033203\" xlink:href=\"#DejaVuSans-50\"/>\n      </g>\n     </g>\n    </g>\n    <g id=\"ytick_7\">\n     <g id=\"line2d_12\">\n      <g>\n       <use style=\"stroke:#000000;stroke-width:0.8;\" x=\"50.14375\" xlink:href=\"#m18283b61b5\" y=\"11.160072\"/>\n      </g>\n     </g>\n     <g id=\"text_13\">\n      <!-- 0.33 -->\n      <g transform=\"translate(20.878125 14.959291)scale(0.1 -0.1)\">\n       <use xlink:href=\"#DejaVuSans-48\"/>\n       <use x=\"63.623047\" xlink:href=\"#DejaVuSans-46\"/>\n       <use x=\"95.410156\" xlink:href=\"#DejaVuSans-51\"/>\n       <use x=\"159.033203\" xlink:href=\"#DejaVuSans-51\"/>\n      </g>\n     </g>\n    </g>\n    <g id=\"text_14\">\n     <!-- Coherence Score -->\n     <g transform=\"translate(14.798438 158.321563)rotate(-90)scale(0.1 -0.1)\">\n      <defs>\n       <path d=\"M 64.40625 67.28125 \nL 64.40625 56.890625 \nQ 59.421875 61.53125 53.78125 63.8125 \nQ 48.140625 66.109375 41.796875 66.109375 \nQ 29.296875 66.109375 22.65625 58.46875 \nQ 16.015625 50.828125 16.015625 36.375 \nQ 16.015625 21.96875 22.65625 14.328125 \nQ 29.296875 6.6875 41.796875 6.6875 \nQ 48.140625 6.6875 53.78125 8.984375 \nQ 59.421875 11.28125 64.40625 15.921875 \nL 64.40625 5.609375 \nQ 59.234375 2.09375 53.4375 0.328125 \nQ 47.65625 -1.421875 41.21875 -1.421875 \nQ 24.65625 -1.421875 15.125 8.703125 \nQ 5.609375 18.84375 5.609375 36.375 \nQ 5.609375 53.953125 15.125 64.078125 \nQ 24.65625 74.21875 41.21875 74.21875 \nQ 47.75 74.21875 53.53125 72.484375 \nQ 59.328125 70.75 64.40625 67.28125 \nz\n\" id=\"DejaVuSans-67\"/>\n       <path d=\"M 54.890625 33.015625 \nL 54.890625 0 \nL 45.90625 0 \nL 45.90625 32.71875 \nQ 45.90625 40.484375 42.875 44.328125 \nQ 39.84375 48.1875 33.796875 48.1875 \nQ 26.515625 48.1875 22.3125 43.546875 \nQ 18.109375 38.921875 18.109375 30.90625 \nL 18.109375 0 \nL 9.078125 0 \nL 9.078125 75.984375 \nL 18.109375 75.984375 \nL 18.109375 46.1875 \nQ 21.34375 51.125 25.703125 53.5625 \nQ 30.078125 56 35.796875 56 \nQ 45.21875 56 50.046875 50.171875 \nQ 54.890625 44.34375 54.890625 33.015625 \nz\n\" id=\"DejaVuSans-104\"/>\n       <path d=\"M 54.890625 33.015625 \nL 54.890625 0 \nL 45.90625 0 \nL 45.90625 32.71875 \nQ 45.90625 40.484375 42.875 44.328125 \nQ 39.84375 48.1875 33.796875 48.1875 \nQ 26.515625 48.1875 22.3125 43.546875 \nQ 18.109375 38.921875 18.109375 30.90625 \nL 18.109375 0 \nL 9.078125 0 \nL 9.078125 54.6875 \nL 18.109375 54.6875 \nL 18.109375 46.1875 \nQ 21.34375 51.125 25.703125 53.5625 \nQ 30.078125 56 35.796875 56 \nQ 45.21875 56 50.046875 50.171875 \nQ 54.890625 44.34375 54.890625 33.015625 \nz\n\" id=\"DejaVuSans-110\"/>\n       <path d=\"M 53.515625 70.515625 \nL 53.515625 60.890625 \nQ 47.90625 63.578125 42.921875 64.890625 \nQ 37.9375 66.21875 33.296875 66.21875 \nQ 25.25 66.21875 20.875 63.09375 \nQ 16.5 59.96875 16.5 54.203125 \nQ 16.5 49.359375 19.40625 46.890625 \nQ 22.3125 44.4375 30.421875 42.921875 \nL 36.375 41.703125 \nQ 47.40625 39.59375 52.65625 34.296875 \nQ 57.90625 29 57.90625 20.125 \nQ 57.90625 9.515625 50.796875 4.046875 \nQ 43.703125 -1.421875 29.984375 -1.421875 \nQ 24.8125 -1.421875 18.96875 -0.25 \nQ 13.140625 0.921875 6.890625 3.21875 \nL 6.890625 13.375 \nQ 12.890625 10.015625 18.65625 8.296875 \nQ 24.421875 6.59375 29.984375 6.59375 \nQ 38.421875 6.59375 43.015625 9.90625 \nQ 47.609375 13.234375 47.609375 19.390625 \nQ 47.609375 24.75 44.3125 27.78125 \nQ 41.015625 30.8125 33.5 32.328125 \nL 27.484375 33.5 \nQ 16.453125 35.6875 11.515625 40.375 \nQ 6.59375 45.0625 6.59375 53.421875 \nQ 6.59375 63.09375 13.40625 68.65625 \nQ 20.21875 74.21875 32.171875 74.21875 \nQ 37.3125 74.21875 42.625 73.28125 \nQ 47.953125 72.359375 53.515625 70.515625 \nz\n\" id=\"DejaVuSans-83\"/>\n      </defs>\n      <use xlink:href=\"#DejaVuSans-67\"/>\n      <use x=\"69.824219\" xlink:href=\"#DejaVuSans-111\"/>\n      <use x=\"131.005859\" xlink:href=\"#DejaVuSans-104\"/>\n      <use x=\"194.384766\" xlink:href=\"#DejaVuSans-101\"/>\n      <use x=\"255.908203\" xlink:href=\"#DejaVuSans-114\"/>\n      <use x=\"294.771484\" xlink:href=\"#DejaVuSans-101\"/>\n      <use x=\"356.294922\" xlink:href=\"#DejaVuSans-110\"/>\n      <use x=\"419.673828\" xlink:href=\"#DejaVuSans-99\"/>\n      <use x=\"474.654297\" xlink:href=\"#DejaVuSans-101\"/>\n      <use x=\"536.177734\" xlink:href=\"#DejaVuSans-32\"/>\n      <use x=\"567.964844\" xlink:href=\"#DejaVuSans-83\"/>\n      <use x=\"631.441406\" xlink:href=\"#DejaVuSans-99\"/>\n      <use x=\"686.421875\" xlink:href=\"#DejaVuSans-111\"/>\n      <use x=\"747.603516\" xlink:href=\"#DejaVuSans-114\"/>\n      <use x=\"786.466797\" xlink:href=\"#DejaVuSans-101\"/>\n     </g>\n    </g>\n   </g>\n   <g id=\"line2d_13\">\n    <path clip-path=\"url(#pbabe1665b3)\" d=\"M 65.361932 87.122636 \nL 99.180114 17.083636 \nL 132.998295 60.995101 \nL 166.816477 133.383128 \nL 200.634659 214.756364 \nL 234.452841 139.499726 \nL 268.271023 67.914411 \nL 302.089205 142.637463 \nL 335.907386 107.946767 \nL 369.725568 146.059866 \n\" style=\"fill:none;stroke:#1f77b4;stroke-linecap:square;stroke-width:1.5;\"/>\n   </g>\n   <g id=\"patch_3\">\n    <path d=\"M 50.14375 224.64 \nL 50.14375 7.2 \n\" style=\"fill:none;stroke:#000000;stroke-linecap:square;stroke-linejoin:miter;stroke-width:0.8;\"/>\n   </g>\n   <g id=\"patch_4\">\n    <path d=\"M 384.94375 224.64 \nL 384.94375 7.2 \n\" style=\"fill:none;stroke:#000000;stroke-linecap:square;stroke-linejoin:miter;stroke-width:0.8;\"/>\n   </g>\n   <g id=\"patch_5\">\n    <path d=\"M 50.14375 224.64 \nL 384.94375 224.64 \n\" style=\"fill:none;stroke:#000000;stroke-linecap:square;stroke-linejoin:miter;stroke-width:0.8;\"/>\n   </g>\n   <g id=\"patch_6\">\n    <path d=\"M 50.14375 7.2 \nL 384.94375 7.2 \n\" style=\"fill:none;stroke:#000000;stroke-linecap:square;stroke-linejoin:miter;stroke-width:0.8;\"/>\n   </g>\n   <g id=\"legend_1\">\n    <g id=\"patch_7\">\n     <path d=\"M 340.445312 29.878125 \nL 377.94375 29.878125 \nQ 379.94375 29.878125 379.94375 27.878125 \nL 379.94375 14.2 \nQ 379.94375 12.2 377.94375 12.2 \nL 340.445312 12.2 \nQ 338.445312 12.2 338.445312 14.2 \nL 338.445312 27.878125 \nQ 338.445312 29.878125 340.445312 29.878125 \nz\n\" style=\"fill:#ffffff;opacity:0.8;stroke:#cccccc;stroke-linejoin:miter;\"/>\n    </g>\n    <g id=\"line2d_14\">\n     <path d=\"M 342.445312 20.298438 \nL 362.445312 20.298438 \n\" style=\"fill:none;stroke:#1f77b4;stroke-linecap:square;stroke-width:1.5;\"/>\n    </g>\n    <g id=\"line2d_15\"/>\n    <g id=\"text_15\">\n     <!-- c -->\n     <g transform=\"translate(370.445312 23.798438)scale(0.1 -0.1)\">\n      <use xlink:href=\"#DejaVuSans-99\"/>\n     </g>\n    </g>\n   </g>\n  </g>\n </g>\n <defs>\n  <clipPath id=\"pbabe1665b3\">\n   <rect height=\"217.44\" width=\"334.8\" x=\"50.14375\" y=\"7.2\"/>\n  </clipPath>\n </defs>\n</svg>\n",
      "image/png": "[encoded data removed]"
     },
     "metadata": {
      "needs_background": "light"
     }
    },
    {
     "output_type": "stream",
     "name": "stdout",
     "text": [
      "Model[0] ~> N-Topics ~>  5 has Coherence Value of ~> 0.3083\nModel[1] ~> N-Topics ~> 10 has Coherence Value of ~> 0.3283\nModel[2] ~> N-Topics ~> 15 has Coherence Value of ~> 0.3157\nModel[3] ~> N-Topics ~> 20 has Coherence Value of ~> 0.295\nModel[4] ~> N-Topics ~> 25 has Coherence Value of ~> 0.2717\nModel[5] ~> N-Topics ~> 30 has Coherence Value of ~> 0.2933\nModel[6] ~> N-Topics ~> 35 has Coherence Value of ~> 0.3138\nModel[7] ~> N-Topics ~> 40 has Coherence Value of ~> 0.2924\nModel[8] ~> N-Topics ~> 45 has Coherence Value of ~> 0.3023\nModel[9] ~> N-Topics ~> 50 has Coherence Value of ~> 0.2914\nCPU times: user 40.2 s, sys: 8.74 s, total: 49 s\nWall time: 3min 3s\n"
     ]
    }
   ],
   "source": [
    "%%time \n",
    "\n",
    "limit = 51; start = 5; step = 5\n",
    "coherences = []\n",
    "models = []\n",
    "\n",
    "for N in range(start, limit, step):\n",
    "    ldamodel = LdaModel(corpus=corpus, num_topics=N, id2word=id2word_dictionary)\n",
    "    models.append(ldamodel)\n",
    "\n",
    "    ldatopics = [[word for word, prob in topic] for topicid, topic in ldamodel.show_topics(formatted=False)]\n",
    "    ldacoherence = CoherenceModel(topics=ldatopics[:10], texts=texts, dictionary=id2word_dictionary, window_size=10).get_coherence()\n",
    "    coherences.append((ldacoherence))\n",
    "\n",
    "\n",
    "# Plot the number of topics based on coherence score\n",
    "x = range(start, limit, step)\n",
    "plt.plot(x, coherences)\n",
    "plt.xlabel('Number of Topics')\n",
    "plt.ylabel('Coherence Score')\n",
    "plt.legend('coherences', loc='best')\n",
    "plt.show()  \n",
    "\n",
    "\n",
    "# Print the coherence scores\n",
    "idx = 0\n",
    "for n, cv in zip(x, coherences):\n",
    "    print(f'Model[{idx}] ~> N-Topics ~> {n:2} has Coherence Value of ~> {round(cv, 4)}')\n",
    "    idx += 1"
   ]
  },
  {
   "cell_type": "code",
   "execution_count": 11,
   "metadata": {},
   "outputs": [
    {
     "output_type": "stream",
     "name": "stdout",
     "text": [
      "[(0, '0.028*\"say\" + 0.017*\"vaccine\" + 0.012*\"dose\" + 0.012*\"government\" + 0.009*\"country\" + 0.008*\"health\" + 0.006*\"first\" + 0.006*\"also\" + 0.006*\"astrazeneca\" + 0.005*\"pfizer\"'), (1, '0.035*\"say\" + 0.019*\"vaccine\" + 0.011*\"dose\" + 0.008*\"government\" + 0.008*\"astrazeneca\" + 0.008*\"trial\" + 0.007*\"health\" + 0.007*\"country\" + 0.006*\"early\" + 0.006*\"get\"'), (2, '0.025*\"say\" + 0.010*\"vaccine\" + 0.009*\"health\" + 0.008*\"dose\" + 0.007*\"first\" + 0.007*\"government\" + 0.005*\"trial\" + 0.005*\"country\" + 0.005*\"world\" + 0.004*\"ng\"'), (3, '0.019*\"say\" + 0.012*\"vaccine\" + 0.010*\"dose\" + 0.008*\"health\" + 0.006*\"also\" + 0.006*\"country\" + 0.006*\"government\" + 0.005*\"first\" + 0.005*\"trial\" + 0.005*\"get\"'), (4, '0.024*\"say\" + 0.023*\"vaccine\" + 0.011*\"health\" + 0.010*\"dose\" + 0.009*\"government\" + 0.006*\"country\" + 0.006*\"get\" + 0.006*\"astrazeneca\" + 0.005*\"also\" + 0.005*\"sinovac\"')]\n"
     ]
    }
   ],
   "source": [
    "# Select the BEST model and print the topics\n",
    "best_model = models[0]\n",
    "topics = best_model.show_topics(formatted=False)\n",
    "print(best_model.print_topics(num_words=10))"
   ]
  },
  {
   "cell_type": "code",
   "execution_count": 12,
   "metadata": {},
   "outputs": [
    {
     "output_type": "execute_result",
     "data": {
      "text/plain": [
       "PreparedData(topic_coordinates=              x         y  topics  cluster       Freq\n",
       "topic                                                \n",
       "1      0.007044  0.001320       1        1  36.578461\n",
       "0      0.010463  0.006350       2        1  27.417636\n",
       "4      0.010879 -0.008059       3        1  18.812970\n",
       "3     -0.013514  0.013053       4        1   9.436339\n",
       "2     -0.014872 -0.012664       5        1   7.754594, topic_info=            Term         Freq        Total Category  logprob  loglift\n",
       "295          say  2212.000000  2212.000000  Default  30.0000  30.0000\n",
       "154       health   661.000000   661.000000  Default  29.0000  29.0000\n",
       "349      vaccine  1365.000000  1365.000000  Default  28.0000  28.0000\n",
       "107         dose   838.000000   838.000000  Default  27.0000  27.0000\n",
       "138        first   424.000000   424.000000  Default  26.0000  26.0000\n",
       "..           ...          ...          ...      ...      ...      ...\n",
       "29   astrazeneca    22.099747   471.130750   Topic5  -5.5990  -0.5027\n",
       "146          get    20.031897   404.481155   Topic5  -5.6972  -0.4484\n",
       "110        early    19.535598   384.789054   Topic5  -5.7223  -0.4236\n",
       "348  vaccination    18.588581   323.945696   Topic5  -5.7720  -0.3011\n",
       "529       worker    16.741474   223.676639   Topic5  -5.8767  -0.0354\n",
       "\n",
       "[433 rows x 6 columns], token_table=      Topic      Freq         Term\n",
       "term                              \n",
       "5682      5  0.659465         abby\n",
       "362       1  0.336616  abeyasinghe\n",
       "362       2  0.504923  abeyasinghe\n",
       "362       3  0.084154  abeyasinghe\n",
       "362       4  0.042077  abeyasinghe\n",
       "...     ...       ...          ...\n",
       "358       4  0.112452         year\n",
       "358       5  0.063560         year\n",
       "4158      1  0.317546         zone\n",
       "4158      2  0.317546         zone\n",
       "4158      5  0.317546         zone\n",
       "\n",
       "[990 rows x 3 columns], R=30, lambda_step=0.01, plot_opts={'xlab': 'PC1', 'ylab': 'PC2'}, topic_order=[2, 1, 5, 4, 3])"
      ],
      "text/html": "\n<link rel=\"stylesheet\" type=\"text/css\" href=\"https://cdn.rawgit.com/bmabey/pyLDAvis/files/ldavis.v1.0.0.css\">\n\n\n<div id=\"ldavis_el437521403302977651045176923573\"></div>\n<script type=\"text/javascript\">\n\nvar ldavis_el437521403302977651045176923573_data = {\"mdsDat\": {\"x\": [0.007043888209047627, 0.010463293987290434, 0.01087924720986956, -0.013514288746959941, -0.01487214065924769], \"y\": [0.0013197281045220215, 0.006349923775116507, -0.00805879418768078, 0.013052864360242541, -0.012663722052200267], \"topics\": [1, 2, 3, 4, 5], \"cluster\": [1, 1, 1, 1, 1], \"Freq\": [36.57846091954791, 27.417635995146895, 18.812969894890447, 9.436338943945682, 7.754594246469071]}, \"tinfo\": {\"Term\": [\"say\", \"health\", \"vaccine\", \"dose\", \"first\", \"world\", \"also\", \"government\", \"trial\", \"na\", \"case\", \"country\", \"story\", \"ng\", \"virus\", \"pfizer\", \"clinical_trial\", \"ang\", \"new\", \"national\", \"coronavirus\", \"receive\", \"public\", \"use\", \"get\", \"datum\", \"sinovac\", \"give\", \"people\", \"study\", \"garin\", \"stat\", \"del_rosario\", \"suspension\", \"yang\", \"favorable\", \"cueni\", \"labor\", \"withdraw\", \"cognitive\", \"singapore\", \"uphold\", \"ako\", \"adminisitration\", \"slash\", \"singaporean\", \"villanueva\", \"stirring\", \"gamaleyas\", \"cnbg\", \"pause\", \"musor\", \"kirill\", \"adenoviral\", \"malaga\", \"dmitriev\", \"argentina\", \"permit\", \"newspaper\", \"confidante\", \"application\", \"dof\", \"russia\", \"roa\", \"rdif\", \"decide\", \"expressed_willingness\", \"roque\", \"trial\", \"standard\", \"sra\", \"say\", \"issue\", \"apply\", \"regulatory\", \"statement\", \"astrazeneca\", \"efficacy\", \"tayo\", \"phase\", \"add\", \"secure\", \"approval\", \"ng\", \"vaccinate\", \"vaccine\", \"early\", \"na\", \"supply\", \"effective\", \"authority\", \"dose\", \"duterte\", \"time\", \"use\", \"get\", \"receive\", \"company\", \"year\", \"country\", \"filipino\", \"government\", \"health\", \"vaccination\", \"sinovac\", \"first\", \"story\", \"develop\", \"also\", \"pfizer\", \"ndvp\", \"duly\", \"macroplan\", \"hispanic\", \"microplan\", \"araw\", \"simuluate\", \"minsan\", \"mangangapa\", \"ensayo\", \"rabindra_abeyasinghe\", \"land\", \"catholic\", \"nakakasakit\", \"avenue\", \"black\", \"tabletop\", \"inaugurate\", \"scheduled\", \"uninfected\", \"church\", \"covert\", \"ncov\", \"disclaimer\", \"standalone\", \"aktwal\", \"pattern\", \"shed\", \"deployment\", \"valneva\", \"facility\", \"abeyasinghe\", \"agreement\", \"maybe\", \"delivery\", \"fake\", \"city\", \"curve\", \"mayor\", \"deal\", \"sign\", \"inquiry\", \"pfizer\", \"government\", \"coronavirus\", \"country\", \"see\", \"local\", \"also\", \"indemnification\", \"department\", \"cebu\", \"ball\", \"official\", \"dose\", \"say\", \"covax\", \"galvez\", \"first\", \"worker\", \"still\", \"arrive\", \"vaccine\", \"duterte\", \"national\", \"rollout\", \"health\", \"fda\", \"day\", \"astrazeneca\", \"get\", \"early\", \"filipino\", \"vaccination\", \"sinovac\", \"trial\", \"add\", \"use\", \"develop\", \"story\", \"malpractice\", \"dino\", \"blanket\", \"neglect\", \"ibigay\", \"atsaka\", \"htac\", \"absolution\", \"hysteria\", \"makahanap\", \"surrender\", \"polio\", \"bahay\", \"isu\", \"mamayan\", \"bear\", \"poliovirus\", \"polished\", \"sadoff\", \"inorder\", \"dapat\", \"ame\", \"specification\", \"unfair\", \"kasama\", \"usapin\", \"secq\", \"napakahirap\", \"candy\", \"spearman\", \"dan\", \"button\", \"ultralow\", \"vico\", \"hpaac\", \"ang\", \"taguig\", \"fair\", \"sinabi\", \"resident\", \"iyong\", \"child\", \"vaccine\", \"po\", \"mayor\", \"city\", \"health\", \"manufacturer\", \"purchase\", \"national\", \"galvez\", \"part\", \"unit\", \"sinovac\", \"lgus\", \"metro\", \"vaccination\", \"expert\", \"kasi\", \"sa\", \"ng\", \"say\", \"government\", \"need\", \"dose\", \"get\", \"na\", \"use\", \"also\", \"approve\", \"receive\", \"astrazeneca\", \"country\", \"filipino\", \"add\", \"first\", \"include\", \"early\", \"give\", \"trial\", \"supply\", \"duterte\", \"people\", \"dolly\", \"bbibp\", \"parton\", \"corv\", \"kjrdzlqc\", \"jcb\", \"immaculate\", \"commemoration\", \"squat\", \"sexy\", \"isabelle\", \"tennessee\", \"hesitate\", \"instagram\", \"song\", \"guian\", \"singer\", \"de\", \"conception\", \"tiktok\", \"captioning\", \"vanderbilt\", \"iconic\", \"beg\", \"bite\", \"feast\", \"burn\", \"greenback\", \"jolene\", \"dumalagan\", \"memory\", \"researcher\", \"antibody\", \"indonesia\", \"survivor\", \"cell\", \"release\", \"virus\", \"overseas\", \"support\", \"new\", \"datum\", \"reuters\", \"milk\", \"development\", \"pfizer\", \"case\", \"also\", \"paper\", \"moderna\", \"patient\", \"study\", \"possible\", \"dose\", \"start\", \"health\", \"say\", \"clinical_trial\", \"first\", \"vaccine\", \"phase\", \"doh\", \"early\", \"get\", \"country\", \"trial\", \"story\", \"year\", \"develop\", \"china\", \"government\", \"day\", \"receive\", \"astrazeneca\", \"use\", \"vaccination\", \"sinovac\", \"shakespeare\", \"handshake\", \"corona\", \"gentleman\", \"grandma\", \"birthplace\", \"dramatist\", \"mile\", \"stratford\", \"namesake\", \"warwickshire\", \"mayora\", \"joke\", \"poet\", \"inspire\", \"portal\", \"amjg\", \"bright\", \"lapitan\", \"milyon\", \"binay\", \"parson\", \"abby\", \"coventry\", \"taxi\", \"madala\", \"transpo\", \"parsons\", \"lady\", \"mayoral\", \"zone\", \"nhs\", \"neda\", \"collection\", \"outside\", \"keenan\", \"world\", \"philsys\", \"biazon\", \"st\", \"bangsamoro\", \"hindi\", \"say\", \"first\", \"mga\", \"health\", \"patient\", \"clinical_trial\", \"na\", \"public\", \"ng\", \"vergeire\", \"sa\", \"guideline\", \"nurse\", \"registration\", \"story\", \"chief\", \"case\", \"people\", \"dose\", \"trial\", \"uk\", \"government\", \"accord\", \"coronavirus\", \"receive\", \"give\", \"report\", \"vaccine\", \"use\", \"make\", \"national\", \"ang\", \"country\", \"sinovac\", \"also\", \"filipino\", \"astrazeneca\", \"get\", \"early\", \"vaccination\", \"worker\"], \"Freq\": [2212.0, 661.0, 1365.0, 838.0, 424.0, 175.0, 388.0, 688.0, 431.0, 218.0, 226.0, 540.0, 255.0, 243.0, 137.0, 285.0, 161.0, 184.0, 140.0, 184.0, 211.0, 281.0, 210.0, 321.0, 404.0, 158.0, 321.0, 214.0, 213.0, 155.0, 5.66504551986706, 2.4080099502088768, 3.5050544954903478, 1.3193154436642573, 3.933617895164819, 3.90273399095516, 5.93968117388172, 4.544057865265155, 3.8007242024961436, 1.2619608070905592, 21.03343171489472, 4.393081181749076, 9.39227225130288, 1.2404778041510196, 1.233763840659733, 1.7613304370118728, 4.960681368320043, 1.2264304450853676, 1.2294433889654837, 4.252137945596554, 6.053246454531655, 1.7321900814608036, 1.798417268121618, 1.2108210844420415, 1.8155689593270792, 1.7755130343093577, 1.2038148219542244, 7.948245950074713, 4.25127119147435, 1.1909751812801261, 52.674071696097506, 6.291550562470717, 56.68052972255337, 5.89925149956875, 7.466992096026702, 18.68362235738094, 5.409371495393896, 65.93263451337907, 212.9346516426167, 18.764025994146884, 4.726665541768566, 979.0935871282614, 65.4224667253651, 34.974337801452606, 39.46402416014125, 50.27629948494482, 213.11443161063633, 79.3299730667884, 21.86936463425127, 84.0854279594245, 134.8616105697588, 90.85268351030983, 88.7052643139269, 110.96477567412988, 110.04983739936198, 521.7504491558453, 166.4838433981706, 100.31993675509497, 111.30604156571749, 86.2751463962223, 35.8405640847398, 313.024844050222, 136.70330284262857, 57.73938114700742, 133.56182854697835, 159.14760372280853, 115.59952921541631, 93.2571438667459, 87.74373851735656, 192.06475327615738, 116.88159421020094, 225.3218573200579, 207.7549454008375, 119.67832740151827, 116.8445471309351, 138.34132142060358, 100.14614988980968, 93.14234382005806, 110.16092618111806, 90.12376747249272, 1.9811794390072528, 2.197920249418731, 1.0860456700262124, 2.0922138455031143, 1.0459451935293893, 1.0572445062369342, 1.048532937878575, 1.0436703867777029, 1.0154560097816743, 0.9922838062277572, 2.055204731702569, 2.096525549637885, 3.0377899298319284, 0.9857073554211211, 1.5354567744931606, 1.945131638788424, 0.9672419637170999, 0.9643659328057027, 1.0013085425671229, 1.4020591945267329, 4.977077506983618, 0.991821272939478, 1.419437483254018, 0.9752412630652, 0.9517565826807984, 0.9486984720040832, 1.4172182757221081, 1.427186816496631, 8.059413470264918, 1.9689717241301818, 35.26882013146595, 11.901489119086035, 58.081591624318136, 6.7269096676236755, 47.54094777977093, 2.3443782704174763, 79.16460442511567, 2.8567665496897225, 31.083765490141694, 62.2370809965537, 59.21923644207708, 6.626143607639916, 108.7785255957157, 246.64662195670095, 79.93559665551103, 187.18735907517836, 40.1641465116294, 39.40682493138284, 134.20010586259866, 16.250786927410328, 64.7743222091457, 14.875904846534981, 9.456317757019937, 76.35832933925529, 253.34609079835184, 595.9636355383295, 26.347788316925907, 88.48924602773617, 134.73862577516587, 75.98687494524228, 62.77966057369865, 66.35632336363108, 364.16811196080295, 104.00912745503202, 63.619003597414014, 52.22280264508136, 177.27757039552475, 64.492509730669, 58.699196358580345, 127.7143739376013, 106.7463538391341, 101.0901598157788, 83.19422453604936, 87.08604704920403, 83.5485359396906, 88.51639564895568, 72.17964679856664, 72.7496954620613, 64.4623964560108, 64.52490840972023, 2.199336805019685, 3.713562569176783, 2.45974307590824, 1.4887914290921291, 0.8607344911096888, 0.8576283642252784, 9.962706883865328, 0.8413061672460547, 1.1909030745068199, 1.1719895666586009, 0.8346950232790052, 12.089906846785581, 1.1824258410443844, 0.8268903703304656, 0.8203031492365993, 1.246025800579083, 4.6374373739560255, 0.8039640903203301, 1.206844771337905, 1.191732049486811, 5.840219577724176, 1.1719367677182277, 0.7706207163778002, 1.1407419734101463, 2.3018828859350986, 0.7628836692581017, 0.7296858876032475, 0.7271604963693892, 0.7565472694777847, 1.1556624691789232, 2.6689885436075467, 1.144101292818003, 2.689407084724168, 1.5539895840974056, 3.6859266974563325, 62.955997943452935, 4.882195556492297, 4.22161779093382, 2.4302209857550556, 19.987398248309304, 13.23464942014684, 21.008953411295316, 334.5610113456887, 57.14992041585815, 23.209238911048015, 52.11640625786945, 161.40434993488915, 32.55463702445847, 34.006109192933444, 50.50193986113946, 67.64664484594921, 26.980849541600215, 15.395258782031867, 77.73002249608578, 18.393548942004646, 17.776467807699888, 77.16715080318806, 36.129846557081436, 13.842002902970146, 34.382508096434215, 57.46908316025224, 350.0395411176253, 133.93547209416067, 53.89548562881081, 149.40517970063507, 82.38459159807987, 50.630262574441865, 67.73551399895295, 77.92109522190869, 41.82732983771686, 56.996692621539786, 80.79636574777982, 88.29325715065846, 57.97196682591747, 57.22970435718185, 69.97059747818611, 38.35311319083322, 62.31150773048098, 44.33116561435337, 60.82918833437528, 46.874276214755874, 51.03018050773347, 42.68410846570216, 2.320393111663858, 2.674038988206856, 1.2280256190271195, 1.6201242317412774, 0.7301769864975834, 0.7130514648030856, 0.7067964474803685, 0.7057550899103734, 0.7032840594044347, 0.6999951667501221, 0.6979483969475733, 0.696899586006138, 0.6909308098631938, 0.6911267119522497, 0.6855894913017644, 0.6801270686696315, 0.6834127368157323, 0.6809790260277843, 0.6732055825021175, 0.6723196885165567, 0.6630664071648993, 0.6621808832048709, 0.6544999460623254, 1.0149051847288182, 0.6439850362272633, 0.6413650968748943, 0.6414123544214717, 0.6368637362722072, 0.637539138590574, 0.6248668213187498, 2.5937392187942554, 15.905588533866208, 14.005031677439531, 8.31265953262612, 3.67929538715058, 9.92711095578965, 11.472179419964712, 25.366822543235205, 2.8008048724437047, 5.939462085931277, 23.376545278782007, 24.761316990739022, 10.150295133077334, 1.576727531569787, 15.597111568352144, 35.05495198026114, 29.44876153072472, 43.51989795237806, 3.47258242069438, 19.805441128466985, 11.834503346738725, 21.621276093203118, 14.793608947956669, 72.16071993940805, 23.28792691251281, 58.73060813827893, 139.3569439017393, 20.61845192494521, 39.72863749084689, 86.72474897733039, 21.564863057736172, 22.95372323466241, 35.367945371703144, 36.170708786806294, 43.23639157845509, 37.469538157145045, 26.251905009942522, 22.885444008976556, 24.058539126263028, 19.277748350918774, 41.994614647703415, 20.479244513647227, 23.91275836996281, 27.405831535987275, 23.56596282896351, 21.425589676171825, 20.996360058488545, 1.658215906989618, 1.3866652946249227, 2.0475887506692616, 0.6420445892135866, 0.9552749100620109, 0.6276561956765492, 0.623993166326056, 0.623408290997857, 0.6224566522712637, 0.619548782806793, 0.6157228971279116, 0.9420328530546704, 0.6121510047678047, 0.6076806007255479, 0.5988759334074167, 0.5806753377720374, 0.566077607172716, 0.5557705261512959, 0.5551498563140034, 0.5558025413857642, 0.5553398626037792, 2.819560935341724, 0.5525758662146943, 1.3767051249501303, 0.5454273031012762, 0.5453235685288059, 0.8069837323195524, 1.363313895194941, 0.5333829720705474, 0.5311600635519353, 1.094443179498936, 2.2581963442662256, 2.227617407915141, 1.2456470050990691, 2.1124494437053336, 1.473895905126826, 29.69176631552472, 1.2102658704576008, 1.5902909607114821, 1.001795695580831, 1.41252022457442, 13.759004782864869, 148.27231646880264, 41.6561233774313, 14.797871252924187, 56.310476024865544, 10.288326783772298, 18.727856747276363, 23.29199722582261, 22.10866411706163, 24.122160161657035, 7.6637079577467615, 15.172541762633275, 5.199153488400039, 6.08617304801381, 3.9952611256781294, 23.43452748583816, 9.393745547232635, 21.284133777376603, 20.370331236973197, 50.43880869674484, 32.06053155086149, 8.166387972442605, 40.769887474303026, 14.9886177592473, 18.717874596992832, 22.418743261351608, 18.659282808321215, 15.35896651638272, 58.05570230187029, 23.438517009764315, 17.11655892748053, 16.78734396912522, 16.575660107618912, 29.943787461103938, 21.888069855427556, 22.317770773913203, 19.142038834712665, 22.099746766543753, 20.031897281169012, 19.535597724598972, 18.588580659912775, 16.741474174520572], \"Total\": [2212.0, 661.0, 1365.0, 838.0, 424.0, 175.0, 388.0, 688.0, 431.0, 218.0, 226.0, 540.0, 255.0, 243.0, 137.0, 285.0, 161.0, 184.0, 140.0, 184.0, 211.0, 281.0, 210.0, 321.0, 404.0, 158.0, 321.0, 214.0, 213.0, 155.0, 7.0629135211710645, 3.0596898231488017, 5.0290330227849775, 1.9587423568740867, 5.910173486390366, 5.894483093270278, 8.984424324286708, 6.917777520986473, 5.826518468605803, 1.9467653592004979, 32.96618669610753, 6.8878946035745034, 14.77951190193724, 1.953570184346995, 1.9462436749636116, 2.781476689742492, 7.84368442668051, 1.946116102497684, 1.9525795484965403, 6.774912293316115, 9.676836195401506, 2.770673889216428, 2.8801390772451536, 1.942041759447854, 2.923640693399444, 2.869476804132262, 1.9490526544791, 12.880823664843005, 6.921837184229368, 1.9410132639261803, 86.65104705657707, 10.318639963112537, 96.14593920411323, 9.678587946985418, 12.360843644798159, 31.873874188924457, 8.917184277211762, 119.80702659731101, 431.81030533395415, 33.637145191670484, 7.914073452099016, 2212.7260241547583, 128.13127458517465, 65.83458470952934, 75.06084215194332, 97.73739357800243, 471.13074959854845, 161.64185510233762, 40.1723836362181, 176.0366215878909, 298.04303280065045, 194.4853682854364, 189.39739677622813, 243.47633043902954, 242.18088814303, 1365.2600237415377, 384.7890540407324, 218.86618442857971, 247.55458520629426, 189.04938631420114, 70.1818504522717, 838.3756431853617, 325.09729785399566, 120.97478145574455, 321.05151784672046, 404.48115522799776, 281.651703727198, 219.47746336578354, 204.53198756137664, 540.7255485415533, 292.5027276100137, 688.6684534929259, 661.4779498943959, 323.94569558999495, 321.0075354806276, 424.4353055422338, 255.70280192826215, 229.19448027402984, 388.11979599191665, 285.27558529214144, 2.860657764347261, 3.6653929843158823, 1.8543849894255677, 3.6638159747189007, 1.8373286835327514, 1.8580191375442765, 1.8564933749215677, 1.8552843561435248, 1.848896956588048, 1.8448214712249686, 3.82199834181851, 3.903545422476535, 5.663029187298859, 1.8424148836759349, 2.875452330090747, 3.655566326580032, 1.8390366693253355, 1.8377892609371602, 1.9084209830626202, 2.6913901792743005, 9.561207055943603, 1.9054870577540135, 2.729062497891161, 1.8776409645457963, 1.8354357208097285, 1.834486808582979, 2.753402378755676, 2.7785023886845166, 15.70939505864449, 3.848211217394944, 71.93364793510189, 23.765983033010748, 119.9771482703491, 13.45477080884234, 102.4806550354469, 4.61930534008953, 180.30055980268997, 5.697696761856809, 72.07406494438843, 154.69354650046958, 147.2276449391241, 14.068435917643972, 285.27558529214144, 688.6684534929259, 211.1426850715039, 540.7255485415533, 102.12328818803856, 100.21296334133329, 388.11979599191665, 38.194157856246115, 177.91747185988362, 34.795271448378564, 21.14137723759679, 217.30791409740408, 838.3756431853617, 2212.7260241547583, 66.57784392709294, 260.42934749839003, 424.4353055422338, 223.67663855722753, 180.55938026266944, 192.48421056726042, 1365.2600237415377, 325.09729785399566, 184.34225634718098, 147.21304600168364, 661.4779498943959, 194.34180500068535, 175.681627109193, 471.13074959854845, 404.48115522799776, 384.7890540407324, 292.5027276100137, 323.94569558999495, 321.0075354806276, 431.81030533395415, 298.04303280065045, 321.05151784672046, 229.19448027402984, 255.70280192826215, 3.465621423189862, 6.1326363023811075, 4.289596293564727, 2.603998426848531, 1.7190079788301837, 1.720603161756769, 20.280218872539844, 1.722149908497439, 2.456910056255994, 2.420900071367027, 1.7254149382428174, 25.061371402218924, 2.4621739111621777, 1.7292472621649675, 1.7259137221188359, 2.6476978953675205, 9.928642105041048, 1.7349781335576706, 2.661270056827874, 2.6449009516821596, 13.014587409101319, 2.6232681048114475, 1.7440831824328948, 2.58570455014728, 5.246515996345227, 1.7388205821619735, 1.6658061532501662, 1.6611885915635813, 1.7288470257964632, 2.641045961839201, 6.116962050048446, 2.621541470413074, 6.339134158197735, 3.6066387945122393, 8.800795558414617, 184.02174435675556, 12.150110577389043, 10.444215516706022, 5.814892634499648, 57.128459667387375, 36.496209509677314, 61.08105828505215, 1365.2600237415377, 193.18955094514303, 72.07406494438843, 180.30055980268997, 661.4779498943959, 107.88364025758982, 116.89660693392157, 184.34225634718098, 260.42934749839003, 90.21950863744888, 47.32970687708632, 321.0075354806276, 59.859756726359336, 57.589505445215856, 323.94569558999495, 135.4287347074586, 43.0812653454982, 128.94533963120602, 243.47633043902954, 2212.7260241547583, 688.6684534929259, 228.33717031787572, 838.3756431853617, 404.48115522799776, 218.86618442857971, 321.05151784672046, 388.11979599191665, 175.68964374729217, 281.651703727198, 471.13074959854845, 540.7255485415533, 292.5027276100137, 298.04303280065045, 424.4353055422338, 164.6189981549779, 384.7890540407324, 214.58344304858383, 431.81030533395415, 247.55458520629426, 325.09729785399566, 213.20525582999855, 3.8611708755568253, 4.860880778707981, 2.3572984941093633, 3.269758223244377, 1.596537275756769, 1.6016300793617748, 1.5974092651241514, 1.6002955575119224, 1.602022325338074, 1.6062777931858907, 1.608903127782773, 1.606571832137546, 1.605901167279307, 1.6079007539256092, 1.6088911517039721, 1.6009175118911283, 1.6097861818514396, 1.610611100670876, 1.6026462119386111, 1.6074619926496097, 1.6094397131581428, 1.6131332250140398, 1.6176151026905552, 2.520580553140345, 1.606275510795052, 1.6092579881834583, 1.6160489259086754, 1.6053867969207931, 1.6171953119007467, 1.6107619259112387, 7.67943648748304, 57.52193204485864, 59.79125823647607, 33.35493946875409, 12.648800697456664, 42.57989735173426, 51.81354324688783, 137.04575224975235, 9.503006723420151, 24.649759561652708, 140.14779550523787, 158.48572923574775, 51.77568046898978, 4.74965754724762, 94.81181741406928, 285.27558529214144, 226.40713042814434, 388.11979599191665, 13.469178665351023, 137.2848060677258, 69.64284644128517, 155.8371386424086, 95.22710574391667, 838.3756431853617, 186.2784752624841, 661.4779498943959, 2212.7260241547583, 161.1656868506863, 424.4353055422338, 1365.2600237415377, 176.0366215878909, 193.28546605009106, 384.7890540407324, 404.48115522799776, 540.7255485415533, 431.81030533395415, 255.70280192826215, 204.53198756137664, 229.19448027402984, 156.4072390292859, 688.6684534929259, 175.681627109193, 281.651703727198, 471.13074959854845, 321.05151784672046, 323.94569558999495, 321.0075354806276, 2.605920622515711, 2.8541643847383353, 4.288317178755973, 1.434336751827027, 2.1631381086793677, 1.437791983839224, 1.4390543593558192, 1.4391422632462807, 1.4393531438248424, 1.4402373319472677, 1.4412155245795417, 2.206292460706872, 1.4420837212827398, 1.44293716945998, 1.4453879857615821, 1.49590026232597, 1.5044223908905396, 1.5041874704232332, 1.507789566874788, 1.5098514940610686, 1.5140439183454293, 7.710761976082841, 1.5163805534311492, 3.816046502565099, 1.5133259639850951, 1.5202765546905432, 2.2843589348515265, 3.8592003668820776, 1.5188337686048252, 1.5212918135624787, 3.149149096920329, 7.210872896150651, 7.136474004756853, 3.80131532752411, 7.070589225052222, 4.760667102348802, 175.08561216194587, 3.859517716817311, 5.442221240408395, 3.094143065937729, 4.783738622703132, 94.8264392156362, 2212.7260241547583, 424.4353055422338, 108.18645350322318, 661.4779498943959, 69.64284644128517, 161.1656868506863, 218.86618442857971, 210.31667577444895, 243.47633043902954, 48.75816758137066, 128.94533963120602, 28.788824858824356, 36.26441785283531, 20.08567547250276, 255.70280192826215, 68.4942622803863, 226.40713042814434, 213.20525582999855, 838.3756431853617, 431.81030533395415, 57.658380823268686, 688.6684534929259, 149.13966830354084, 211.1426850715039, 281.651703727198, 214.58344304858383, 158.34093029739645, 1365.2600237415377, 321.05151784672046, 190.2974244433081, 184.34225634718098, 184.02174435675556, 540.7255485415533, 321.0075354806276, 388.11979599191665, 292.5027276100137, 471.13074959854845, 404.48115522799776, 384.7890540407324, 323.94569558999495, 223.67663855722753], \"Category\": [\"Default\", \"Default\", \"Default\", \"Default\", \"Default\", \"Default\", \"Default\", \"Default\", \"Default\", \"Default\", \"Default\", \"Default\", \"Default\", \"Default\", \"Default\", \"Default\", \"Default\", \"Default\", \"Default\", \"Default\", \"Default\", \"Default\", \"Default\", \"Default\", \"Default\", \"Default\", \"Default\", \"Default\", \"Default\", \"Default\", \"Topic1\", \"Topic1\", \"Topic1\", \"Topic1\", \"Topic1\", \"Topic1\", \"Topic1\", \"Topic1\", \"Topic1\", \"Topic1\", \"Topic1\", \"Topic1\", \"Topic1\", \"Topic1\", \"Topic1\", \"Topic1\", \"Topic1\", \"Topic1\", \"Topic1\", \"Topic1\", \"Topic1\", \"Topic1\", \"Topic1\", \"Topic1\", \"Topic1\", \"Topic1\", \"Topic1\", \"Topic1\", \"Topic1\", \"Topic1\", \"Topic1\", \"Topic1\", \"Topic1\", \"Topic1\", \"Topic1\", \"Topic1\", \"Topic1\", \"Topic1\", \"Topic1\", \"Topic1\", \"Topic1\", \"Topic1\", \"Topic1\", \"Topic1\", \"Topic1\", \"Topic1\", \"Topic1\", \"Topic1\", \"Topic1\", \"Topic1\", \"Topic1\", \"Topic1\", \"Topic1\", \"Topic1\", \"Topic1\", \"Topic1\", \"Topic1\", \"Topic1\", \"Topic1\", \"Topic1\", \"Topic1\", \"Topic1\", \"Topic1\", \"Topic1\", \"Topic1\", \"Topic1\", \"Topic1\", \"Topic1\", \"Topic1\", \"Topic1\", \"Topic1\", \"Topic1\", \"Topic1\", \"Topic1\", \"Topic1\", \"Topic1\", \"Topic1\", \"Topic1\", \"Topic1\", \"Topic1\", \"Topic2\", \"Topic2\", \"Topic2\", \"Topic2\", \"Topic2\", \"Topic2\", \"Topic2\", \"Topic2\", \"Topic2\", \"Topic2\", \"Topic2\", \"Topic2\", \"Topic2\", \"Topic2\", \"Topic2\", \"Topic2\", \"Topic2\", \"Topic2\", \"Topic2\", \"Topic2\", \"Topic2\", \"Topic2\", \"Topic2\", \"Topic2\", \"Topic2\", \"Topic2\", \"Topic2\", \"Topic2\", \"Topic2\", \"Topic2\", \"Topic2\", \"Topic2\", \"Topic2\", \"Topic2\", \"Topic2\", \"Topic2\", \"Topic2\", \"Topic2\", \"Topic2\", \"Topic2\", \"Topic2\", \"Topic2\", \"Topic2\", \"Topic2\", \"Topic2\", \"Topic2\", \"Topic2\", \"Topic2\", \"Topic2\", \"Topic2\", \"Topic2\", \"Topic2\", \"Topic2\", \"Topic2\", \"Topic2\", \"Topic2\", \"Topic2\", \"Topic2\", \"Topic2\", \"Topic2\", \"Topic2\", \"Topic2\", \"Topic2\", \"Topic2\", \"Topic2\", \"Topic2\", \"Topic2\", \"Topic2\", \"Topic2\", \"Topic2\", \"Topic2\", \"Topic2\", \"Topic2\", \"Topic2\", \"Topic2\", \"Topic2\", \"Topic2\", \"Topic2\", \"Topic2\", \"Topic2\", \"Topic3\", \"Topic3\", \"Topic3\", \"Topic3\", \"Topic3\", \"Topic3\", \"Topic3\", \"Topic3\", \"Topic3\", \"Topic3\", \"Topic3\", \"Topic3\", \"Topic3\", \"Topic3\", \"Topic3\", \"Topic3\", \"Topic3\", \"Topic3\", \"Topic3\", \"Topic3\", \"Topic3\", \"Topic3\", \"Topic3\", \"Topic3\", \"Topic3\", \"Topic3\", \"Topic3\", \"Topic3\", \"Topic3\", \"Topic3\", \"Topic3\", \"Topic3\", \"Topic3\", \"Topic3\", \"Topic3\", \"Topic3\", \"Topic3\", \"Topic3\", \"Topic3\", \"Topic3\", \"Topic3\", \"Topic3\", \"Topic3\", \"Topic3\", \"Topic3\", \"Topic3\", \"Topic3\", \"Topic3\", \"Topic3\", \"Topic3\", \"Topic3\", \"Topic3\", \"Topic3\", \"Topic3\", \"Topic3\", \"Topic3\", \"Topic3\", \"Topic3\", \"Topic3\", \"Topic3\", \"Topic3\", \"Topic3\", \"Topic3\", \"Topic3\", \"Topic3\", \"Topic3\", \"Topic3\", \"Topic3\", \"Topic3\", \"Topic3\", \"Topic3\", \"Topic3\", \"Topic3\", \"Topic3\", \"Topic3\", \"Topic3\", \"Topic3\", \"Topic3\", \"Topic3\", \"Topic3\", \"Topic3\", \"Topic3\", \"Topic3\", \"Topic4\", \"Topic4\", \"Topic4\", \"Topic4\", \"Topic4\", \"Topic4\", \"Topic4\", \"Topic4\", \"Topic4\", \"Topic4\", \"Topic4\", \"Topic4\", \"Topic4\", \"Topic4\", \"Topic4\", \"Topic4\", \"Topic4\", \"Topic4\", \"Topic4\", \"Topic4\", \"Topic4\", \"Topic4\", \"Topic4\", \"Topic4\", \"Topic4\", \"Topic4\", \"Topic4\", \"Topic4\", \"Topic4\", \"Topic4\", \"Topic4\", \"Topic4\", \"Topic4\", \"Topic4\", \"Topic4\", \"Topic4\", \"Topic4\", \"Topic4\", \"Topic4\", \"Topic4\", \"Topic4\", \"Topic4\", \"Topic4\", \"Topic4\", \"Topic4\", \"Topic4\", \"Topic4\", \"Topic4\", \"Topic4\", \"Topic4\", \"Topic4\", \"Topic4\", \"Topic4\", \"Topic4\", \"Topic4\", \"Topic4\", \"Topic4\", \"Topic4\", \"Topic4\", \"Topic4\", \"Topic4\", \"Topic4\", \"Topic4\", \"Topic4\", \"Topic4\", \"Topic4\", \"Topic4\", \"Topic4\", \"Topic4\", \"Topic4\", \"Topic4\", \"Topic4\", \"Topic4\", \"Topic4\", \"Topic4\", \"Topic4\", \"Topic4\", \"Topic5\", \"Topic5\", \"Topic5\", \"Topic5\", \"Topic5\", \"Topic5\", \"Topic5\", \"Topic5\", \"Topic5\", \"Topic5\", \"Topic5\", \"Topic5\", \"Topic5\", \"Topic5\", \"Topic5\", \"Topic5\", \"Topic5\", \"Topic5\", \"Topic5\", \"Topic5\", \"Topic5\", \"Topic5\", \"Topic5\", \"Topic5\", \"Topic5\", \"Topic5\", \"Topic5\", \"Topic5\", \"Topic5\", \"Topic5\", \"Topic5\", \"Topic5\", \"Topic5\", \"Topic5\", \"Topic5\", \"Topic5\", \"Topic5\", \"Topic5\", \"Topic5\", \"Topic5\", \"Topic5\", \"Topic5\", \"Topic5\", \"Topic5\", \"Topic5\", \"Topic5\", \"Topic5\", \"Topic5\", \"Topic5\", \"Topic5\", \"Topic5\", \"Topic5\", \"Topic5\", \"Topic5\", \"Topic5\", \"Topic5\", \"Topic5\", \"Topic5\", \"Topic5\", \"Topic5\", \"Topic5\", \"Topic5\", \"Topic5\", \"Topic5\", \"Topic5\", \"Topic5\", \"Topic5\", \"Topic5\", \"Topic5\", \"Topic5\", \"Topic5\", \"Topic5\", \"Topic5\", \"Topic5\", \"Topic5\", \"Topic5\", \"Topic5\", \"Topic5\", \"Topic5\", \"Topic5\", \"Topic5\", \"Topic5\", \"Topic5\"], \"logprob\": [30.0, 29.0, 28.0, 27.0, 26.0, 25.0, 24.0, 23.0, 22.0, 21.0, 20.0, 19.0, 18.0, 17.0, 16.0, 15.0, 14.0, 13.0, 12.0, 11.0, 10.0, 9.0, 8.0, 7.0, 6.0, 5.0, 4.0, 3.0, 2.0, 1.0, -8.51140022277832, -9.366900444030762, -8.991499900817871, -9.968600273132324, -8.876199722290039, -8.884099960327148, -8.464099884033203, -8.731900215148926, -8.910499572753906, -10.013099670410156, -7.1996002197265625, -8.765700340270996, -8.005800247192383, -10.030200004577637, -10.035699844360352, -9.679699897766113, -8.644200325012207, -10.041600227355957, -10.039199829101562, -8.798299789428711, -8.445099830627441, -9.69629955291748, -9.65880012512207, -10.054400444030762, -9.649299621582031, -9.671600341796875, -10.060199737548828, -8.172800064086914, -8.798500061035156, -10.071000099182129, -6.281599998474121, -8.406499862670898, -6.2083001136779785, -8.47089958190918, -8.235199928283691, -7.3180999755859375, -8.557600021362305, -6.05709981918335, -4.884699821472168, -7.313799858093262, -8.692500114440918, -3.359100103378296, -6.064899921417236, -6.691100120544434, -6.570300102233887, -6.328199863433838, -4.883900165557861, -5.872099876403809, -7.160600185394287, -5.813899993896484, -5.3414998054504395, -5.736499786376953, -5.76039981842041, -5.536499977111816, -5.5447998046875, -3.9885001182556152, -5.130799770355225, -5.637400150299072, -5.533400058746338, -5.7881999015808105, -6.6666998863220215, -4.499499797821045, -5.327899932861328, -6.189799785614014, -5.351200103759766, -5.175899982452393, -5.49560022354126, -5.710400104522705, -5.771299839019775, -4.9878997802734375, -5.484600067138672, -4.828199863433838, -4.90939998626709, -5.460899829864502, -5.484899997711182, -5.315999984741211, -5.639100074768066, -5.711599826812744, -5.543799877166748, -5.744500160217285, -9.273799896240234, -9.169899940490723, -9.874899864196777, -9.219200134277344, -9.912500381469727, -9.901800155639648, -9.910099983215332, -9.91469955444336, -9.942099571228027, -9.965200424194336, -9.237099647521973, -9.21720027923584, -8.84630012512207, -9.97189998626709, -9.528599739074707, -9.292099952697754, -9.990799903869629, -9.99370002746582, -9.956199645996094, -9.619500160217285, -8.35260009765625, -9.965700149536133, -9.607199668884277, -9.982500076293945, -10.0068998336792, -10.010100364685059, -9.608799934387207, -9.601799964904785, -7.87060022354126, -9.279899597167969, -6.394499778747559, -7.480800151824951, -5.895599842071533, -8.051300048828125, -6.095900058746338, -9.105400085449219, -5.585899829864502, -8.90779972076416, -6.5208001136779785, -5.826499938964844, -5.876200199127197, -8.066399574279785, -5.268099784851074, -4.44950008392334, -5.576200008392334, -4.725399971008301, -6.264500141143799, -6.2835001945495605, -5.05810022354126, -7.169300079345703, -5.786600112915039, -7.257699966430664, -7.7108001708984375, -5.622000217437744, -4.422699928283691, -3.5673000812530518, -6.686100006103516, -5.474599838256836, -5.054100036621094, -5.6269001960754395, -5.817800045013428, -5.762400150299072, -4.059800148010254, -5.313000202178955, -5.804500102996826, -6.0019001960754395, -4.779699802398682, -5.790900230407715, -5.885000228881836, -5.107699871063232, -5.2870001792907715, -5.341400146484375, -5.536300182342529, -5.490600109100342, -5.5320000648498535, -5.474299907684326, -5.678299903869629, -5.670400142669678, -5.791399955749512, -5.79040002822876, -8.792699813842773, -8.268799781799316, -8.680800437927246, -9.182900428771973, -9.730799674987793, -9.734399795532227, -7.2820000648498535, -9.753600120544434, -9.406100273132324, -9.422100067138672, -9.761500358581543, -7.088399887084961, -9.413299560546875, -9.770899772644043, -9.778900146484375, -9.360899925231934, -8.046699523925781, -9.798999786376953, -9.392800331115723, -9.405400276184082, -7.816100120544434, -9.422200202941895, -9.841400146484375, -9.44909954071045, -8.747099876403809, -9.851499557495117, -9.895999908447266, -9.899399757385254, -9.859800338745117, -9.436100006103516, -8.599100112915039, -9.446200370788574, -8.591500282287598, -9.140000343322754, -8.276300430297852, -5.438399791717529, -7.995200157165527, -8.140600204467773, -8.69279956817627, -6.585700035095215, -6.998000144958496, -6.535900115966797, -3.7679998874664307, -5.535099983215332, -6.436299800872803, -5.627299785614014, -4.4969000816345215, -6.097899913787842, -6.054299831390381, -5.65880012512207, -5.366499900817871, -6.285699844360352, -6.846799850463867, -5.22760009765625, -6.668799877166748, -6.702899932861328, -5.234799861907959, -5.99370002746582, -6.953100204467773, -6.043300151824951, -5.529600143432617, -3.7228000164031982, -4.683499813079834, -5.593800067901611, -4.57420015335083, -5.169400215148926, -5.656300067901611, -5.365200042724609, -5.225100040435791, -5.847300052642822, -5.537799835205078, -5.188899993896484, -5.100200176239014, -5.520899772644043, -5.533699989318848, -5.332699775695801, -5.934000015258789, -5.448699951171875, -5.789100170135498, -5.472799777984619, -5.733399868011475, -5.648399829864502, -5.827000141143799, -8.049099922180176, -7.907299995422363, -8.685400009155273, -8.408300399780273, -9.205300331115723, -9.229000091552734, -9.237899780273438, -9.239299774169922, -9.242799758911133, -9.2475004196167, -9.250499725341797, -9.251999855041504, -9.260600090026855, -9.260299682617188, -9.26830005645752, -9.276300430297852, -9.271499633789062, -9.275099754333496, -9.286499977111816, -9.2878999710083, -9.3016996383667, -9.303099632263184, -9.31470012664795, -8.87600040435791, -9.330900192260742, -9.335000038146973, -9.33489990234375, -9.342000007629395, -9.340999603271484, -9.361100196838379, -7.937699794769287, -6.124199867248535, -6.251399993896484, -6.773099899291992, -7.588099956512451, -6.595600128173828, -6.450900077819824, -5.657400131225586, -7.860899925231934, -7.1092000007629395, -5.739099979400635, -5.681600093841553, -6.573299884796143, -8.435500144958496, -6.143799781799316, -5.333899974822998, -5.508200168609619, -5.117599964141846, -7.645899772644043, -5.904900074005127, -6.4197998046875, -5.817200183868408, -6.196599960327148, -4.6118998527526855, -5.7428998947143555, -4.81790018081665, -3.9537999629974365, -5.864699840545654, -5.208799839019775, -4.428100109100342, -5.819799900054932, -5.757400035858154, -5.324999809265137, -5.302599906921387, -5.124199867248535, -5.267300128936768, -5.6230998039245605, -5.760300159454346, -5.710400104522705, -5.9319000244140625, -5.153299808502197, -5.871399879455566, -5.716400146484375, -5.580100059509277, -5.730999946594238, -5.826300144195557, -5.846499919891357, -8.188799858093262, -8.36769962310791, -7.97790002822876, -9.137700080871582, -8.740300178527832, -9.160300254821777, -9.166199684143066, -9.167099952697754, -9.168600082397461, -9.173299789428711, -9.179499626159668, -8.754300117492676, -9.18529987335205, -9.192700386047363, -9.207300186157227, -9.238100051879883, -9.26360034942627, -9.281999588012695, -9.283100128173828, -9.281900405883789, -9.282699584960938, -7.6579999923706055, -9.287699699401855, -8.374899864196777, -9.300700187683105, -9.30090045928955, -8.909000396728516, -8.384599685668945, -9.323100090026855, -9.327300071716309, -8.604299545288086, -7.880000114440918, -7.893599987030029, -8.474900245666504, -7.946700096130371, -8.306599617004395, -5.303699970245361, -8.503700256347656, -8.230600357055664, -8.69279956817627, -8.349200248718262, -6.07289981842041, -3.695499897003174, -4.965099811553955, -6.000100135803223, -4.663700103759766, -6.363500118255615, -5.764500141143799, -5.54640007019043, -5.598599910736084, -5.51140022277832, -6.658100128173828, -5.975100040435791, -7.04610013961792, -6.888500213623047, -7.3094000816345215, -5.540299892425537, -6.454500198364258, -5.636600017547607, -5.680500030517578, -4.773799896240234, -5.226900100708008, -6.5945000648498535, -4.986599922180176, -5.987299919128418, -5.765100002288818, -5.584700107574463, -5.768199920654297, -5.962900161743164, -4.633200168609619, -5.540200233459473, -5.854499816894531, -5.873899936676025, -5.886600017547607, -5.295199871063232, -5.60860013961792, -5.589200019836426, -5.742700099945068, -5.598999977111816, -5.697199821472168, -5.722300052642822, -5.771999835968018, -5.876699924468994], \"loglift\": [30.0, 29.0, 28.0, 27.0, 26.0, 25.0, 24.0, 23.0, 22.0, 21.0, 20.0, 19.0, 18.0, 17.0, 16.0, 15.0, 14.0, 13.0, 12.0, 11.0, 10.0, 9.0, 8.0, 7.0, 6.0, 5.0, 4.0, 3.0, 2.0, 1.0, 0.7852, 0.7662, 0.6447, 0.6105, 0.5986, 0.5934, 0.5919, 0.5854, 0.5785, 0.5722, 0.5563, 0.556, 0.5524, 0.5515, 0.5499, 0.5488, 0.5475, 0.544, 0.5431, 0.5399, 0.5366, 0.536, 0.5348, 0.5333, 0.5293, 0.5257, 0.5239, 0.5229, 0.5182, 0.5173, 0.5079, 0.511, 0.4773, 0.5106, 0.5017, 0.4716, 0.5059, 0.4085, 0.2987, 0.422, 0.4903, 0.1904, 0.3335, 0.3732, 0.3628, 0.341, 0.2124, 0.2939, 0.3976, 0.2669, 0.2127, 0.2446, 0.2472, 0.2199, 0.217, 0.0438, 0.1679, 0.2256, 0.2064, 0.2212, 0.3337, 0.0205, 0.1394, 0.2661, 0.1287, 0.0729, 0.1152, 0.1498, 0.1594, -0.0294, 0.0884, -0.1115, -0.1524, 0.0099, -0.0049, -0.1153, 0.0683, 0.1053, -0.2537, -0.1466, 0.9266, 0.7826, 0.759, 0.7337, 0.7306, 0.7301, 0.7227, 0.7187, 0.6947, 0.6739, 0.6736, 0.6724, 0.6712, 0.6685, 0.6666, 0.6631, 0.6514, 0.6491, 0.649, 0.6419, 0.6411, 0.641, 0.6403, 0.6389, 0.6373, 0.6346, 0.6298, 0.6278, 0.6266, 0.6239, 0.5812, 0.6024, 0.5685, 0.6008, 0.5259, 0.6158, 0.4709, 0.6036, 0.453, 0.3835, 0.3833, 0.5411, 0.3298, 0.2672, 0.3227, 0.2332, 0.3608, 0.3606, 0.232, 0.4394, 0.2836, 0.4442, 0.4894, 0.2481, 0.0973, -0.0178, 0.367, 0.2145, 0.1466, 0.2143, 0.2376, 0.229, -0.0275, 0.1543, 0.2301, 0.2576, -0.0228, 0.1909, 0.1977, -0.0114, -0.0382, -0.0427, 0.0367, -0.0197, -0.0521, -0.2908, -0.1241, -0.1906, 0.0255, -0.083, 1.2159, 1.169, 1.1145, 1.1115, 0.9789, 0.9744, 0.9598, 0.9543, 0.9464, 0.9452, 0.9445, 0.9417, 0.9371, 0.9329, 0.9268, 0.9169, 0.9094, 0.9014, 0.8798, 0.8734, 0.8693, 0.8649, 0.8538, 0.8523, 0.8468, 0.8468, 0.8452, 0.8445, 0.8442, 0.8441, 0.8413, 0.8415, 0.8132, 0.8287, 0.8003, 0.598, 0.7589, 0.7648, 0.7982, 0.6204, 0.6563, 0.6034, 0.2643, 0.4526, 0.5375, 0.4295, 0.2601, 0.4725, 0.4359, 0.3758, 0.3226, 0.4635, 0.5475, 0.2524, 0.4906, 0.4952, 0.236, 0.3493, 0.5352, 0.3488, 0.2269, -0.1733, 0.0332, 0.2268, -0.0542, 0.0794, 0.2067, 0.1146, 0.065, 0.2355, 0.0729, -0.0926, -0.1416, 0.0521, 0.0205, -0.1321, 0.2138, -0.1499, 0.0936, -0.2893, 0.0065, -0.1811, 0.0622, 1.8514, 1.763, 1.7085, 1.6584, 1.5783, 1.5514, 1.5452, 1.5419, 1.5373, 1.53, 1.5254, 1.5254, 1.5172, 1.5162, 1.5076, 1.5045, 1.5038, 1.4998, 1.4932, 1.4889, 1.4738, 1.4702, 1.4558, 1.4509, 1.4466, 1.4407, 1.4365, 1.436, 1.4298, 1.4137, 1.2752, 1.0751, 0.9092, 0.9712, 1.1258, 0.9045, 0.8529, 0.6737, 1.1389, 0.9375, 0.5696, 0.5042, 0.7312, 1.2579, 0.5558, 0.2641, 0.3209, 0.1725, 1.0051, 0.4245, 0.5882, 0.3855, 0.4985, -0.092, 0.2813, -0.0609, -0.4043, 0.3044, -0.0081, -0.3958, 0.261, 0.2299, -0.0263, -0.0538, -0.1656, -0.0839, 0.0843, 0.1704, 0.1065, 0.2671, -0.4366, 0.2113, -0.1057, -0.4838, -0.2512, -0.3554, -0.3665, 2.1048, 1.835, 1.8177, 1.7531, 1.7396, 1.728, 1.7213, 1.7203, 1.7186, 1.7133, 1.7064, 1.7059, 1.7, 1.6921, 1.6758, 1.6106, 1.5795, 1.5612, 1.5577, 1.5575, 1.5539, 1.5508, 1.5474, 1.5374, 1.5364, 1.5316, 1.5163, 1.5163, 1.5104, 1.5046, 1.5, 1.3959, 1.3926, 1.4412, 1.3488, 1.3844, 0.7825, 1.3972, 1.3266, 1.4292, 1.337, 0.6265, -0.146, 0.2356, 0.5675, 0.0933, 0.6445, 0.4045, 0.3165, 0.3042, 0.245, 0.7065, 0.417, 0.8454, 0.7721, 0.942, 0.1671, 0.5702, 0.1925, 0.2087, -0.2538, -0.0435, 0.6024, -0.2699, 0.2593, 0.1338, 0.0261, 0.1145, 0.2238, -0.6008, -0.0603, 0.1483, 0.1607, 0.1498, -0.3367, -0.1286, -0.299, -0.1697, -0.5027, -0.4484, -0.4236, -0.3011, -0.0354]}, \"token.table\": {\"Topic\": [5, 1, 2, 3, 4, 5, 3, 1, 2, 3, 4, 5, 1, 2, 3, 4, 5, 1, 1, 1, 2, 3, 4, 5, 1, 2, 3, 4, 5, 2, 1, 2, 3, 4, 5, 1, 3, 5, 1, 2, 3, 4, 5, 1, 2, 3, 4, 5, 1, 2, 3, 4, 5, 1, 2, 3, 4, 5, 1, 2, 3, 4, 5, 1, 2, 3, 4, 5, 2, 1, 1, 2, 3, 4, 5, 1, 2, 3, 4, 5, 3, 1, 2, 3, 4, 5, 1, 2, 3, 1, 2, 3, 4, 5, 1, 3, 5, 1, 2, 4, 1, 3, 1, 4, 1, 2, 3, 4, 5, 5, 5, 4, 2, 3, 1, 2, 3, 5, 4, 2, 3, 3, 4, 1, 2, 3, 4, 5, 1, 2, 3, 1, 2, 3, 4, 5, 1, 2, 3, 4, 5, 1, 2, 3, 4, 5, 1, 2, 3, 4, 5, 1, 2, 3, 4, 5, 1, 2, 3, 1, 2, 3, 4, 5, 1, 2, 3, 4, 5, 1, 2, 3, 4, 1, 1, 2, 3, 5, 4, 1, 2, 3, 4, 5, 4, 1, 1, 2, 3, 5, 1, 2, 3, 4, 5, 1, 2, 4, 1, 2, 3, 4, 5, 1, 2, 3, 4, 5, 1, 2, 3, 5, 2, 1, 2, 3, 1, 2, 3, 1, 2, 3, 1, 2, 3, 5, 1, 2, 3, 4, 5, 1, 2, 3, 4, 5, 4, 1, 2, 3, 4, 5, 1, 2, 3, 4, 5, 1, 2, 1, 2, 3, 4, 5, 1, 2, 3, 4, 5, 1, 2, 3, 4, 5, 1, 2, 3, 4, 5, 1, 2, 3, 4, 5, 1, 2, 3, 2, 1, 1, 2, 3, 4, 5, 1, 2, 3, 4, 5, 3, 4, 1, 2, 3, 4, 5, 5, 2, 4, 4, 1, 2, 3, 4, 5, 1, 2, 3, 4, 5, 1, 2, 3, 4, 5, 1, 2, 3, 4, 5, 2, 1, 2, 3, 4, 5, 1, 2, 3, 1, 2, 3, 4, 5, 1, 2, 3, 4, 5, 1, 2, 4, 1, 2, 3, 1, 2, 3, 4, 5, 4, 1, 2, 3, 4, 5, 1, 2, 3, 4, 5, 1, 2, 3, 4, 5, 1, 1, 5, 1, 2, 3, 4, 5, 1, 2, 3, 4, 5, 1, 2, 3, 4, 5, 5, 4, 4, 1, 2, 3, 4, 5, 5, 1, 2, 3, 4, 5, 4, 1, 2, 3, 4, 5, 2, 3, 1, 2, 3, 4, 5, 1, 2, 3, 4, 5, 3, 3, 4, 4, 2, 1, 2, 3, 4, 5, 1, 2, 3, 4, 5, 1, 2, 3, 4, 5, 2, 3, 1, 2, 3, 5, 5, 4, 4, 1, 2, 3, 4, 5, 3, 1, 2, 3, 4, 5, 4, 5, 4, 1, 2, 3, 1, 2, 3, 4, 5, 1, 2, 3, 5, 1, 4, 1, 2, 4, 5, 1, 2, 5, 1, 2, 3, 4, 5, 1, 2, 3, 4, 5, 2, 5, 3, 1, 2, 3, 4, 5, 1, 1, 3, 3, 2, 1, 2, 3, 4, 5, 1, 2, 3, 4, 5, 1, 2, 3, 4, 5, 5, 5, 1, 2, 3, 4, 1, 2, 3, 4, 5, 1, 2, 3, 4, 5, 2, 5, 2, 3, 4, 5, 5, 2, 1, 2, 3, 4, 5, 1, 1, 2, 3, 4, 5, 2, 5, 3, 1, 2, 3, 4, 5, 2, 2, 1, 2, 3, 5, 1, 2, 3, 4, 5, 1, 3, 1, 2, 3, 4, 5, 1, 2, 3, 4, 1, 2, 3, 4, 5, 1, 2, 3, 5, 1, 2, 3, 4, 5, 1, 2, 3, 4, 5, 1, 2, 3, 4, 5, 1, 2, 3, 4, 5, 1, 2, 3, 4, 5, 1, 2, 3, 4, 5, 1, 2, 3, 5, 1, 2, 3, 4, 5, 4, 1, 2, 3, 4, 5, 2, 1, 2, 3, 4, 5, 1, 2, 3, 4, 5, 1, 2, 3, 4, 1, 2, 3, 4, 5, 1, 2, 3, 4, 5, 2, 3, 5, 1, 2, 3, 4, 5, 5, 1, 2, 3, 4, 5, 1, 2, 3, 3, 5, 1, 2, 3, 4, 5, 1, 2, 3, 4, 5, 1, 2, 3, 4, 5, 1, 2, 3, 1, 2, 3, 4, 5, 1, 2, 3, 4, 5, 1, 2, 3, 4, 5, 1, 2, 3, 4, 5, 1, 2, 3, 4, 5, 1, 2, 3, 4, 5, 1, 2, 3, 4, 5, 1, 2, 3, 4, 5, 1, 2, 3, 4, 5, 1, 2, 3, 4, 1, 2, 3, 4, 5, 1, 2, 3, 4, 5, 1, 2, 3, 4, 5, 1, 2, 3, 4, 5, 1, 3, 1, 2, 3, 4, 5, 2, 3, 1, 2, 3, 4, 5, 1, 2, 3, 4, 5, 4, 5, 1, 2, 1, 2, 3, 4, 5, 2, 1, 2, 3, 5, 1, 2, 3, 4, 5, 1, 4, 1, 2, 3, 4, 5, 1, 4, 1, 3, 3, 4, 1, 2, 3, 4, 1, 2, 3, 5, 2, 1, 2, 3, 4, 5, 1, 2, 3, 4, 5, 1, 1, 2, 3, 4, 5, 1, 2, 3, 4, 5, 1, 1, 2, 3, 4, 5, 5, 1, 2, 3, 4, 5, 1, 2, 3, 4, 5, 1, 2, 3, 4, 5, 3, 1, 2, 3, 4, 5, 1, 2, 1, 2, 3, 4, 5, 5, 1, 2, 3, 4, 5, 4, 4, 1, 2, 3, 4, 5, 5, 1, 2, 3, 4, 5, 1, 2, 3, 4, 5, 1, 2, 3, 2, 3, 2, 1, 2, 3, 4, 5, 1, 2, 3, 3, 1, 2, 3, 4, 5, 1, 2, 3, 4, 5, 1, 2, 3, 4, 5, 1, 2, 3, 4, 5, 1, 2, 4, 4, 1, 2, 3, 4, 5, 1, 2, 3, 1, 2, 3, 4, 1, 2, 3, 4, 5, 5, 1, 2, 3, 1, 2, 3, 4, 5, 1, 2, 3, 4, 5, 1, 2, 3, 4, 1, 2, 3, 4, 5, 1, 2, 5], \"Freq\": [0.6594650648462069, 0.3366155731445263, 0.5049233597167894, 0.08415389328613157, 0.042076946643065785, 0.042076946643065785, 0.5806695427998434, 0.37548695552966077, 0.2279742230001512, 0.2145639745883776, 0.08046149047064159, 0.100576863088302, 0.4529547251329184, 0.24157585340422313, 0.19124755061167664, 0.06710440372339531, 0.04697308260637672, 0.5149219861700153, 0.5118833241889706, 0.2333777757153098, 0.4834253925531417, 0.15002857010269915, 0.08334920561261064, 0.05000952336756638, 0.6089510979601643, 0.13532246621336985, 0.13532246621336985, 0.06766123310668493, 0.06766123310668493, 0.5451115785195721, 0.283417648715581, 0.3452542266171623, 0.20096887818013925, 0.11336705948623241, 0.056683529743116204, 0.3812038876872164, 0.3812038876872164, 0.6647069373967853, 0.3532191275938952, 0.1630242127356439, 0.3423508467448522, 0.05434140424521464, 0.0923803872168649, 0.21742308798026366, 0.33449705843117483, 0.16724852921558742, 0.2341479409018224, 0.050174558764676226, 0.6116486967017802, 0.1615675802608476, 0.10386487302483062, 0.0692432486832204, 0.05770270723601701, 0.5316354641625599, 0.22784377035538284, 0.12151667752287083, 0.07594792345179427, 0.06075833876143542, 0.4699114217771058, 0.25343537354270873, 0.16367701207966606, 0.06335884338567718, 0.05279903615473099, 0.4098135693391416, 0.19352307441015018, 0.2390579154478326, 0.0739941166862339, 0.0796859718159442, 0.538207588820473, 0.5130697714614888, 0.38444711793200265, 0.34288526734475916, 0.16624740234897412, 0.0623427758808653, 0.04156185058724353, 0.45210379535086126, 0.27168678781648, 0.17192679541511624, 0.05730893180503875, 0.0466961666559575, 0.5811915392384731, 0.5129531320135593, 0.17098437733785307, 0.12823828300338982, 0.08549218866892654, 0.0997408867804143, 0.3477713713196702, 0.6955427426393404, 0.40614515305622223, 0.4257054731512402, 0.4257054731512402, 0.047300608127915575, 0.047300608127915575, 0.047300608127915575, 0.4180830429380496, 0.2090415214690248, 0.2090415214690248, 0.20572403346740784, 0.20572403346740784, 0.6171721004022235, 0.3776865939840136, 0.3776865939840136, 0.39673399794905123, 0.39673399794905123, 0.1837485019122372, 0.1837485019122372, 0.1837485019122372, 0.1837485019122372, 0.3674970038244744, 0.6604828221184069, 0.6955109023001909, 0.6225582057868976, 0.5471108499544314, 0.2735554249772157, 0.23312217084395678, 0.23312217084395678, 0.46624434168791357, 0.6648107497655396, 0.6187931466479073, 0.3814549612455419, 0.3814549612455419, 0.5784201754572875, 0.6213342393780863, 0.37101304999163615, 0.25175885535146736, 0.1545887708298484, 0.12808783868758866, 0.09275326249790904, 0.17658393890019453, 0.5297518167005836, 0.17658393890019453, 0.25865583527210545, 0.4310930587868424, 0.20117676076719312, 0.057479074504912325, 0.057479074504912325, 0.25833787031316024, 0.25833787031316024, 0.1409115656253601, 0.2348526093756002, 0.1174263046878001, 0.3795938394601155, 0.21899644584237432, 0.20439668278621603, 0.05839905222463315, 0.1313978675054246, 0.22920362536393873, 0.32743375051991247, 0.34380543804590813, 0.049115062577986875, 0.049115062577986875, 0.42197535363207883, 0.2685297704931411, 0.14065845121069295, 0.12147775331832572, 0.04475496174885685, 0.20917860980290406, 0.5229465245072601, 0.20917860980290406, 0.18857401240022517, 0.43815726410640554, 0.28840731308269735, 0.027731472411797818, 0.055462944823595636, 0.3536732980439457, 0.23578219869596378, 0.1675294569681848, 0.13030068875303263, 0.11789109934798189, 0.5904135473379126, 0.14760338683447816, 0.14760338683447816, 0.14760338683447816, 0.5136725878514102, 0.26306683709170864, 0.26306683709170864, 0.26306683709170864, 0.26306683709170864, 0.6248845691696859, 0.4237337108503263, 0.2688203111846156, 0.17313850550873547, 0.07290042337209915, 0.05923159398983056, 0.6239680302182031, 0.5151948307541455, 0.2331917062837448, 0.2331917062837448, 0.2331917062837448, 0.4663834125674896, 0.26522349084002356, 0.3788907012000337, 0.17523694930501557, 0.09472267530000843, 0.089986541535008, 0.30583301018745124, 0.30583301018745124, 0.6116660203749025, 0.35507846913811086, 0.3458316340043059, 0.16274429835496748, 0.07952278215072275, 0.05548101080282982, 0.31542024735730945, 0.390520306251907, 0.1952601531259535, 0.045060035336758494, 0.045060035336758494, 0.26205131392602593, 0.26205131392602593, 0.26205131392602593, 0.26205131392602593, 0.5248002057692768, 0.6678224206063812, 0.1113037367677302, 0.1113037367677302, 0.1755095158265517, 0.526528547479655, 0.1755095158265517, 0.1634798437227643, 0.1634798437227643, 0.4904395311682929, 0.23051057292081728, 0.23051057292081728, 0.46102114584163456, 0.07683685764027243, 0.39120241487342317, 0.246078938388121, 0.13881376011637594, 0.15774290922315448, 0.0630971636892618, 0.34721900635680086, 0.33583477664018446, 0.13661075659939706, 0.11384229716616422, 0.06261326344139032, 0.6208823468206973, 0.29089772015708104, 0.40079241443864494, 0.18746741965678554, 0.07110833159395313, 0.05171515025014774, 0.5960994853459679, 0.25098925698777597, 0.06274731424694399, 0.031373657123471996, 0.06274731424694399, 0.7953815339603557, 0.19884538349008893, 0.3122540540839787, 0.46838108112596805, 0.11709527028149201, 0.04878969595062167, 0.058547635140746006, 0.2978909235049124, 0.36533792505319446, 0.1798586707954188, 0.0899293353977094, 0.06744700154828207, 0.19096852480956447, 0.509249399492172, 0.127312349873043, 0.0636561749365215, 0.0636561749365215, 0.4057689342640678, 0.27923883648279935, 0.14834563188148717, 0.10471456368104975, 0.05672038866056862, 0.3058690445026386, 0.29532183607151313, 0.16875533489800748, 0.16875533489800748, 0.06328325058675281, 0.16306200966323925, 0.16306200966323925, 0.652248038652957, 0.5325831822389437, 0.6969911717424758, 0.5814719790058599, 0.09691199650097665, 0.09691199650097665, 0.09691199650097665, 0.09691199650097665, 0.3932008006246272, 0.24316365301786155, 0.1914267055672527, 0.11899497913640034, 0.05173694745060884, 0.258988796981379, 0.517977593962758, 0.37334099880427574, 0.301774034177258, 0.17772462882376064, 0.08588035755242125, 0.05963913718918142, 0.6949007822384429, 0.5456440847019531, 0.27282204235097657, 0.6208242099056823, 0.4214122999617426, 0.31990422770818416, 0.1568761116645903, 0.058444041600533646, 0.04306403065302479, 0.43140520307635316, 0.26248147898019075, 0.16112724452249336, 0.09095892835947206, 0.05197653049112689, 0.45490758619585, 0.1957160545261215, 0.2010056776214221, 0.06876510023890756, 0.07405472333420814, 0.48873480170085926, 0.23508762613459053, 0.14228987897619952, 0.07423819772671279, 0.061865164772260665, 0.5420578715055805, 0.2953582936915458, 0.25105454963781393, 0.2658224643223912, 0.09599144544975238, 0.08860748810746374, 0.5607151141619569, 0.11214302283239137, 0.11214302283239137, 0.2641323017170169, 0.48655950316292584, 0.1390170009036931, 0.055606800361477235, 0.04170510027110793, 0.287240338463081, 0.09574677948769367, 0.38298711795077467, 0.09574677948769367, 0.09574677948769367, 0.21648276664486923, 0.43296553328973847, 0.21648276664486923, 0.6786006400742406, 0.16965016001856015, 0.16965016001856015, 0.31902554367950503, 0.3293166902498117, 0.2109685046912856, 0.05660130613668638, 0.08232917256245292, 0.6214044033603381, 0.3999962699698071, 0.2837580376708888, 0.1982887492158018, 0.05128157307305219, 0.06495665922586612, 0.3251378907409676, 0.3180696757248596, 0.1649250170425198, 0.09424286688143987, 0.09895501022551187, 0.30334522878796666, 0.33790354599165906, 0.2611072855390093, 0.0767962604526498, 0.01919906511316245, 0.5121430267821797, 0.849507782024375, 0.6971863467391614, 0.39309618741168534, 0.2645364280066059, 0.2027288513695484, 0.08900291035736271, 0.049446061309645954, 0.3401940008180038, 0.2749513157296195, 0.20504843884920776, 0.09320383584054899, 0.08854364404852154, 0.32671744851793366, 0.35866315459524273, 0.1945783915617916, 0.06098725705668095, 0.05953517950771235, 0.46229133312736875, 0.6229028430519341, 0.6246418023241699, 0.4168284068157008, 0.17367850283987535, 0.13894280227190028, 0.06947140113595014, 0.17367850283987535, 0.3503652436233725, 0.3144473674945732, 0.2675826156083628, 0.2433943565703187, 0.08919420520278759, 0.08465890663315433, 0.6227033271880514, 0.37964095560032224, 0.17927489570015218, 0.2003660599001701, 0.10545582100008952, 0.14763814940012532, 0.5458789452855766, 0.2729394726427883, 0.22725218268338934, 0.22725218268338934, 0.4545043653667787, 0.11362609134169467, 0.11362609134169467, 0.19723653009564635, 0.24654566261955793, 0.49309132523911586, 0.049309132523911586, 0.049309132523911586, 0.4070153066668903, 0.5817308658919188, 0.6181940304196684, 0.6260136471177157, 0.5441320293111633, 0.3158809164361785, 0.2612092193606861, 0.23083605431874585, 0.10934339415098487, 0.07897022910904462, 0.2880021609954441, 0.4189122341751914, 0.15709208781569678, 0.07854604390784839, 0.052364029271898926, 0.329786237816575, 0.2698251036681068, 0.11992226829693636, 0.23984453659387273, 0.02998056707423409, 0.3780859919778845, 0.3780859919778845, 0.4264866425183116, 0.49756774960469685, 0.07108110708638526, 0.07108110708638526, 0.6918557576587957, 0.6219289328390138, 0.6215414605962626, 0.5072922298668898, 0.24193937116728592, 0.13267642934980195, 0.046826975064635984, 0.07024046259695398, 0.578286299408697, 0.27400105748922793, 0.16440063449353676, 0.3562013747359963, 0.10960042299569116, 0.08220031724676838, 0.6243638983094553, 0.6934410154151769, 0.618354500932027, 0.19060267817664323, 0.19060267817664323, 0.38120535635328645, 0.3713911342130978, 0.16248362121823026, 0.3249672424364605, 0.06963583766495583, 0.04642389177663722, 0.21005459497611656, 0.21005459497611656, 0.21005459497611656, 0.21005459497611656, 0.6944109108484425, 0.6263555603648486, 0.7227754845875705, 0.14455509691751411, 0.14455509691751411, 0.6583998991005994, 0.25617736999857116, 0.5123547399971423, 0.663222522538547, 0.31740857362411096, 0.250585716019035, 0.300702859222842, 0.08352857200634499, 0.033411428802538, 0.27940496984037666, 0.3891712079919532, 0.1895962295345413, 0.049893744614352975, 0.08980874030583536, 0.5392623461160402, 0.6577750586988121, 0.41306950742304815, 0.35733536698631474, 0.2785113889746277, 0.19443247909549477, 0.07882397801168707, 0.08933384174657868, 0.6840785889029726, 0.28854853946498576, 0.5770970789299715, 0.5794032385189798, 0.5408630245383705, 0.29661587172619286, 0.22246190379464467, 0.30588511771763643, 0.11123095189732234, 0.0648847219401047, 0.22296923839300406, 0.5202615562503429, 0.1486461589286694, 0.0743230794643347, 0.0743230794643347, 0.1109969308123902, 0.430113106898012, 0.3191161760856218, 0.04162384905464633, 0.09712231446084142, 0.4532490672970939, 0.6573360817989642, 0.1302178879439829, 0.39065366383194866, 0.1302178879439829, 0.39065366383194866, 0.31255694697922287, 0.2778283973148648, 0.31255694697922287, 0.05209282449653715, 0.05209282449653715, 0.36973205706210055, 0.21259593281070782, 0.2033526313841553, 0.07394641141242012, 0.1386495213982877, 0.5442684310992386, 0.6948583371766839, 0.21054149484513685, 0.21054149484513685, 0.4210829896902737, 0.21054149484513685, 0.6623167933624293, 0.539000933570444, 0.38605874545107244, 0.26222858181582276, 0.14568254545323486, 0.14568254545323486, 0.05827301818129395, 0.7218460490005983, 0.45690018428877915, 0.12336304975797037, 0.23301909398727738, 0.08224203317198026, 0.10508704238641921, 0.5427659149196775, 0.6943300092408753, 0.6019786104230089, 0.2061383035717687, 0.34718030075245254, 0.27665930216211065, 0.08137038298885607, 0.09221976738737021, 0.3664261997564123, 0.6991399058378296, 0.1401252214095427, 0.2802504428190854, 0.1401252214095427, 0.2802504428190854, 0.381015495107014, 0.24087186472282496, 0.23649237627331904, 0.08321028054061226, 0.05693334984357681, 0.38402480957342294, 0.38402480957342294, 0.2711423313010999, 0.28541298031694723, 0.1926537617139394, 0.16411246368224466, 0.08562389409508417, 0.5778812609336655, 0.14447031523341639, 0.14447031523341639, 0.14447031523341639, 0.4558964717426453, 0.1560726660019867, 0.23410899900298002, 0.04928610505325895, 0.0985722101065179, 0.2773589312699786, 0.2773589312699786, 0.1386794656349893, 0.2773589312699786, 0.38605335005826985, 0.19302667502913493, 0.1378761964493821, 0.11030095715950568, 0.1654514357392585, 0.36814121718614234, 0.34973415632683524, 0.17026531294859085, 0.0690264782224017, 0.04141588693344101, 0.2828618572429129, 0.14143092862145645, 0.14143092862145645, 0.14143092862145645, 0.2828618572429129, 0.21045970588140298, 0.3156895588221045, 0.10522985294070149, 0.3156895588221045, 0.10522985294070149, 0.22273073024989948, 0.22273073024989948, 0.148487153499933, 0.22273073024989948, 0.0742435767499665, 0.25937773805021846, 0.25937773805021846, 0.12968886902510923, 0.12968886902510923, 0.3890666070753277, 0.25912103672604053, 0.25912103672604053, 0.25912103672604053, 0.25912103672604053, 0.2881860075793824, 0.23276562150642424, 0.29927008479397404, 0.09975669493132468, 0.07758854050214142, 0.42421441429623485, 0.3589744141356589, 0.20102567191596896, 0.1292307890888372, 0.17230771878511625, 0.14358976565426354, 0.3631870182562718, 0.6200373633327841, 0.10333956055546402, 0.10333956055546402, 0.10333956055546402, 0.10333956055546402, 0.3330124284394405, 0.3001802171848478, 0.2016835834210696, 0.07504505429621194, 0.09380631787026493, 0.6210782950033892, 0.1552695737508473, 0.07763478687542365, 0.07763478687542365, 0.3154844110050074, 0.38208667555050896, 0.13320452909100314, 0.12268838205750289, 0.049075352823001156, 0.4771734383578862, 0.18178035746967094, 0.15337717661503486, 0.12497399576039878, 0.06248699788019939, 0.2590997304255501, 0.2590997304255501, 0.2590997304255501, 0.3830434909029454, 0.19669800884205305, 0.2950470132630796, 0.056938897296383774, 0.06211516068696412, 0.6930308686789534, 0.15960818487554282, 0.2793143235321999, 0.4788245546266285, 0.039902046218885705, 0.039902046218885705, 0.20143741498996567, 0.3021561224849485, 0.5035935374749142, 0.576376140228029, 0.6684937660516909, 0.32553756367819, 0.2940339284835264, 0.16801938770487224, 0.15751817597331771, 0.052506058657772574, 0.41366192043327027, 0.2234725317283184, 0.19969885814019944, 0.05705681661148555, 0.10460416378772351, 0.25663704693292055, 0.33362816101279674, 0.29085531985731, 0.07699111407987617, 0.051327409386584116, 0.2616432323003571, 0.5232864646007142, 0.2616432323003571, 0.566304388369626, 0.16180125381989313, 0.08090062690994657, 0.08090062690994657, 0.08090062690994657, 0.4118561985066321, 0.22368052160273985, 0.20237761478343128, 0.08521162727723422, 0.07811065833746471, 0.24893362470408265, 0.24893362470408265, 0.24893362470408265, 0.049786724940816526, 0.1991468997632661, 0.5195785030103115, 0.21316041149140985, 0.13322525718213116, 0.0799351543092787, 0.05329010287285246, 0.3473995189680676, 0.19299973276003754, 0.15439978620803005, 0.2122997060360413, 0.07719989310401502, 0.4231375922457976, 0.23367299870290315, 0.17683362064003483, 0.06947035096572797, 0.09473229677144722, 0.3129241205939093, 0.15646206029695464, 0.10430804019796977, 0.2781547738612527, 0.13907738693062635, 0.3150793860853134, 0.1925485137188026, 0.3500882067614593, 0.0525132310142189, 0.08752205169036482, 0.2897113058510937, 0.2897113058510937, 0.1158845223404375, 0.19314087056739582, 0.09657043528369791, 0.6199251412360017, 0.10332085687266697, 0.10332085687266697, 0.10332085687266697, 0.33285093496020457, 0.3532295636312375, 0.19699341048665167, 0.07472163846045408, 0.04075725734206586, 0.5508858860326755, 0.2086688962244983, 0.125201337734699, 0.058427290942859526, 0.050080535093879594, 0.5928487513028681, 0.12481026343218275, 0.135211118718198, 0.08320684228812184, 0.07280598700210661, 0.41102687504321006, 0.13959403303354304, 0.263677617952248, 0.062041792459352464, 0.11632836086128587, 0.37576043717711216, 0.37576043717711216, 0.44244067693557737, 0.2693510147636406, 0.1581759314887151, 0.06281844136266114, 0.06688582245808525, 0.5239934002377228, 0.6003099448569649, 0.467901522887027, 0.26223052381580636, 0.16453679925697653, 0.07198484967492723, 0.035992424837463614, 0.2741784023683598, 0.3916834319547997, 0.17625754437965988, 0.08812877218982994, 0.06854460059208994, 0.6225573211820357, 0.767483085524391, 0.3599061149173424, 0.3599061149173424, 0.2309348900748794, 0.40073995630640835, 0.20376607947783476, 0.1154674450374397, 0.05433762119408927, 0.5386499157543438, 0.3439444415764511, 0.17197222078822555, 0.3439444415764511, 0.17197222078822555, 0.63701635234868, 0.09100233604981144, 0.12133644806641523, 0.03033411201660381, 0.12133644806641523, 0.7190425170110483, 0.6212005117660314, 0.36447742519446497, 0.26167610013961584, 0.2429849501296433, 0.06541902503490396, 0.06853421670323272, 0.5138102761046592, 0.6215460871550588, 0.3786378633500225, 0.3786378633500225, 0.5733671478931744, 0.6242110263906406, 0.6317858976496953, 0.12635717952993908, 0.12635717952993908, 0.12635717952993908, 0.3231912612602269, 0.3231912612602269, 0.3231912612602269, 0.3231912612602269, 0.5448297582215714, 0.5648517402928992, 0.23783231170227334, 0.11891615585113667, 0.059458077925568335, 0.029729038962784168, 0.3543082468707118, 0.31673009947533326, 0.15568089635228247, 0.1234710557276723, 0.05368306770768361, 0.6536610295816688, 0.5115749271551416, 0.245555965034468, 0.14324097960343965, 0.061388991258617, 0.04092599417241133, 0.3267623089654469, 0.3489156858444602, 0.17168867081235345, 0.08861350751605339, 0.06646013063704004, 0.5138439575709692, 0.391079015348667, 0.25420135997663357, 0.1603423962929535, 0.10168054399065343, 0.08994817353019342, 0.6947565330233453, 0.38501733619274725, 0.2374273573188608, 0.1540069344770989, 0.141173023270674, 0.0834204228417619, 0.44838595862605635, 0.23833127530574166, 0.18985711761643828, 0.07271123653395509, 0.04847415768930339, 0.3651151232323246, 0.20284173512906922, 0.12170504107744154, 0.24341008215488308, 0.08113669405162768, 0.579570732718016, 0.15811775739356432, 0.39529439348391077, 0.07905887869678216, 0.31623551478712864, 0.07905887869678216, 0.5105316666536367, 0.5437629475690975, 0.08230377770067107, 0.3292151108026843, 0.41151888850335533, 0.08230377770067107, 0.08230377770067107, 0.6607961693637135, 0.5476398960843718, 0.12446361274644814, 0.1742490578450274, 0.07467816764786889, 0.07467816764786889, 0.6224433791232967, 0.622098690092001, 0.479438766510339, 0.2397193832551695, 0.14052515570130625, 0.06612948503590883, 0.08266185629488604, 0.4377595765461419, 0.493272155316603, 0.2061090226440266, 0.14126573462118677, 0.08568577345875264, 0.07410661488324552, 0.3989012468195793, 0.2081223896449979, 0.17343532470416492, 0.08671766235208246, 0.13874825976333194, 0.15775025027776154, 0.3155005005555231, 0.4732507508332846, 0.386741787627299, 0.386741787627299, 0.3715551939294203, 0.2535405518391145, 0.29579731047896696, 0.31692568979889313, 0.08451351727970484, 0.04225675863985242, 0.5807289789138443, 0.14518224472846109, 0.14518224472846109, 0.5751024632780938, 0.41737849706717656, 0.22737783795450664, 0.21180401343707467, 0.07475435768367342, 0.07163959278018703, 0.45420594846871204, 0.25187784415083125, 0.16929494442924722, 0.07019546476334641, 0.05367888481902961, 0.3704324571482474, 0.26856353143247935, 0.23769416000345875, 0.0648256800009433, 0.05865180571513917, 0.3823447481963492, 0.26661587805262665, 0.2453745031528295, 0.06372412469939154, 0.042482749799594356, 0.2598609960596062, 0.5197219921192124, 0.2598609960596062, 0.6199116009102699, 0.32815014988613356, 0.16407507494306678, 0.26662199678248355, 0.08203753747153339, 0.16407507494306678, 0.27726646802601135, 0.27726646802601135, 0.5545329360520227, 0.6374555282964166, 0.12749110565928332, 0.12749110565928332, 0.12749110565928332, 0.2553891632935544, 0.30646699595226523, 0.15323349797613262, 0.1824208309239674, 0.09485883208046306, 0.6938587483587777, 0.6865163170000453, 0.17162907925001133, 0.17162907925001133, 0.371071384724715, 0.33977620769973904, 0.1609466246998764, 0.053648874899958794, 0.07600257277494163, 0.35411247808673707, 0.2627286127740307, 0.10851834005883877, 0.10280684847679462, 0.1713447474613244, 0.6767990836835819, 0.16919977092089547, 0.16919977092089547, 0.16919977092089547, 0.4302505493112302, 0.2689065933195189, 0.1222302696906904, 0.11245184811543517, 0.063559740239159, 0.3175460955398833, 0.3175460955398833, 0.3175460955398833], \"Term\": [\"abby\", \"abeyasinghe\", \"abeyasinghe\", \"abeyasinghe\", \"abeyasinghe\", \"abeyasinghe\", \"absolution\", \"accord\", \"accord\", \"accord\", \"accord\", \"accord\", \"add\", \"add\", \"add\", \"add\", \"add\", \"adenoviral\", \"adminisitration\", \"agreement\", \"agreement\", \"agreement\", \"agreement\", \"agreement\", \"ako\", \"ako\", \"ako\", \"ako\", \"ako\", \"aktwal\", \"also\", \"also\", \"also\", \"also\", \"also\", \"ame\", \"ame\", \"amjg\", \"ang\", \"ang\", \"ang\", \"ang\", \"ang\", \"antibody\", \"antibody\", \"antibody\", \"antibody\", \"antibody\", \"application\", \"application\", \"application\", \"application\", \"application\", \"apply\", \"apply\", \"apply\", \"apply\", \"apply\", \"approval\", \"approval\", \"approval\", \"approval\", \"approval\", \"approve\", \"approve\", \"approve\", \"approve\", \"approve\", \"araw\", \"argentina\", \"arrive\", \"arrive\", \"arrive\", \"arrive\", \"arrive\", \"astrazeneca\", \"astrazeneca\", \"astrazeneca\", \"astrazeneca\", \"astrazeneca\", \"atsaka\", \"authority\", \"authority\", \"authority\", \"authority\", \"authority\", \"avenue\", \"avenue\", \"bahay\", \"ball\", \"ball\", \"ball\", \"ball\", \"ball\", \"bangsamoro\", \"bangsamoro\", \"bangsamoro\", \"bbibp\", \"bbibp\", \"bbibp\", \"bear\", \"bear\", \"beg\", \"beg\", \"biazon\", \"biazon\", \"biazon\", \"biazon\", \"biazon\", \"binay\", \"birthplace\", \"bite\", \"black\", \"black\", \"blanket\", \"blanket\", \"blanket\", \"bright\", \"burn\", \"button\", \"button\", \"candy\", \"captioning\", \"case\", \"case\", \"case\", \"case\", \"case\", \"catholic\", \"catholic\", \"catholic\", \"cebu\", \"cebu\", \"cebu\", \"cebu\", \"cebu\", \"cell\", \"cell\", \"cell\", \"cell\", \"cell\", \"chief\", \"chief\", \"chief\", \"chief\", \"chief\", \"child\", \"child\", \"child\", \"child\", \"child\", \"china\", \"china\", \"china\", \"china\", \"china\", \"church\", \"church\", \"church\", \"city\", \"city\", \"city\", \"city\", \"city\", \"clinical_trial\", \"clinical_trial\", \"clinical_trial\", \"clinical_trial\", \"clinical_trial\", \"cnbg\", \"cnbg\", \"cnbg\", \"cnbg\", \"cognitive\", \"collection\", \"collection\", \"collection\", \"collection\", \"commemoration\", \"company\", \"company\", \"company\", \"company\", \"company\", \"conception\", \"confidante\", \"corona\", \"corona\", \"corona\", \"corona\", \"coronavirus\", \"coronavirus\", \"coronavirus\", \"coronavirus\", \"coronavirus\", \"corv\", \"corv\", \"corv\", \"country\", \"country\", \"country\", \"country\", \"country\", \"covax\", \"covax\", \"covax\", \"covax\", \"covax\", \"coventry\", \"coventry\", \"coventry\", \"coventry\", \"covert\", \"cueni\", \"cueni\", \"cueni\", \"curve\", \"curve\", \"curve\", \"dan\", \"dan\", \"dan\", \"dapat\", \"dapat\", \"dapat\", \"dapat\", \"datum\", \"datum\", \"datum\", \"datum\", \"datum\", \"day\", \"day\", \"day\", \"day\", \"day\", \"de\", \"deal\", \"deal\", \"deal\", \"deal\", \"deal\", \"decide\", \"decide\", \"decide\", \"decide\", \"decide\", \"del_rosario\", \"del_rosario\", \"delivery\", \"delivery\", \"delivery\", \"delivery\", \"delivery\", \"department\", \"department\", \"department\", \"department\", \"department\", \"deployment\", \"deployment\", \"deployment\", \"deployment\", \"deployment\", \"develop\", \"develop\", \"develop\", \"develop\", \"develop\", \"development\", \"development\", \"development\", \"development\", \"development\", \"dino\", \"dino\", \"dino\", \"disclaimer\", \"dmitriev\", \"dof\", \"dof\", \"dof\", \"dof\", \"dof\", \"doh\", \"doh\", \"doh\", \"doh\", \"doh\", \"dolly\", \"dolly\", \"dose\", \"dose\", \"dose\", \"dose\", \"dose\", \"dramatist\", \"duly\", \"duly\", \"dumalagan\", \"duterte\", \"duterte\", \"duterte\", \"duterte\", \"duterte\", \"early\", \"early\", \"early\", \"early\", \"early\", \"effective\", \"effective\", \"effective\", \"effective\", \"effective\", \"efficacy\", \"efficacy\", \"efficacy\", \"efficacy\", \"efficacy\", \"ensayo\", \"expert\", \"expert\", \"expert\", \"expert\", \"expert\", \"expressed_willingness\", \"expressed_willingness\", \"expressed_willingness\", \"facility\", \"facility\", \"facility\", \"facility\", \"facility\", \"fair\", \"fair\", \"fair\", \"fair\", \"fair\", \"fake\", \"fake\", \"fake\", \"favorable\", \"favorable\", \"favorable\", \"fda\", \"fda\", \"fda\", \"fda\", \"fda\", \"feast\", \"filipino\", \"filipino\", \"filipino\", \"filipino\", \"filipino\", \"first\", \"first\", \"first\", \"first\", \"first\", \"galvez\", \"galvez\", \"galvez\", \"galvez\", \"galvez\", \"gamaleyas\", \"garin\", \"gentleman\", \"get\", \"get\", \"get\", \"get\", \"get\", \"give\", \"give\", \"give\", \"give\", \"give\", \"government\", \"government\", \"government\", \"government\", \"government\", \"grandma\", \"greenback\", \"guian\", \"guideline\", \"guideline\", \"guideline\", \"guideline\", \"guideline\", \"handshake\", \"health\", \"health\", \"health\", \"health\", \"health\", \"hesitate\", \"hindi\", \"hindi\", \"hindi\", \"hindi\", \"hindi\", \"hispanic\", \"hispanic\", \"hpaac\", \"hpaac\", \"hpaac\", \"hpaac\", \"hpaac\", \"htac\", \"htac\", \"htac\", \"htac\", \"htac\", \"hysteria\", \"ibigay\", \"iconic\", \"immaculate\", \"inaugurate\", \"include\", \"include\", \"include\", \"include\", \"include\", \"indemnification\", \"indemnification\", \"indemnification\", \"indemnification\", \"indemnification\", \"indonesia\", \"indonesia\", \"indonesia\", \"indonesia\", \"indonesia\", \"inorder\", \"inorder\", \"inquiry\", \"inquiry\", \"inquiry\", \"inquiry\", \"inspire\", \"instagram\", \"isabelle\", \"issue\", \"issue\", \"issue\", \"issue\", \"issue\", \"isu\", \"iyong\", \"iyong\", \"iyong\", \"iyong\", \"iyong\", \"jcb\", \"joke\", \"jolene\", \"kasama\", \"kasama\", \"kasama\", \"kasi\", \"kasi\", \"kasi\", \"kasi\", \"kasi\", \"keenan\", \"keenan\", \"keenan\", \"keenan\", \"kirill\", \"kjrdzlqc\", \"labor\", \"labor\", \"labor\", \"lady\", \"land\", \"land\", \"lapitan\", \"lgus\", \"lgus\", \"lgus\", \"lgus\", \"lgus\", \"local\", \"local\", \"local\", \"local\", \"local\", \"macroplan\", \"madala\", \"makahanap\", \"make\", \"make\", \"make\", \"make\", \"make\", \"malaga\", \"malpractice\", \"malpractice\", \"mamayan\", \"mangangapa\", \"manufacturer\", \"manufacturer\", \"manufacturer\", \"manufacturer\", \"manufacturer\", \"maybe\", \"maybe\", \"maybe\", \"maybe\", \"maybe\", \"mayor\", \"mayor\", \"mayor\", \"mayor\", \"mayor\", \"mayora\", \"mayoral\", \"memory\", \"memory\", \"memory\", \"memory\", \"metro\", \"metro\", \"metro\", \"metro\", \"metro\", \"mga\", \"mga\", \"mga\", \"mga\", \"mga\", \"microplan\", \"mile\", \"milk\", \"milk\", \"milk\", \"milk\", \"milyon\", \"minsan\", \"moderna\", \"moderna\", \"moderna\", \"moderna\", \"moderna\", \"musor\", \"na\", \"na\", \"na\", \"na\", \"na\", \"nakakasakit\", \"namesake\", \"napakahirap\", \"national\", \"national\", \"national\", \"national\", \"national\", \"ncov\", \"ndvp\", \"neda\", \"neda\", \"neda\", \"neda\", \"need\", \"need\", \"need\", \"need\", \"need\", \"neglect\", \"neglect\", \"new\", \"new\", \"new\", \"new\", \"new\", \"newspaper\", \"newspaper\", \"newspaper\", \"newspaper\", \"ng\", \"ng\", \"ng\", \"ng\", \"ng\", \"nhs\", \"nhs\", \"nhs\", \"nhs\", \"nurse\", \"nurse\", \"nurse\", \"nurse\", \"nurse\", \"official\", \"official\", \"official\", \"official\", \"official\", \"outside\", \"outside\", \"outside\", \"outside\", \"outside\", \"overseas\", \"overseas\", \"overseas\", \"overseas\", \"overseas\", \"paper\", \"paper\", \"paper\", \"paper\", \"paper\", \"parson\", \"parson\", \"parson\", \"parson\", \"parson\", \"parsons\", \"parsons\", \"parsons\", \"parsons\", \"part\", \"part\", \"part\", \"part\", \"part\", \"parton\", \"patient\", \"patient\", \"patient\", \"patient\", \"patient\", \"pattern\", \"pause\", \"pause\", \"pause\", \"pause\", \"pause\", \"people\", \"people\", \"people\", \"people\", \"people\", \"permit\", \"permit\", \"permit\", \"permit\", \"pfizer\", \"pfizer\", \"pfizer\", \"pfizer\", \"pfizer\", \"phase\", \"phase\", \"phase\", \"phase\", \"phase\", \"philsys\", \"philsys\", \"philsys\", \"po\", \"po\", \"po\", \"po\", \"po\", \"poet\", \"polio\", \"polio\", \"polio\", \"polio\", \"polio\", \"poliovirus\", \"poliovirus\", \"poliovirus\", \"polished\", \"portal\", \"possible\", \"possible\", \"possible\", \"possible\", \"possible\", \"public\", \"public\", \"public\", \"public\", \"public\", \"purchase\", \"purchase\", \"purchase\", \"purchase\", \"purchase\", \"rabindra_abeyasinghe\", \"rabindra_abeyasinghe\", \"rabindra_abeyasinghe\", \"rdif\", \"rdif\", \"rdif\", \"rdif\", \"rdif\", \"receive\", \"receive\", \"receive\", \"receive\", \"receive\", \"registration\", \"registration\", \"registration\", \"registration\", \"registration\", \"regulatory\", \"regulatory\", \"regulatory\", \"regulatory\", \"regulatory\", \"release\", \"release\", \"release\", \"release\", \"release\", \"report\", \"report\", \"report\", \"report\", \"report\", \"researcher\", \"researcher\", \"researcher\", \"researcher\", \"researcher\", \"resident\", \"resident\", \"resident\", \"resident\", \"resident\", \"reuters\", \"reuters\", \"reuters\", \"reuters\", \"reuters\", \"roa\", \"roa\", \"roa\", \"roa\", \"rollout\", \"rollout\", \"rollout\", \"rollout\", \"rollout\", \"roque\", \"roque\", \"roque\", \"roque\", \"roque\", \"russia\", \"russia\", \"russia\", \"russia\", \"russia\", \"sa\", \"sa\", \"sa\", \"sa\", \"sa\", \"sadoff\", \"sadoff\", \"say\", \"say\", \"say\", \"say\", \"say\", \"scheduled\", \"secq\", \"secure\", \"secure\", \"secure\", \"secure\", \"secure\", \"see\", \"see\", \"see\", \"see\", \"see\", \"sexy\", \"shakespeare\", \"shed\", \"shed\", \"sign\", \"sign\", \"sign\", \"sign\", \"sign\", \"simuluate\", \"sinabi\", \"sinabi\", \"sinabi\", \"sinabi\", \"singapore\", \"singapore\", \"singapore\", \"singapore\", \"singapore\", \"singaporean\", \"singer\", \"sinovac\", \"sinovac\", \"sinovac\", \"sinovac\", \"sinovac\", \"slash\", \"song\", \"spearman\", \"spearman\", \"specification\", \"squat\", \"sra\", \"sra\", \"sra\", \"sra\", \"st\", \"st\", \"st\", \"st\", \"standalone\", \"standard\", \"standard\", \"standard\", \"standard\", \"standard\", \"start\", \"start\", \"start\", \"start\", \"start\", \"stat\", \"statement\", \"statement\", \"statement\", \"statement\", \"statement\", \"still\", \"still\", \"still\", \"still\", \"still\", \"stirring\", \"story\", \"story\", \"story\", \"story\", \"story\", \"stratford\", \"study\", \"study\", \"study\", \"study\", \"study\", \"supply\", \"supply\", \"supply\", \"supply\", \"supply\", \"support\", \"support\", \"support\", \"support\", \"support\", \"surrender\", \"survivor\", \"survivor\", \"survivor\", \"survivor\", \"survivor\", \"suspension\", \"tabletop\", \"taguig\", \"taguig\", \"taguig\", \"taguig\", \"taguig\", \"taxi\", \"tayo\", \"tayo\", \"tayo\", \"tayo\", \"tayo\", \"tennessee\", \"tiktok\", \"time\", \"time\", \"time\", \"time\", \"time\", \"transpo\", \"trial\", \"trial\", \"trial\", \"trial\", \"trial\", \"uk\", \"uk\", \"uk\", \"uk\", \"uk\", \"ultralow\", \"ultralow\", \"ultralow\", \"unfair\", \"unfair\", \"uninfected\", \"unit\", \"unit\", \"unit\", \"unit\", \"unit\", \"uphold\", \"uphold\", \"uphold\", \"usapin\", \"use\", \"use\", \"use\", \"use\", \"use\", \"vaccinate\", \"vaccinate\", \"vaccinate\", \"vaccinate\", \"vaccinate\", \"vaccination\", \"vaccination\", \"vaccination\", \"vaccination\", \"vaccination\", \"vaccine\", \"vaccine\", \"vaccine\", \"vaccine\", \"vaccine\", \"valneva\", \"valneva\", \"valneva\", \"vanderbilt\", \"vergeire\", \"vergeire\", \"vergeire\", \"vergeire\", \"vergeire\", \"vico\", \"vico\", \"vico\", \"villanueva\", \"villanueva\", \"villanueva\", \"villanueva\", \"virus\", \"virus\", \"virus\", \"virus\", \"virus\", \"warwickshire\", \"withdraw\", \"withdraw\", \"withdraw\", \"worker\", \"worker\", \"worker\", \"worker\", \"worker\", \"world\", \"world\", \"world\", \"world\", \"world\", \"yang\", \"yang\", \"yang\", \"yang\", \"year\", \"year\", \"year\", \"year\", \"year\", \"zone\", \"zone\", \"zone\"]}, \"R\": 30, \"lambda.step\": 0.01, \"plot.opts\": {\"xlab\": \"PC1\", \"ylab\": \"PC2\"}, \"topic.order\": [2, 1, 5, 4, 3]};\n\nfunction LDAvis_load_lib(url, callback){\n  var s = document.createElement('script');\n  s.src = url;\n  s.async = true;\n  s.onreadystatechange = s.onload = callback;\n  s.onerror = function(){console.warn(\"failed to load library \" + url);};\n  document.getElementsByTagName(\"head\")[0].appendChild(s);\n}\n\nif(typeof(LDAvis) !== \"undefined\"){\n   // already loaded: just create the visualization\n   !function(LDAvis){\n       new LDAvis(\"#\" + \"ldavis_el437521403302977651045176923573\", ldavis_el437521403302977651045176923573_data);\n   }(LDAvis);\n}else if(typeof define === \"function\" && define.amd){\n   // require.js is available: use it to load d3/LDAvis\n   require.config({paths: {d3: \"https://cdnjs.cloudflare.com/ajax/libs/d3/3.5.5/d3.min\"}});\n   require([\"d3\"], function(d3){\n      window.d3 = d3;\n      LDAvis_load_lib(\"https://cdn.rawgit.com/bmabey/pyLDAvis/files/ldavis.v1.0.0.js\", function(){\n        new LDAvis(\"#\" + \"ldavis_el437521403302977651045176923573\", ldavis_el437521403302977651045176923573_data);\n      });\n    });\n}else{\n    // require.js not available: dynamically load d3 & LDAvis\n    LDAvis_load_lib(\"https://cdnjs.cloudflare.com/ajax/libs/d3/3.5.5/d3.min.js\", function(){\n         LDAvis_load_lib(\"https://cdn.rawgit.com/bmabey/pyLDAvis/files/ldavis.v1.0.0.js\", function(){\n                 new LDAvis(\"#\" + \"ldavis_el437521403302977651045176923573\", ldavis_el437521403302977651045176923573_data);\n            })\n         });\n}\n</script>"
     },
     "metadata": {},
     "execution_count": 12
    }
   ],
   "source": [
    "pyLDAvis.enable_notebook()\n",
    "pyLDAvis.gensim.prepare(best_model, corpus, id2word_dictionary)"
   ]
  },
  {
   "source": [
    "## Finding the dominant topic in each sentence"
   ],
   "cell_type": "markdown",
   "metadata": {}
  },
  {
   "cell_type": "code",
   "execution_count": 13,
   "metadata": {},
   "outputs": [
    {
     "output_type": "execute_result",
     "data": {
      "text/plain": [
       "     document_id  dominant_topic  topic_percentage_contribution  \\\n",
       "0              0             0.0                         0.9950   \n",
       "1              1             0.0                         0.8576   \n",
       "2              2             1.0                         0.6221   \n",
       "3              3             1.0                         0.5327   \n",
       "4              4             0.0                         0.7510   \n",
       "..           ...             ...                            ...   \n",
       "365          365             0.0                         0.5514   \n",
       "366          366             0.0                         0.9966   \n",
       "367          367             2.0                         0.9765   \n",
       "368          368             1.0                         0.9933   \n",
       "369          369             1.0                         0.9867   \n",
       "\n",
       "                                              keywords  \\\n",
       "0    say, vaccine, dose, government, country, healt...   \n",
       "1    say, vaccine, dose, government, country, healt...   \n",
       "2    say, vaccine, dose, government, astrazeneca, t...   \n",
       "3    say, vaccine, dose, government, astrazeneca, t...   \n",
       "4    say, vaccine, dose, government, country, healt...   \n",
       "..                                                 ...   \n",
       "365  say, vaccine, dose, government, country, healt...   \n",
       "366  say, vaccine, dose, government, country, healt...   \n",
       "367  say, vaccine, health, dose, first, government,...   \n",
       "368  say, vaccine, dose, government, astrazeneca, t...   \n",
       "369  say, vaccine, dose, government, astrazeneca, t...   \n",
       "\n",
       "                                                  text  \n",
       "0    [government, need, key, measure, indemnificati...  \n",
       "1    [update, march, finally, begin, legally, roll,...  \n",
       "2    [update, malacanang, say, dose, covax, global,...  \n",
       "3    [update, low, efficacy, trial, lead, expert, r...  \n",
       "4    [rd, update, arrival, donate, vaccine, china, ...  \n",
       "..                                                 ...  \n",
       "365  [astrazeneca, say, sunday, britain, health, re...  \n",
       "366  [single, dose, johnson, johnsons, experimental...  \n",
       "367  [clinical_trial, vaccine, involve, cavite, res...  \n",
       "368  [china, hope, ready, end, year, early, chinese...  \n",
       "369  [washington, biotech, firm, moderna, report, p...  \n",
       "\n",
       "[370 rows x 5 columns]"
      ],
      "text/html": "<div>\n<style scoped>\n    .dataframe tbody tr th:only-of-type {\n        vertical-align: middle;\n    }\n\n    .dataframe tbody tr th {\n        vertical-align: top;\n    }\n\n    .dataframe thead th {\n        text-align: right;\n    }\n</style>\n<table border=\"1\" class=\"dataframe\">\n  <thead>\n    <tr style=\"text-align: right;\">\n      <th></th>\n      <th>document_id</th>\n      <th>dominant_topic</th>\n      <th>topic_percentage_contribution</th>\n      <th>keywords</th>\n      <th>text</th>\n    </tr>\n  </thead>\n  <tbody>\n    <tr>\n      <th>0</th>\n      <td>0</td>\n      <td>0.0</td>\n      <td>0.9950</td>\n      <td>say, vaccine, dose, government, country, healt...</td>\n      <td>[government, need, key, measure, indemnificati...</td>\n    </tr>\n    <tr>\n      <th>1</th>\n      <td>1</td>\n      <td>0.0</td>\n      <td>0.8576</td>\n      <td>say, vaccine, dose, government, country, healt...</td>\n      <td>[update, march, finally, begin, legally, roll,...</td>\n    </tr>\n    <tr>\n      <th>2</th>\n      <td>2</td>\n      <td>1.0</td>\n      <td>0.6221</td>\n      <td>say, vaccine, dose, government, astrazeneca, t...</td>\n      <td>[update, malacanang, say, dose, covax, global,...</td>\n    </tr>\n    <tr>\n      <th>3</th>\n      <td>3</td>\n      <td>1.0</td>\n      <td>0.5327</td>\n      <td>say, vaccine, dose, government, astrazeneca, t...</td>\n      <td>[update, low, efficacy, trial, lead, expert, r...</td>\n    </tr>\n    <tr>\n      <th>4</th>\n      <td>4</td>\n      <td>0.0</td>\n      <td>0.7510</td>\n      <td>say, vaccine, dose, government, country, healt...</td>\n      <td>[rd, update, arrival, donate, vaccine, china, ...</td>\n    </tr>\n    <tr>\n      <th>...</th>\n      <td>...</td>\n      <td>...</td>\n      <td>...</td>\n      <td>...</td>\n      <td>...</td>\n    </tr>\n    <tr>\n      <th>365</th>\n      <td>365</td>\n      <td>0.0</td>\n      <td>0.5514</td>\n      <td>say, vaccine, dose, government, country, healt...</td>\n      <td>[astrazeneca, say, sunday, britain, health, re...</td>\n    </tr>\n    <tr>\n      <th>366</th>\n      <td>366</td>\n      <td>0.0</td>\n      <td>0.9966</td>\n      <td>say, vaccine, dose, government, country, healt...</td>\n      <td>[single, dose, johnson, johnsons, experimental...</td>\n    </tr>\n    <tr>\n      <th>367</th>\n      <td>367</td>\n      <td>2.0</td>\n      <td>0.9765</td>\n      <td>say, vaccine, health, dose, first, government,...</td>\n      <td>[clinical_trial, vaccine, involve, cavite, res...</td>\n    </tr>\n    <tr>\n      <th>368</th>\n      <td>368</td>\n      <td>1.0</td>\n      <td>0.9933</td>\n      <td>say, vaccine, dose, government, astrazeneca, t...</td>\n      <td>[china, hope, ready, end, year, early, chinese...</td>\n    </tr>\n    <tr>\n      <th>369</th>\n      <td>369</td>\n      <td>1.0</td>\n      <td>0.9867</td>\n      <td>say, vaccine, dose, government, astrazeneca, t...</td>\n      <td>[washington, biotech, firm, moderna, report, p...</td>\n    </tr>\n  </tbody>\n</table>\n<p>370 rows × 5 columns</p>\n</div>"
     },
     "metadata": {},
     "execution_count": 13
    }
   ],
   "source": [
    "def format_topics_sentences(ldamodel=best_model, corpus=corpus, texts=data):\n",
    "    # Init output\n",
    "    sent_topics_df = pd.DataFrame()\n",
    "\n",
    "    # Get main topic in each document\n",
    "    for i, row in enumerate(ldamodel[corpus]):\n",
    "        row = sorted(row, key=lambda x: (x[1]), reverse=True)\n",
    "        # Get the Dominant topic, Perc Contribution and Keywords for each document\n",
    "        for j, (topic_num, prop_topic) in enumerate(row):\n",
    "            if j == 0:  # => dominant topic\n",
    "                wp = ldamodel.show_topic(topic_num)\n",
    "                topic_keywords = \", \".join([word for word, prop in wp])\n",
    "                sent_topics_df = sent_topics_df.append(pd.Series([int(topic_num), round(prop_topic,4), topic_keywords]), ignore_index=True)\n",
    "            else:\n",
    "                break\n",
    "    sent_topics_df.columns = ['dominant_topic', 'percentage_contribution', 'topic_keywords']\n",
    "\n",
    "    # Add original text to the end of the output\n",
    "    contents = pd.Series(texts)\n",
    "    sent_topics_df = pd.concat([sent_topics_df, contents], axis=1)\n",
    "    return(sent_topics_df)\n",
    "\n",
    "\n",
    "df_topic_sents_keywords = format_topics_sentences(ldamodel=best_model, corpus=corpus, texts=data)\n",
    "\n",
    "# Format\n",
    "df_dominant_topic = df_topic_sents_keywords.reset_index()\n",
    "df_dominant_topic.columns = ['document_id', 'dominant_topic', 'topic_percentage_contribution', 'keywords', 'text']\n",
    "# df_dominant_topic = df_dominant_topic.drop('document_id', axis=1)\n",
    "\n",
    "# Show\n",
    "# print(f'{df_dominant_topic.shape[0]} == {df.shape[0]}')\n",
    "df_dominant_topic"
   ]
  },
  {
   "source": [
    "## Find the most representative document for each topic"
   ],
   "cell_type": "markdown",
   "metadata": {}
  },
  {
   "cell_type": "code",
   "execution_count": 14,
   "metadata": {},
   "outputs": [
    {
     "output_type": "stream",
     "name": "stdout",
     "text": [
      "(5, 4)\n"
     ]
    },
    {
     "output_type": "execute_result",
     "data": {
      "text/plain": [
       "   topic_id  topic_percentage_contribution  \\\n",
       "0       0.0                         0.9971   \n",
       "1       1.0                         0.9980   \n",
       "2       2.0                         0.9971   \n",
       "3       3.0                         0.9968   \n",
       "4       4.0                         0.9986   \n",
       "\n",
       "                                                                            keywords  \\\n",
       "0  say, vaccine, dose, government, country, health, first, also, astrazeneca, pfizer   \n",
       "1    say, vaccine, dose, government, astrazeneca, trial, health, country, early, get   \n",
       "2           say, vaccine, health, dose, first, government, trial, country, world, ng   \n",
       "3           say, vaccine, dose, health, also, country, government, first, trial, get   \n",
       "4   say, vaccine, health, dose, government, country, get, astrazeneca, also, sinovac   \n",
       "\n",
       "                                                                                                                                                                                                                                                                                                                                                                                                                                                                                                                                                                                                                                                                                                                                                                                                                                                                                                                                                                                                text  \n",
       "0  [requirement, standard, agreement, common, country, re, specific, relate, dengvaxia, say, representative, world, health, organization, representative, rabindra_abeyasinghe, deny, ask, specific, requirement, indemnification, agreement, firm, pfizer, due, dengvaxia, dengue, controversy, contrary, claim, make, early, say, arrest, warrant, issue, relation, dengvaxia, scandal, impact, government, negotiation, effort, manufacturer, galvez, attribute, delay, procurement, dengvaxia, issue, told_reporter, situation, change, understand, happen, warrant, arrest, sanofi, great, implication, procurement, really, add, arrest, warrant, announce, last, february, change, virtual_briefe, tuesday, abeyasinghe, clarify, instead, ask, sign, standard, indemnification, agreement, similar, present, different, country, receive, developed, let, clarify, requirement, standard, agreement, common, country, re, specific, related, issue, happen, country, relate, dengvaxia, ...]  \n",
       "1                                                                                                                                        [paris, dozen, company, biotech, start, up, big, pharma, racing, develop, safe, effective, coronavirus, meet, urgent, medical, need, potential, payday, positive, result, final, stage, trial, several, candidate, raise, hope, light, end, tunnel, quest, curb, pandemic, already, kill, nearly, people, worldwide, many, pipeline, world, health, organization, identify, candidate, vaccine, stage, clinical_trial, human, mid, june, advanced, phase, stage, vaccine, effectiveness, test, large_scale, generally, ten, thousand, people, several, continent, story, pandemic, inflame, violence, woman, new, case, bring, tally, typhoon, evacuee, rizal, undergo, swab, test, european, project, lead, university, oxford, astrazeneca, say, phase, trial, show, average, percent, efficacy, trial, involve, people, statement, say, drug, show, ...]  \n",
       "2                                                                                                         [identification, system, philsys, national, i, d, potentially, use, government, target, distribution, priority_group, national, economic, development, authority, neda, say, wednesday, role, neda, member, actually, offer, secretary_carlito, galvez, heading, possibility, use, national, i, d, basis, distribution, act, socioeconomic, planning, secretary, say, virtual, sa, bay, forum, really, health, response, neda, health, expert, expert, national, d, help, aspect, say, nearly, filipino, compose, frontline, health, worker, poor, first, receive, country, eye, begin, mass, immunization, program, first, half, force, early, say, government, target, inoculate, population, sufficient, create, herd_immunity, story, effective, minimum, neda, typhoon, transport, restriction, push, inflation, high, november, neda, ncr, worker, unable, go, work, september, ...]  \n",
       "3                                                                                                                         [follow, roundup, late, scientific, study, effort, find, treatment, vaccine, illness, cause, virus, variant, likely, reinfect, survivor, coronavirus, variant, circulate, likely, able, reinfect, people, survive, infection, early, version, coronavirus, new, datum, suggest, variant, emerge, brazil, call, carry, mutation, already, know, make, variant, prevalent, south_africa, hard, treat, antibody, hard, prevent, available, vaccine, new, datum, suggest, many, recover, patient, immunity, early, version, virus, afford, immunity, story, sinovac, trigger, sufficient, antibody, response, variant, study, say, report, china, mission, origin, due, mid, march, japan, supercomputer, show, double, mask, offer, little, help, prevent, viral, spread, researcher, test, neutralize, ability, antibody, plasma, sample, take, survivor, cause, early, ...]  \n",
       "4                                                                                                   [healthcare, professional, alliance, warn, allow, setup, severely, impact, public, health, safety, lead, inequitable, rollout, vaccine, several, top, health, expert, thursday, february, oppose, lawmaker, effort, push, bill, allow, local, government, unit, lgus, buy, coronavirus, vaccine, directly, manufacturer, healthcare, professional, alliance, hpaac, large, coalition, health, group, country, warn, propose, measure, seek, grant, lgus, authority, severely, impact, public, health, safety, rollout, vaccine, country, also, create, unequal, access, limited, shot, country, prioritization, covet, good, define, access, fund, capacity, pay, instead, need, base, exposure, risk, money, justice, social, justice, say, public, health, family, medicine, specialist, thursday, night, internal, medicine, specialist, epidemiologist, dr, antonio, dan, pediatrician, ...]  "
      ],
      "text/html": "<div>\n<style scoped>\n    .dataframe tbody tr th:only-of-type {\n        vertical-align: middle;\n    }\n\n    .dataframe tbody tr th {\n        vertical-align: top;\n    }\n\n    .dataframe thead th {\n        text-align: right;\n    }\n</style>\n<table border=\"1\" class=\"dataframe\">\n  <thead>\n    <tr style=\"text-align: right;\">\n      <th></th>\n      <th>topic_id</th>\n      <th>topic_percentage_contribution</th>\n      <th>keywords</th>\n      <th>text</th>\n    </tr>\n  </thead>\n  <tbody>\n    <tr>\n      <th>0</th>\n      <td>0.0</td>\n      <td>0.9971</td>\n      <td>say, vaccine, dose, government, country, health, first, also, astrazeneca, pfizer</td>\n      <td>[requirement, standard, agreement, common, country, re, specific, relate, dengvaxia, say, representative, world, health, organization, representative, rabindra_abeyasinghe, deny, ask, specific, requirement, indemnification, agreement, firm, pfizer, due, dengvaxia, dengue, controversy, contrary, claim, make, early, say, arrest, warrant, issue, relation, dengvaxia, scandal, impact, government, negotiation, effort, manufacturer, galvez, attribute, delay, procurement, dengvaxia, issue, told_reporter, situation, change, understand, happen, warrant, arrest, sanofi, great, implication, procurement, really, add, arrest, warrant, announce, last, february, change, virtual_briefe, tuesday, abeyasinghe, clarify, instead, ask, sign, standard, indemnification, agreement, similar, present, different, country, receive, developed, let, clarify, requirement, standard, agreement, common, country, re, specific, related, issue, happen, country, relate, dengvaxia, ...]</td>\n    </tr>\n    <tr>\n      <th>1</th>\n      <td>1.0</td>\n      <td>0.9980</td>\n      <td>say, vaccine, dose, government, astrazeneca, trial, health, country, early, get</td>\n      <td>[paris, dozen, company, biotech, start, up, big, pharma, racing, develop, safe, effective, coronavirus, meet, urgent, medical, need, potential, payday, positive, result, final, stage, trial, several, candidate, raise, hope, light, end, tunnel, quest, curb, pandemic, already, kill, nearly, people, worldwide, many, pipeline, world, health, organization, identify, candidate, vaccine, stage, clinical_trial, human, mid, june, advanced, phase, stage, vaccine, effectiveness, test, large_scale, generally, ten, thousand, people, several, continent, story, pandemic, inflame, violence, woman, new, case, bring, tally, typhoon, evacuee, rizal, undergo, swab, test, european, project, lead, university, oxford, astrazeneca, say, phase, trial, show, average, percent, efficacy, trial, involve, people, statement, say, drug, show, ...]</td>\n    </tr>\n    <tr>\n      <th>2</th>\n      <td>2.0</td>\n      <td>0.9971</td>\n      <td>say, vaccine, health, dose, first, government, trial, country, world, ng</td>\n      <td>[identification, system, philsys, national, i, d, potentially, use, government, target, distribution, priority_group, national, economic, development, authority, neda, say, wednesday, role, neda, member, actually, offer, secretary_carlito, galvez, heading, possibility, use, national, i, d, basis, distribution, act, socioeconomic, planning, secretary, say, virtual, sa, bay, forum, really, health, response, neda, health, expert, expert, national, d, help, aspect, say, nearly, filipino, compose, frontline, health, worker, poor, first, receive, country, eye, begin, mass, immunization, program, first, half, force, early, say, government, target, inoculate, population, sufficient, create, herd_immunity, story, effective, minimum, neda, typhoon, transport, restriction, push, inflation, high, november, neda, ncr, worker, unable, go, work, september, ...]</td>\n    </tr>\n    <tr>\n      <th>3</th>\n      <td>3.0</td>\n      <td>0.9968</td>\n      <td>say, vaccine, dose, health, also, country, government, first, trial, get</td>\n      <td>[follow, roundup, late, scientific, study, effort, find, treatment, vaccine, illness, cause, virus, variant, likely, reinfect, survivor, coronavirus, variant, circulate, likely, able, reinfect, people, survive, infection, early, version, coronavirus, new, datum, suggest, variant, emerge, brazil, call, carry, mutation, already, know, make, variant, prevalent, south_africa, hard, treat, antibody, hard, prevent, available, vaccine, new, datum, suggest, many, recover, patient, immunity, early, version, virus, afford, immunity, story, sinovac, trigger, sufficient, antibody, response, variant, study, say, report, china, mission, origin, due, mid, march, japan, supercomputer, show, double, mask, offer, little, help, prevent, viral, spread, researcher, test, neutralize, ability, antibody, plasma, sample, take, survivor, cause, early, ...]</td>\n    </tr>\n    <tr>\n      <th>4</th>\n      <td>4.0</td>\n      <td>0.9986</td>\n      <td>say, vaccine, health, dose, government, country, get, astrazeneca, also, sinovac</td>\n      <td>[healthcare, professional, alliance, warn, allow, setup, severely, impact, public, health, safety, lead, inequitable, rollout, vaccine, several, top, health, expert, thursday, february, oppose, lawmaker, effort, push, bill, allow, local, government, unit, lgus, buy, coronavirus, vaccine, directly, manufacturer, healthcare, professional, alliance, hpaac, large, coalition, health, group, country, warn, propose, measure, seek, grant, lgus, authority, severely, impact, public, health, safety, rollout, vaccine, country, also, create, unequal, access, limited, shot, country, prioritization, covet, good, define, access, fund, capacity, pay, instead, need, base, exposure, risk, money, justice, social, justice, say, public, health, family, medicine, specialist, thursday, night, internal, medicine, specialist, epidemiologist, dr, antonio, dan, pediatrician, ...]</td>\n    </tr>\n  </tbody>\n</table>\n</div>"
     },
     "metadata": {},
     "execution_count": 14
    }
   ],
   "source": [
    "# Group top 5 sentences under each topic\n",
    "sent_topics_sorteddf = pd.DataFrame()\n",
    "\n",
    "sent_topics_outdf_grpd = df_topic_sents_keywords.groupby('dominant_topic')\n",
    "\n",
    "for i, grp in sent_topics_outdf_grpd:\n",
    "    sent_topics_sorteddf = pd.concat([sent_topics_sorteddf, grp.sort_values(['percentage_contribution'], ascending=[0]).head(1)], axis=0)\n",
    "\n",
    "# Reset Index    \n",
    "sent_topics_sorteddf.reset_index(drop=True, inplace=True)\n",
    "\n",
    "# Format\n",
    "sent_topics_sorteddf.columns = ['topic_id', \"topic_percentage_contribution\", \"keywords\", \"text\"]\n",
    "\n",
    "# ### Save the dataset as CSV\n",
    "# sent_topics_sorteddf.to_csv('datasets/topics.csv')\n",
    "\n",
    "# Show\n",
    "print(sent_topics_sorteddf.shape)\n",
    "pd.set_option('display.max_rows', None)\n",
    "pd.set_option('display.max_colwidth', None)\n",
    "sent_topics_sorteddf"
   ]
  },
  {
   "source": [
    "## Topic distribution across documents"
   ],
   "cell_type": "markdown",
   "metadata": {}
  },
  {
   "cell_type": "code",
   "execution_count": 15,
   "metadata": {},
   "outputs": [
    {
     "output_type": "execute_result",
     "data": {
      "text/plain": [
       "       dominant_topic                                     topic_keywords  \\\n",
       "0.0               0.0  say, vaccine, dose, government, country, healt...   \n",
       "1.0               0.0  say, vaccine, dose, government, country, healt...   \n",
       "2.0               1.0  say, vaccine, dose, government, astrazeneca, t...   \n",
       "3.0               1.0  say, vaccine, dose, government, astrazeneca, t...   \n",
       "4.0               0.0  say, vaccine, dose, government, country, healt...   \n",
       "...               ...                                                ...   \n",
       "365.0             0.0  say, vaccine, dose, government, country, healt...   \n",
       "366.0             0.0  say, vaccine, dose, government, country, healt...   \n",
       "367.0             2.0  say, vaccine, health, dose, first, government,...   \n",
       "368.0             1.0  say, vaccine, dose, government, astrazeneca, t...   \n",
       "369.0             1.0  say, vaccine, dose, government, astrazeneca, t...   \n",
       "\n",
       "       num_documents  percentage_documents  \n",
       "0.0             92.0                0.2486  \n",
       "1.0            142.0                0.3838  \n",
       "2.0             35.0                0.0946  \n",
       "3.0             33.0                0.0892  \n",
       "4.0             68.0                0.1838  \n",
       "...              ...                   ...  \n",
       "365.0            NaN                   NaN  \n",
       "366.0            NaN                   NaN  \n",
       "367.0            NaN                   NaN  \n",
       "368.0            NaN                   NaN  \n",
       "369.0            NaN                   NaN  \n",
       "\n",
       "[370 rows x 4 columns]"
      ],
      "text/html": "<div>\n<style scoped>\n    .dataframe tbody tr th:only-of-type {\n        vertical-align: middle;\n    }\n\n    .dataframe tbody tr th {\n        vertical-align: top;\n    }\n\n    .dataframe thead th {\n        text-align: right;\n    }\n</style>\n<table border=\"1\" class=\"dataframe\">\n  <thead>\n    <tr style=\"text-align: right;\">\n      <th></th>\n      <th>dominant_topic</th>\n      <th>topic_keywords</th>\n      <th>num_documents</th>\n      <th>percentage_documents</th>\n    </tr>\n  </thead>\n  <tbody>\n    <tr>\n      <th>0.0</th>\n      <td>0.0</td>\n      <td>say, vaccine, dose, government, country, healt...</td>\n      <td>92.0</td>\n      <td>0.2486</td>\n    </tr>\n    <tr>\n      <th>1.0</th>\n      <td>0.0</td>\n      <td>say, vaccine, dose, government, country, healt...</td>\n      <td>142.0</td>\n      <td>0.3838</td>\n    </tr>\n    <tr>\n      <th>2.0</th>\n      <td>1.0</td>\n      <td>say, vaccine, dose, government, astrazeneca, t...</td>\n      <td>35.0</td>\n      <td>0.0946</td>\n    </tr>\n    <tr>\n      <th>3.0</th>\n      <td>1.0</td>\n      <td>say, vaccine, dose, government, astrazeneca, t...</td>\n      <td>33.0</td>\n      <td>0.0892</td>\n    </tr>\n    <tr>\n      <th>4.0</th>\n      <td>0.0</td>\n      <td>say, vaccine, dose, government, country, healt...</td>\n      <td>68.0</td>\n      <td>0.1838</td>\n    </tr>\n    <tr>\n      <th>...</th>\n      <td>...</td>\n      <td>...</td>\n      <td>...</td>\n      <td>...</td>\n    </tr>\n    <tr>\n      <th>365.0</th>\n      <td>0.0</td>\n      <td>say, vaccine, dose, government, country, healt...</td>\n      <td>NaN</td>\n      <td>NaN</td>\n    </tr>\n    <tr>\n      <th>366.0</th>\n      <td>0.0</td>\n      <td>say, vaccine, dose, government, country, healt...</td>\n      <td>NaN</td>\n      <td>NaN</td>\n    </tr>\n    <tr>\n      <th>367.0</th>\n      <td>2.0</td>\n      <td>say, vaccine, health, dose, first, government,...</td>\n      <td>NaN</td>\n      <td>NaN</td>\n    </tr>\n    <tr>\n      <th>368.0</th>\n      <td>1.0</td>\n      <td>say, vaccine, dose, government, astrazeneca, t...</td>\n      <td>NaN</td>\n      <td>NaN</td>\n    </tr>\n    <tr>\n      <th>369.0</th>\n      <td>1.0</td>\n      <td>say, vaccine, dose, government, astrazeneca, t...</td>\n      <td>NaN</td>\n      <td>NaN</td>\n    </tr>\n  </tbody>\n</table>\n<p>370 rows × 4 columns</p>\n</div>"
     },
     "metadata": {},
     "execution_count": 15
    }
   ],
   "source": [
    "pd.reset_option('^display', silent=True)\n",
    "\n",
    "# Number of Documents for Each Topic\n",
    "topic_counts = df_topic_sents_keywords['dominant_topic'].value_counts()\n",
    "\n",
    "# Percentage of Documents for Each Topic\n",
    "topic_contribution = round(topic_counts/topic_counts.sum(), 4)\n",
    "\n",
    "# Topic Number and Keywords\n",
    "topic_num_keywords = df_topic_sents_keywords[['dominant_topic', 'topic_keywords']]\n",
    "\n",
    "# Concatenate Column wise\n",
    "df_dominant_topics = pd.concat([topic_num_keywords, topic_counts, topic_contribution], axis=1)\n",
    "\n",
    "# Change Column names\n",
    "df_dominant_topics.columns = ['dominant_topic', 'topic_keywords', 'num_documents', 'percentage_documents']\n",
    "\n",
    "# Show\n",
    "# df_dominant_topics = df_dominant_topics[~df_dominant_topics['num_documents'].isna()][['topic_keywords']]\n",
    "df_dominant_topics"
   ]
  },
  {
   "source": [
    "# FINAL DF"
   ],
   "cell_type": "markdown",
   "metadata": {}
  },
  {
   "cell_type": "code",
   "execution_count": 16,
   "metadata": {},
   "outputs": [],
   "source": [
    "sia = SentimentIntensityAnalyzer()\n",
    "\n",
    "def get_vader_polarity(text):\n",
    "    return sia.polarity_scores(text)['compound']\n",
    "\n",
    "def get_vader_negativity(text):\n",
    "    return sia.polarity_scores(text)['neg']\n",
    "\n",
    "def get_vader_neutrality(text):\n",
    "    return sia.polarity_scores(text)['neu']\n",
    "\n",
    "def get_vader_positivity(text):\n",
    "    return sia.polarity_scores(text)['pos']\n",
    "\n",
    "def get_polarity(text):\n",
    "    return TextBlob(text).sentiment.polarity\n",
    "\n",
    "def get_subjectivity(text):\n",
    "    return TextBlob(text).sentiment.subjectivity\n",
    "\n",
    "def get_analysis(score):\n",
    "    if score <= -0.05:\n",
    "        return 'Negative'\n",
    "    elif score >= 0.05:\n",
    "        return 'Positive'\n",
    "    else:\n",
    "        return 'Neutral'"
   ]
  },
  {
   "cell_type": "code",
   "execution_count": 17,
   "metadata": {},
   "outputs": [
    {
     "output_type": "execute_result",
     "data": {
      "text/plain": [
       "                                                  urls  \\\n",
       "0    https://www.rappler.com/newsbreak/explainers/w...   \n",
       "1    https://www.rappler.com/newsbreak/iq/timeline-...   \n",
       "2    https://www.rappler.com/nation/philippines-rec...   \n",
       "3    https://www.rappler.com/nation/philippines-gra...   \n",
       "4    https://www.rappler.com/nation/philippines-rec...   \n",
       "..                                                 ...   \n",
       "365  https://www.gmanetwork.com/news/scitech/scienc...   \n",
       "366  https://www.gmanetwork.com/news/scitech/scienc...   \n",
       "367  https://www.gmanetwork.com/news/news/regions/7...   \n",
       "368  https://www.gmanetwork.com/news/news/nation/75...   \n",
       "369  https://www.gmanetwork.com/news/scitech/scienc...   \n",
       "\n",
       "                                                titles  \\\n",
       "0    Here’s why COVID-19 vaccines haven’t arrived i...   \n",
       "1    TIMELINE: The Philippines’ 2021 COVID-19 vacci...   \n",
       "2    After initial delay, Philippines to receive As...   \n",
       "3    Philippines grants emergency approval for Sino...   \n",
       "4    Philippines receives first COVID-19 vaccine de...   \n",
       "..                                                 ...   \n",
       "365  UK starts accelerated review for AstraZeneca’s...   \n",
       "366  J&J's COVID-19 vaccine produces strong immune ...   \n",
       "367  COVID-19 vaccine clinical trials for Cavite re...   \n",
       "368  China eyes COVID-19 vaccine by year-end or ear...   \n",
       "369  US firm announces ‘positive interim’ phase 1 r...   \n",
       "\n",
       "                     authors     published_dates  \\\n",
       "0             SOFIA TOMACRUZ 2021-02-18 09:22:00   \n",
       "1             SOFIA TOMACRUZ 2021-02-04 19:43:00   \n",
       "2             SOFIA TOMACRUZ 2021-03-03 14:41:00   \n",
       "3             SOFIA TOMACRUZ 2021-02-22 12:19:00   \n",
       "4             SOFIA TOMACRUZ 2021-02-28 16:16:00   \n",
       "..                       ...                 ...   \n",
       "365           KANISHKA SINGH 2020-11-01 21:09:00   \n",
       "366              NANCY LAPID 2020-09-26 04:06:00   \n",
       "367        ANNA FELICIA BAJO 2020-08-28 09:31:00   \n",
       "368  NICOLE-ANNE C. LAGRIMAS 2020-09-08 19:09:00   \n",
       "369                 GMA News 2020-05-18 20:53:00   \n",
       "\n",
       "                                      articles_content  news_org  \\\n",
       "0    MANILA, PHILIPPINES\\nThe Philippine government...   Rappler   \n",
       "1    MANILA, PHILIPPINES\\n(UPDATED) On March 1, the...   Rappler   \n",
       "2    MANILA, PHILIPPINES\\n(UPDATED) Malacañang says...   Rappler   \n",
       "3    MANILA, PHILIPPINES\\n(UPDATED) Its lower effic...   Rappler   \n",
       "4    MANILA, PHILIPPINES\\n(3rd UPDATE) The arrival ...   Rappler   \n",
       "..                                                 ...       ...   \n",
       "365  AstraZeneca Plc said on Sunday Britain's healt...  GMA News   \n",
       "366  A single dose of Johnson & Johnson's experimen...  GMA News   \n",
       "367  The clinical trials for vaccines against COVID...  GMA News   \n",
       "368  China hopes to be ready with a vaccine against...  GMA News   \n",
       "369  WASHINGTON — US biotech firm Moderna on Monday...  GMA News   \n",
       "\n",
       "     dominant_topic  topic_percentage_contribution  \\\n",
       "0               0.0                         0.9950   \n",
       "1               0.0                         0.8576   \n",
       "2               1.0                         0.6221   \n",
       "3               1.0                         0.5327   \n",
       "4               0.0                         0.7510   \n",
       "..              ...                            ...   \n",
       "365             0.0                         0.5514   \n",
       "366             0.0                         0.9966   \n",
       "367             2.0                         0.9765   \n",
       "368             1.0                         0.9933   \n",
       "369             1.0                         0.9867   \n",
       "\n",
       "                                              keywords  \\\n",
       "0    say, vaccine, dose, government, country, healt...   \n",
       "1    say, vaccine, dose, government, country, healt...   \n",
       "2    say, vaccine, dose, government, astrazeneca, t...   \n",
       "3    say, vaccine, dose, government, astrazeneca, t...   \n",
       "4    say, vaccine, dose, government, country, healt...   \n",
       "..                                                 ...   \n",
       "365  say, vaccine, dose, government, country, healt...   \n",
       "366  say, vaccine, dose, government, country, healt...   \n",
       "367  say, vaccine, health, dose, first, government,...   \n",
       "368  say, vaccine, dose, government, astrazeneca, t...   \n",
       "369  say, vaccine, dose, government, astrazeneca, t...   \n",
       "\n",
       "                                                  text  \n",
       "0    [government, need, key, measure, indemnificati...  \n",
       "1    [update, march, finally, begin, legally, roll,...  \n",
       "2    [update, malacanang, say, dose, covax, global,...  \n",
       "3    [update, low, efficacy, trial, lead, expert, r...  \n",
       "4    [rd, update, arrival, donate, vaccine, china, ...  \n",
       "..                                                 ...  \n",
       "365  [astrazeneca, say, sunday, britain, health, re...  \n",
       "366  [single, dose, johnson, johnsons, experimental...  \n",
       "367  [clinical_trial, vaccine, involve, cavite, res...  \n",
       "368  [china, hope, ready, end, year, early, chinese...  \n",
       "369  [washington, biotech, firm, moderna, report, p...  \n",
       "\n",
       "[370 rows x 10 columns]"
      ],
      "text/html": "<div>\n<style scoped>\n    .dataframe tbody tr th:only-of-type {\n        vertical-align: middle;\n    }\n\n    .dataframe tbody tr th {\n        vertical-align: top;\n    }\n\n    .dataframe thead th {\n        text-align: right;\n    }\n</style>\n<table border=\"1\" class=\"dataframe\">\n  <thead>\n    <tr style=\"text-align: right;\">\n      <th></th>\n      <th>urls</th>\n      <th>titles</th>\n      <th>authors</th>\n      <th>published_dates</th>\n      <th>articles_content</th>\n      <th>news_org</th>\n      <th>dominant_topic</th>\n      <th>topic_percentage_contribution</th>\n      <th>keywords</th>\n      <th>text</th>\n    </tr>\n  </thead>\n  <tbody>\n    <tr>\n      <th>0</th>\n      <td>https://www.rappler.com/newsbreak/explainers/w...</td>\n      <td>Here’s why COVID-19 vaccines haven’t arrived i...</td>\n      <td>SOFIA TOMACRUZ</td>\n      <td>2021-02-18 09:22:00</td>\n      <td>MANILA, PHILIPPINES\\nThe Philippine government...</td>\n      <td>Rappler</td>\n      <td>0.0</td>\n      <td>0.9950</td>\n      <td>say, vaccine, dose, government, country, healt...</td>\n      <td>[government, need, key, measure, indemnificati...</td>\n    </tr>\n    <tr>\n      <th>1</th>\n      <td>https://www.rappler.com/newsbreak/iq/timeline-...</td>\n      <td>TIMELINE: The Philippines’ 2021 COVID-19 vacci...</td>\n      <td>SOFIA TOMACRUZ</td>\n      <td>2021-02-04 19:43:00</td>\n      <td>MANILA, PHILIPPINES\\n(UPDATED) On March 1, the...</td>\n      <td>Rappler</td>\n      <td>0.0</td>\n      <td>0.8576</td>\n      <td>say, vaccine, dose, government, country, healt...</td>\n      <td>[update, march, finally, begin, legally, roll,...</td>\n    </tr>\n    <tr>\n      <th>2</th>\n      <td>https://www.rappler.com/nation/philippines-rec...</td>\n      <td>After initial delay, Philippines to receive As...</td>\n      <td>SOFIA TOMACRUZ</td>\n      <td>2021-03-03 14:41:00</td>\n      <td>MANILA, PHILIPPINES\\n(UPDATED) Malacañang says...</td>\n      <td>Rappler</td>\n      <td>1.0</td>\n      <td>0.6221</td>\n      <td>say, vaccine, dose, government, astrazeneca, t...</td>\n      <td>[update, malacanang, say, dose, covax, global,...</td>\n    </tr>\n    <tr>\n      <th>3</th>\n      <td>https://www.rappler.com/nation/philippines-gra...</td>\n      <td>Philippines grants emergency approval for Sino...</td>\n      <td>SOFIA TOMACRUZ</td>\n      <td>2021-02-22 12:19:00</td>\n      <td>MANILA, PHILIPPINES\\n(UPDATED) Its lower effic...</td>\n      <td>Rappler</td>\n      <td>1.0</td>\n      <td>0.5327</td>\n      <td>say, vaccine, dose, government, astrazeneca, t...</td>\n      <td>[update, low, efficacy, trial, lead, expert, r...</td>\n    </tr>\n    <tr>\n      <th>4</th>\n      <td>https://www.rappler.com/nation/philippines-rec...</td>\n      <td>Philippines receives first COVID-19 vaccine de...</td>\n      <td>SOFIA TOMACRUZ</td>\n      <td>2021-02-28 16:16:00</td>\n      <td>MANILA, PHILIPPINES\\n(3rd UPDATE) The arrival ...</td>\n      <td>Rappler</td>\n      <td>0.0</td>\n      <td>0.7510</td>\n      <td>say, vaccine, dose, government, country, healt...</td>\n      <td>[rd, update, arrival, donate, vaccine, china, ...</td>\n    </tr>\n    <tr>\n      <th>...</th>\n      <td>...</td>\n      <td>...</td>\n      <td>...</td>\n      <td>...</td>\n      <td>...</td>\n      <td>...</td>\n      <td>...</td>\n      <td>...</td>\n      <td>...</td>\n      <td>...</td>\n    </tr>\n    <tr>\n      <th>365</th>\n      <td>https://www.gmanetwork.com/news/scitech/scienc...</td>\n      <td>UK starts accelerated review for AstraZeneca’s...</td>\n      <td>KANISHKA SINGH</td>\n      <td>2020-11-01 21:09:00</td>\n      <td>AstraZeneca Plc said on Sunday Britain's healt...</td>\n      <td>GMA News</td>\n      <td>0.0</td>\n      <td>0.5514</td>\n      <td>say, vaccine, dose, government, country, healt...</td>\n      <td>[astrazeneca, say, sunday, britain, health, re...</td>\n    </tr>\n    <tr>\n      <th>366</th>\n      <td>https://www.gmanetwork.com/news/scitech/scienc...</td>\n      <td>J&amp;J's COVID-19 vaccine produces strong immune ...</td>\n      <td>NANCY LAPID</td>\n      <td>2020-09-26 04:06:00</td>\n      <td>A single dose of Johnson &amp; Johnson's experimen...</td>\n      <td>GMA News</td>\n      <td>0.0</td>\n      <td>0.9966</td>\n      <td>say, vaccine, dose, government, country, healt...</td>\n      <td>[single, dose, johnson, johnsons, experimental...</td>\n    </tr>\n    <tr>\n      <th>367</th>\n      <td>https://www.gmanetwork.com/news/news/regions/7...</td>\n      <td>COVID-19 vaccine clinical trials for Cavite re...</td>\n      <td>ANNA FELICIA BAJO</td>\n      <td>2020-08-28 09:31:00</td>\n      <td>The clinical trials for vaccines against COVID...</td>\n      <td>GMA News</td>\n      <td>2.0</td>\n      <td>0.9765</td>\n      <td>say, vaccine, health, dose, first, government,...</td>\n      <td>[clinical_trial, vaccine, involve, cavite, res...</td>\n    </tr>\n    <tr>\n      <th>368</th>\n      <td>https://www.gmanetwork.com/news/news/nation/75...</td>\n      <td>China eyes COVID-19 vaccine by year-end or ear...</td>\n      <td>NICOLE-ANNE C. LAGRIMAS</td>\n      <td>2020-09-08 19:09:00</td>\n      <td>China hopes to be ready with a vaccine against...</td>\n      <td>GMA News</td>\n      <td>1.0</td>\n      <td>0.9933</td>\n      <td>say, vaccine, dose, government, astrazeneca, t...</td>\n      <td>[china, hope, ready, end, year, early, chinese...</td>\n    </tr>\n    <tr>\n      <th>369</th>\n      <td>https://www.gmanetwork.com/news/scitech/scienc...</td>\n      <td>US firm announces ‘positive interim’ phase 1 r...</td>\n      <td>GMA News</td>\n      <td>2020-05-18 20:53:00</td>\n      <td>WASHINGTON — US biotech firm Moderna on Monday...</td>\n      <td>GMA News</td>\n      <td>1.0</td>\n      <td>0.9867</td>\n      <td>say, vaccine, dose, government, astrazeneca, t...</td>\n      <td>[washington, biotech, firm, moderna, report, p...</td>\n    </tr>\n  </tbody>\n</table>\n<p>370 rows × 10 columns</p>\n</div>"
     },
     "metadata": {},
     "execution_count": 17
    }
   ],
   "source": [
    "df = pd.concat([df, df_dominant_topic.reindex(df.index)], axis=1).drop('document_id', axis=1)\n",
    "df"
   ]
  },
  {
   "cell_type": "code",
   "execution_count": 18,
   "metadata": {},
   "outputs": [],
   "source": [
    "# Data Analysis\n",
    "df['polarity'] = df['text'].str.join(' ').apply(get_vader_polarity)\n",
    "df['negativity'] = df['text'].str.join(' ').apply(get_vader_negativity)\n",
    "df['neutrality'] = df['text'].str.join(' ').apply(get_vader_neutrality)\n",
    "df['positivity'] = df['text'].str.join(' ').apply(get_vader_positivity)\n",
    "df['subjectivity'] = df['text'].str.join(' ').apply(get_subjectivity)\n",
    "df['analysis'] = df['polarity'].apply(get_analysis)\n",
    "\n",
    "# Save the model dataset as CSV\n",
    "FILENAME = 'datasets/model.csv'\n",
    "df.to_csv(FILENAME, index=False)\n"
   ]
  },
  {
   "cell_type": "code",
   "execution_count": 19,
   "metadata": {},
   "outputs": [
    {
     "output_type": "stream",
     "name": "stdout",
     "text": [
      "<class 'pandas.core.frame.DataFrame'>\nRangeIndex: 370 entries, 0 to 369\nData columns (total 16 columns):\n #   Column                         Non-Null Count  Dtype         \n---  ------                         --------------  -----         \n 0   urls                           370 non-null    object        \n 1   titles                         370 non-null    object        \n 2   authors                        370 non-null    object        \n 3   published_dates                370 non-null    datetime64[ns]\n 4   articles_content               370 non-null    object        \n 5   news_org                       370 non-null    object        \n 6   dominant_topic                 370 non-null    float64       \n 7   topic_percentage_contribution  370 non-null    float64       \n 8   keywords                       370 non-null    object        \n 9   text                           370 non-null    object        \n 10  polarity                       370 non-null    float64       \n 11  negativity                     370 non-null    float64       \n 12  neutrality                     370 non-null    float64       \n 13  positivity                     370 non-null    float64       \n 14  subjectivity                   370 non-null    float64       \n 15  analysis                       370 non-null    object        \ndtypes: datetime64[ns](1), float64(7), object(8)\nmemory usage: 46.4+ KB\n"
     ]
    },
    {
     "output_type": "execute_result",
     "data": {
      "text/plain": [
       "                                                  urls  \\\n",
       "0    https://www.rappler.com/newsbreak/explainers/w...   \n",
       "1    https://www.rappler.com/newsbreak/iq/timeline-...   \n",
       "2    https://www.rappler.com/nation/philippines-rec...   \n",
       "3    https://www.rappler.com/nation/philippines-gra...   \n",
       "4    https://www.rappler.com/nation/philippines-rec...   \n",
       "..                                                 ...   \n",
       "365  https://www.gmanetwork.com/news/scitech/scienc...   \n",
       "366  https://www.gmanetwork.com/news/scitech/scienc...   \n",
       "367  https://www.gmanetwork.com/news/news/regions/7...   \n",
       "368  https://www.gmanetwork.com/news/news/nation/75...   \n",
       "369  https://www.gmanetwork.com/news/scitech/scienc...   \n",
       "\n",
       "                                                titles  \\\n",
       "0    Here’s why COVID-19 vaccines haven’t arrived i...   \n",
       "1    TIMELINE: The Philippines’ 2021 COVID-19 vacci...   \n",
       "2    After initial delay, Philippines to receive As...   \n",
       "3    Philippines grants emergency approval for Sino...   \n",
       "4    Philippines receives first COVID-19 vaccine de...   \n",
       "..                                                 ...   \n",
       "365  UK starts accelerated review for AstraZeneca’s...   \n",
       "366  J&J's COVID-19 vaccine produces strong immune ...   \n",
       "367  COVID-19 vaccine clinical trials for Cavite re...   \n",
       "368  China eyes COVID-19 vaccine by year-end or ear...   \n",
       "369  US firm announces ‘positive interim’ phase 1 r...   \n",
       "\n",
       "                     authors     published_dates  \\\n",
       "0             SOFIA TOMACRUZ 2021-02-18 09:22:00   \n",
       "1             SOFIA TOMACRUZ 2021-02-04 19:43:00   \n",
       "2             SOFIA TOMACRUZ 2021-03-03 14:41:00   \n",
       "3             SOFIA TOMACRUZ 2021-02-22 12:19:00   \n",
       "4             SOFIA TOMACRUZ 2021-02-28 16:16:00   \n",
       "..                       ...                 ...   \n",
       "365           KANISHKA SINGH 2020-11-01 21:09:00   \n",
       "366              NANCY LAPID 2020-09-26 04:06:00   \n",
       "367        ANNA FELICIA BAJO 2020-08-28 09:31:00   \n",
       "368  NICOLE-ANNE C. LAGRIMAS 2020-09-08 19:09:00   \n",
       "369                 GMA News 2020-05-18 20:53:00   \n",
       "\n",
       "                                      articles_content  news_org  \\\n",
       "0    MANILA, PHILIPPINES\\nThe Philippine government...   Rappler   \n",
       "1    MANILA, PHILIPPINES\\n(UPDATED) On March 1, the...   Rappler   \n",
       "2    MANILA, PHILIPPINES\\n(UPDATED) Malacañang says...   Rappler   \n",
       "3    MANILA, PHILIPPINES\\n(UPDATED) Its lower effic...   Rappler   \n",
       "4    MANILA, PHILIPPINES\\n(3rd UPDATE) The arrival ...   Rappler   \n",
       "..                                                 ...       ...   \n",
       "365  AstraZeneca Plc said on Sunday Britain's healt...  GMA News   \n",
       "366  A single dose of Johnson & Johnson's experimen...  GMA News   \n",
       "367  The clinical trials for vaccines against COVID...  GMA News   \n",
       "368  China hopes to be ready with a vaccine against...  GMA News   \n",
       "369  WASHINGTON — US biotech firm Moderna on Monday...  GMA News   \n",
       "\n",
       "     dominant_topic  topic_percentage_contribution  \\\n",
       "0               0.0                         0.9950   \n",
       "1               0.0                         0.8576   \n",
       "2               1.0                         0.6221   \n",
       "3               1.0                         0.5327   \n",
       "4               0.0                         0.7510   \n",
       "..              ...                            ...   \n",
       "365             0.0                         0.5514   \n",
       "366             0.0                         0.9966   \n",
       "367             2.0                         0.9765   \n",
       "368             1.0                         0.9933   \n",
       "369             1.0                         0.9867   \n",
       "\n",
       "                                              keywords  \\\n",
       "0    say, vaccine, dose, government, country, healt...   \n",
       "1    say, vaccine, dose, government, country, healt...   \n",
       "2    say, vaccine, dose, government, astrazeneca, t...   \n",
       "3    say, vaccine, dose, government, astrazeneca, t...   \n",
       "4    say, vaccine, dose, government, country, healt...   \n",
       "..                                                 ...   \n",
       "365  say, vaccine, dose, government, country, healt...   \n",
       "366  say, vaccine, dose, government, country, healt...   \n",
       "367  say, vaccine, health, dose, first, government,...   \n",
       "368  say, vaccine, dose, government, astrazeneca, t...   \n",
       "369  say, vaccine, dose, government, astrazeneca, t...   \n",
       "\n",
       "                                                  text  polarity  negativity  \\\n",
       "0    ['government', 'need', 'key', 'measure', 'inde...    0.9842       0.084   \n",
       "1    ['update', 'march', 'finally', 'begin', 'legal...    0.9892       0.011   \n",
       "2    ['update', 'malacanang', 'say', 'dose', 'covax...    0.8251       0.064   \n",
       "3    ['update', 'low', 'efficacy', 'trial', 'lead',...    0.9666       0.095   \n",
       "4    ['rd', 'update', 'arrival', 'donate', 'vaccine...    0.7334       0.065   \n",
       "..                                                 ...       ...         ...   \n",
       "365  ['astrazeneca', 'say', 'sunday', 'britain', 'h...   -0.9393       0.131   \n",
       "366  ['single', 'dose', 'johnson', 'johnsons', 'exp...    0.8689       0.103   \n",
       "367  ['clinical_trial', 'vaccine', 'involve', 'cavi...   -0.1531       0.087   \n",
       "368  ['china', 'hope', 'ready', 'end', 'year', 'ear...    0.9714       0.047   \n",
       "369  ['washington', 'biotech', 'firm', 'moderna', '...   -0.2960       0.112   \n",
       "\n",
       "     neutrality  positivity  subjectivity  analysis  \n",
       "0         0.786       0.131      0.389224  Positive  \n",
       "1         0.886       0.103      0.374242  Positive  \n",
       "2         0.805       0.131      0.353750  Positive  \n",
       "3         0.743       0.162      0.382554  Positive  \n",
       "4         0.860       0.075      0.296780  Positive  \n",
       "..          ...         ...           ...       ...  \n",
       "365       0.826       0.043      0.422408  Negative  \n",
       "366       0.770       0.127      0.426386  Positive  \n",
       "367       0.811       0.102      0.284975  Negative  \n",
       "368       0.742       0.211      0.348611  Positive  \n",
       "369       0.778       0.110      0.423129  Negative  \n",
       "\n",
       "[370 rows x 16 columns]"
      ],
      "text/html": "<div>\n<style scoped>\n    .dataframe tbody tr th:only-of-type {\n        vertical-align: middle;\n    }\n\n    .dataframe tbody tr th {\n        vertical-align: top;\n    }\n\n    .dataframe thead th {\n        text-align: right;\n    }\n</style>\n<table border=\"1\" class=\"dataframe\">\n  <thead>\n    <tr style=\"text-align: right;\">\n      <th></th>\n      <th>urls</th>\n      <th>titles</th>\n      <th>authors</th>\n      <th>published_dates</th>\n      <th>articles_content</th>\n      <th>news_org</th>\n      <th>dominant_topic</th>\n      <th>topic_percentage_contribution</th>\n      <th>keywords</th>\n      <th>text</th>\n      <th>polarity</th>\n      <th>negativity</th>\n      <th>neutrality</th>\n      <th>positivity</th>\n      <th>subjectivity</th>\n      <th>analysis</th>\n    </tr>\n  </thead>\n  <tbody>\n    <tr>\n      <th>0</th>\n      <td>https://www.rappler.com/newsbreak/explainers/w...</td>\n      <td>Here’s why COVID-19 vaccines haven’t arrived i...</td>\n      <td>SOFIA TOMACRUZ</td>\n      <td>2021-02-18 09:22:00</td>\n      <td>MANILA, PHILIPPINES\\nThe Philippine government...</td>\n      <td>Rappler</td>\n      <td>0.0</td>\n      <td>0.9950</td>\n      <td>say, vaccine, dose, government, country, healt...</td>\n      <td>['government', 'need', 'key', 'measure', 'inde...</td>\n      <td>0.9842</td>\n      <td>0.084</td>\n      <td>0.786</td>\n      <td>0.131</td>\n      <td>0.389224</td>\n      <td>Positive</td>\n    </tr>\n    <tr>\n      <th>1</th>\n      <td>https://www.rappler.com/newsbreak/iq/timeline-...</td>\n      <td>TIMELINE: The Philippines’ 2021 COVID-19 vacci...</td>\n      <td>SOFIA TOMACRUZ</td>\n      <td>2021-02-04 19:43:00</td>\n      <td>MANILA, PHILIPPINES\\n(UPDATED) On March 1, the...</td>\n      <td>Rappler</td>\n      <td>0.0</td>\n      <td>0.8576</td>\n      <td>say, vaccine, dose, government, country, healt...</td>\n      <td>['update', 'march', 'finally', 'begin', 'legal...</td>\n      <td>0.9892</td>\n      <td>0.011</td>\n      <td>0.886</td>\n      <td>0.103</td>\n      <td>0.374242</td>\n      <td>Positive</td>\n    </tr>\n    <tr>\n      <th>2</th>\n      <td>https://www.rappler.com/nation/philippines-rec...</td>\n      <td>After initial delay, Philippines to receive As...</td>\n      <td>SOFIA TOMACRUZ</td>\n      <td>2021-03-03 14:41:00</td>\n      <td>MANILA, PHILIPPINES\\n(UPDATED) Malacañang says...</td>\n      <td>Rappler</td>\n      <td>1.0</td>\n      <td>0.6221</td>\n      <td>say, vaccine, dose, government, astrazeneca, t...</td>\n      <td>['update', 'malacanang', 'say', 'dose', 'covax...</td>\n      <td>0.8251</td>\n      <td>0.064</td>\n      <td>0.805</td>\n      <td>0.131</td>\n      <td>0.353750</td>\n      <td>Positive</td>\n    </tr>\n    <tr>\n      <th>3</th>\n      <td>https://www.rappler.com/nation/philippines-gra...</td>\n      <td>Philippines grants emergency approval for Sino...</td>\n      <td>SOFIA TOMACRUZ</td>\n      <td>2021-02-22 12:19:00</td>\n      <td>MANILA, PHILIPPINES\\n(UPDATED) Its lower effic...</td>\n      <td>Rappler</td>\n      <td>1.0</td>\n      <td>0.5327</td>\n      <td>say, vaccine, dose, government, astrazeneca, t...</td>\n      <td>['update', 'low', 'efficacy', 'trial', 'lead',...</td>\n      <td>0.9666</td>\n      <td>0.095</td>\n      <td>0.743</td>\n      <td>0.162</td>\n      <td>0.382554</td>\n      <td>Positive</td>\n    </tr>\n    <tr>\n      <th>4</th>\n      <td>https://www.rappler.com/nation/philippines-rec...</td>\n      <td>Philippines receives first COVID-19 vaccine de...</td>\n      <td>SOFIA TOMACRUZ</td>\n      <td>2021-02-28 16:16:00</td>\n      <td>MANILA, PHILIPPINES\\n(3rd UPDATE) The arrival ...</td>\n      <td>Rappler</td>\n      <td>0.0</td>\n      <td>0.7510</td>\n      <td>say, vaccine, dose, government, country, healt...</td>\n      <td>['rd', 'update', 'arrival', 'donate', 'vaccine...</td>\n      <td>0.7334</td>\n      <td>0.065</td>\n      <td>0.860</td>\n      <td>0.075</td>\n      <td>0.296780</td>\n      <td>Positive</td>\n    </tr>\n    <tr>\n      <th>...</th>\n      <td>...</td>\n      <td>...</td>\n      <td>...</td>\n      <td>...</td>\n      <td>...</td>\n      <td>...</td>\n      <td>...</td>\n      <td>...</td>\n      <td>...</td>\n      <td>...</td>\n      <td>...</td>\n      <td>...</td>\n      <td>...</td>\n      <td>...</td>\n      <td>...</td>\n      <td>...</td>\n    </tr>\n    <tr>\n      <th>365</th>\n      <td>https://www.gmanetwork.com/news/scitech/scienc...</td>\n      <td>UK starts accelerated review for AstraZeneca’s...</td>\n      <td>KANISHKA SINGH</td>\n      <td>2020-11-01 21:09:00</td>\n      <td>AstraZeneca Plc said on Sunday Britain's healt...</td>\n      <td>GMA News</td>\n      <td>0.0</td>\n      <td>0.5514</td>\n      <td>say, vaccine, dose, government, country, healt...</td>\n      <td>['astrazeneca', 'say', 'sunday', 'britain', 'h...</td>\n      <td>-0.9393</td>\n      <td>0.131</td>\n      <td>0.826</td>\n      <td>0.043</td>\n      <td>0.422408</td>\n      <td>Negative</td>\n    </tr>\n    <tr>\n      <th>366</th>\n      <td>https://www.gmanetwork.com/news/scitech/scienc...</td>\n      <td>J&amp;J's COVID-19 vaccine produces strong immune ...</td>\n      <td>NANCY LAPID</td>\n      <td>2020-09-26 04:06:00</td>\n      <td>A single dose of Johnson &amp; Johnson's experimen...</td>\n      <td>GMA News</td>\n      <td>0.0</td>\n      <td>0.9966</td>\n      <td>say, vaccine, dose, government, country, healt...</td>\n      <td>['single', 'dose', 'johnson', 'johnsons', 'exp...</td>\n      <td>0.8689</td>\n      <td>0.103</td>\n      <td>0.770</td>\n      <td>0.127</td>\n      <td>0.426386</td>\n      <td>Positive</td>\n    </tr>\n    <tr>\n      <th>367</th>\n      <td>https://www.gmanetwork.com/news/news/regions/7...</td>\n      <td>COVID-19 vaccine clinical trials for Cavite re...</td>\n      <td>ANNA FELICIA BAJO</td>\n      <td>2020-08-28 09:31:00</td>\n      <td>The clinical trials for vaccines against COVID...</td>\n      <td>GMA News</td>\n      <td>2.0</td>\n      <td>0.9765</td>\n      <td>say, vaccine, health, dose, first, government,...</td>\n      <td>['clinical_trial', 'vaccine', 'involve', 'cavi...</td>\n      <td>-0.1531</td>\n      <td>0.087</td>\n      <td>0.811</td>\n      <td>0.102</td>\n      <td>0.284975</td>\n      <td>Negative</td>\n    </tr>\n    <tr>\n      <th>368</th>\n      <td>https://www.gmanetwork.com/news/news/nation/75...</td>\n      <td>China eyes COVID-19 vaccine by year-end or ear...</td>\n      <td>NICOLE-ANNE C. LAGRIMAS</td>\n      <td>2020-09-08 19:09:00</td>\n      <td>China hopes to be ready with a vaccine against...</td>\n      <td>GMA News</td>\n      <td>1.0</td>\n      <td>0.9933</td>\n      <td>say, vaccine, dose, government, astrazeneca, t...</td>\n      <td>['china', 'hope', 'ready', 'end', 'year', 'ear...</td>\n      <td>0.9714</td>\n      <td>0.047</td>\n      <td>0.742</td>\n      <td>0.211</td>\n      <td>0.348611</td>\n      <td>Positive</td>\n    </tr>\n    <tr>\n      <th>369</th>\n      <td>https://www.gmanetwork.com/news/scitech/scienc...</td>\n      <td>US firm announces ‘positive interim’ phase 1 r...</td>\n      <td>GMA News</td>\n      <td>2020-05-18 20:53:00</td>\n      <td>WASHINGTON — US biotech firm Moderna on Monday...</td>\n      <td>GMA News</td>\n      <td>1.0</td>\n      <td>0.9867</td>\n      <td>say, vaccine, dose, government, astrazeneca, t...</td>\n      <td>['washington', 'biotech', 'firm', 'moderna', '...</td>\n      <td>-0.2960</td>\n      <td>0.112</td>\n      <td>0.778</td>\n      <td>0.110</td>\n      <td>0.423129</td>\n      <td>Negative</td>\n    </tr>\n  </tbody>\n</table>\n<p>370 rows × 16 columns</p>\n</div>"
     },
     "metadata": {},
     "execution_count": 19
    }
   ],
   "source": [
    "### Read the MODEL dataset\n",
    "df = pd.read_csv(FILENAME)\n",
    "df['published_dates'] = pd.to_datetime(df['published_dates'])\n",
    "df.info()\n",
    "df"
   ]
  },
  {
   "cell_type": "code",
   "execution_count": 20,
   "metadata": {},
   "outputs": [
    {
     "output_type": "display_data",
     "data": {
      "application/vnd.plotly.v1+json": {
       "config": {
        "plotlyServerURL": "https://plot.ly"
       },
       "data": [
        {
         "hovertemplate": "analysis=Positive<br>polarity=%{x}<br>subjectivity=%{marker.size}<extra></extra>",
         "legendgroup": "Positive",
         "marker": {
          "color": "#636efa",
          "size": [
           0.3892244397759103,
           0.3742417582417582,
           0.35374999999999995,
           0.3825537634408603,
           0.29678030303030306,
           0.4573232323232324,
           0.4759624729012484,
           0.4482183908045976,
           0.2684523809523809,
           0.17142857142857146,
           0.3907894736842106,
           0.3484126984126985,
           0.4269047619047619,
           0.38655913978494616,
           0.25796602387511475,
           0.4334000955754204,
           0.4825967117988396,
           0.3756521739130435,
           0.4611904761904762,
           0.3234670364357867,
           0.4709294871794872,
           0.4370526695526696,
           0.38211079044412377,
           0.517151675485009,
           0.29243197278911565,
           0.5375255102040816,
           0.3247826086956521,
           0.5067222222222222,
           0.4102453102453103,
           0.3796296296296296,
           0.3295833333333333,
           0.5341666666666666,
           0.3764227642276423,
           0.4460648148148148,
           0.3924823633156968,
           0.41375,
           0.3222325293753865,
           0.2781565656565657,
           0.3325396825396825,
           0.2796296296296296,
           0.3744318181818182,
           0.4980272108843538,
           0.35796491228070176,
           0.5305190905190904,
           0.29446649029982364,
           0.3186781609195403,
           0.3601718403547672,
           0.3889285714285714,
           0.4009259259259259,
           0.4948769168684424,
           0.375,
           0.4128205128205129,
           0.3949404761904762,
           0.4561401366217878,
           0.39429824561403504,
           0.29596491228070176,
           0.3172222222222222,
           0.4564141414141413,
           0.4650527009222661,
           0.6296918767507003,
           0.3750199362041467,
           0.3552631578947368,
           0.31311115355233005,
           0.22568181818181815,
           0.3473333333333333,
           0.3625,
           0.3322306397306397,
           0.2796332046332047,
           0.3487179487179487,
           0.2803921568627451,
           0.3678571428571429,
           0.39240740740740737,
           0.3235537190082645,
           0.5725595238095237,
           0.37497732426303854,
           0.3755012531328321,
           0.43306277056277065,
           0.3366666666666667,
           0.40680213464696224,
           0.3671679197994988,
           0.28775510204081634,
           0.03333333333333333,
           0.3874534161490684,
           0.3434523809523809,
           0.31791831357048744,
           0.30625,
           0.28108883869753426,
           0.5042424242424242,
           0.3075757575757576,
           0.426569264069264,
           0.4213246753246753,
           0.3603254769921436,
           0.4129629629629629,
           0.23095238095238094,
           0.380270092226614,
           0.2621921182266009,
           0.27957393483709275,
           0.3219561688311688,
           0.4725784632034633,
           0.3722807017543859,
           0.3785714285714286,
           0.33205128205128204,
           0.4946969696969697,
           0.5973484848484848,
           0.32672438672438664,
           0.3030337941628264,
           0.4742369322220069,
           0.2157575757575758,
           0.7196969696969697,
           0.4008928571428572,
           0.3317171717171717,
           0.38925049309664705,
           0.4726731601731601,
           0.2947916666666667,
           0.3900793650793651,
           0.3607142857142857,
           0.4036419753086419,
           0.2607638888888889,
           0.3760822510822511,
           0.2809343434343434,
           0.1361111111111111,
           0.4368115942028985,
           0.470952380952381,
           0.40116666666666667,
           0.34579124579124576,
           0.4375180375180375,
           0.4979312354312354,
           0.32382154882154884,
           0.38114035087719295,
           0.3480555555555556,
           0.3787037037037037,
           0.42572055137844617,
           0.3664040404040405,
           0.4719285714285714,
           0.3936710858585859,
           0.3405013480671375,
           0.3498196248196248,
           0.475867551566081,
           0.3859649122807018,
           0.3430555555555556,
           0.4869999999999999,
           0.3788031355218857,
           0.3238369963369963,
           0.4831649831649832,
           0.5542753623188407,
           0.3778787878787879,
           0.4780882352941176,
           0.4912121212121212,
           0.3351543384152079,
           0.4873353096179184,
           0.450925925925926,
           0.5055555555555555,
           0.4705882352941176,
           0.5707162534435262,
           0.3727272727272729,
           0.4001152583049135,
           0.4281305114638448,
           0.31278559403559403,
           0.4976096367400714,
           0.4445454545454546,
           0.3455515748619197,
           0.33981481481481474,
           0.4345588235294118,
           0.4695098039215686,
           0.5727272727272729,
           0.3666666666666668,
           0.3650757575757577,
           0.3655748663101605,
           0.44502272727272735,
           0.3748148148148148,
           0.37816666666666665,
           0.4742063492063493,
           0.38903508771929823,
           0.4619047619047619,
           0.4726911976911977,
           0.4531439393939394,
           0.2940389610389609,
           0.4596795880886789,
           0.5526315789473685,
           0.2854166666666667,
           0.3758928571428572,
           0.3094907407407408,
           0.4516666666666666,
           0.26375,
           0.3821824009324009,
           0.3938466295609153,
           0.3271062271062271,
           0.4606228956228957,
           0.33405797101449275,
           0.4119696969696969,
           0.4,
           0.3967086834733893,
           0.4154459511077158,
           0.4020050125313283,
           0.4800000000000001,
           0.23,
           0.4468899521531101,
           0.26464646464646463,
           0.3706363030908485,
           0.3217592592592593,
           0.2803571428571429,
           0.4023182957393484,
           0.4008928571428571,
           0.515,
           0.4086659275683667,
           0.3189021164021164,
           0.6555555555555556,
           0.293013468013468,
           0.34865079365079354,
           0.31794871794871804,
           0.3880952380952381,
           0.4007246376811594,
           0.275,
           0.1639455782312925,
           0.2623376623376623,
           0.4611111111111111,
           0.4166666666666666,
           0.45036221590909103,
           0.4749999999999999,
           0.2934920634920635,
           0.16029411764705884,
           0.4377174908424909,
           0.345,
           0.4666666666666666,
           0.35513605442176865,
           0.2836507936507936,
           0.3218831168831168,
           0.4468390804597701,
           0.4553084415584416,
           0.3698366477272728,
           0.2918831168831169,
           0.5404634581105169,
           0.43125,
           0.4670634920634921,
           0.4060606060606061,
           0.3419191919191919,
           0.3561253561253561,
           0.4121212121212121,
           0.4078869047619048,
           0.4899393090569562,
           0.4066382412767955,
           0.4397246272246271,
           0.4607142857142858,
           0.4704594017094018,
           0.4597959183673471,
           0.3910245310245309,
           0.5368421052631579,
           0.4548478835978837,
           0.440072463768116,
           0.532121212121212,
           0.4993750000000001,
           0.32704081632653065,
           0.4367132867132867,
           0.4421052631578948,
           0.4984249084249085,
           0.3359777578743096,
           0.5629953379953381,
           0.36904761904761896,
           0.42055555555555546,
           0.4999684343434344,
           0.3506379585326955,
           0.4027472527472528,
           0.4422783389450057,
           0.3914141414141414,
           0.35032051282051285,
           0.36061507936507936,
           0.356198347107438,
           0.3008333333333333,
           0.2916666666666667,
           0.3945241425241424,
           0.5191520467836257,
           0.4713429752066114,
           0.41785400589748417,
           0.31958522098056985,
           0.4954985337243403,
           0.3150432900432901,
           0.4073958333333334,
           0.42559523809523797,
           0.5065750915750915,
           0.4333368624129493,
           0.5383928571428571,
           0.3175964187327823,
           0.29444444444444445,
           0.4764912280701755,
           0.3838095238095239,
           0.4249053030303031,
           0.4053506493506493,
           0.4263857519292302,
           0.34861111111111115
          ],
          "sizemode": "area",
          "sizeref": 0.0017992424242424243,
          "symbol": "circle"
         },
         "mode": "markers",
         "name": "Positive",
         "orientation": "v",
         "showlegend": true,
         "type": "scatter",
         "x": [
          0.9842,
          0.9892,
          0.8251,
          0.9666,
          0.7334,
          0.9902,
          0.9313,
          0.9772,
          0.8591,
          0.5719,
          0.9735,
          0.9937,
          0.5719,
          0.9690000000000001,
          0.9859,
          0.9981,
          0.9938,
          0.9246,
          0.9531,
          0.9978,
          0.6597,
          0.5719,
          0.9887,
          0.9773,
          0.9552,
          0.9806,
          0.9744,
          0.9524,
          0.9678,
          0.9403,
          0.9648,
          0.9889,
          0.9662,
          0.9468,
          0.7774,
          0.9062,
          0.9858,
          0.8271,
          0.9814,
          0.8689,
          0.7964,
          0.9944,
          0.9991,
          0.9924,
          0.9648,
          0.9794,
          0.9928,
          0.836,
          0.8885,
          0.9964,
          0.9819,
          0.9596,
          0.9682,
          0.9942,
          0.9670000000000001,
          0.9612,
          0.9552,
          0.9349,
          0.9023,
          0.9878,
          0.8126,
          0.7096,
          0.9741,
          0.9834,
          0.9823,
          0.9686,
          0.0772,
          0.9524,
          0.7964,
          0.8834,
          0.2732,
          0.2195,
          0.946,
          0.9371,
          0.8828,
          0.8807,
          0.9590000000000001,
          0.9678,
          0.9623,
          0.9858,
          0.9708,
          0.9432,
          0.9774,
          0.8126,
          0.9788,
          0.9022,
          0.9432,
          0.5423,
          0.25,
          0.0954,
          0.9538,
          0.9937,
          0.9359999999999999,
          0.5267,
          0.9712,
          0.9601,
          0.9468,
          0.6369,
          0.6486,
          0.6705,
          0.9847,
          0.9001,
          0.2837,
          0.9861,
          0.2732,
          0.8271,
          0.8989,
          0.9142,
          0.875,
          0.9501,
          0.8442,
          0.6908,
          0.935,
          0.5994,
          0.9001,
          0.9601,
          0.7269,
          0.875,
          0.9764,
          0.4404,
          0.9661,
          0.972,
          0.9509,
          0.9628,
          0.9531,
          0.9231,
          0.6124,
          0.8126,
          0.8689,
          0.9674,
          0.7003,
          0.9169,
          0.9723,
          0.9788,
          0.9913,
          0.9451,
          0.9393,
          0.9837,
          0.7906,
          0.9169,
          0.1027,
          0.2516,
          0.9821,
          0.9914,
          0.6908,
          0.9753,
          0.7506,
          0.7096,
          0.6054,
          0.8126,
          0.7269,
          0.9493,
          0.8779,
          0.9186,
          0.9031,
          0.9902,
          0.8621,
          0.624,
          0.8779,
          0.7190000000000001,
          0.9761,
          0.9764,
          0.9259999999999999,
          0.8979,
          0.9876,
          0.9565,
          0.802,
          0.9666,
          0.8689,
          0.8126,
          0.9670000000000001,
          0.6124,
          0.9468,
          0.9601,
          0.765,
          0.9359999999999999,
          0.9661,
          0.9001,
          0.9349,
          0.8074,
          0.9259,
          0.9823,
          0.0772,
          0.8126,
          0.9652,
          0.8074,
          0.7003,
          0.3182,
          0.5859,
          0.9729,
          0.8555,
          0.9657,
          0.9473,
          0.6249,
          0.9744,
          0.5267,
          0.9875,
          0.7269,
          0.9847,
          0.2732,
          0.9423,
          0.0516,
          0.9814,
          0.9531,
          0.8979,
          0.8591,
          0.8271,
          0.7717,
          0.8442,
          0.8909999999999999,
          0.8024,
          0.9781,
          0.9779,
          0.875,
          0.9545,
          0.128,
          0.34,
          0.9821,
          0.9744,
          0.9794,
          0.9774,
          0.9756,
          0.7717,
          0.8909999999999999,
          0.9166,
          0.9601,
          0.9081,
          0.9827,
          0.9786,
          0.7579,
          0.2263,
          0.9702,
          0.875,
          0.9420000000000001,
          0.2006,
          0.6597,
          0.836,
          0.2134,
          0.8777,
          0.9851,
          0.9978,
          0.8194,
          0.5719,
          0.9840000000000001,
          0.9805,
          0.9136,
          0.9287,
          0.9926,
          0.9337,
          0.6486,
          0.9973,
          0.8909999999999999,
          0.9894,
          0.9919,
          0.9946,
          0.6486,
          0.8442,
          0.0516,
          0.9618,
          0.9217,
          0.5574,
          0.8176,
          0.9336,
          0.9001,
          0.4939,
          0.8316,
          0.9732,
          0.9501,
          0.9246,
          0.9729,
          0.9657,
          0.8834,
          0.9836,
          0.9655,
          0.9849,
          0.9618,
          0.8696,
          0.8519,
          0.9975,
          0.9898,
          0.975,
          0.8591,
          0.2732,
          0.9574,
          0.8402,
          0.946,
          0.9764,
          0.8689,
          0.9714
         ],
         "xaxis": "x",
         "y": [
          0.3892244397759103,
          0.3742417582417582,
          0.35374999999999995,
          0.3825537634408603,
          0.29678030303030306,
          0.4573232323232324,
          0.4759624729012484,
          0.4482183908045976,
          0.2684523809523809,
          0.17142857142857146,
          0.3907894736842106,
          0.3484126984126985,
          0.4269047619047619,
          0.38655913978494616,
          0.25796602387511475,
          0.4334000955754204,
          0.4825967117988396,
          0.3756521739130435,
          0.4611904761904762,
          0.3234670364357867,
          0.4709294871794872,
          0.4370526695526696,
          0.38211079044412377,
          0.517151675485009,
          0.29243197278911565,
          0.5375255102040816,
          0.3247826086956521,
          0.5067222222222222,
          0.4102453102453103,
          0.3796296296296296,
          0.3295833333333333,
          0.5341666666666666,
          0.3764227642276423,
          0.4460648148148148,
          0.3924823633156968,
          0.41375,
          0.3222325293753865,
          0.2781565656565657,
          0.3325396825396825,
          0.2796296296296296,
          0.3744318181818182,
          0.4980272108843538,
          0.35796491228070176,
          0.5305190905190904,
          0.29446649029982364,
          0.3186781609195403,
          0.3601718403547672,
          0.3889285714285714,
          0.4009259259259259,
          0.4948769168684424,
          0.375,
          0.4128205128205129,
          0.3949404761904762,
          0.4561401366217878,
          0.39429824561403504,
          0.29596491228070176,
          0.3172222222222222,
          0.4564141414141413,
          0.4650527009222661,
          0.6296918767507003,
          0.3750199362041467,
          0.3552631578947368,
          0.31311115355233005,
          0.22568181818181815,
          0.3473333333333333,
          0.3625,
          0.3322306397306397,
          0.2796332046332047,
          0.3487179487179487,
          0.2803921568627451,
          0.3678571428571429,
          0.39240740740740737,
          0.3235537190082645,
          0.5725595238095237,
          0.37497732426303854,
          0.3755012531328321,
          0.43306277056277065,
          0.3366666666666667,
          0.40680213464696224,
          0.3671679197994988,
          0.28775510204081634,
          0.03333333333333333,
          0.3874534161490684,
          0.3434523809523809,
          0.31791831357048744,
          0.30625,
          0.28108883869753426,
          0.5042424242424242,
          0.3075757575757576,
          0.426569264069264,
          0.4213246753246753,
          0.3603254769921436,
          0.4129629629629629,
          0.23095238095238094,
          0.380270092226614,
          0.2621921182266009,
          0.27957393483709275,
          0.3219561688311688,
          0.4725784632034633,
          0.3722807017543859,
          0.3785714285714286,
          0.33205128205128204,
          0.4946969696969697,
          0.5973484848484848,
          0.32672438672438664,
          0.3030337941628264,
          0.4742369322220069,
          0.2157575757575758,
          0.7196969696969697,
          0.4008928571428572,
          0.3317171717171717,
          0.38925049309664705,
          0.4726731601731601,
          0.2947916666666667,
          0.3900793650793651,
          0.3607142857142857,
          0.4036419753086419,
          0.2607638888888889,
          0.3760822510822511,
          0.2809343434343434,
          0.1361111111111111,
          0.4368115942028985,
          0.470952380952381,
          0.40116666666666667,
          0.34579124579124576,
          0.4375180375180375,
          0.4979312354312354,
          0.32382154882154884,
          0.38114035087719295,
          0.3480555555555556,
          0.3787037037037037,
          0.42572055137844617,
          0.3664040404040405,
          0.4719285714285714,
          0.3936710858585859,
          0.3405013480671375,
          0.3498196248196248,
          0.475867551566081,
          0.3859649122807018,
          0.3430555555555556,
          0.4869999999999999,
          0.3788031355218857,
          0.3238369963369963,
          0.4831649831649832,
          0.5542753623188407,
          0.3778787878787879,
          0.4780882352941176,
          0.4912121212121212,
          0.3351543384152079,
          0.4873353096179184,
          0.450925925925926,
          0.5055555555555555,
          0.4705882352941176,
          0.5707162534435262,
          0.3727272727272729,
          0.4001152583049135,
          0.4281305114638448,
          0.31278559403559403,
          0.4976096367400714,
          0.4445454545454546,
          0.3455515748619197,
          0.33981481481481474,
          0.4345588235294118,
          0.4695098039215686,
          0.5727272727272729,
          0.3666666666666668,
          0.3650757575757577,
          0.3655748663101605,
          0.44502272727272735,
          0.3748148148148148,
          0.37816666666666665,
          0.4742063492063493,
          0.38903508771929823,
          0.4619047619047619,
          0.4726911976911977,
          0.4531439393939394,
          0.2940389610389609,
          0.4596795880886789,
          0.5526315789473685,
          0.2854166666666667,
          0.3758928571428572,
          0.3094907407407408,
          0.4516666666666666,
          0.26375,
          0.3821824009324009,
          0.3938466295609153,
          0.3271062271062271,
          0.4606228956228957,
          0.33405797101449275,
          0.4119696969696969,
          0.4,
          0.3967086834733893,
          0.4154459511077158,
          0.4020050125313283,
          0.4800000000000001,
          0.23,
          0.4468899521531101,
          0.26464646464646463,
          0.3706363030908485,
          0.3217592592592593,
          0.2803571428571429,
          0.4023182957393484,
          0.4008928571428571,
          0.515,
          0.4086659275683667,
          0.3189021164021164,
          0.6555555555555556,
          0.293013468013468,
          0.34865079365079354,
          0.31794871794871804,
          0.3880952380952381,
          0.4007246376811594,
          0.275,
          0.1639455782312925,
          0.2623376623376623,
          0.4611111111111111,
          0.4166666666666666,
          0.45036221590909103,
          0.4749999999999999,
          0.2934920634920635,
          0.16029411764705884,
          0.4377174908424909,
          0.345,
          0.4666666666666666,
          0.35513605442176865,
          0.2836507936507936,
          0.3218831168831168,
          0.4468390804597701,
          0.4553084415584416,
          0.3698366477272728,
          0.2918831168831169,
          0.5404634581105169,
          0.43125,
          0.4670634920634921,
          0.4060606060606061,
          0.3419191919191919,
          0.3561253561253561,
          0.4121212121212121,
          0.4078869047619048,
          0.4899393090569562,
          0.4066382412767955,
          0.4397246272246271,
          0.4607142857142858,
          0.4704594017094018,
          0.4597959183673471,
          0.3910245310245309,
          0.5368421052631579,
          0.4548478835978837,
          0.440072463768116,
          0.532121212121212,
          0.4993750000000001,
          0.32704081632653065,
          0.4367132867132867,
          0.4421052631578948,
          0.4984249084249085,
          0.3359777578743096,
          0.5629953379953381,
          0.36904761904761896,
          0.42055555555555546,
          0.4999684343434344,
          0.3506379585326955,
          0.4027472527472528,
          0.4422783389450057,
          0.3914141414141414,
          0.35032051282051285,
          0.36061507936507936,
          0.356198347107438,
          0.3008333333333333,
          0.2916666666666667,
          0.3945241425241424,
          0.5191520467836257,
          0.4713429752066114,
          0.41785400589748417,
          0.31958522098056985,
          0.4954985337243403,
          0.3150432900432901,
          0.4073958333333334,
          0.42559523809523797,
          0.5065750915750915,
          0.4333368624129493,
          0.5383928571428571,
          0.3175964187327823,
          0.29444444444444445,
          0.4764912280701755,
          0.3838095238095239,
          0.4249053030303031,
          0.4053506493506493,
          0.4263857519292302,
          0.34861111111111115
         ],
         "yaxis": "y"
        },
        {
         "hovertemplate": "analysis=Negative<br>polarity=%{x}<br>subjectivity=%{marker.size}<extra></extra>",
         "legendgroup": "Negative",
         "marker": {
          "color": "#EF553B",
          "size": [
           0.37134768740031904,
           0.39258658008658,
           0.3638970877607242,
           0.36181677018633535,
           0.2918593073593073,
           0.4467546342546343,
           0.4078703703703704,
           0.531159420289855,
           0.3742753623188406,
           0.2881666666666667,
           0.40976331360946733,
           0.3821428571428571,
           0.2765333333333333,
           0.3968811116419813,
           0.42527777777777775,
           0.3420202020202021,
           0.2923076923076923,
           0.4632666666666666,
           0.4282068808384598,
           0.4552380952380952,
           0.3448863636363636,
           0.4587962962962962,
           0.1851851851851852,
           0.5346153846153846,
           0.3478070175438597,
           0.3443223443223443,
           0.4748606060606061,
           0.3034722222222223,
           0.2466666666666667,
           0.2952020202020202,
           0.4907407407407408,
           0.4645833333333334,
           0.5683982683982683,
           0.4317431972789115,
           0.3431818181818182,
           0.2673333333333333,
           0.43677685950413214,
           0.6366666666666668,
           0.2888888888888889,
           0.2408333333333333,
           0.4407407407407408,
           0.3990340909090909,
           0.4674603174603174,
           0.31777777777777777,
           0.3600061703002879,
           0.4674342632675964,
           0.2259711779448621,
           0.4556848620129869,
           0.2927272727272728,
           0.4710119047619048,
           0.2416666666666667,
           0.3736634199134199,
           0.4322916666666667,
           0.38375,
           0.2473526473526473,
           0.5227777777777777,
           0.4344186677520011,
           0.3901515151515152,
           0.30486111111111114,
           0.5076923076923077,
           0.4542362399505256,
           0.5433333333333332,
           0.514069264069264,
           0.34,
           0.3727561327561327,
           0.30877777777777776,
           0.3199340342197485,
           0.3908730158730159,
           0.3784126984126984,
           0.4382440476190476,
           0.3166666666666667,
           0.265,
           0.3815656565656566,
           0.4605672629257536,
           0.371969696969697,
           0.384981684981685,
           0.2833333333333334,
           0.422408293460925,
           0.2849747474747475,
           0.4231292517006802
          ],
          "sizemode": "area",
          "sizeref": 0.0017992424242424243,
          "symbol": "circle"
         },
         "mode": "markers",
         "name": "Negative",
         "orientation": "v",
         "showlegend": true,
         "type": "scatter",
         "x": [
          -0.8779,
          -0.8402,
          -0.6361,
          -0.9948,
          -0.5994,
          -0.9042,
          -0.6369,
          -0.8294,
          -0.1531,
          -0.8519,
          -0.3818,
          -0.7096,
          -0.6597,
          -0.9552,
          -0.9259999999999999,
          -0.0555,
          -0.9423,
          -0.8271,
          -0.5106,
          -0.4019,
          -0.7269,
          -0.2263,
          -0.29600000000000004,
          -0.9723,
          -0.6908,
          -0.5719,
          -0.8047,
          -0.34,
          -0.7184,
          -0.25,
          -0.5267,
          -0.9691,
          -0.9809,
          -0.9259999999999999,
          -0.7506,
          -0.9413,
          -0.9136,
          -0.9776,
          -0.7003,
          -0.9118,
          -0.7003,
          -0.9287,
          -0.9128,
          -0.4767,
          -0.4019,
          -0.9709,
          -0.2023,
          -0.9761,
          -0.9923,
          -0.8176,
          -0.5574,
          -0.29600000000000004,
          -0.8807,
          -0.9392,
          -0.2263,
          -0.3612,
          -0.9485,
          -0.8885,
          -0.9895,
          -0.7845,
          -0.5574,
          -0.9136,
          -0.836,
          -0.7351,
          -0.2732,
          -0.9552,
          -0.7269,
          -0.9761,
          -0.9261,
          -0.8625,
          -0.9423,
          -0.9702,
          -0.8442,
          -0.1027,
          -0.7845,
          -0.6115,
          -0.8442,
          -0.9393,
          -0.1531,
          -0.29600000000000004
         ],
         "xaxis": "x",
         "y": [
          0.37134768740031904,
          0.39258658008658,
          0.3638970877607242,
          0.36181677018633535,
          0.2918593073593073,
          0.4467546342546343,
          0.4078703703703704,
          0.531159420289855,
          0.3742753623188406,
          0.2881666666666667,
          0.40976331360946733,
          0.3821428571428571,
          0.2765333333333333,
          0.3968811116419813,
          0.42527777777777775,
          0.3420202020202021,
          0.2923076923076923,
          0.4632666666666666,
          0.4282068808384598,
          0.4552380952380952,
          0.3448863636363636,
          0.4587962962962962,
          0.1851851851851852,
          0.5346153846153846,
          0.3478070175438597,
          0.3443223443223443,
          0.4748606060606061,
          0.3034722222222223,
          0.2466666666666667,
          0.2952020202020202,
          0.4907407407407408,
          0.4645833333333334,
          0.5683982683982683,
          0.4317431972789115,
          0.3431818181818182,
          0.2673333333333333,
          0.43677685950413214,
          0.6366666666666668,
          0.2888888888888889,
          0.2408333333333333,
          0.4407407407407408,
          0.3990340909090909,
          0.4674603174603174,
          0.31777777777777777,
          0.3600061703002879,
          0.4674342632675964,
          0.2259711779448621,
          0.4556848620129869,
          0.2927272727272728,
          0.4710119047619048,
          0.2416666666666667,
          0.3736634199134199,
          0.4322916666666667,
          0.38375,
          0.2473526473526473,
          0.5227777777777777,
          0.4344186677520011,
          0.3901515151515152,
          0.30486111111111114,
          0.5076923076923077,
          0.4542362399505256,
          0.5433333333333332,
          0.514069264069264,
          0.34,
          0.3727561327561327,
          0.30877777777777776,
          0.3199340342197485,
          0.3908730158730159,
          0.3784126984126984,
          0.4382440476190476,
          0.3166666666666667,
          0.265,
          0.3815656565656566,
          0.4605672629257536,
          0.371969696969697,
          0.384981684981685,
          0.2833333333333334,
          0.422408293460925,
          0.2849747474747475,
          0.4231292517006802
         ],
         "yaxis": "y"
        },
        {
         "hovertemplate": "analysis=Neutral<br>polarity=%{x}<br>subjectivity=%{marker.size}<extra></extra>",
         "legendgroup": "Neutral",
         "marker": {
          "color": "#00cc96",
          "size": [
           0.3098883572567783
          ],
          "sizemode": "area",
          "sizeref": 0.0017992424242424243,
          "symbol": "circle"
         },
         "mode": "markers",
         "name": "Neutral",
         "orientation": "v",
         "showlegend": true,
         "type": "scatter",
         "x": [
          0.0258
         ],
         "xaxis": "x",
         "y": [
          0.3098883572567783
         ],
         "yaxis": "y"
        }
       ],
       "layout": {
        "legend": {
         "itemsizing": "constant",
         "title": {
          "text": "analysis"
         },
         "tracegroupgap": 0
        },
        "margin": {
         "t": 60
        },
        "shapes": [
         {
          "type": "line",
          "x0": 0,
          "x1": 0,
          "xref": "x",
          "y0": 0,
          "y1": 1,
          "yref": "paper"
         }
        ],
        "template": {
         "data": {
          "bar": [
           {
            "error_x": {
             "color": "#2a3f5f"
            },
            "error_y": {
             "color": "#2a3f5f"
            },
            "marker": {
             "line": {
              "color": "#E5ECF6",
              "width": 0.5
             }
            },
            "type": "bar"
           }
          ],
          "barpolar": [
           {
            "marker": {
             "line": {
              "color": "#E5ECF6",
              "width": 0.5
             }
            },
            "type": "barpolar"
           }
          ],
          "carpet": [
           {
            "aaxis": {
             "endlinecolor": "#2a3f5f",
             "gridcolor": "white",
             "linecolor": "white",
             "minorgridcolor": "white",
             "startlinecolor": "#2a3f5f"
            },
            "baxis": {
             "endlinecolor": "#2a3f5f",
             "gridcolor": "white",
             "linecolor": "white",
             "minorgridcolor": "white",
             "startlinecolor": "#2a3f5f"
            },
            "type": "carpet"
           }
          ],
          "choropleth": [
           {
            "colorbar": {
             "outlinewidth": 0,
             "ticks": ""
            },
            "type": "choropleth"
           }
          ],
          "contour": [
           {
            "colorbar": {
             "outlinewidth": 0,
             "ticks": ""
            },
            "colorscale": [
             [
              0,
              "#0d0887"
             ],
             [
              0.1111111111111111,
              "#46039f"
             ],
             [
              0.2222222222222222,
              "#7201a8"
             ],
             [
              0.3333333333333333,
              "#9c179e"
             ],
             [
              0.4444444444444444,
              "#bd3786"
             ],
             [
              0.5555555555555556,
              "#d8576b"
             ],
             [
              0.6666666666666666,
              "#ed7953"
             ],
             [
              0.7777777777777778,
              "#fb9f3a"
             ],
             [
              0.8888888888888888,
              "#fdca26"
             ],
             [
              1,
              "#f0f921"
             ]
            ],
            "type": "contour"
           }
          ],
          "contourcarpet": [
           {
            "colorbar": {
             "outlinewidth": 0,
             "ticks": ""
            },
            "type": "contourcarpet"
           }
          ],
          "heatmap": [
           {
            "colorbar": {
             "outlinewidth": 0,
             "ticks": ""
            },
            "colorscale": [
             [
              0,
              "#0d0887"
             ],
             [
              0.1111111111111111,
              "#46039f"
             ],
             [
              0.2222222222222222,
              "#7201a8"
             ],
             [
              0.3333333333333333,
              "#9c179e"
             ],
             [
              0.4444444444444444,
              "#bd3786"
             ],
             [
              0.5555555555555556,
              "#d8576b"
             ],
             [
              0.6666666666666666,
              "#ed7953"
             ],
             [
              0.7777777777777778,
              "#fb9f3a"
             ],
             [
              0.8888888888888888,
              "#fdca26"
             ],
             [
              1,
              "#f0f921"
             ]
            ],
            "type": "heatmap"
           }
          ],
          "heatmapgl": [
           {
            "colorbar": {
             "outlinewidth": 0,
             "ticks": ""
            },
            "colorscale": [
             [
              0,
              "#0d0887"
             ],
             [
              0.1111111111111111,
              "#46039f"
             ],
             [
              0.2222222222222222,
              "#7201a8"
             ],
             [
              0.3333333333333333,
              "#9c179e"
             ],
             [
              0.4444444444444444,
              "#bd3786"
             ],
             [
              0.5555555555555556,
              "#d8576b"
             ],
             [
              0.6666666666666666,
              "#ed7953"
             ],
             [
              0.7777777777777778,
              "#fb9f3a"
             ],
             [
              0.8888888888888888,
              "#fdca26"
             ],
             [
              1,
              "#f0f921"
             ]
            ],
            "type": "heatmapgl"
           }
          ],
          "histogram": [
           {
            "marker": {
             "colorbar": {
              "outlinewidth": 0,
              "ticks": ""
             }
            },
            "type": "histogram"
           }
          ],
          "histogram2d": [
           {
            "colorbar": {
             "outlinewidth": 0,
             "ticks": ""
            },
            "colorscale": [
             [
              0,
              "#0d0887"
             ],
             [
              0.1111111111111111,
              "#46039f"
             ],
             [
              0.2222222222222222,
              "#7201a8"
             ],
             [
              0.3333333333333333,
              "#9c179e"
             ],
             [
              0.4444444444444444,
              "#bd3786"
             ],
             [
              0.5555555555555556,
              "#d8576b"
             ],
             [
              0.6666666666666666,
              "#ed7953"
             ],
             [
              0.7777777777777778,
              "#fb9f3a"
             ],
             [
              0.8888888888888888,
              "#fdca26"
             ],
             [
              1,
              "#f0f921"
             ]
            ],
            "type": "histogram2d"
           }
          ],
          "histogram2dcontour": [
           {
            "colorbar": {
             "outlinewidth": 0,
             "ticks": ""
            },
            "colorscale": [
             [
              0,
              "#0d0887"
             ],
             [
              0.1111111111111111,
              "#46039f"
             ],
             [
              0.2222222222222222,
              "#7201a8"
             ],
             [
              0.3333333333333333,
              "#9c179e"
             ],
             [
              0.4444444444444444,
              "#bd3786"
             ],
             [
              0.5555555555555556,
              "#d8576b"
             ],
             [
              0.6666666666666666,
              "#ed7953"
             ],
             [
              0.7777777777777778,
              "#fb9f3a"
             ],
             [
              0.8888888888888888,
              "#fdca26"
             ],
             [
              1,
              "#f0f921"
             ]
            ],
            "type": "histogram2dcontour"
           }
          ],
          "mesh3d": [
           {
            "colorbar": {
             "outlinewidth": 0,
             "ticks": ""
            },
            "type": "mesh3d"
           }
          ],
          "parcoords": [
           {
            "line": {
             "colorbar": {
              "outlinewidth": 0,
              "ticks": ""
             }
            },
            "type": "parcoords"
           }
          ],
          "pie": [
           {
            "automargin": true,
            "type": "pie"
           }
          ],
          "scatter": [
           {
            "marker": {
             "colorbar": {
              "outlinewidth": 0,
              "ticks": ""
             }
            },
            "type": "scatter"
           }
          ],
          "scatter3d": [
           {
            "line": {
             "colorbar": {
              "outlinewidth": 0,
              "ticks": ""
             }
            },
            "marker": {
             "colorbar": {
              "outlinewidth": 0,
              "ticks": ""
             }
            },
            "type": "scatter3d"
           }
          ],
          "scattercarpet": [
           {
            "marker": {
             "colorbar": {
              "outlinewidth": 0,
              "ticks": ""
             }
            },
            "type": "scattercarpet"
           }
          ],
          "scattergeo": [
           {
            "marker": {
             "colorbar": {
              "outlinewidth": 0,
              "ticks": ""
             }
            },
            "type": "scattergeo"
           }
          ],
          "scattergl": [
           {
            "marker": {
             "colorbar": {
              "outlinewidth": 0,
              "ticks": ""
             }
            },
            "type": "scattergl"
           }
          ],
          "scattermapbox": [
           {
            "marker": {
             "colorbar": {
              "outlinewidth": 0,
              "ticks": ""
             }
            },
            "type": "scattermapbox"
           }
          ],
          "scatterpolar": [
           {
            "marker": {
             "colorbar": {
              "outlinewidth": 0,
              "ticks": ""
             }
            },
            "type": "scatterpolar"
           }
          ],
          "scatterpolargl": [
           {
            "marker": {
             "colorbar": {
              "outlinewidth": 0,
              "ticks": ""
             }
            },
            "type": "scatterpolargl"
           }
          ],
          "scatterternary": [
           {
            "marker": {
             "colorbar": {
              "outlinewidth": 0,
              "ticks": ""
             }
            },
            "type": "scatterternary"
           }
          ],
          "surface": [
           {
            "colorbar": {
             "outlinewidth": 0,
             "ticks": ""
            },
            "colorscale": [
             [
              0,
              "#0d0887"
             ],
             [
              0.1111111111111111,
              "#46039f"
             ],
             [
              0.2222222222222222,
              "#7201a8"
             ],
             [
              0.3333333333333333,
              "#9c179e"
             ],
             [
              0.4444444444444444,
              "#bd3786"
             ],
             [
              0.5555555555555556,
              "#d8576b"
             ],
             [
              0.6666666666666666,
              "#ed7953"
             ],
             [
              0.7777777777777778,
              "#fb9f3a"
             ],
             [
              0.8888888888888888,
              "#fdca26"
             ],
             [
              1,
              "#f0f921"
             ]
            ],
            "type": "surface"
           }
          ],
          "table": [
           {
            "cells": {
             "fill": {
              "color": "#EBF0F8"
             },
             "line": {
              "color": "white"
             }
            },
            "header": {
             "fill": {
              "color": "#C8D4E3"
             },
             "line": {
              "color": "white"
             }
            },
            "type": "table"
           }
          ]
         },
         "layout": {
          "annotationdefaults": {
           "arrowcolor": "#2a3f5f",
           "arrowhead": 0,
           "arrowwidth": 1
          },
          "autotypenumbers": "strict",
          "coloraxis": {
           "colorbar": {
            "outlinewidth": 0,
            "ticks": ""
           }
          },
          "colorscale": {
           "diverging": [
            [
             0,
             "#8e0152"
            ],
            [
             0.1,
             "#c51b7d"
            ],
            [
             0.2,
             "#de77ae"
            ],
            [
             0.3,
             "#f1b6da"
            ],
            [
             0.4,
             "#fde0ef"
            ],
            [
             0.5,
             "#f7f7f7"
            ],
            [
             0.6,
             "#e6f5d0"
            ],
            [
             0.7,
             "#b8e186"
            ],
            [
             0.8,
             "#7fbc41"
            ],
            [
             0.9,
             "#4d9221"
            ],
            [
             1,
             "#276419"
            ]
           ],
           "sequential": [
            [
             0,
             "#0d0887"
            ],
            [
             0.1111111111111111,
             "#46039f"
            ],
            [
             0.2222222222222222,
             "#7201a8"
            ],
            [
             0.3333333333333333,
             "#9c179e"
            ],
            [
             0.4444444444444444,
             "#bd3786"
            ],
            [
             0.5555555555555556,
             "#d8576b"
            ],
            [
             0.6666666666666666,
             "#ed7953"
            ],
            [
             0.7777777777777778,
             "#fb9f3a"
            ],
            [
             0.8888888888888888,
             "#fdca26"
            ],
            [
             1,
             "#f0f921"
            ]
           ],
           "sequentialminus": [
            [
             0,
             "#0d0887"
            ],
            [
             0.1111111111111111,
             "#46039f"
            ],
            [
             0.2222222222222222,
             "#7201a8"
            ],
            [
             0.3333333333333333,
             "#9c179e"
            ],
            [
             0.4444444444444444,
             "#bd3786"
            ],
            [
             0.5555555555555556,
             "#d8576b"
            ],
            [
             0.6666666666666666,
             "#ed7953"
            ],
            [
             0.7777777777777778,
             "#fb9f3a"
            ],
            [
             0.8888888888888888,
             "#fdca26"
            ],
            [
             1,
             "#f0f921"
            ]
           ]
          },
          "colorway": [
           "#636efa",
           "#EF553B",
           "#00cc96",
           "#ab63fa",
           "#FFA15A",
           "#19d3f3",
           "#FF6692",
           "#B6E880",
           "#FF97FF",
           "#FECB52"
          ],
          "font": {
           "color": "#2a3f5f"
          },
          "geo": {
           "bgcolor": "white",
           "lakecolor": "white",
           "landcolor": "#E5ECF6",
           "showlakes": true,
           "showland": true,
           "subunitcolor": "white"
          },
          "hoverlabel": {
           "align": "left"
          },
          "hovermode": "closest",
          "mapbox": {
           "style": "light"
          },
          "paper_bgcolor": "white",
          "plot_bgcolor": "#E5ECF6",
          "polar": {
           "angularaxis": {
            "gridcolor": "white",
            "linecolor": "white",
            "ticks": ""
           },
           "bgcolor": "#E5ECF6",
           "radialaxis": {
            "gridcolor": "white",
            "linecolor": "white",
            "ticks": ""
           }
          },
          "scene": {
           "xaxis": {
            "backgroundcolor": "#E5ECF6",
            "gridcolor": "white",
            "gridwidth": 2,
            "linecolor": "white",
            "showbackground": true,
            "ticks": "",
            "zerolinecolor": "white"
           },
           "yaxis": {
            "backgroundcolor": "#E5ECF6",
            "gridcolor": "white",
            "gridwidth": 2,
            "linecolor": "white",
            "showbackground": true,
            "ticks": "",
            "zerolinecolor": "white"
           },
           "zaxis": {
            "backgroundcolor": "#E5ECF6",
            "gridcolor": "white",
            "gridwidth": 2,
            "linecolor": "white",
            "showbackground": true,
            "ticks": "",
            "zerolinecolor": "white"
           }
          },
          "shapedefaults": {
           "line": {
            "color": "#2a3f5f"
           }
          },
          "ternary": {
           "aaxis": {
            "gridcolor": "white",
            "linecolor": "white",
            "ticks": ""
           },
           "baxis": {
            "gridcolor": "white",
            "linecolor": "white",
            "ticks": ""
           },
           "bgcolor": "#E5ECF6",
           "caxis": {
            "gridcolor": "white",
            "linecolor": "white",
            "ticks": ""
           }
          },
          "title": {
           "x": 0.05
          },
          "xaxis": {
           "automargin": true,
           "gridcolor": "white",
           "linecolor": "white",
           "ticks": "",
           "title": {
            "standoff": 15
           },
           "zerolinecolor": "white",
           "zerolinewidth": 2
          },
          "yaxis": {
           "automargin": true,
           "gridcolor": "white",
           "linecolor": "white",
           "ticks": "",
           "title": {
            "standoff": 15
           },
           "zerolinecolor": "white",
           "zerolinewidth": 2
          }
         }
        },
        "title": {
         "text": "Sentiment Analysis"
        },
        "xaxis": {
         "anchor": "y",
         "domain": [
          0,
          1
         ],
         "title": {
          "text": "polarity"
         }
        },
        "yaxis": {
         "anchor": "x",
         "domain": [
          0,
          1
         ],
         "title": {
          "text": "subjectivity"
         }
        }
       }
      }
     },
     "metadata": {}
    }
   ],
   "source": [
    "import plotly.express as px\n",
    "\n",
    "fig = px.scatter(df,\n",
    "                x='polarity',\n",
    "                y='subjectivity',\n",
    "                color='analysis',\n",
    "                size='subjectivity'\n",
    "                )\n",
    "\n",
    "fig.update_layout(title='Sentiment Analysis',\n",
    "                shapes=[dict(\n",
    "                    type='line',\n",
    "                    yref='paper', y0=0, y1=1,\n",
    "                    xref='x', x0=0, x1=0\n",
    "                )]\n",
    "                )\n",
    "\n",
    "fig.show()"
   ]
  },
  {
   "cell_type": "code",
   "execution_count": null,
   "metadata": {},
   "outputs": [],
   "source": []
  },
  {
   "cell_type": "code",
   "execution_count": null,
   "metadata": {},
   "outputs": [],
   "source": []
  },
  {
   "cell_type": "code",
   "execution_count": null,
   "metadata": {},
   "outputs": [],
   "source": []
  },
  {
   "cell_type": "code",
   "execution_count": null,
   "metadata": {},
   "outputs": [],
   "source": []
  },
  {
   "cell_type": "code",
   "execution_count": 21,
   "metadata": {},
   "outputs": [],
   "source": [
    "# def to_english(text):\n",
    "#     tb = TextBlob(u'{text}')\n",
    "#     result = text\n",
    "#     try:\n",
    "#         result = str(tb.translate(to='en'))\n",
    "#     except:\n",
    "#         pass\n",
    "#     return result\n",
    "\n",
    "# def to_tagalog(text):\n",
    "#     tb = TextBlob(u'{text}')\n",
    "#     result = text\n",
    "#     try:\n",
    "#         result = str(tb.translate(to='tl'))\n",
    "#     except:\n",
    "#         pass\n",
    "#     return result\n"
   ]
  },
  {
   "cell_type": "code",
   "execution_count": null,
   "metadata": {},
   "outputs": [],
   "source": []
  }
 ]
}