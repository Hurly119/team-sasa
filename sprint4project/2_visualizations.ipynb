{
 "metadata": {
  "language_info": {
   "codemirror_mode": {
    "name": "ipython",
    "version": 3
   },
   "file_extension": ".py",
   "mimetype": "text/x-python",
   "name": "python",
   "nbconvert_exporter": "python",
   "pygments_lexer": "ipython3",
   "version": "3.8.8-final"
  },
  "orig_nbformat": 2,
  "kernelspec": {
   "name": "python3",
   "display_name": "Python 3.8.8 64-bit ('base': conda)",
   "metadata": {
    "interpreter": {
     "hash": "e134e05457d34029b6460cd73bbf1ed73f339b5b6d98c95be70b69eba114fe95"
    }
   }
  }
 },
 "nbformat": 4,
 "nbformat_minor": 2,
 "cells": [
  {
   "cell_type": "code",
   "execution_count": 3,
   "metadata": {},
   "outputs": [],
   "source": [
    "import pandas as pd\n",
    "import numpy as np\n",
    "import matplotlib.pyplot as plt\n",
    "import seaborn as sns\n",
    "import plotly.express as px\n",
    "\n",
    "import warnings\n",
    "warnings.filterwarnings('ignore')\n",
    "\n",
    "%matplotlib inline"
   ]
  },
  {
   "cell_type": "code",
   "execution_count": 5,
   "metadata": {},
   "outputs": [
    {
     "output_type": "stream",
     "name": "stdout",
     "text": [
      "<class 'pandas.core.frame.DataFrame'>\nRangeIndex: 361 entries, 0 to 360\nData columns (total 6 columns):\n #   Column            Non-Null Count  Dtype \n---  ------            --------------  ----- \n 0   urls              361 non-null    object\n 1   titles            361 non-null    object\n 2   authors           361 non-null    object\n 3   published_dates   361 non-null    object\n 4   articles_content  361 non-null    object\n 5   news_org          361 non-null    object\ndtypes: object(6)\nmemory usage: 17.0+ KB\n"
     ]
    },
    {
     "output_type": "execute_result",
     "data": {
      "text/plain": [
       "                                                  urls  \\\n",
       "0    https://www.rappler.com/newsbreak/explainers/w...   \n",
       "1    https://www.rappler.com/newsbreak/iq/timeline-...   \n",
       "2    https://www.rappler.com/nation/philippines-rec...   \n",
       "3    https://www.rappler.com/nation/philippines-rec...   \n",
       "4    https://www.rappler.com/nation/philippines-beg...   \n",
       "..                                                 ...   \n",
       "356  https://www.gmanetwork.com/news/scitech/scienc...   \n",
       "357  https://www.gmanetwork.com/news/scitech/scienc...   \n",
       "358  https://www.gmanetwork.com/news/news/regions/7...   \n",
       "359  https://www.gmanetwork.com/news/news/nation/75...   \n",
       "360  https://www.gmanetwork.com/news/scitech/scienc...   \n",
       "\n",
       "                                                titles  \\\n",
       "0    Here’s why COVID-19 vaccines haven’t arrived i...   \n",
       "1    TIMELINE: The Philippines’ 2021 COVID-19 vacci...   \n",
       "2    Philippines receives first COVID-19 vaccine de...   \n",
       "3    After initial delay, Philippines to receive As...   \n",
       "4    Philippines begins legally rolling out first C...   \n",
       "..                                                 ...   \n",
       "356  UK starts accelerated review for AstraZeneca’s...   \n",
       "357  J&J's COVID-19 vaccine produces strong immune ...   \n",
       "358  COVID-19 vaccine clinical trials for Cavite re...   \n",
       "359  China eyes COVID-19 vaccine by year-end or ear...   \n",
       "360  US firm announces ‘positive interim’ phase 1 r...   \n",
       "\n",
       "                     authors      published_dates  \\\n",
       "0             SOFIA TOMACRUZ  2021-02-18 09:22:00   \n",
       "1             SOFIA TOMACRUZ  2021-02-04 19:43:00   \n",
       "2             SOFIA TOMACRUZ  2021-02-28 16:16:00   \n",
       "3             SOFIA TOMACRUZ  2021-03-03 14:41:00   \n",
       "4             SOFIA TOMACRUZ  2021-03-01 09:40:00   \n",
       "..                       ...                  ...   \n",
       "356           KANISHKA SINGH  2020-11-01 21:09:00   \n",
       "357              NANCY LAPID  2020-09-26 04:06:00   \n",
       "358        ANNA FELICIA BAJO  2020-08-28 09:31:00   \n",
       "359  NICOLE-ANNE C. LAGRIMAS  2020-09-08 19:09:00   \n",
       "360                 GMA News  2020-05-18 20:53:00   \n",
       "\n",
       "                                      articles_content  news_org  \n",
       "0    MANILA, PHILIPPINES\\nThe Philippine government...   Rappler  \n",
       "1    MANILA, PHILIPPINES\\n(UPDATED) On March 1, the...   Rappler  \n",
       "2    MANILA, PHILIPPINES\\n(3rd UPDATE) The arrival ...   Rappler  \n",
       "3    MANILA, PHILIPPINES\\n(UPDATED) Malacañang says...   Rappler  \n",
       "4    MANILA, PHILIPPINES\\n(3rd UPDATE) Dr. Gerardo ...   Rappler  \n",
       "..                                                 ...       ...  \n",
       "356  AstraZeneca Plc said on Sunday Britain's healt...  GMA News  \n",
       "357  A single dose of Johnson & Johnson's experimen...  GMA News  \n",
       "358  The clinical trials for vaccines against COVID...  GMA News  \n",
       "359  China hopes to be ready with a vaccine against...  GMA News  \n",
       "360  WASHINGTON — US biotech firm Moderna on Monday...  GMA News  \n",
       "\n",
       "[361 rows x 6 columns]"
      ],
      "text/html": "<div>\n<style scoped>\n    .dataframe tbody tr th:only-of-type {\n        vertical-align: middle;\n    }\n\n    .dataframe tbody tr th {\n        vertical-align: top;\n    }\n\n    .dataframe thead th {\n        text-align: right;\n    }\n</style>\n<table border=\"1\" class=\"dataframe\">\n  <thead>\n    <tr style=\"text-align: right;\">\n      <th></th>\n      <th>urls</th>\n      <th>titles</th>\n      <th>authors</th>\n      <th>published_dates</th>\n      <th>articles_content</th>\n      <th>news_org</th>\n    </tr>\n  </thead>\n  <tbody>\n    <tr>\n      <th>0</th>\n      <td>https://www.rappler.com/newsbreak/explainers/w...</td>\n      <td>Here’s why COVID-19 vaccines haven’t arrived i...</td>\n      <td>SOFIA TOMACRUZ</td>\n      <td>2021-02-18 09:22:00</td>\n      <td>MANILA, PHILIPPINES\\nThe Philippine government...</td>\n      <td>Rappler</td>\n    </tr>\n    <tr>\n      <th>1</th>\n      <td>https://www.rappler.com/newsbreak/iq/timeline-...</td>\n      <td>TIMELINE: The Philippines’ 2021 COVID-19 vacci...</td>\n      <td>SOFIA TOMACRUZ</td>\n      <td>2021-02-04 19:43:00</td>\n      <td>MANILA, PHILIPPINES\\n(UPDATED) On March 1, the...</td>\n      <td>Rappler</td>\n    </tr>\n    <tr>\n      <th>2</th>\n      <td>https://www.rappler.com/nation/philippines-rec...</td>\n      <td>Philippines receives first COVID-19 vaccine de...</td>\n      <td>SOFIA TOMACRUZ</td>\n      <td>2021-02-28 16:16:00</td>\n      <td>MANILA, PHILIPPINES\\n(3rd UPDATE) The arrival ...</td>\n      <td>Rappler</td>\n    </tr>\n    <tr>\n      <th>3</th>\n      <td>https://www.rappler.com/nation/philippines-rec...</td>\n      <td>After initial delay, Philippines to receive As...</td>\n      <td>SOFIA TOMACRUZ</td>\n      <td>2021-03-03 14:41:00</td>\n      <td>MANILA, PHILIPPINES\\n(UPDATED) Malacañang says...</td>\n      <td>Rappler</td>\n    </tr>\n    <tr>\n      <th>4</th>\n      <td>https://www.rappler.com/nation/philippines-beg...</td>\n      <td>Philippines begins legally rolling out first C...</td>\n      <td>SOFIA TOMACRUZ</td>\n      <td>2021-03-01 09:40:00</td>\n      <td>MANILA, PHILIPPINES\\n(3rd UPDATE) Dr. Gerardo ...</td>\n      <td>Rappler</td>\n    </tr>\n    <tr>\n      <th>...</th>\n      <td>...</td>\n      <td>...</td>\n      <td>...</td>\n      <td>...</td>\n      <td>...</td>\n      <td>...</td>\n    </tr>\n    <tr>\n      <th>356</th>\n      <td>https://www.gmanetwork.com/news/scitech/scienc...</td>\n      <td>UK starts accelerated review for AstraZeneca’s...</td>\n      <td>KANISHKA SINGH</td>\n      <td>2020-11-01 21:09:00</td>\n      <td>AstraZeneca Plc said on Sunday Britain's healt...</td>\n      <td>GMA News</td>\n    </tr>\n    <tr>\n      <th>357</th>\n      <td>https://www.gmanetwork.com/news/scitech/scienc...</td>\n      <td>J&amp;J's COVID-19 vaccine produces strong immune ...</td>\n      <td>NANCY LAPID</td>\n      <td>2020-09-26 04:06:00</td>\n      <td>A single dose of Johnson &amp; Johnson's experimen...</td>\n      <td>GMA News</td>\n    </tr>\n    <tr>\n      <th>358</th>\n      <td>https://www.gmanetwork.com/news/news/regions/7...</td>\n      <td>COVID-19 vaccine clinical trials for Cavite re...</td>\n      <td>ANNA FELICIA BAJO</td>\n      <td>2020-08-28 09:31:00</td>\n      <td>The clinical trials for vaccines against COVID...</td>\n      <td>GMA News</td>\n    </tr>\n    <tr>\n      <th>359</th>\n      <td>https://www.gmanetwork.com/news/news/nation/75...</td>\n      <td>China eyes COVID-19 vaccine by year-end or ear...</td>\n      <td>NICOLE-ANNE C. LAGRIMAS</td>\n      <td>2020-09-08 19:09:00</td>\n      <td>China hopes to be ready with a vaccine against...</td>\n      <td>GMA News</td>\n    </tr>\n    <tr>\n      <th>360</th>\n      <td>https://www.gmanetwork.com/news/scitech/scienc...</td>\n      <td>US firm announces ‘positive interim’ phase 1 r...</td>\n      <td>GMA News</td>\n      <td>2020-05-18 20:53:00</td>\n      <td>WASHINGTON — US biotech firm Moderna on Monday...</td>\n      <td>GMA News</td>\n    </tr>\n  </tbody>\n</table>\n<p>361 rows × 6 columns</p>\n</div>"
     },
     "metadata": {},
     "execution_count": 5
    }
   ],
   "source": [
    "FILENAME = 'datasets/combined_and_cleaned.csv'\n",
    "\n",
    "df = pd.read_csv(FILENAME)\n",
    "df.info()\n",
    "df"
   ]
  },
  {
   "cell_type": "code",
   "execution_count": null,
   "metadata": {},
   "outputs": [],
   "source": []
  }
 ]
}