{
 "cells": [
  {
   "cell_type": "code",
   "execution_count": 1,
   "metadata": {
    "execution": {
     "iopub.execute_input": "2021-03-11T12:49:04.988471Z",
     "iopub.status.busy": "2021-03-11T12:49:04.987466Z",
     "iopub.status.idle": "2021-03-11T12:49:05.359317Z",
     "shell.execute_reply": "2021-03-11T12:49:05.358522Z",
     "shell.execute_reply.started": "2021-03-11T12:49:04.988471Z"
    }
   },
   "outputs": [],
   "source": [
    "import pandas as pd\n",
    "import numpy as np"
   ]
  },
  {
   "cell_type": "markdown",
   "metadata": {},
   "source": [
    "## Rappler (Rods)"
   ]
  },
  {
   "cell_type": "code",
   "execution_count": 18,
   "metadata": {
    "execution": {
     "iopub.execute_input": "2021-03-11T12:49:07.664021Z",
     "iopub.status.busy": "2021-03-11T12:49:07.663022Z",
     "iopub.status.idle": "2021-03-11T12:49:07.727641Z",
     "shell.execute_reply": "2021-03-11T12:49:07.726645Z",
     "shell.execute_reply.started": "2021-03-11T12:49:07.664021Z"
    }
   },
   "outputs": [
    {
     "output_type": "stream",
     "name": "stdout",
     "text": [
      "<class 'pandas.core.frame.DataFrame'>\nInt64Index: 83 entries, 32 to 69\nData columns (total 6 columns):\n #   Column            Non-Null Count  Dtype         \n---  ------            --------------  -----         \n 0   urls              83 non-null     object        \n 1   titles            83 non-null     object        \n 2   authors           83 non-null     object        \n 3   published_dates   83 non-null     datetime64[ns]\n 4   articles_content  83 non-null     object        \n 5   news_org          83 non-null     object        \ndtypes: datetime64[ns](1), object(5)\nmemory usage: 4.5+ KB\n"
     ]
    },
    {
     "output_type": "execute_result",
     "data": {
      "text/plain": [
       "                                                 urls  \\\n",
       "32  https://www.rappler.com/nation/moderna-vaccine...   \n",
       "13  https://www.rappler.com/nation/astrazeneca-cov...   \n",
       "10  https://www.rappler.com/nation/astrazeneca-cov...   \n",
       "71  https://www.rappler.com/nation/octa-warns-astr...   \n",
       "2   https://www.rappler.com/nation/philippines-rec...   \n",
       "..                                                ...   \n",
       "26  https://www.rappler.com/world/asia-pacific/ind...   \n",
       "29  https://www.rappler.com/nation/philippines-eye...   \n",
       "76  https://www.rappler.com/nation/china-vows-phil...   \n",
       "74  https://www.rappler.com/nation/duterte-pleads-...   \n",
       "69  https://www.rappler.com/nation/philippines-joi...   \n",
       "\n",
       "                                               titles                 authors  \\\n",
       "32  First PH deliveries of Moderna COVID-19 vaccin...             GAB DUMALAG   \n",
       "13  Nearly 500,000 doses of AstraZeneca vaccine ar...              PIA RANADA   \n",
       "10  AstraZeneca vaccine eyed for Philippines' seni...          SOFIA TOMACRUZ   \n",
       "71  Expert warns 17M AstraZeneca doses 'ineffectiv...          BONZ MAGSAMBOL   \n",
       "2   After initial delay, Philippines to receive As...          SOFIA TOMACRUZ   \n",
       "..                                                ...                     ...   \n",
       "26  Unlike Philippines, Indonesia developing own c...  PATERNO R. ESMAQUEL II   \n",
       "29  PH eyes clinical trials for Russian COVID-19 v...          SOFIA TOMACRUZ   \n",
       "76  After Duterte’s SONA 2020, China vows PH ‘prio...          SOFIA TOMACRUZ   \n",
       "74  Duterte pleads with Xi Jinping: Prioritize PH ...          SOFIA TOMACRUZ   \n",
       "69   PH joins COVID-19 vaccine global access facility          BONZ MAGSAMBOL   \n",
       "\n",
       "       published_dates                                   articles_content  \\\n",
       "32 2021-03-05 16:09:00  MANILA, PHILIPPINES\\nVaccines from American va...   \n",
       "13 2021-03-04 19:41:00  MANILA, PHILIPPINES\\n(UPDATED) This first ship...   \n",
       "10 2021-03-04 13:06:00  MANILA, PHILIPPINES\\nVaccine czar Carlito Galv...   \n",
       "71 2021-03-03 17:54:00  MANILA, PHILIPPINES\\n(1st UPDATE) Father Nican...   \n",
       "2  2021-03-03 14:41:00  MANILA, PHILIPPINES\\n(UPDATED) Malacañang says...   \n",
       "..                 ...                                                ...   \n",
       "26 2020-08-12 15:10:00  MANILA, PHILIPPINES\\n‘We have been developing ...   \n",
       "29 2020-08-12 13:59:00  MANILA, PHILIPPINES\\nThe Department of Health ...   \n",
       "76 2020-07-30 08:06:00  MANILA, PHILIPPINES\\nChinese Foreign Ministry ...   \n",
       "74 2020-07-27 17:47:00  MANILA, PHILIPPINES\\nPresident Rodrigo Duterte...   \n",
       "69 2020-07-24 13:01:00  MANILA, PHILIPPINES\\nThe COVAX Facility is a s...   \n",
       "\n",
       "   news_org  \n",
       "32  Rappler  \n",
       "13  Rappler  \n",
       "10  Rappler  \n",
       "71  Rappler  \n",
       "2   Rappler  \n",
       "..      ...  \n",
       "26  Rappler  \n",
       "29  Rappler  \n",
       "76  Rappler  \n",
       "74  Rappler  \n",
       "69  Rappler  \n",
       "\n",
       "[83 rows x 6 columns]"
      ],
      "text/html": "<div>\n<style scoped>\n    .dataframe tbody tr th:only-of-type {\n        vertical-align: middle;\n    }\n\n    .dataframe tbody tr th {\n        vertical-align: top;\n    }\n\n    .dataframe thead th {\n        text-align: right;\n    }\n</style>\n<table border=\"1\" class=\"dataframe\">\n  <thead>\n    <tr style=\"text-align: right;\">\n      <th></th>\n      <th>urls</th>\n      <th>titles</th>\n      <th>authors</th>\n      <th>published_dates</th>\n      <th>articles_content</th>\n      <th>news_org</th>\n    </tr>\n  </thead>\n  <tbody>\n    <tr>\n      <th>32</th>\n      <td>https://www.rappler.com/nation/moderna-vaccine...</td>\n      <td>First PH deliveries of Moderna COVID-19 vaccin...</td>\n      <td>GAB DUMALAG</td>\n      <td>2021-03-05 16:09:00</td>\n      <td>MANILA, PHILIPPINES\\nVaccines from American va...</td>\n      <td>Rappler</td>\n    </tr>\n    <tr>\n      <th>13</th>\n      <td>https://www.rappler.com/nation/astrazeneca-cov...</td>\n      <td>Nearly 500,000 doses of AstraZeneca vaccine ar...</td>\n      <td>PIA RANADA</td>\n      <td>2021-03-04 19:41:00</td>\n      <td>MANILA, PHILIPPINES\\n(UPDATED) This first ship...</td>\n      <td>Rappler</td>\n    </tr>\n    <tr>\n      <th>10</th>\n      <td>https://www.rappler.com/nation/astrazeneca-cov...</td>\n      <td>AstraZeneca vaccine eyed for Philippines' seni...</td>\n      <td>SOFIA TOMACRUZ</td>\n      <td>2021-03-04 13:06:00</td>\n      <td>MANILA, PHILIPPINES\\nVaccine czar Carlito Galv...</td>\n      <td>Rappler</td>\n    </tr>\n    <tr>\n      <th>71</th>\n      <td>https://www.rappler.com/nation/octa-warns-astr...</td>\n      <td>Expert warns 17M AstraZeneca doses 'ineffectiv...</td>\n      <td>BONZ MAGSAMBOL</td>\n      <td>2021-03-03 17:54:00</td>\n      <td>MANILA, PHILIPPINES\\n(1st UPDATE) Father Nican...</td>\n      <td>Rappler</td>\n    </tr>\n    <tr>\n      <th>2</th>\n      <td>https://www.rappler.com/nation/philippines-rec...</td>\n      <td>After initial delay, Philippines to receive As...</td>\n      <td>SOFIA TOMACRUZ</td>\n      <td>2021-03-03 14:41:00</td>\n      <td>MANILA, PHILIPPINES\\n(UPDATED) Malacañang says...</td>\n      <td>Rappler</td>\n    </tr>\n    <tr>\n      <th>...</th>\n      <td>...</td>\n      <td>...</td>\n      <td>...</td>\n      <td>...</td>\n      <td>...</td>\n      <td>...</td>\n    </tr>\n    <tr>\n      <th>26</th>\n      <td>https://www.rappler.com/world/asia-pacific/ind...</td>\n      <td>Unlike Philippines, Indonesia developing own c...</td>\n      <td>PATERNO R. ESMAQUEL II</td>\n      <td>2020-08-12 15:10:00</td>\n      <td>MANILA, PHILIPPINES\\n‘We have been developing ...</td>\n      <td>Rappler</td>\n    </tr>\n    <tr>\n      <th>29</th>\n      <td>https://www.rappler.com/nation/philippines-eye...</td>\n      <td>PH eyes clinical trials for Russian COVID-19 v...</td>\n      <td>SOFIA TOMACRUZ</td>\n      <td>2020-08-12 13:59:00</td>\n      <td>MANILA, PHILIPPINES\\nThe Department of Health ...</td>\n      <td>Rappler</td>\n    </tr>\n    <tr>\n      <th>76</th>\n      <td>https://www.rappler.com/nation/china-vows-phil...</td>\n      <td>After Duterte’s SONA 2020, China vows PH ‘prio...</td>\n      <td>SOFIA TOMACRUZ</td>\n      <td>2020-07-30 08:06:00</td>\n      <td>MANILA, PHILIPPINES\\nChinese Foreign Ministry ...</td>\n      <td>Rappler</td>\n    </tr>\n    <tr>\n      <th>74</th>\n      <td>https://www.rappler.com/nation/duterte-pleads-...</td>\n      <td>Duterte pleads with Xi Jinping: Prioritize PH ...</td>\n      <td>SOFIA TOMACRUZ</td>\n      <td>2020-07-27 17:47:00</td>\n      <td>MANILA, PHILIPPINES\\nPresident Rodrigo Duterte...</td>\n      <td>Rappler</td>\n    </tr>\n    <tr>\n      <th>69</th>\n      <td>https://www.rappler.com/nation/philippines-joi...</td>\n      <td>PH joins COVID-19 vaccine global access facility</td>\n      <td>BONZ MAGSAMBOL</td>\n      <td>2020-07-24 13:01:00</td>\n      <td>MANILA, PHILIPPINES\\nThe COVAX Facility is a s...</td>\n      <td>Rappler</td>\n    </tr>\n  </tbody>\n</table>\n<p>83 rows × 6 columns</p>\n</div>"
     },
     "metadata": {},
     "execution_count": 18
    }
   ],
   "source": [
    "df_rappler = pd.read_csv('datasets/rappler.csv')\n",
    "df_rappler['published_dates'] = pd.to_datetime(df_rappler['published_dates'])\n",
    "df_rappler = df_rappler.sort_values('published_dates', ascending = False)\n",
    "df_rappler.info()\n",
    "df_rappler"
   ]
  },
  {
   "cell_type": "markdown",
   "metadata": {},
   "source": [
    "## GMA News (Rods)"
   ]
  },
  {
   "cell_type": "code",
   "execution_count": 3,
   "metadata": {
    "execution": {
     "iopub.execute_input": "2021-03-11T12:49:10.339461Z",
     "iopub.status.busy": "2021-03-11T12:49:10.339461Z",
     "iopub.status.idle": "2021-03-11T12:49:10.410273Z",
     "shell.execute_reply": "2021-03-11T12:49:10.409272Z",
     "shell.execute_reply.started": "2021-03-11T12:49:10.339461Z"
    }
   },
   "outputs": [
    {
     "output_type": "stream",
     "name": "stdout",
     "text": [
      "<class 'pandas.core.frame.DataFrame'>\nInt64Index: 90 entries, 2 to 101\nData columns (total 6 columns):\n #   Column            Non-Null Count  Dtype         \n---  ------            --------------  -----         \n 0   urls              90 non-null     object        \n 1   titles            90 non-null     object        \n 2   authors           90 non-null     object        \n 3   published_dates   90 non-null     datetime64[ns]\n 4   articles_content  90 non-null     object        \n 5   news_org          90 non-null     object        \ndtypes: datetime64[ns](1), object(5)\nmemory usage: 4.9+ KB\n"
     ]
    },
    {
     "output_type": "execute_result",
     "data": {
      "text/plain": [
       "                                                  urls  \\\n",
       "2    https://www.gmanetwork.com/news/news/content/7...   \n",
       "0    https://www.gmanetwork.com/news/news/nation/77...   \n",
       "6    https://www.gmanetwork.com/news/scitech/scienc...   \n",
       "11   https://www.gmanetwork.com/news/scitech/scienc...   \n",
       "4    https://www.gmanetwork.com/news/news/nation/77...   \n",
       "..                                                 ...   \n",
       "161  https://www.gmanetwork.com/news/scitech/scienc...   \n",
       "31   https://www.gmanetwork.com/news/news/nation/77...   \n",
       "36   https://www.gmanetwork.com/news/scitech/scienc...   \n",
       "34   https://www.gmanetwork.com/news/money/companie...   \n",
       "101  https://www.gmanetwork.com/news/money/economy/...   \n",
       "\n",
       "                                                titles  \\\n",
       "2    UNICEF chief: $1B more needed for COVAX COVID-...   \n",
       "0    Philippines, Indian firm in talks for at least...   \n",
       "6    Pfizer/BioNTech COVID-19 vaccine neutralizes B...   \n",
       "11   Immune memory boosts COVID-19 survivors' vacci...   \n",
       "4    COVID-19 vaccine rollout not a reason to be co...   \n",
       "..                                                 ...   \n",
       "161  One vaccine dose might be enough for COVID-19 ...   \n",
       "31   DOH: COVID-19 vaccine coverage won’t necessari...   \n",
       "36   Oxford says COVID-19 vaccine 76% effective for...   \n",
       "34   Bayer and Rentschler to help produce CureVac’s...   \n",
       "101  Peso up on manufacturing data, COVID-19 vaccin...   \n",
       "\n",
       "                    authors     published_dates  \\\n",
       "2                  GMA News 2021-03-10 22:03:00   \n",
       "0         JULIA MARI ORNEDO 2021-03-10 10:32:00   \n",
       "6     MICHAEL ERMAN Reuters 2021-03-09 06:30:00   \n",
       "11      NANCY LAPID Reuters 2021-03-09 05:14:00   \n",
       "4         ANNA FELICIA BAJO 2021-03-08 16:04:00   \n",
       "..                      ...                 ...   \n",
       "161     NANCY LAPID Reuters 2021-02-04 07:08:00   \n",
       "31        LLANESCA T. PANTI 2021-02-03 15:47:00   \n",
       "36                 GMA News 2021-02-03 01:44:00   \n",
       "34                 GMA News 2021-02-01 21:24:00   \n",
       "101  JON VIKTOR D. CABUENAS 2021-02-01 20:10:00   \n",
       "\n",
       "                                      articles_content  news_org  \n",
       "2    DUBAI - The United Nations' children's fund on...  GMA News  \n",
       "0    The Philippines and Indian firm Bharat Biotech...  GMA News  \n",
       "6    NEW YORK - The COVID-19 vaccine from Pfizer In...  GMA News  \n",
       "11   New data provide a clue as to why some COVID-1...  GMA News  \n",
       "4    House Speaker Lord Allan Velasco on Monday sai...  GMA News  \n",
       "..                                                 ...       ...  \n",
       "161  Coronavirus disease 2019 (COVID-19) survivors ...  GMA News  \n",
       "31   The easing of quarantine restrictions in the c...  GMA News  \n",
       "36   LONDON, United Kingdom - The COVID-19 vaccine ...  GMA News  \n",
       "34   BERLIN — CureVac has signed up pharmaceuticals...  GMA News  \n",
       "101  The Philippine peso appreciated against its US...  GMA News  \n",
       "\n",
       "[90 rows x 6 columns]"
      ],
      "text/html": "<div>\n<style scoped>\n    .dataframe tbody tr th:only-of-type {\n        vertical-align: middle;\n    }\n\n    .dataframe tbody tr th {\n        vertical-align: top;\n    }\n\n    .dataframe thead th {\n        text-align: right;\n    }\n</style>\n<table border=\"1\" class=\"dataframe\">\n  <thead>\n    <tr style=\"text-align: right;\">\n      <th></th>\n      <th>urls</th>\n      <th>titles</th>\n      <th>authors</th>\n      <th>published_dates</th>\n      <th>articles_content</th>\n      <th>news_org</th>\n    </tr>\n  </thead>\n  <tbody>\n    <tr>\n      <th>2</th>\n      <td>https://www.gmanetwork.com/news/news/content/7...</td>\n      <td>UNICEF chief: $1B more needed for COVAX COVID-...</td>\n      <td>GMA News</td>\n      <td>2021-03-10 22:03:00</td>\n      <td>DUBAI - The United Nations' children's fund on...</td>\n      <td>GMA News</td>\n    </tr>\n    <tr>\n      <th>0</th>\n      <td>https://www.gmanetwork.com/news/news/nation/77...</td>\n      <td>Philippines, Indian firm in talks for at least...</td>\n      <td>JULIA MARI ORNEDO</td>\n      <td>2021-03-10 10:32:00</td>\n      <td>The Philippines and Indian firm Bharat Biotech...</td>\n      <td>GMA News</td>\n    </tr>\n    <tr>\n      <th>6</th>\n      <td>https://www.gmanetwork.com/news/scitech/scienc...</td>\n      <td>Pfizer/BioNTech COVID-19 vaccine neutralizes B...</td>\n      <td>MICHAEL ERMAN Reuters</td>\n      <td>2021-03-09 06:30:00</td>\n      <td>NEW YORK - The COVID-19 vaccine from Pfizer In...</td>\n      <td>GMA News</td>\n    </tr>\n    <tr>\n      <th>11</th>\n      <td>https://www.gmanetwork.com/news/scitech/scienc...</td>\n      <td>Immune memory boosts COVID-19 survivors' vacci...</td>\n      <td>NANCY LAPID Reuters</td>\n      <td>2021-03-09 05:14:00</td>\n      <td>New data provide a clue as to why some COVID-1...</td>\n      <td>GMA News</td>\n    </tr>\n    <tr>\n      <th>4</th>\n      <td>https://www.gmanetwork.com/news/news/nation/77...</td>\n      <td>COVID-19 vaccine rollout not a reason to be co...</td>\n      <td>ANNA FELICIA BAJO</td>\n      <td>2021-03-08 16:04:00</td>\n      <td>House Speaker Lord Allan Velasco on Monday sai...</td>\n      <td>GMA News</td>\n    </tr>\n    <tr>\n      <th>...</th>\n      <td>...</td>\n      <td>...</td>\n      <td>...</td>\n      <td>...</td>\n      <td>...</td>\n      <td>...</td>\n    </tr>\n    <tr>\n      <th>161</th>\n      <td>https://www.gmanetwork.com/news/scitech/scienc...</td>\n      <td>One vaccine dose might be enough for COVID-19 ...</td>\n      <td>NANCY LAPID Reuters</td>\n      <td>2021-02-04 07:08:00</td>\n      <td>Coronavirus disease 2019 (COVID-19) survivors ...</td>\n      <td>GMA News</td>\n    </tr>\n    <tr>\n      <th>31</th>\n      <td>https://www.gmanetwork.com/news/news/nation/77...</td>\n      <td>DOH: COVID-19 vaccine coverage won’t necessari...</td>\n      <td>LLANESCA T. PANTI</td>\n      <td>2021-02-03 15:47:00</td>\n      <td>The easing of quarantine restrictions in the c...</td>\n      <td>GMA News</td>\n    </tr>\n    <tr>\n      <th>36</th>\n      <td>https://www.gmanetwork.com/news/scitech/scienc...</td>\n      <td>Oxford says COVID-19 vaccine 76% effective for...</td>\n      <td>GMA News</td>\n      <td>2021-02-03 01:44:00</td>\n      <td>LONDON, United Kingdom - The COVID-19 vaccine ...</td>\n      <td>GMA News</td>\n    </tr>\n    <tr>\n      <th>34</th>\n      <td>https://www.gmanetwork.com/news/money/companie...</td>\n      <td>Bayer and Rentschler to help produce CureVac’s...</td>\n      <td>GMA News</td>\n      <td>2021-02-01 21:24:00</td>\n      <td>BERLIN — CureVac has signed up pharmaceuticals...</td>\n      <td>GMA News</td>\n    </tr>\n    <tr>\n      <th>101</th>\n      <td>https://www.gmanetwork.com/news/money/economy/...</td>\n      <td>Peso up on manufacturing data, COVID-19 vaccin...</td>\n      <td>JON VIKTOR D. CABUENAS</td>\n      <td>2021-02-01 20:10:00</td>\n      <td>The Philippine peso appreciated against its US...</td>\n      <td>GMA News</td>\n    </tr>\n  </tbody>\n</table>\n<p>90 rows × 6 columns</p>\n</div>"
     },
     "metadata": {},
     "execution_count": 3
    }
   ],
   "source": [
    "df_gma = pd.read_csv('datasets/gmanews.csv')\n",
    "df_gma['published_dates'] = pd.to_datetime(df_gma['published_dates'])\n",
    "df_gma = df_gma.sort_values('published_dates', ascending = False).head(90)\n",
    "df_gma.info()\n",
    "df_gma"
   ]
  },
  {
   "cell_type": "markdown",
   "metadata": {},
   "source": [
    "## Manila Bulletin (Gee-R)"
   ]
  },
  {
   "cell_type": "code",
   "execution_count": 4,
   "metadata": {
    "execution": {
     "iopub.execute_input": "2021-03-11T13:32:47.331698Z",
     "iopub.status.busy": "2021-03-11T13:32:47.331698Z",
     "iopub.status.idle": "2021-03-11T13:32:47.424951Z",
     "shell.execute_reply": "2021-03-11T13:32:47.423966Z",
     "shell.execute_reply.started": "2021-03-11T13:32:47.331698Z"
    }
   },
   "outputs": [
    {
     "output_type": "stream",
     "name": "stdout",
     "text": [
      "<class 'pandas.core.frame.DataFrame'>\nInt64Index: 90 entries, 0 to 89\nData columns (total 6 columns):\n #   Column            Non-Null Count  Dtype         \n---  ------            --------------  -----         \n 0   urls              90 non-null     object        \n 1   titles            90 non-null     object        \n 2   authors           90 non-null     object        \n 3   published_dates   90 non-null     datetime64[ns]\n 4   articles_content  90 non-null     object        \n 5   news_org          90 non-null     object        \ndtypes: datetime64[ns](1), object(5)\nmemory usage: 4.9+ KB\n"
     ]
    },
    {
     "output_type": "execute_result",
     "data": {
      "text/plain": [
       "                                                 urls  \\\n",
       "0   https://mb.com.ph/2021/03/11/govt-assures-avai...   \n",
       "1   https://mb.com.ph/2021/03/11/private-hospital-...   \n",
       "2   https://mb.com.ph/2021/03/11/ph-plans-to-devel...   \n",
       "3   https://mb.com.ph/2021/03/11/superheroes-need-...   \n",
       "4   https://mb.com.ph/2021/03/10/bacoor-vaccinates...   \n",
       "..                                                ...   \n",
       "85  https://mb.com.ph/2021/02/28/desperate-for-cov...   \n",
       "86  https://mb.com.ph/2021/02/28/go-assures-govt-w...   \n",
       "87  https://mb.com.ph/2021/02/28/what-happens-if-p...   \n",
       "88  https://mb.com.ph/2021/02/28/prelate-arrival-o...   \n",
       "89  https://mb.com.ph/2021/02/28/prrd-to-welcome-f...   \n",
       "\n",
       "                                               titles  \\\n",
       "0   Gov’t assures availability of COVID-19 vaccine...   \n",
       "1   Private hospital to donate AstraZeneca COVID v...   \n",
       "2        PH plans to develop its own COVID-19 vaccine   \n",
       "3   Superheroes need vaccines too: ‘Spider-Man’ ge...   \n",
       "4   Bacoor vaccinates 114 health workers in first ...   \n",
       "..                                                ...   \n",
       "85  Desperate for COVID-19 vaccines? Robredo urges...   \n",
       "86  Go assures gov’t will ensure equitable distrib...   \n",
       "87  What happens if PH gets fewer than the COVID v...   \n",
       "88  Prelate: Arrival of COVID-19 vaccines to ease ...   \n",
       "89  PRRD to welcome first batch of COVID-19 vaccin...   \n",
       "\n",
       "                                           authors     published_dates  \\\n",
       "0                                  Analou De Vera  2021-03-11 21:20:00   \n",
       "1                                  Calvin Cordova  2021-03-11 15:04:00   \n",
       "2                                  Raymund Antonio 2021-03-11 14:36:00   \n",
       "3                                   Gabriela Baron 2021-03-11 09:26:00   \n",
       "4                                 Carla Bauto Deña 2021-03-10 15:51:00   \n",
       "..                                             ...                 ...   \n",
       "85                                 Raymund Antonio 2021-02-28 13:11:00   \n",
       "86                               Hannah Torregoza  2021-02-28 13:07:00   \n",
       "87                                Ellson Quismorio 2021-02-28 12:16:00   \n",
       "88                               Liezle Basa Iñigo 2021-02-28 10:27:00   \n",
       "89  Noreen Jazul, Jaleen Ramos, & Genalyn Kabiling 2021-02-28 08:03:00   \n",
       "\n",
       "                                     articles_content        news_org  \n",
       "0   Government authorities assured the availabilit...  manilabulletin  \n",
       "1   CEBU CITY – A private hospital will donate COV...  manilabulletin  \n",
       "2   Presidential spokesman Harry Roque said on Thu...  manilabulletin  \n",
       "3   “Spiderman” became the latest personality to r...  manilabulletin  \n",
       "4   BACOOR CITY, Cavite – The city government led ...  manilabulletin  \n",
       "..                                                ...             ...  \n",
       "85  The Philippines should work to build an enviro...  manilabulletin  \n",
       "86  Senator Christopher “Bong” Go on Sunday assure...  manilabulletin  \n",
       "87  What happens when the Philippines gets fewer t...  manilabulletin  \n",
       "88  An official of the Catholic Bishops’ Conferenc...  manilabulletin  \n",
       "89  The Philippines’ first batch of COVID-19 vacci...  manilabulletin  \n",
       "\n",
       "[90 rows x 6 columns]"
      ],
      "text/html": "<div>\n<style scoped>\n    .dataframe tbody tr th:only-of-type {\n        vertical-align: middle;\n    }\n\n    .dataframe tbody tr th {\n        vertical-align: top;\n    }\n\n    .dataframe thead th {\n        text-align: right;\n    }\n</style>\n<table border=\"1\" class=\"dataframe\">\n  <thead>\n    <tr style=\"text-align: right;\">\n      <th></th>\n      <th>urls</th>\n      <th>titles</th>\n      <th>authors</th>\n      <th>published_dates</th>\n      <th>articles_content</th>\n      <th>news_org</th>\n    </tr>\n  </thead>\n  <tbody>\n    <tr>\n      <th>0</th>\n      <td>https://mb.com.ph/2021/03/11/govt-assures-avai...</td>\n      <td>Gov’t assures availability of COVID-19 vaccine...</td>\n      <td>Analou De Vera</td>\n      <td>2021-03-11 21:20:00</td>\n      <td>Government authorities assured the availabilit...</td>\n      <td>manilabulletin</td>\n    </tr>\n    <tr>\n      <th>1</th>\n      <td>https://mb.com.ph/2021/03/11/private-hospital-...</td>\n      <td>Private hospital to donate AstraZeneca COVID v...</td>\n      <td>Calvin Cordova</td>\n      <td>2021-03-11 15:04:00</td>\n      <td>CEBU CITY – A private hospital will donate COV...</td>\n      <td>manilabulletin</td>\n    </tr>\n    <tr>\n      <th>2</th>\n      <td>https://mb.com.ph/2021/03/11/ph-plans-to-devel...</td>\n      <td>PH plans to develop its own COVID-19 vaccine</td>\n      <td>Raymund Antonio</td>\n      <td>2021-03-11 14:36:00</td>\n      <td>Presidential spokesman Harry Roque said on Thu...</td>\n      <td>manilabulletin</td>\n    </tr>\n    <tr>\n      <th>3</th>\n      <td>https://mb.com.ph/2021/03/11/superheroes-need-...</td>\n      <td>Superheroes need vaccines too: ‘Spider-Man’ ge...</td>\n      <td>Gabriela Baron</td>\n      <td>2021-03-11 09:26:00</td>\n      <td>“Spiderman” became the latest personality to r...</td>\n      <td>manilabulletin</td>\n    </tr>\n    <tr>\n      <th>4</th>\n      <td>https://mb.com.ph/2021/03/10/bacoor-vaccinates...</td>\n      <td>Bacoor vaccinates 114 health workers in first ...</td>\n      <td>Carla Bauto Deña</td>\n      <td>2021-03-10 15:51:00</td>\n      <td>BACOOR CITY, Cavite – The city government led ...</td>\n      <td>manilabulletin</td>\n    </tr>\n    <tr>\n      <th>...</th>\n      <td>...</td>\n      <td>...</td>\n      <td>...</td>\n      <td>...</td>\n      <td>...</td>\n      <td>...</td>\n    </tr>\n    <tr>\n      <th>85</th>\n      <td>https://mb.com.ph/2021/02/28/desperate-for-cov...</td>\n      <td>Desperate for COVID-19 vaccines? Robredo urges...</td>\n      <td>Raymund Antonio</td>\n      <td>2021-02-28 13:11:00</td>\n      <td>The Philippines should work to build an enviro...</td>\n      <td>manilabulletin</td>\n    </tr>\n    <tr>\n      <th>86</th>\n      <td>https://mb.com.ph/2021/02/28/go-assures-govt-w...</td>\n      <td>Go assures gov’t will ensure equitable distrib...</td>\n      <td>Hannah Torregoza</td>\n      <td>2021-02-28 13:07:00</td>\n      <td>Senator Christopher “Bong” Go on Sunday assure...</td>\n      <td>manilabulletin</td>\n    </tr>\n    <tr>\n      <th>87</th>\n      <td>https://mb.com.ph/2021/02/28/what-happens-if-p...</td>\n      <td>What happens if PH gets fewer than the COVID v...</td>\n      <td>Ellson Quismorio</td>\n      <td>2021-02-28 12:16:00</td>\n      <td>What happens when the Philippines gets fewer t...</td>\n      <td>manilabulletin</td>\n    </tr>\n    <tr>\n      <th>88</th>\n      <td>https://mb.com.ph/2021/02/28/prelate-arrival-o...</td>\n      <td>Prelate: Arrival of COVID-19 vaccines to ease ...</td>\n      <td>Liezle Basa Iñigo</td>\n      <td>2021-02-28 10:27:00</td>\n      <td>An official of the Catholic Bishops’ Conferenc...</td>\n      <td>manilabulletin</td>\n    </tr>\n    <tr>\n      <th>89</th>\n      <td>https://mb.com.ph/2021/02/28/prrd-to-welcome-f...</td>\n      <td>PRRD to welcome first batch of COVID-19 vaccin...</td>\n      <td>Noreen Jazul, Jaleen Ramos, &amp; Genalyn Kabiling</td>\n      <td>2021-02-28 08:03:00</td>\n      <td>The Philippines’ first batch of COVID-19 vacci...</td>\n      <td>manilabulletin</td>\n    </tr>\n  </tbody>\n</table>\n<p>90 rows × 6 columns</p>\n</div>"
     },
     "metadata": {},
     "execution_count": 4
    }
   ],
   "source": [
    "# # TODO\n",
    "df_manilabulletin = pd.read_csv('datasets/manilabulletin_final.csv')\n",
    "df_manilabulletin['published_dates'] = pd.to_datetime(df_manilabulletin['published_dates'])\n",
    "df_manilabulletin = df_manilabulletin.sort_values('published_dates', ascending = False).head(90)\n",
    "df_manilabulletin.info()\n",
    "df_manilabulletin"
   ]
  },
  {
   "cell_type": "code",
   "execution_count": 5,
   "metadata": {
    "execution": {
     "iopub.execute_input": "2021-03-11T13:33:38.445186Z",
     "iopub.status.busy": "2021-03-11T13:33:38.444189Z",
     "iopub.status.idle": "2021-03-11T13:33:38.468126Z",
     "shell.execute_reply": "2021-03-11T13:33:38.467165Z",
     "shell.execute_reply.started": "2021-03-11T13:33:38.445186Z"
    }
   },
   "outputs": [
    {
     "output_type": "execute_result",
     "data": {
      "text/plain": [
       "90"
      ]
     },
     "metadata": {},
     "execution_count": 5
    }
   ],
   "source": [
    "df_manilabulletin['published_dates'].nunique()"
   ]
  },
  {
   "cell_type": "markdown",
   "metadata": {},
   "source": [
    "## ABS-CBN (Gee-R)"
   ]
  },
  {
   "cell_type": "code",
   "execution_count": 6,
   "metadata": {
    "execution": {
     "iopub.execute_input": "2021-03-11T12:49:15.500219Z",
     "iopub.status.busy": "2021-03-11T12:49:15.499221Z",
     "iopub.status.idle": "2021-03-11T12:49:15.613914Z",
     "shell.execute_reply": "2021-03-11T12:49:15.612993Z",
     "shell.execute_reply.started": "2021-03-11T12:49:15.500219Z"
    }
   },
   "outputs": [
    {
     "output_type": "stream",
     "name": "stdout",
     "text": [
      "<class 'pandas.core.frame.DataFrame'>\nInt64Index: 90 entries, 192 to 308\nData columns (total 6 columns):\n #   Column            Non-Null Count  Dtype         \n---  ------            --------------  -----         \n 0   urls              90 non-null     object        \n 1   titles            90 non-null     object        \n 2   authors           90 non-null     object        \n 3   published_dates   90 non-null     datetime64[ns]\n 4   articles_content  90 non-null     object        \n 5   news_org          90 non-null     object        \ndtypes: datetime64[ns](1), object(5)\nmemory usage: 4.9+ KB\n"
     ]
    },
    {
     "output_type": "execute_result",
     "data": {
      "text/plain": [
       "                                                  urls  \\\n",
       "192  https://news.abs-cbn.com/news/03/10/21/militar...   \n",
       "0    https://news.abs-cbn.com/news/03/10/21/philipp...   \n",
       "228  https://news.abs-cbn.com/business/03/10/21/fil...   \n",
       "94   https://news.abs-cbn.com/news/03/10/21/astraze...   \n",
       "109  https://news.abs-cbn.com/news/03/09/21/covid-1...   \n",
       "..                                                 ...   \n",
       "87   https://news.abs-cbn.com/news/02/05/21/covid-1...   \n",
       "268  https://news.abs-cbn.com/news/02/04/21/cabinet...   \n",
       "265  https://news.abs-cbn.com/news/02/04/21/who-9-m...   \n",
       "253  https://news.abs-cbn.com/overseas/02/04/21/gsk...   \n",
       "308  https://news.abs-cbn.com/news/02/03/21/streaml...   \n",
       "\n",
       "                                                titles  \\\n",
       "192  Military rolls out COVID-19 vaccine drive for ...   \n",
       "0    Philippines to get initial shipment of Pfizer ...   \n",
       "228  Fil-Israeli firm to set up COVID-19 vaccine ma...   \n",
       "94                AstraZeneca vaccines arrive in Davao   \n",
       "109  COVID-19 cases in Philippines top 600,000 as i...   \n",
       "..                                                 ...   \n",
       "87   COVID-19 task force allows more foreigners to ...   \n",
       "268  Cabinet members willing to be vaccinated in pu...   \n",
       "265  WHO: 9-M COVID vaccine doses from COVAX could ...   \n",
       "253                                                GSK   \n",
       "308  Streamlined system for vaccination in Marikina...   \n",
       "\n",
       "                            authors     published_dates  \\\n",
       "192                    ABS-CBN News 2021-03-10 21:09:00   \n",
       "0                      ABS-CBN News 2021-03-10 14:09:00   \n",
       "228                    ABS-CBN News 2021-03-10 13:28:00   \n",
       "94                     ABS-CBN News 2021-03-10 09:15:00   \n",
       "109  Kristine Sabillo, ABS-CBN News 2021-03-09 16:06:00   \n",
       "..                              ...                 ...   \n",
       "87   Jamaine Punzalan, ABS-CBN News 2021-02-05 11:47:00   \n",
       "268     Pia Gutierrez, ABS-CBN News 2021-02-04 20:14:00   \n",
       "265                    ABS-CBN News 2021-02-04 20:08:00   \n",
       "253                    ABS-CBN News 2021-02-04 03:59:00   \n",
       "308     Adrian Ayalin, ABS-CBN News 2021-02-03 20:57:00   \n",
       "\n",
       "                                      articles_content news_org  \n",
       "192  Photos courtesy of the Western Mindanao Comman...   abscbn  \n",
       "0    A health worker holds prepared syringes with d...   abscbn  \n",
       "228  MANILA - A Filipino-Israeli pharmaceutical fir...   abscbn  \n",
       "94   DAVAO CITY - Davao Region on Wednesday receive...   abscbn  \n",
       "109  San Juan City launches its vaccination program...   abscbn  \n",
       "..                                                 ...      ...  \n",
       "87   Passengers wearing hazmat suits for protection...   abscbn  \n",
       "268  President Rodrigo Duterte presides over the 51...   abscbn  \n",
       "265  MANILA—The World Health Organization (WHO) on ...   abscbn  \n",
       "253  People receive a vaccine against COVID-19 in t...   abscbn  \n",
       "308  MANILA—The deputy chief implementer of the nat...   abscbn  \n",
       "\n",
       "[90 rows x 6 columns]"
      ],
      "text/html": "<div>\n<style scoped>\n    .dataframe tbody tr th:only-of-type {\n        vertical-align: middle;\n    }\n\n    .dataframe tbody tr th {\n        vertical-align: top;\n    }\n\n    .dataframe thead th {\n        text-align: right;\n    }\n</style>\n<table border=\"1\" class=\"dataframe\">\n  <thead>\n    <tr style=\"text-align: right;\">\n      <th></th>\n      <th>urls</th>\n      <th>titles</th>\n      <th>authors</th>\n      <th>published_dates</th>\n      <th>articles_content</th>\n      <th>news_org</th>\n    </tr>\n  </thead>\n  <tbody>\n    <tr>\n      <th>192</th>\n      <td>https://news.abs-cbn.com/news/03/10/21/militar...</td>\n      <td>Military rolls out COVID-19 vaccine drive for ...</td>\n      <td>ABS-CBN News</td>\n      <td>2021-03-10 21:09:00</td>\n      <td>Photos courtesy of the Western Mindanao Comman...</td>\n      <td>abscbn</td>\n    </tr>\n    <tr>\n      <th>0</th>\n      <td>https://news.abs-cbn.com/news/03/10/21/philipp...</td>\n      <td>Philippines to get initial shipment of Pfizer ...</td>\n      <td>ABS-CBN News</td>\n      <td>2021-03-10 14:09:00</td>\n      <td>A health worker holds prepared syringes with d...</td>\n      <td>abscbn</td>\n    </tr>\n    <tr>\n      <th>228</th>\n      <td>https://news.abs-cbn.com/business/03/10/21/fil...</td>\n      <td>Fil-Israeli firm to set up COVID-19 vaccine ma...</td>\n      <td>ABS-CBN News</td>\n      <td>2021-03-10 13:28:00</td>\n      <td>MANILA - A Filipino-Israeli pharmaceutical fir...</td>\n      <td>abscbn</td>\n    </tr>\n    <tr>\n      <th>94</th>\n      <td>https://news.abs-cbn.com/news/03/10/21/astraze...</td>\n      <td>AstraZeneca vaccines arrive in Davao</td>\n      <td>ABS-CBN News</td>\n      <td>2021-03-10 09:15:00</td>\n      <td>DAVAO CITY - Davao Region on Wednesday receive...</td>\n      <td>abscbn</td>\n    </tr>\n    <tr>\n      <th>109</th>\n      <td>https://news.abs-cbn.com/news/03/09/21/covid-1...</td>\n      <td>COVID-19 cases in Philippines top 600,000 as i...</td>\n      <td>Kristine Sabillo, ABS-CBN News</td>\n      <td>2021-03-09 16:06:00</td>\n      <td>San Juan City launches its vaccination program...</td>\n      <td>abscbn</td>\n    </tr>\n    <tr>\n      <th>...</th>\n      <td>...</td>\n      <td>...</td>\n      <td>...</td>\n      <td>...</td>\n      <td>...</td>\n      <td>...</td>\n    </tr>\n    <tr>\n      <th>87</th>\n      <td>https://news.abs-cbn.com/news/02/05/21/covid-1...</td>\n      <td>COVID-19 task force allows more foreigners to ...</td>\n      <td>Jamaine Punzalan, ABS-CBN News</td>\n      <td>2021-02-05 11:47:00</td>\n      <td>Passengers wearing hazmat suits for protection...</td>\n      <td>abscbn</td>\n    </tr>\n    <tr>\n      <th>268</th>\n      <td>https://news.abs-cbn.com/news/02/04/21/cabinet...</td>\n      <td>Cabinet members willing to be vaccinated in pu...</td>\n      <td>Pia Gutierrez, ABS-CBN News</td>\n      <td>2021-02-04 20:14:00</td>\n      <td>President Rodrigo Duterte presides over the 51...</td>\n      <td>abscbn</td>\n    </tr>\n    <tr>\n      <th>265</th>\n      <td>https://news.abs-cbn.com/news/02/04/21/who-9-m...</td>\n      <td>WHO: 9-M COVID vaccine doses from COVAX could ...</td>\n      <td>ABS-CBN News</td>\n      <td>2021-02-04 20:08:00</td>\n      <td>MANILA—The World Health Organization (WHO) on ...</td>\n      <td>abscbn</td>\n    </tr>\n    <tr>\n      <th>253</th>\n      <td>https://news.abs-cbn.com/overseas/02/04/21/gsk...</td>\n      <td>GSK</td>\n      <td>ABS-CBN News</td>\n      <td>2021-02-04 03:59:00</td>\n      <td>People receive a vaccine against COVID-19 in t...</td>\n      <td>abscbn</td>\n    </tr>\n    <tr>\n      <th>308</th>\n      <td>https://news.abs-cbn.com/news/02/03/21/streaml...</td>\n      <td>Streamlined system for vaccination in Marikina...</td>\n      <td>Adrian Ayalin, ABS-CBN News</td>\n      <td>2021-02-03 20:57:00</td>\n      <td>MANILA—The deputy chief implementer of the nat...</td>\n      <td>abscbn</td>\n    </tr>\n  </tbody>\n</table>\n<p>90 rows × 6 columns</p>\n</div>"
     },
     "metadata": {},
     "execution_count": 6
    }
   ],
   "source": [
    "# # TODO\n",
    "df_abscbn = pd.read_csv('datasets/abscbn_final.csv')\n",
    "df_abscbn['published_dates'] = pd.to_datetime(df_abscbn['published_dates'])\n",
    "df_abscbn = df_abscbn.sort_values('published_dates', ascending = False).head(90)\n",
    "df_abscbn.info()\n",
    "df_abscbn"
   ]
  },
  {
   "cell_type": "markdown",
   "metadata": {},
   "source": [
    "## Philippine Star & Manila Times (Hurly)"
   ]
  },
  {
   "cell_type": "code",
   "execution_count": 7,
   "metadata": {
    "execution": {
     "iopub.execute_input": "2021-03-11T14:49:58.920426Z",
     "iopub.status.busy": "2021-03-11T14:49:58.919462Z",
     "iopub.status.idle": "2021-03-11T14:49:59.072484Z",
     "shell.execute_reply": "2021-03-11T14:49:59.068495Z",
     "shell.execute_reply.started": "2021-03-11T14:49:58.920426Z"
    }
   },
   "outputs": [
    {
     "output_type": "stream",
     "name": "stdout",
     "text": [
      "<class 'pandas.core.frame.DataFrame'>\nInt64Index: 90 entries, 0 to 93\nData columns (total 6 columns):\n #   Column            Non-Null Count  Dtype         \n---  ------            --------------  -----         \n 0   urls              90 non-null     object        \n 1   authors           90 non-null     object        \n 2   titles            90 non-null     object        \n 3   articles_content  90 non-null     object        \n 4   news_org          90 non-null     object        \n 5   published_dates   90 non-null     datetime64[ns]\ndtypes: datetime64[ns](1), object(5)\nmemory usage: 4.9+ KB\n<class 'pandas.core.frame.DataFrame'>\nInt64Index: 90 entries, 0 to 90\nData columns (total 6 columns):\n #   Column            Non-Null Count  Dtype         \n---  ------            --------------  -----         \n 0   urls              90 non-null     object        \n 1   authors           90 non-null     object        \n 2   titles            90 non-null     object        \n 3   articles_content  90 non-null     object        \n 4   news_org          90 non-null     object        \n 5   published_dates   90 non-null     datetime64[ns]\ndtypes: datetime64[ns](1), object(5)\nmemory usage: 4.9+ KB\n"
     ]
    },
    {
     "output_type": "execute_result",
     "data": {
      "text/plain": [
       "                                                 urls  \\\n",
       "0   https://www.philstar.com/headlines/2021/03/07/...   \n",
       "5   https://www.philstar.com/nation/2021/03/07/208...   \n",
       "7   https://www.philstar.com/cebu-news/2021/03/07/...   \n",
       "6   https://www.philstar.com/headlines/2021/03/07/...   \n",
       "1   https://www.philstar.com/headlines/2021/03/07/...   \n",
       "..                                                ...   \n",
       "89  https://www.philstar.com/headlines/2021/02/21/...   \n",
       "90  https://www.philstar.com/cebu-news/2021/02/20/...   \n",
       "91  https://www.philstar.com/headlines/2021/02/19/...   \n",
       "92  https://www.philstar.com/headlines/2021/02/19/...   \n",
       "93  https://www.philstar.com/headlines/2021/02/19/...   \n",
       "\n",
       "                    authors  \\\n",
       "0             Alexis Romero   \n",
       "5          Raymund Catindig   \n",
       "7    Le Phyllis F. Antojado   \n",
       "6                      None   \n",
       "1       Christian Deiparine   \n",
       "..                      ...   \n",
       "89        Sheila Crisostomo   \n",
       "90  Caecent No-ot Magsumbol   \n",
       "91     Gaea Katreena Cabico   \n",
       "92            Xave Gregorio   \n",
       "93            Pia Lee-Brago   \n",
       "\n",
       "                                               titles  \\\n",
       "0   Palace: All documents needed for purchase of P...   \n",
       "5       Ilocos, Cordilleras roll out Sinovac vaccines   \n",
       "7   DepEd encourages Cebu teachers to get vaccinat...   \n",
       "6         Don’t waste the hope of vaccines, WHO warns   \n",
       "1   Philippines reaches supply deal with Moderna f...   \n",
       "..                                                ...   \n",
       "89  Can COVID-19 vaccines prevent infection, trans...   \n",
       "90  DILG to PNP: Arrest sellers of fake COVID-19 v...   \n",
       "91  Janssen starts COVID-19 vaccine trial in Phili...   \n",
       "92  Congress to pass bill speeding up procurement ...   \n",
       "93            Global vaccinations uneven, unfair – UN   \n",
       "\n",
       "                                     articles_content  news_org  \\\n",
       "0   MANILA, Philippines — The government has compl...  Philstar   \n",
       "5   MANILA, Philippines — Hundreds of health worke...  Philstar   \n",
       "7   CEBU, Philippines —  The Department of Educati...  Philstar   \n",
       "6   COVAX will distribute 14.4 million COVID-19 va...  Philstar   \n",
       "1   MANILA, Philippines — US-based manufacturer Mo...  Philstar   \n",
       "..                                                ...       ...   \n",
       "89  MANILA, Philippines — Vaccines for COVID-19 do...  Philstar   \n",
       "90  CEBU, Philippines —  The Department of Interio...  Philstar   \n",
       "91  MANILA, Philippines — Belgian drugmaker Jansse...  Philstar   \n",
       "92  MANILA, Philippines — The House of Representat...  Philstar   \n",
       "93  MANILA, Philippines — The progress of vaccinat...  Philstar   \n",
       "\n",
       "   published_dates  \n",
       "0       2021-03-07  \n",
       "5       2021-03-07  \n",
       "7       2021-03-07  \n",
       "6       2021-03-07  \n",
       "1       2021-03-07  \n",
       "..             ...  \n",
       "89      2021-02-21  \n",
       "90      2021-02-20  \n",
       "91      2021-02-19  \n",
       "92      2021-02-19  \n",
       "93      2021-02-19  \n",
       "\n",
       "[90 rows x 6 columns]"
      ],
      "text/html": "<div>\n<style scoped>\n    .dataframe tbody tr th:only-of-type {\n        vertical-align: middle;\n    }\n\n    .dataframe tbody tr th {\n        vertical-align: top;\n    }\n\n    .dataframe thead th {\n        text-align: right;\n    }\n</style>\n<table border=\"1\" class=\"dataframe\">\n  <thead>\n    <tr style=\"text-align: right;\">\n      <th></th>\n      <th>urls</th>\n      <th>authors</th>\n      <th>titles</th>\n      <th>articles_content</th>\n      <th>news_org</th>\n      <th>published_dates</th>\n    </tr>\n  </thead>\n  <tbody>\n    <tr>\n      <th>0</th>\n      <td>https://www.philstar.com/headlines/2021/03/07/...</td>\n      <td>Alexis Romero</td>\n      <td>Palace: All documents needed for purchase of P...</td>\n      <td>MANILA, Philippines — The government has compl...</td>\n      <td>Philstar</td>\n      <td>2021-03-07</td>\n    </tr>\n    <tr>\n      <th>5</th>\n      <td>https://www.philstar.com/nation/2021/03/07/208...</td>\n      <td>Raymund Catindig</td>\n      <td>Ilocos, Cordilleras roll out Sinovac vaccines</td>\n      <td>MANILA, Philippines — Hundreds of health worke...</td>\n      <td>Philstar</td>\n      <td>2021-03-07</td>\n    </tr>\n    <tr>\n      <th>7</th>\n      <td>https://www.philstar.com/cebu-news/2021/03/07/...</td>\n      <td>Le Phyllis F. Antojado</td>\n      <td>DepEd encourages Cebu teachers to get vaccinat...</td>\n      <td>CEBU, Philippines —  The Department of Educati...</td>\n      <td>Philstar</td>\n      <td>2021-03-07</td>\n    </tr>\n    <tr>\n      <th>6</th>\n      <td>https://www.philstar.com/headlines/2021/03/07/...</td>\n      <td>None</td>\n      <td>Don’t waste the hope of vaccines, WHO warns</td>\n      <td>COVAX will distribute 14.4 million COVID-19 va...</td>\n      <td>Philstar</td>\n      <td>2021-03-07</td>\n    </tr>\n    <tr>\n      <th>1</th>\n      <td>https://www.philstar.com/headlines/2021/03/07/...</td>\n      <td>Christian Deiparine</td>\n      <td>Philippines reaches supply deal with Moderna f...</td>\n      <td>MANILA, Philippines — US-based manufacturer Mo...</td>\n      <td>Philstar</td>\n      <td>2021-03-07</td>\n    </tr>\n    <tr>\n      <th>...</th>\n      <td>...</td>\n      <td>...</td>\n      <td>...</td>\n      <td>...</td>\n      <td>...</td>\n      <td>...</td>\n    </tr>\n    <tr>\n      <th>89</th>\n      <td>https://www.philstar.com/headlines/2021/02/21/...</td>\n      <td>Sheila Crisostomo</td>\n      <td>Can COVID-19 vaccines prevent infection, trans...</td>\n      <td>MANILA, Philippines — Vaccines for COVID-19 do...</td>\n      <td>Philstar</td>\n      <td>2021-02-21</td>\n    </tr>\n    <tr>\n      <th>90</th>\n      <td>https://www.philstar.com/cebu-news/2021/02/20/...</td>\n      <td>Caecent No-ot Magsumbol</td>\n      <td>DILG to PNP: Arrest sellers of fake COVID-19 v...</td>\n      <td>CEBU, Philippines —  The Department of Interio...</td>\n      <td>Philstar</td>\n      <td>2021-02-20</td>\n    </tr>\n    <tr>\n      <th>91</th>\n      <td>https://www.philstar.com/headlines/2021/02/19/...</td>\n      <td>Gaea Katreena Cabico</td>\n      <td>Janssen starts COVID-19 vaccine trial in Phili...</td>\n      <td>MANILA, Philippines — Belgian drugmaker Jansse...</td>\n      <td>Philstar</td>\n      <td>2021-02-19</td>\n    </tr>\n    <tr>\n      <th>92</th>\n      <td>https://www.philstar.com/headlines/2021/02/19/...</td>\n      <td>Xave Gregorio</td>\n      <td>Congress to pass bill speeding up procurement ...</td>\n      <td>MANILA, Philippines — The House of Representat...</td>\n      <td>Philstar</td>\n      <td>2021-02-19</td>\n    </tr>\n    <tr>\n      <th>93</th>\n      <td>https://www.philstar.com/headlines/2021/02/19/...</td>\n      <td>Pia Lee-Brago</td>\n      <td>Global vaccinations uneven, unfair – UN</td>\n      <td>MANILA, Philippines — The progress of vaccinat...</td>\n      <td>Philstar</td>\n      <td>2021-02-19</td>\n    </tr>\n  </tbody>\n</table>\n<p>90 rows × 6 columns</p>\n</div>"
     },
     "metadata": {},
     "execution_count": 7
    }
   ],
   "source": [
    "# # TODO\n",
    "df_philstar = pd.read_csv('datasets/manila_and_philstar.csv',index_col = 0)\n",
    "df_philstar['published_dates'] = pd.to_datetime(df_philstar['dates'])\n",
    "df_philstar = df_philstar.drop(columns = 'dates')\n",
    "df_philstar = df_philstar.rename(columns = {'news_agency':'news_org','headlines':'titles','contents':'articles_content'})\n",
    "# df_philstar = df_philstar.sort_values('published_dates', ascending = False).head(90)\n",
    "\n",
    "df_themanilatimes = df_philstar[df_philstar['news_org'] == 'Manila Times']\n",
    "df_themanilatimes = df_themanilatimes.sort_values('published_dates', ascending = False).head(90)\n",
    "\n",
    "df_philstar = df_philstar[df_philstar['news_org'] != 'Manila Times']\n",
    "df_philstar = df_philstar.sort_values('published_dates', ascending = False).head(90)\n",
    "\n",
    "df_philstar.info()\n",
    "\n",
    "df_themanilatimes.info()\n",
    "\n",
    "df_philstar\n",
    "# df_themanilatimes"
   ]
  },
  {
   "cell_type": "code",
   "execution_count": 8,
   "metadata": {},
   "outputs": [],
   "source": [
    "# # TODO\n",
    "# df_themanilatimes = pd.read_csv('datasets/themanilatimes.csv')\n",
    "# df_themanilatimes.info()\n",
    "# df_themanilatimes"
   ]
  },
  {
   "cell_type": "markdown",
   "metadata": {},
   "source": [
    "## Sun Star (Gee-R)"
   ]
  },
  {
   "cell_type": "code",
   "execution_count": 9,
   "metadata": {
    "execution": {
     "iopub.execute_input": "2021-03-11T12:53:23.785075Z",
     "iopub.status.busy": "2021-03-11T12:53:23.784112Z",
     "iopub.status.idle": "2021-03-11T12:53:23.912732Z",
     "shell.execute_reply": "2021-03-11T12:53:23.910819Z",
     "shell.execute_reply.started": "2021-03-11T12:53:23.785075Z"
    }
   },
   "outputs": [
    {
     "output_type": "stream",
     "name": "stdout",
     "text": [
      "<class 'pandas.core.frame.DataFrame'>\nInt64Index: 90 entries, 522 to 530\nData columns (total 6 columns):\n #   Column            Non-Null Count  Dtype         \n---  ------            --------------  -----         \n 0   urls              90 non-null     object        \n 1   titles            90 non-null     object        \n 2   authors           90 non-null     object        \n 3   published_dates   90 non-null     datetime64[ns]\n 4   articles_content  90 non-null     object        \n 5   news_org          90 non-null     object        \ndtypes: datetime64[ns](1), object(5)\nmemory usage: 4.9+ KB\n"
     ]
    },
    {
     "output_type": "execute_result",
     "data": {
      "text/plain": [
       "                                                  urls  \\\n",
       "522  https://www.sunstar.com.ph/article/1888352/Pam...   \n",
       "256  https://www.sunstar.com.ph/article/1888375/Dav...   \n",
       "95   https://www.sunstar.com.ph/article/1888399/Cag...   \n",
       "543  https://www.sunstar.com.ph/article/1888355/Pam...   \n",
       "25   https://www.sunstar.com.ph/article/1888406/Bac...   \n",
       "\n",
       "                                                titles  \\\n",
       "522  Mayor asks Magalang folks to join Covid-19 vac...   \n",
       "256  Safe Davao QR to be integrated into national v...   \n",
       "95       AstraZeneca vaccine arrives in Cagayan de Oro   \n",
       "543  Arroyo: Successful vax rollout key to economic...   \n",
       "25          648 frontliners inoculated in Bacolod City   \n",
       "\n",
       "                      authors published_dates  \\\n",
       "522       REYNALDO G. NAVALES      2021-03-10   \n",
       "256  RALPH LAWRENCE G. LLEMIT      2021-03-10   \n",
       "95              JO ANN SABLAD      2021-03-10   \n",
       "543                   sunstar      2021-03-10   \n",
       "25        MERLINDA A. PEDROSA      2021-03-10   \n",
       "\n",
       "                                      articles_content news_org  \n",
       "522  MAGALANG Mayor Romy Feliciano Pecson has asked...  sunstar  \n",
       "256  THE Davao City Government is working on integr...  sunstar  \n",
       "95   A TOTAL of 2,200 vials or 22,000 doses of the ...  sunstar  \n",
       "543  FORMER President Gloria Macapagal-Arroyo said ...  sunstar  \n",
       "25   SOME 648 medical frontliners in Bacolod City w...  sunstar  "
      ],
      "text/html": "<div>\n<style scoped>\n    .dataframe tbody tr th:only-of-type {\n        vertical-align: middle;\n    }\n\n    .dataframe tbody tr th {\n        vertical-align: top;\n    }\n\n    .dataframe thead th {\n        text-align: right;\n    }\n</style>\n<table border=\"1\" class=\"dataframe\">\n  <thead>\n    <tr style=\"text-align: right;\">\n      <th></th>\n      <th>urls</th>\n      <th>titles</th>\n      <th>authors</th>\n      <th>published_dates</th>\n      <th>articles_content</th>\n      <th>news_org</th>\n    </tr>\n  </thead>\n  <tbody>\n    <tr>\n      <th>522</th>\n      <td>https://www.sunstar.com.ph/article/1888352/Pam...</td>\n      <td>Mayor asks Magalang folks to join Covid-19 vac...</td>\n      <td>REYNALDO G. NAVALES</td>\n      <td>2021-03-10</td>\n      <td>MAGALANG Mayor Romy Feliciano Pecson has asked...</td>\n      <td>sunstar</td>\n    </tr>\n    <tr>\n      <th>256</th>\n      <td>https://www.sunstar.com.ph/article/1888375/Dav...</td>\n      <td>Safe Davao QR to be integrated into national v...</td>\n      <td>RALPH LAWRENCE G. LLEMIT</td>\n      <td>2021-03-10</td>\n      <td>THE Davao City Government is working on integr...</td>\n      <td>sunstar</td>\n    </tr>\n    <tr>\n      <th>95</th>\n      <td>https://www.sunstar.com.ph/article/1888399/Cag...</td>\n      <td>AstraZeneca vaccine arrives in Cagayan de Oro</td>\n      <td>JO ANN SABLAD</td>\n      <td>2021-03-10</td>\n      <td>A TOTAL of 2,200 vials or 22,000 doses of the ...</td>\n      <td>sunstar</td>\n    </tr>\n    <tr>\n      <th>543</th>\n      <td>https://www.sunstar.com.ph/article/1888355/Pam...</td>\n      <td>Arroyo: Successful vax rollout key to economic...</td>\n      <td>sunstar</td>\n      <td>2021-03-10</td>\n      <td>FORMER President Gloria Macapagal-Arroyo said ...</td>\n      <td>sunstar</td>\n    </tr>\n    <tr>\n      <th>25</th>\n      <td>https://www.sunstar.com.ph/article/1888406/Bac...</td>\n      <td>648 frontliners inoculated in Bacolod City</td>\n      <td>MERLINDA A. PEDROSA</td>\n      <td>2021-03-10</td>\n      <td>SOME 648 medical frontliners in Bacolod City w...</td>\n      <td>sunstar</td>\n    </tr>\n  </tbody>\n</table>\n</div>"
     },
     "metadata": {},
     "execution_count": 9
    }
   ],
   "source": [
    "# # TODO\n",
    "df_sunstar = pd.read_csv('datasets/sunstar_final.csv')\n",
    "df_sunstar = df_sunstar.dropna(subset = ['articles_content'])\n",
    "df_sunstar['published_dates'] = pd.to_datetime(df_sunstar['published_dates'])\n",
    "df_sunstar['authors'] = df_sunstar['authors'].fillna('sunstar')\n",
    "df_sunstar = df_sunstar.sort_values('published_dates', ascending = False).head(90)\n",
    "df_sunstar.info()\n",
    "df_sunstar.head()"
   ]
  },
  {
   "cell_type": "markdown",
   "metadata": {},
   "source": [
    "## Inquirer (Andrei)"
   ]
  },
  {
   "cell_type": "code",
   "execution_count": 10,
   "metadata": {},
   "outputs": [
    {
     "output_type": "stream",
     "name": "stdout",
     "text": [
      "<class 'pandas.core.frame.DataFrame'>\nRangeIndex: 95 entries, 0 to 94\nData columns (total 6 columns):\n #   Column            Non-Null Count  Dtype         \n---  ------            --------------  -----         \n 0   urls              95 non-null     object        \n 1   titles            95 non-null     object        \n 2   authors           95 non-null     object        \n 3   published_dates   95 non-null     datetime64[ns]\n 4   articles_content  95 non-null     object        \n 5   news_org          95 non-null     object        \ndtypes: datetime64[ns](1), object(5)\nmemory usage: 4.6+ KB\n"
     ]
    },
    {
     "output_type": "execute_result",
     "data": {
      "text/plain": [
       "                                                 urls  \\\n",
       "0   https://newsinfo.inquirer.net/1404600/ph-so-fa...   \n",
       "1   https://newsinfo.inquirer.net/1372054/explaine...   \n",
       "2   https://newsinfo.inquirer.net/1404592/20-milli...   \n",
       "3   https://opinion.inquirer.net/136192/covid-19-v...   \n",
       "4   https://newsinfo.inquirer.net/1399299/covid-19...   \n",
       "..                                                ...   \n",
       "90  https://newsinfo.inquirer.net/1401139/coronava...   \n",
       "91  https://globalnation.inquirer.net/194085/ph-re...   \n",
       "92  https://globalnation.inquirer.net/190193/duter...   \n",
       "93  https://globalnation.inquirer.net/192800/top-u...   \n",
       "94  https://globalnation.inquirer.net/193154/ph-in...   \n",
       "\n",
       "                                               titles                 authors  \\\n",
       "0   PH has so far vaccinated 44,000 against COVID-...           Daphne Galvez   \n",
       "1   Explainer: Facts about 7 COVID-19 vaccines Phi...  Cristina Eloisa Baclig   \n",
       "2   20 million doses of COVID-19 vaccines may arri...          Krissy Aguilar   \n",
       "3         COVID-19 vaccines in the Philippine context            Gideon Lasco   \n",
       "4   COVID-19 vaccine bill now up for Duterte’s sig...    Christia Marie Ramos   \n",
       "..                                                ...                     ...   \n",
       "90      CoronaVac rollout begins; AstraZeneca delayed           Maricar Cinco   \n",
       "91  PH reserves 6 M doses of Johnson & Johnson’s C...    Christia Marie Ramos   \n",
       "92  Duterte says Russia may give COVID-19 vaccine ...          Krissy Aguilar   \n",
       "93  Top US official will try to get back fraction ...         Katrina Hallare   \n",
       "94  PH in final talks with Moderna for up to 20M v...    Christia Marie Ramos   \n",
       "\n",
       "       published_dates                                   articles_content  \\\n",
       "0  2021-03-09 00:25:00  MANILA, Philippines — Over 44,000 vaccine dose...   \n",
       "1  2020-12-15 20:45:00  MANILA, Philippines — As the country pursues a...   \n",
       "2  2021-03-09 00:09:00  MANILA, Philippines — The Philippines may get ...   \n",
       "3  2020-12-16 05:05:00  Several months and over 400,000 COVID-19 cases...   \n",
       "4  2021-02-23 22:07:00  MANILA, Philippines — A bill seeking to speed ...   \n",
       "..                 ...                                                ...   \n",
       "90 2021-03-01 05:00:00  FINALLY The Philippines’ vaccination drive sta...   \n",
       "91 2021-03-01 08:27:00  A vial and sryinge are seen in front of a disp...   \n",
       "92 2020-08-11 15:52:00  MANILA, Philippines — Russia is willing to pro...   \n",
       "93 2020-12-19 11:48:00  FILE PHOTO: A woman holds a small bottle label...   \n",
       "94 2021-01-13 08:32:00  FILE PHOTO: Vials with a sticker reading, “COV...   \n",
       "\n",
       "    news_org  \n",
       "0   Inquirer  \n",
       "1   Inquirer  \n",
       "2   Inquirer  \n",
       "3   Inquirer  \n",
       "4   Inquirer  \n",
       "..       ...  \n",
       "90  Inquirer  \n",
       "91  Inquirer  \n",
       "92  Inquirer  \n",
       "93  Inquirer  \n",
       "94  Inquirer  \n",
       "\n",
       "[95 rows x 6 columns]"
      ],
      "text/html": "<div>\n<style scoped>\n    .dataframe tbody tr th:only-of-type {\n        vertical-align: middle;\n    }\n\n    .dataframe tbody tr th {\n        vertical-align: top;\n    }\n\n    .dataframe thead th {\n        text-align: right;\n    }\n</style>\n<table border=\"1\" class=\"dataframe\">\n  <thead>\n    <tr style=\"text-align: right;\">\n      <th></th>\n      <th>urls</th>\n      <th>titles</th>\n      <th>authors</th>\n      <th>published_dates</th>\n      <th>articles_content</th>\n      <th>news_org</th>\n    </tr>\n  </thead>\n  <tbody>\n    <tr>\n      <th>0</th>\n      <td>https://newsinfo.inquirer.net/1404600/ph-so-fa...</td>\n      <td>PH has so far vaccinated 44,000 against COVID-...</td>\n      <td>Daphne Galvez</td>\n      <td>2021-03-09 00:25:00</td>\n      <td>MANILA, Philippines — Over 44,000 vaccine dose...</td>\n      <td>Inquirer</td>\n    </tr>\n    <tr>\n      <th>1</th>\n      <td>https://newsinfo.inquirer.net/1372054/explaine...</td>\n      <td>Explainer: Facts about 7 COVID-19 vaccines Phi...</td>\n      <td>Cristina Eloisa Baclig</td>\n      <td>2020-12-15 20:45:00</td>\n      <td>MANILA, Philippines — As the country pursues a...</td>\n      <td>Inquirer</td>\n    </tr>\n    <tr>\n      <th>2</th>\n      <td>https://newsinfo.inquirer.net/1404592/20-milli...</td>\n      <td>20 million doses of COVID-19 vaccines may arri...</td>\n      <td>Krissy Aguilar</td>\n      <td>2021-03-09 00:09:00</td>\n      <td>MANILA, Philippines — The Philippines may get ...</td>\n      <td>Inquirer</td>\n    </tr>\n    <tr>\n      <th>3</th>\n      <td>https://opinion.inquirer.net/136192/covid-19-v...</td>\n      <td>COVID-19 vaccines in the Philippine context</td>\n      <td>Gideon Lasco</td>\n      <td>2020-12-16 05:05:00</td>\n      <td>Several months and over 400,000 COVID-19 cases...</td>\n      <td>Inquirer</td>\n    </tr>\n    <tr>\n      <th>4</th>\n      <td>https://newsinfo.inquirer.net/1399299/covid-19...</td>\n      <td>COVID-19 vaccine bill now up for Duterte’s sig...</td>\n      <td>Christia Marie Ramos</td>\n      <td>2021-02-23 22:07:00</td>\n      <td>MANILA, Philippines — A bill seeking to speed ...</td>\n      <td>Inquirer</td>\n    </tr>\n    <tr>\n      <th>...</th>\n      <td>...</td>\n      <td>...</td>\n      <td>...</td>\n      <td>...</td>\n      <td>...</td>\n      <td>...</td>\n    </tr>\n    <tr>\n      <th>90</th>\n      <td>https://newsinfo.inquirer.net/1401139/coronava...</td>\n      <td>CoronaVac rollout begins; AstraZeneca delayed</td>\n      <td>Maricar Cinco</td>\n      <td>2021-03-01 05:00:00</td>\n      <td>FINALLY The Philippines’ vaccination drive sta...</td>\n      <td>Inquirer</td>\n    </tr>\n    <tr>\n      <th>91</th>\n      <td>https://globalnation.inquirer.net/194085/ph-re...</td>\n      <td>PH reserves 6 M doses of Johnson &amp; Johnson’s C...</td>\n      <td>Christia Marie Ramos</td>\n      <td>2021-03-01 08:27:00</td>\n      <td>A vial and sryinge are seen in front of a disp...</td>\n      <td>Inquirer</td>\n    </tr>\n    <tr>\n      <th>92</th>\n      <td>https://globalnation.inquirer.net/190193/duter...</td>\n      <td>Duterte says Russia may give COVID-19 vaccine ...</td>\n      <td>Krissy Aguilar</td>\n      <td>2020-08-11 15:52:00</td>\n      <td>MANILA, Philippines — Russia is willing to pro...</td>\n      <td>Inquirer</td>\n    </tr>\n    <tr>\n      <th>93</th>\n      <td>https://globalnation.inquirer.net/192800/top-u...</td>\n      <td>Top US official will try to get back fraction ...</td>\n      <td>Katrina Hallare</td>\n      <td>2020-12-19 11:48:00</td>\n      <td>FILE PHOTO: A woman holds a small bottle label...</td>\n      <td>Inquirer</td>\n    </tr>\n    <tr>\n      <th>94</th>\n      <td>https://globalnation.inquirer.net/193154/ph-in...</td>\n      <td>PH in final talks with Moderna for up to 20M v...</td>\n      <td>Christia Marie Ramos</td>\n      <td>2021-01-13 08:32:00</td>\n      <td>FILE PHOTO: Vials with a sticker reading, “COV...</td>\n      <td>Inquirer</td>\n    </tr>\n  </tbody>\n</table>\n<p>95 rows × 6 columns</p>\n</div>"
     },
     "metadata": {},
     "execution_count": 10
    }
   ],
   "source": [
    "# # TODO\n",
    "df_inquirer = pd.read_csv('datasets/inquirer_vaccine.csv')\n",
    "df_inquirer['published_dates'] = df_inquirer['published_dates'].str.replace(' / ', '')\n",
    "df_inquirer['published_dates'] = df_inquirer['published_dates'].str.replace('INQUIRER.net', '')\n",
    "df_inquirer['published_dates'] = df_inquirer['published_dates'].str.replace('Philippine Daily Inquirer', '')\n",
    "df_inquirer['published_dates'] = df_inquirer['published_dates'].str.replace('Inquirer Business', '')\n",
    "df_inquirer['published_dates'] = pd.to_datetime(df_inquirer['published_dates'])\n",
    "df_inquirer['news_org'] = 'Inquirer'\n",
    "df_inquirer.info()\n",
    "df_inquirer"
   ]
  },
  {
   "cell_type": "markdown",
   "metadata": {},
   "source": [
    "## CNN (Justine)"
   ]
  },
  {
   "cell_type": "code",
   "execution_count": 11,
   "metadata": {
    "execution": {
     "iopub.execute_input": "2021-03-11T12:50:58.366489Z",
     "iopub.status.busy": "2021-03-11T12:50:58.365491Z",
     "iopub.status.idle": "2021-03-11T12:50:58.437301Z",
     "shell.execute_reply": "2021-03-11T12:50:58.436484Z",
     "shell.execute_reply.started": "2021-03-11T12:50:58.366489Z"
    }
   },
   "outputs": [
    {
     "output_type": "stream",
     "name": "stdout",
     "text": [
      "<class 'pandas.core.frame.DataFrame'>\nInt64Index: 90 entries, 40 to 45\nData columns (total 6 columns):\n #   Column            Non-Null Count  Dtype         \n---  ------            --------------  -----         \n 0   urls              90 non-null     object        \n 1   titles            90 non-null     object        \n 2   authors           90 non-null     object        \n 3   articles_content  90 non-null     object        \n 4   news_org          90 non-null     object        \n 5   published_dates   90 non-null     datetime64[ns]\ndtypes: datetime64[ns](1), object(5)\nmemory usage: 4.9+ KB\n"
     ]
    },
    {
     "output_type": "execute_result",
     "data": {
      "text/plain": [
       "                                                 urls  \\\n",
       "40  http://cnnphilippines.com/world/2021/3/11/Alas...   \n",
       "66  http://cnnphilippines.com/world/2021/3/11/smit...   \n",
       "61  http://cnnphilippines.com/world/2021/3/9/pfize...   \n",
       "88  http://cnnphilippines.com/news/2021/3/9/shut-u...   \n",
       "65  http://cnnphilippines.com/news/2021/3/4/covid-...   \n",
       "\n",
       "                                               titles  \\\n",
       "40  Alaska opens vaccines to residents 16 and up, ...   \n",
       "66  Smithsonian receives vial from the first COVID...   \n",
       "61  Lab studies suggest Pfizer-BioNTech vaccine ca...   \n",
       "88  'Just maybe shut up': Duterte tells Robredo on...   \n",
       "65  Vaccination of elderlies, police may begin Q2 ...   \n",
       "\n",
       "                            authors  \\\n",
       "40                   Scottie Andrew   \n",
       "66                  Sarah Fortinsky   \n",
       "61  Kara Fox and Meera Senthilingam   \n",
       "88            CNN Philippines Staff   \n",
       "65            CNN Philippines Staff   \n",
       "\n",
       "                                     articles_content news_org  \\\n",
       "40  (CNN)— Alaska, one of the states leading the U...      CNN   \n",
       "66  (CNN) -- The Smithsonian's National Museum of ...      CNN   \n",
       "61  (CNN) - A new study suggests that the Pfizer-B...      CNN   \n",
       "88  Metro Manila (CNN Philippines, March 9) – Pres...      CNN   \n",
       "65  Metro Manila (CNN Philippines, March 4) — The ...      CNN   \n",
       "\n",
       "       published_dates  \n",
       "40 2021-03-11 08:17:13  \n",
       "66 2021-03-11 05:00:00  \n",
       "61 2021-03-09 23:40:36  \n",
       "88 2021-03-09 05:50:53  \n",
       "65 2021-03-04 18:44:15  "
      ],
      "text/html": "<div>\n<style scoped>\n    .dataframe tbody tr th:only-of-type {\n        vertical-align: middle;\n    }\n\n    .dataframe tbody tr th {\n        vertical-align: top;\n    }\n\n    .dataframe thead th {\n        text-align: right;\n    }\n</style>\n<table border=\"1\" class=\"dataframe\">\n  <thead>\n    <tr style=\"text-align: right;\">\n      <th></th>\n      <th>urls</th>\n      <th>titles</th>\n      <th>authors</th>\n      <th>articles_content</th>\n      <th>news_org</th>\n      <th>published_dates</th>\n    </tr>\n  </thead>\n  <tbody>\n    <tr>\n      <th>40</th>\n      <td>http://cnnphilippines.com/world/2021/3/11/Alas...</td>\n      <td>Alaska opens vaccines to residents 16 and up, ...</td>\n      <td>Scottie Andrew</td>\n      <td>(CNN)— Alaska, one of the states leading the U...</td>\n      <td>CNN</td>\n      <td>2021-03-11 08:17:13</td>\n    </tr>\n    <tr>\n      <th>66</th>\n      <td>http://cnnphilippines.com/world/2021/3/11/smit...</td>\n      <td>Smithsonian receives vial from the first COVID...</td>\n      <td>Sarah Fortinsky</td>\n      <td>(CNN) -- The Smithsonian's National Museum of ...</td>\n      <td>CNN</td>\n      <td>2021-03-11 05:00:00</td>\n    </tr>\n    <tr>\n      <th>61</th>\n      <td>http://cnnphilippines.com/world/2021/3/9/pfize...</td>\n      <td>Lab studies suggest Pfizer-BioNTech vaccine ca...</td>\n      <td>Kara Fox and Meera Senthilingam</td>\n      <td>(CNN) - A new study suggests that the Pfizer-B...</td>\n      <td>CNN</td>\n      <td>2021-03-09 23:40:36</td>\n    </tr>\n    <tr>\n      <th>88</th>\n      <td>http://cnnphilippines.com/news/2021/3/9/shut-u...</td>\n      <td>'Just maybe shut up': Duterte tells Robredo on...</td>\n      <td>CNN Philippines Staff</td>\n      <td>Metro Manila (CNN Philippines, March 9) – Pres...</td>\n      <td>CNN</td>\n      <td>2021-03-09 05:50:53</td>\n    </tr>\n    <tr>\n      <th>65</th>\n      <td>http://cnnphilippines.com/news/2021/3/4/covid-...</td>\n      <td>Vaccination of elderlies, police may begin Q2 ...</td>\n      <td>CNN Philippines Staff</td>\n      <td>Metro Manila (CNN Philippines, March 4) — The ...</td>\n      <td>CNN</td>\n      <td>2021-03-04 18:44:15</td>\n    </tr>\n  </tbody>\n</table>\n</div>"
     },
     "metadata": {},
     "execution_count": 11
    }
   ],
   "source": [
    "# # TODO\n",
    "df_cnn = pd.read_csv('datasets/CNN Scraped Articles.csv',index_col = 0)\n",
    "df_cnn['published_dates'] = pd.to_datetime(df_cnn['published_date'])\n",
    "df_cnn = df_cnn.drop(columns = 'published_date', axis = 1)\n",
    "df_cnn = df_cnn.sort_values('published_dates', ascending = False).head(90)\n",
    "df_cnn = df_cnn.rename(columns = {'url':'urls'})\n",
    "\n",
    "df_cnn.info()\n",
    "df_cnn.head()"
   ]
  },
  {
   "cell_type": "markdown",
   "metadata": {},
   "source": [
    "## Philippine News Agency (Justine)"
   ]
  },
  {
   "cell_type": "code",
   "execution_count": 12,
   "metadata": {
    "execution": {
     "iopub.execute_input": "2021-03-11T14:48:31.088883Z",
     "iopub.status.busy": "2021-03-11T14:48:31.087651Z",
     "iopub.status.idle": "2021-03-11T14:48:31.378560Z",
     "shell.execute_reply": "2021-03-11T14:48:31.376990Z",
     "shell.execute_reply.started": "2021-03-11T14:48:31.088883Z"
    }
   },
   "outputs": [
    {
     "output_type": "stream",
     "name": "stdout",
     "text": [
      "<class 'pandas.core.frame.DataFrame'>\nInt64Index: 90 entries, 0 to 89\nData columns (total 6 columns):\n #   Column            Non-Null Count  Dtype         \n---  ------            --------------  -----         \n 0   urls              90 non-null     object        \n 1   titles            90 non-null     object        \n 2   authors           90 non-null     object        \n 3   articles_content  90 non-null     object        \n 4   news_org          90 non-null     object        \n 5   published_dates   90 non-null     datetime64[ns]\ndtypes: datetime64[ns](1), object(5)\nmemory usage: 4.9+ KB\n"
     ]
    },
    {
     "output_type": "execute_result",
     "data": {
      "text/plain": [
       "                                       urls  \\\n",
       "0   https://www.pna.gov.ph/articles/1133350   \n",
       "1   https://www.pna.gov.ph/articles/1133183   \n",
       "2   https://www.pna.gov.ph/articles/1133300   \n",
       "3   https://www.pna.gov.ph/articles/1133279   \n",
       "4   https://www.pna.gov.ph/articles/1133269   \n",
       "..                                      ...   \n",
       "85  https://www.pna.gov.ph/articles/1132701   \n",
       "86  https://www.pna.gov.ph/articles/1132719   \n",
       "87  https://www.pna.gov.ph/articles/1132725   \n",
       "88  https://www.pna.gov.ph/articles/1132714   \n",
       "89  https://www.pna.gov.ph/articles/1132698   \n",
       "\n",
       "                                               titles  \\\n",
       "0   Bong Go wants to be president: PRRD\\nBy Ruth A...   \n",
       "1   No jab simulation, no vax allocation: DOH-Bico...   \n",
       "2   More San Juan front-liners receive jabs\\nBy La...   \n",
       "3   Guv willing to get P1-B loan to get vax for 2....   \n",
       "4   Over 9K AFP front-liners get Covid-19 jabs: Lo...   \n",
       "..                                                ...   \n",
       "85  Ilocos Norte health workers gear up for vax dr...   \n",
       "86  6 hospitals in Region 2 to get 10,800 doses of...   \n",
       "87  AFP readies more transport ops for Covid-19 ja...   \n",
       "88  GenSan ready for rollout of Sinovac vaccines\\n...   \n",
       "89  SPMC doc first Mindanao front-liner to get Cov...   \n",
       "\n",
       "                           authors  \\\n",
       "0           Ruth Abbey Gita-Carlos   \n",
       "1   Connie Calipay and Mar Serrano   \n",
       "2               Lade Jean Kabagani   \n",
       "3                  Belinda Otordoz   \n",
       "4                 Priam Nepomuceno   \n",
       "..                             ...   \n",
       "85                Leilanie Adriano   \n",
       "86            Villamor Visaya, Jr.   \n",
       "87                Priam Nepomuceno   \n",
       "88               Richelyn Gubalani   \n",
       "89                     Judy Quiros   \n",
       "\n",
       "                                     articles_content  \\\n",
       "0   Senator Christopher “Bong” Go and President Ro...   \n",
       "1   MORE VACCINES FOR BICOL. The Bicol region rece...   \n",
       "2   ASTRAZENECA SHOTS. Healthcare workers in San J...   \n",
       "3   CEREMONIAL VACCINATION. Quezon Governor Danilo...   \n",
       "4   Defense Secretary Delfin Lorenzana (Screengrab...   \n",
       "..                                                ...   \n",
       "85  READY FOR VAX ROLLOUT. Dr. Norman Rabago (righ...   \n",
       "86  CAGAYAN'S SHARE. Police and health workers car...   \n",
       "87  AFP chief-of-staff Lt. Gen. Cirilito Sobejana....   \n",
       "88  DEMONSTRATION. Nurse Ian Lloyd Solizar (left) ...   \n",
       "89  FIRST IN MINDANAO. Southern Philippines Medica...   \n",
       "\n",
       "                   news_org     published_dates  \n",
       "0   Philippines News Agency 2021-03-11 19:21:00  \n",
       "1   Philippines News Agency 2021-03-11 18:54:00  \n",
       "2   Philippines News Agency 2021-03-11 17:29:00  \n",
       "3   Philippines News Agency 2021-03-11 16:27:00  \n",
       "4   Philippines News Agency 2021-03-11 14:13:00  \n",
       "..                      ...                 ...  \n",
       "85  Philippines News Agency 2021-03-05 17:22:00  \n",
       "86  Philippines News Agency 2021-03-05 16:55:00  \n",
       "87  Philippines News Agency 2021-03-05 16:53:00  \n",
       "88  Philippines News Agency 2021-03-05 16:50:00  \n",
       "89  Philippines News Agency 2021-03-05 16:39:00  \n",
       "\n",
       "[90 rows x 6 columns]"
      ],
      "text/html": "<div>\n<style scoped>\n    .dataframe tbody tr th:only-of-type {\n        vertical-align: middle;\n    }\n\n    .dataframe tbody tr th {\n        vertical-align: top;\n    }\n\n    .dataframe thead th {\n        text-align: right;\n    }\n</style>\n<table border=\"1\" class=\"dataframe\">\n  <thead>\n    <tr style=\"text-align: right;\">\n      <th></th>\n      <th>urls</th>\n      <th>titles</th>\n      <th>authors</th>\n      <th>articles_content</th>\n      <th>news_org</th>\n      <th>published_dates</th>\n    </tr>\n  </thead>\n  <tbody>\n    <tr>\n      <th>0</th>\n      <td>https://www.pna.gov.ph/articles/1133350</td>\n      <td>Bong Go wants to be president: PRRD\\nBy Ruth A...</td>\n      <td>Ruth Abbey Gita-Carlos</td>\n      <td>Senator Christopher “Bong” Go and President Ro...</td>\n      <td>Philippines News Agency</td>\n      <td>2021-03-11 19:21:00</td>\n    </tr>\n    <tr>\n      <th>1</th>\n      <td>https://www.pna.gov.ph/articles/1133183</td>\n      <td>No jab simulation, no vax allocation: DOH-Bico...</td>\n      <td>Connie Calipay and Mar Serrano</td>\n      <td>MORE VACCINES FOR BICOL. The Bicol region rece...</td>\n      <td>Philippines News Agency</td>\n      <td>2021-03-11 18:54:00</td>\n    </tr>\n    <tr>\n      <th>2</th>\n      <td>https://www.pna.gov.ph/articles/1133300</td>\n      <td>More San Juan front-liners receive jabs\\nBy La...</td>\n      <td>Lade Jean Kabagani</td>\n      <td>ASTRAZENECA SHOTS. Healthcare workers in San J...</td>\n      <td>Philippines News Agency</td>\n      <td>2021-03-11 17:29:00</td>\n    </tr>\n    <tr>\n      <th>3</th>\n      <td>https://www.pna.gov.ph/articles/1133279</td>\n      <td>Guv willing to get P1-B loan to get vax for 2....</td>\n      <td>Belinda Otordoz</td>\n      <td>CEREMONIAL VACCINATION. Quezon Governor Danilo...</td>\n      <td>Philippines News Agency</td>\n      <td>2021-03-11 16:27:00</td>\n    </tr>\n    <tr>\n      <th>4</th>\n      <td>https://www.pna.gov.ph/articles/1133269</td>\n      <td>Over 9K AFP front-liners get Covid-19 jabs: Lo...</td>\n      <td>Priam Nepomuceno</td>\n      <td>Defense Secretary Delfin Lorenzana (Screengrab...</td>\n      <td>Philippines News Agency</td>\n      <td>2021-03-11 14:13:00</td>\n    </tr>\n    <tr>\n      <th>...</th>\n      <td>...</td>\n      <td>...</td>\n      <td>...</td>\n      <td>...</td>\n      <td>...</td>\n      <td>...</td>\n    </tr>\n    <tr>\n      <th>85</th>\n      <td>https://www.pna.gov.ph/articles/1132701</td>\n      <td>Ilocos Norte health workers gear up for vax dr...</td>\n      <td>Leilanie Adriano</td>\n      <td>READY FOR VAX ROLLOUT. Dr. Norman Rabago (righ...</td>\n      <td>Philippines News Agency</td>\n      <td>2021-03-05 17:22:00</td>\n    </tr>\n    <tr>\n      <th>86</th>\n      <td>https://www.pna.gov.ph/articles/1132719</td>\n      <td>6 hospitals in Region 2 to get 10,800 doses of...</td>\n      <td>Villamor Visaya, Jr.</td>\n      <td>CAGAYAN'S SHARE. Police and health workers car...</td>\n      <td>Philippines News Agency</td>\n      <td>2021-03-05 16:55:00</td>\n    </tr>\n    <tr>\n      <th>87</th>\n      <td>https://www.pna.gov.ph/articles/1132725</td>\n      <td>AFP readies more transport ops for Covid-19 ja...</td>\n      <td>Priam Nepomuceno</td>\n      <td>AFP chief-of-staff Lt. Gen. Cirilito Sobejana....</td>\n      <td>Philippines News Agency</td>\n      <td>2021-03-05 16:53:00</td>\n    </tr>\n    <tr>\n      <th>88</th>\n      <td>https://www.pna.gov.ph/articles/1132714</td>\n      <td>GenSan ready for rollout of Sinovac vaccines\\n...</td>\n      <td>Richelyn Gubalani</td>\n      <td>DEMONSTRATION. Nurse Ian Lloyd Solizar (left) ...</td>\n      <td>Philippines News Agency</td>\n      <td>2021-03-05 16:50:00</td>\n    </tr>\n    <tr>\n      <th>89</th>\n      <td>https://www.pna.gov.ph/articles/1132698</td>\n      <td>SPMC doc first Mindanao front-liner to get Cov...</td>\n      <td>Judy Quiros</td>\n      <td>FIRST IN MINDANAO. Southern Philippines Medica...</td>\n      <td>Philippines News Agency</td>\n      <td>2021-03-05 16:39:00</td>\n    </tr>\n  </tbody>\n</table>\n<p>90 rows × 6 columns</p>\n</div>"
     },
     "metadata": {},
     "execution_count": 12
    }
   ],
   "source": [
    "# # TODO\n",
    "df_pna = pd.read_csv('datasets/Philippine News Agency Scraped Articles.csv',index_col = 0)\n",
    "df_pna['published_dates'] = pd.to_datetime(df_pna['published_date'])\n",
    "df_pna = df_pna.drop(columns = 'published_date')\n",
    "df_pna = df_pna.rename(columns = {'url':'urls'})\n",
    "df_pna = df_pna.sort_values('published_dates', ascending = False).head(90)\n",
    "df_pna.info()\n",
    "df_pna"
   ]
  },
  {
   "cell_type": "markdown",
   "metadata": {},
   "source": [
    "# COMBINED DATASET"
   ]
  },
  {
   "cell_type": "code",
   "execution_count": 13,
   "metadata": {
    "execution": {
     "iopub.execute_input": "2021-03-11T14:50:10.066841Z",
     "iopub.status.busy": "2021-03-11T14:50:10.065497Z",
     "iopub.status.idle": "2021-03-11T14:50:10.199970Z",
     "shell.execute_reply": "2021-03-11T14:50:10.198922Z",
     "shell.execute_reply.started": "2021-03-11T14:50:10.066841Z"
    },
    "scrolled": true
   },
   "outputs": [
    {
     "output_type": "stream",
     "name": "stdout",
     "text": [
      "<class 'pandas.core.frame.DataFrame'>\nRangeIndex: 898 entries, 0 to 897\nData columns (total 6 columns):\n #   Column            Non-Null Count  Dtype         \n---  ------            --------------  -----         \n 0   urls              898 non-null    object        \n 1   titles            898 non-null    object        \n 2   authors           898 non-null    object        \n 3   published_dates   898 non-null    datetime64[ns]\n 4   articles_content  898 non-null    object        \n 5   news_org          898 non-null    object        \ndtypes: datetime64[ns](1), object(5)\nmemory usage: 42.2+ KB\n"
     ]
    },
    {
     "output_type": "execute_result",
     "data": {
      "text/plain": [
       "                                                  urls  \\\n",
       "0    https://www.rappler.com/newsbreak/explainers/w...   \n",
       "1    https://www.rappler.com/newsbreak/iq/timeline-...   \n",
       "2    https://www.rappler.com/nation/philippines-rec...   \n",
       "3    https://www.rappler.com/nation/philippines-gra...   \n",
       "4    https://www.rappler.com/nation/philippines-rec...   \n",
       "..                                                 ...   \n",
       "893  https://newsinfo.inquirer.net/1401139/coronava...   \n",
       "894  https://globalnation.inquirer.net/194085/ph-re...   \n",
       "895  https://globalnation.inquirer.net/190193/duter...   \n",
       "896  https://globalnation.inquirer.net/192800/top-u...   \n",
       "897  https://globalnation.inquirer.net/193154/ph-in...   \n",
       "\n",
       "                                                titles               authors  \\\n",
       "0    Here’s why COVID-19 vaccines haven’t arrived i...        SOFIA TOMACRUZ   \n",
       "1    TIMELINE: The Philippines’ 2021 COVID-19 vacci...        SOFIA TOMACRUZ   \n",
       "2    After initial delay, Philippines to receive As...        SOFIA TOMACRUZ   \n",
       "3    Philippines grants emergency approval for Sino...        SOFIA TOMACRUZ   \n",
       "4    Philippines receives first COVID-19 vaccine de...        SOFIA TOMACRUZ   \n",
       "..                                                 ...                   ...   \n",
       "893      CoronaVac rollout begins; AstraZeneca delayed         Maricar Cinco   \n",
       "894  PH reserves 6 M doses of Johnson & Johnson’s C...  Christia Marie Ramos   \n",
       "895  Duterte says Russia may give COVID-19 vaccine ...        Krissy Aguilar   \n",
       "896  Top US official will try to get back fraction ...       Katrina Hallare   \n",
       "897  PH in final talks with Moderna for up to 20M v...  Christia Marie Ramos   \n",
       "\n",
       "        published_dates                                   articles_content  \\\n",
       "0   2021-02-18 09:22:00  MANILA, PHILIPPINES\\nThe Philippine government...   \n",
       "1   2021-02-04 19:43:00  MANILA, PHILIPPINES\\n(UPDATED) On March 1, the...   \n",
       "2   2021-03-03 14:41:00  MANILA, PHILIPPINES\\n(UPDATED) Malacañang says...   \n",
       "3   2021-02-22 12:19:00  MANILA, PHILIPPINES\\n(UPDATED) Its lower effic...   \n",
       "4   2021-02-28 16:16:00  MANILA, PHILIPPINES\\n(3rd UPDATE) The arrival ...   \n",
       "..                  ...                                                ...   \n",
       "893 2021-03-01 05:00:00  FINALLY The Philippines’ vaccination drive sta...   \n",
       "894 2021-03-01 08:27:00  A vial and sryinge are seen in front of a disp...   \n",
       "895 2020-08-11 15:52:00  MANILA, Philippines — Russia is willing to pro...   \n",
       "896 2020-12-19 11:48:00  FILE PHOTO: A woman holds a small bottle label...   \n",
       "897 2021-01-13 08:32:00  FILE PHOTO: Vials with a sticker reading, “COV...   \n",
       "\n",
       "     news_org  \n",
       "0     Rappler  \n",
       "1     Rappler  \n",
       "2     Rappler  \n",
       "3     Rappler  \n",
       "4     Rappler  \n",
       "..        ...  \n",
       "893  Inquirer  \n",
       "894  Inquirer  \n",
       "895  Inquirer  \n",
       "896  Inquirer  \n",
       "897  Inquirer  \n",
       "\n",
       "[898 rows x 6 columns]"
      ],
      "text/html": "<div>\n<style scoped>\n    .dataframe tbody tr th:only-of-type {\n        vertical-align: middle;\n    }\n\n    .dataframe tbody tr th {\n        vertical-align: top;\n    }\n\n    .dataframe thead th {\n        text-align: right;\n    }\n</style>\n<table border=\"1\" class=\"dataframe\">\n  <thead>\n    <tr style=\"text-align: right;\">\n      <th></th>\n      <th>urls</th>\n      <th>titles</th>\n      <th>authors</th>\n      <th>published_dates</th>\n      <th>articles_content</th>\n      <th>news_org</th>\n    </tr>\n  </thead>\n  <tbody>\n    <tr>\n      <th>0</th>\n      <td>https://www.rappler.com/newsbreak/explainers/w...</td>\n      <td>Here’s why COVID-19 vaccines haven’t arrived i...</td>\n      <td>SOFIA TOMACRUZ</td>\n      <td>2021-02-18 09:22:00</td>\n      <td>MANILA, PHILIPPINES\\nThe Philippine government...</td>\n      <td>Rappler</td>\n    </tr>\n    <tr>\n      <th>1</th>\n      <td>https://www.rappler.com/newsbreak/iq/timeline-...</td>\n      <td>TIMELINE: The Philippines’ 2021 COVID-19 vacci...</td>\n      <td>SOFIA TOMACRUZ</td>\n      <td>2021-02-04 19:43:00</td>\n      <td>MANILA, PHILIPPINES\\n(UPDATED) On March 1, the...</td>\n      <td>Rappler</td>\n    </tr>\n    <tr>\n      <th>2</th>\n      <td>https://www.rappler.com/nation/philippines-rec...</td>\n      <td>After initial delay, Philippines to receive As...</td>\n      <td>SOFIA TOMACRUZ</td>\n      <td>2021-03-03 14:41:00</td>\n      <td>MANILA, PHILIPPINES\\n(UPDATED) Malacañang says...</td>\n      <td>Rappler</td>\n    </tr>\n    <tr>\n      <th>3</th>\n      <td>https://www.rappler.com/nation/philippines-gra...</td>\n      <td>Philippines grants emergency approval for Sino...</td>\n      <td>SOFIA TOMACRUZ</td>\n      <td>2021-02-22 12:19:00</td>\n      <td>MANILA, PHILIPPINES\\n(UPDATED) Its lower effic...</td>\n      <td>Rappler</td>\n    </tr>\n    <tr>\n      <th>4</th>\n      <td>https://www.rappler.com/nation/philippines-rec...</td>\n      <td>Philippines receives first COVID-19 vaccine de...</td>\n      <td>SOFIA TOMACRUZ</td>\n      <td>2021-02-28 16:16:00</td>\n      <td>MANILA, PHILIPPINES\\n(3rd UPDATE) The arrival ...</td>\n      <td>Rappler</td>\n    </tr>\n    <tr>\n      <th>...</th>\n      <td>...</td>\n      <td>...</td>\n      <td>...</td>\n      <td>...</td>\n      <td>...</td>\n      <td>...</td>\n    </tr>\n    <tr>\n      <th>893</th>\n      <td>https://newsinfo.inquirer.net/1401139/coronava...</td>\n      <td>CoronaVac rollout begins; AstraZeneca delayed</td>\n      <td>Maricar Cinco</td>\n      <td>2021-03-01 05:00:00</td>\n      <td>FINALLY The Philippines’ vaccination drive sta...</td>\n      <td>Inquirer</td>\n    </tr>\n    <tr>\n      <th>894</th>\n      <td>https://globalnation.inquirer.net/194085/ph-re...</td>\n      <td>PH reserves 6 M doses of Johnson &amp; Johnson’s C...</td>\n      <td>Christia Marie Ramos</td>\n      <td>2021-03-01 08:27:00</td>\n      <td>A vial and sryinge are seen in front of a disp...</td>\n      <td>Inquirer</td>\n    </tr>\n    <tr>\n      <th>895</th>\n      <td>https://globalnation.inquirer.net/190193/duter...</td>\n      <td>Duterte says Russia may give COVID-19 vaccine ...</td>\n      <td>Krissy Aguilar</td>\n      <td>2020-08-11 15:52:00</td>\n      <td>MANILA, Philippines — Russia is willing to pro...</td>\n      <td>Inquirer</td>\n    </tr>\n    <tr>\n      <th>896</th>\n      <td>https://globalnation.inquirer.net/192800/top-u...</td>\n      <td>Top US official will try to get back fraction ...</td>\n      <td>Katrina Hallare</td>\n      <td>2020-12-19 11:48:00</td>\n      <td>FILE PHOTO: A woman holds a small bottle label...</td>\n      <td>Inquirer</td>\n    </tr>\n    <tr>\n      <th>897</th>\n      <td>https://globalnation.inquirer.net/193154/ph-in...</td>\n      <td>PH in final talks with Moderna for up to 20M v...</td>\n      <td>Christia Marie Ramos</td>\n      <td>2021-01-13 08:32:00</td>\n      <td>FILE PHOTO: Vials with a sticker reading, “COV...</td>\n      <td>Inquirer</td>\n    </tr>\n  </tbody>\n</table>\n<p>898 rows × 6 columns</p>\n</div>"
     },
     "metadata": {},
     "execution_count": 13
    }
   ],
   "source": [
    "df = df_rappler.append(df_gma, ignore_index=True).\\\n",
    "                append(df_cnn, ignore_index=True).\\\n",
    "                append(df_abscbn, ignore_index=True).\\\n",
    "                append(df_sunstar, ignore_index=True).\\\n",
    "                append(df_philstar, ignore_index=True).\\\n",
    "                append(df_pna, ignore_index=True).\\\n",
    "                append(df_manilabulletin, ignore_index=True).\\\n",
    "                append(df_themanilatimes, ignore_index=True).\\\n",
    "                append(df_inquirer, ignore_index=True)\n",
    "\n",
    "df['published_dates'] = pd.to_datetime(df['published_dates'])\n",
    "\n",
    "df.info()\n",
    "df"
   ]
  },
  {
   "cell_type": "markdown",
   "metadata": {},
   "source": [
    "# CLEANED DATASET"
   ]
  },
  {
   "cell_type": "code",
   "execution_count": 14,
   "metadata": {},
   "outputs": [],
   "source": [
    "# TODO"
   ]
  },
  {
   "cell_type": "markdown",
   "metadata": {},
   "source": [
    "# SAVE DATASET AS CSV"
   ]
  },
  {
   "cell_type": "code",
   "execution_count": 15,
   "metadata": {
    "execution": {
     "iopub.execute_input": "2021-03-11T13:35:18.904935Z",
     "iopub.status.busy": "2021-03-11T13:35:18.904935Z",
     "iopub.status.idle": "2021-03-11T13:35:19.129867Z",
     "shell.execute_reply": "2021-03-11T13:35:19.129063Z",
     "shell.execute_reply.started": "2021-03-11T13:35:18.904935Z"
    }
   },
   "outputs": [
    {
     "output_type": "stream",
     "name": "stdout",
     "text": [
      "<class 'pandas.core.frame.DataFrame'>\nRangeIndex: 898 entries, 0 to 897\nData columns (total 6 columns):\n #   Column            Non-Null Count  Dtype         \n---  ------            --------------  -----         \n 0   urls              898 non-null    object        \n 1   titles            898 non-null    object        \n 2   authors           898 non-null    object        \n 3   published_dates   898 non-null    datetime64[ns]\n 4   articles_content  898 non-null    object        \n 5   news_org          898 non-null    object        \ndtypes: datetime64[ns](1), object(5)\nmemory usage: 42.2+ KB\n"
     ]
    },
    {
     "output_type": "execute_result",
     "data": {
      "text/plain": [
       "                                                  urls  \\\n",
       "0    https://www.rappler.com/newsbreak/explainers/w...   \n",
       "1    https://www.rappler.com/newsbreak/iq/timeline-...   \n",
       "2    https://www.rappler.com/nation/philippines-rec...   \n",
       "3    https://www.rappler.com/nation/philippines-gra...   \n",
       "4    https://www.rappler.com/nation/philippines-rec...   \n",
       "..                                                 ...   \n",
       "893  https://newsinfo.inquirer.net/1401139/coronava...   \n",
       "894  https://globalnation.inquirer.net/194085/ph-re...   \n",
       "895  https://globalnation.inquirer.net/190193/duter...   \n",
       "896  https://globalnation.inquirer.net/192800/top-u...   \n",
       "897  https://globalnation.inquirer.net/193154/ph-in...   \n",
       "\n",
       "                                                titles               authors  \\\n",
       "0    Here’s why COVID-19 vaccines haven’t arrived i...        SOFIA TOMACRUZ   \n",
       "1    TIMELINE: The Philippines’ 2021 COVID-19 vacci...        SOFIA TOMACRUZ   \n",
       "2    After initial delay, Philippines to receive As...        SOFIA TOMACRUZ   \n",
       "3    Philippines grants emergency approval for Sino...        SOFIA TOMACRUZ   \n",
       "4    Philippines receives first COVID-19 vaccine de...        SOFIA TOMACRUZ   \n",
       "..                                                 ...                   ...   \n",
       "893      CoronaVac rollout begins; AstraZeneca delayed         Maricar Cinco   \n",
       "894  PH reserves 6 M doses of Johnson & Johnson’s C...  Christia Marie Ramos   \n",
       "895  Duterte says Russia may give COVID-19 vaccine ...        Krissy Aguilar   \n",
       "896  Top US official will try to get back fraction ...       Katrina Hallare   \n",
       "897  PH in final talks with Moderna for up to 20M v...  Christia Marie Ramos   \n",
       "\n",
       "        published_dates                                   articles_content  \\\n",
       "0   2021-02-18 09:22:00  MANILA, PHILIPPINES\\nThe Philippine government...   \n",
       "1   2021-02-04 19:43:00  MANILA, PHILIPPINES\\n(UPDATED) On March 1, the...   \n",
       "2   2021-03-03 14:41:00  MANILA, PHILIPPINES\\n(UPDATED) Malacañang says...   \n",
       "3   2021-02-22 12:19:00  MANILA, PHILIPPINES\\n(UPDATED) Its lower effic...   \n",
       "4   2021-02-28 16:16:00  MANILA, PHILIPPINES\\n(3rd UPDATE) The arrival ...   \n",
       "..                  ...                                                ...   \n",
       "893 2021-03-01 05:00:00  FINALLY The Philippines’ vaccination drive sta...   \n",
       "894 2021-03-01 08:27:00  A vial and sryinge are seen in front of a disp...   \n",
       "895 2020-08-11 15:52:00  MANILA, Philippines — Russia is willing to pro...   \n",
       "896 2020-12-19 11:48:00  FILE PHOTO: A woman holds a small bottle label...   \n",
       "897 2021-01-13 08:32:00  FILE PHOTO: Vials with a sticker reading, “COV...   \n",
       "\n",
       "     news_org  \n",
       "0     Rappler  \n",
       "1     Rappler  \n",
       "2     Rappler  \n",
       "3     Rappler  \n",
       "4     Rappler  \n",
       "..        ...  \n",
       "893  Inquirer  \n",
       "894  Inquirer  \n",
       "895  Inquirer  \n",
       "896  Inquirer  \n",
       "897  Inquirer  \n",
       "\n",
       "[898 rows x 6 columns]"
      ],
      "text/html": "<div>\n<style scoped>\n    .dataframe tbody tr th:only-of-type {\n        vertical-align: middle;\n    }\n\n    .dataframe tbody tr th {\n        vertical-align: top;\n    }\n\n    .dataframe thead th {\n        text-align: right;\n    }\n</style>\n<table border=\"1\" class=\"dataframe\">\n  <thead>\n    <tr style=\"text-align: right;\">\n      <th></th>\n      <th>urls</th>\n      <th>titles</th>\n      <th>authors</th>\n      <th>published_dates</th>\n      <th>articles_content</th>\n      <th>news_org</th>\n    </tr>\n  </thead>\n  <tbody>\n    <tr>\n      <th>0</th>\n      <td>https://www.rappler.com/newsbreak/explainers/w...</td>\n      <td>Here’s why COVID-19 vaccines haven’t arrived i...</td>\n      <td>SOFIA TOMACRUZ</td>\n      <td>2021-02-18 09:22:00</td>\n      <td>MANILA, PHILIPPINES\\nThe Philippine government...</td>\n      <td>Rappler</td>\n    </tr>\n    <tr>\n      <th>1</th>\n      <td>https://www.rappler.com/newsbreak/iq/timeline-...</td>\n      <td>TIMELINE: The Philippines’ 2021 COVID-19 vacci...</td>\n      <td>SOFIA TOMACRUZ</td>\n      <td>2021-02-04 19:43:00</td>\n      <td>MANILA, PHILIPPINES\\n(UPDATED) On March 1, the...</td>\n      <td>Rappler</td>\n    </tr>\n    <tr>\n      <th>2</th>\n      <td>https://www.rappler.com/nation/philippines-rec...</td>\n      <td>After initial delay, Philippines to receive As...</td>\n      <td>SOFIA TOMACRUZ</td>\n      <td>2021-03-03 14:41:00</td>\n      <td>MANILA, PHILIPPINES\\n(UPDATED) Malacañang says...</td>\n      <td>Rappler</td>\n    </tr>\n    <tr>\n      <th>3</th>\n      <td>https://www.rappler.com/nation/philippines-gra...</td>\n      <td>Philippines grants emergency approval for Sino...</td>\n      <td>SOFIA TOMACRUZ</td>\n      <td>2021-02-22 12:19:00</td>\n      <td>MANILA, PHILIPPINES\\n(UPDATED) Its lower effic...</td>\n      <td>Rappler</td>\n    </tr>\n    <tr>\n      <th>4</th>\n      <td>https://www.rappler.com/nation/philippines-rec...</td>\n      <td>Philippines receives first COVID-19 vaccine de...</td>\n      <td>SOFIA TOMACRUZ</td>\n      <td>2021-02-28 16:16:00</td>\n      <td>MANILA, PHILIPPINES\\n(3rd UPDATE) The arrival ...</td>\n      <td>Rappler</td>\n    </tr>\n    <tr>\n      <th>...</th>\n      <td>...</td>\n      <td>...</td>\n      <td>...</td>\n      <td>...</td>\n      <td>...</td>\n      <td>...</td>\n    </tr>\n    <tr>\n      <th>893</th>\n      <td>https://newsinfo.inquirer.net/1401139/coronava...</td>\n      <td>CoronaVac rollout begins; AstraZeneca delayed</td>\n      <td>Maricar Cinco</td>\n      <td>2021-03-01 05:00:00</td>\n      <td>FINALLY The Philippines’ vaccination drive sta...</td>\n      <td>Inquirer</td>\n    </tr>\n    <tr>\n      <th>894</th>\n      <td>https://globalnation.inquirer.net/194085/ph-re...</td>\n      <td>PH reserves 6 M doses of Johnson &amp; Johnson’s C...</td>\n      <td>Christia Marie Ramos</td>\n      <td>2021-03-01 08:27:00</td>\n      <td>A vial and sryinge are seen in front of a disp...</td>\n      <td>Inquirer</td>\n    </tr>\n    <tr>\n      <th>895</th>\n      <td>https://globalnation.inquirer.net/190193/duter...</td>\n      <td>Duterte says Russia may give COVID-19 vaccine ...</td>\n      <td>Krissy Aguilar</td>\n      <td>2020-08-11 15:52:00</td>\n      <td>MANILA, Philippines — Russia is willing to pro...</td>\n      <td>Inquirer</td>\n    </tr>\n    <tr>\n      <th>896</th>\n      <td>https://globalnation.inquirer.net/192800/top-u...</td>\n      <td>Top US official will try to get back fraction ...</td>\n      <td>Katrina Hallare</td>\n      <td>2020-12-19 11:48:00</td>\n      <td>FILE PHOTO: A woman holds a small bottle label...</td>\n      <td>Inquirer</td>\n    </tr>\n    <tr>\n      <th>897</th>\n      <td>https://globalnation.inquirer.net/193154/ph-in...</td>\n      <td>PH in final talks with Moderna for up to 20M v...</td>\n      <td>Christia Marie Ramos</td>\n      <td>2021-01-13 08:32:00</td>\n      <td>FILE PHOTO: Vials with a sticker reading, “COV...</td>\n      <td>Inquirer</td>\n    </tr>\n  </tbody>\n</table>\n<p>898 rows × 6 columns</p>\n</div>"
     },
     "metadata": {},
     "execution_count": 15
    }
   ],
   "source": [
    "FILENAME = 'datasets/combined_and_cleaned.csv'\n",
    "\n",
    "### Save the dataset as CSV\n",
    "df.to_csv(FILENAME, index=False)\n",
    "\n",
    "### Read the CSV dataset\n",
    "df = pd.read_csv(FILENAME)\n",
    "df['published_dates'] = pd.to_datetime(df['published_dates'])\n",
    "df.info()\n",
    "df"
   ]
  },
  {
   "cell_type": "code",
   "execution_count": 16,
   "metadata": {},
   "outputs": [
    {
     "output_type": "execute_result",
     "data": {
      "text/plain": [
       "urls                0\n",
       "titles              0\n",
       "authors             0\n",
       "published_dates     0\n",
       "articles_content    0\n",
       "news_org            0\n",
       "dtype: int64"
      ]
     },
     "metadata": {},
     "execution_count": 16
    }
   ],
   "source": [
    "df.isna().sum()"
   ]
  },
  {
   "cell_type": "code",
   "execution_count": null,
   "metadata": {},
   "outputs": [],
   "source": []
  }
 ],
 "metadata": {
  "kernelspec": {
   "display_name": "Python 3",
   "language": "python",
   "name": "python3"
  },
  "language_info": {
   "codemirror_mode": {
    "name": "ipython",
    "version": 3
   },
   "file_extension": ".py",
   "mimetype": "text/x-python",
   "name": "python",
   "nbconvert_exporter": "python",
   "pygments_lexer": "ipython3",
   "version": "3.8.8-final"
  }
 },
 "nbformat": 4,
 "nbformat_minor": 4
}