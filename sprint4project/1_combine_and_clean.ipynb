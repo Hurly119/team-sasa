{
 "metadata": {
  "language_info": {
   "codemirror_mode": {
    "name": "ipython",
    "version": 3
   },
   "file_extension": ".py",
   "mimetype": "text/x-python",
   "name": "python",
   "nbconvert_exporter": "python",
   "pygments_lexer": "ipython3",
   "version": "3.8.8-final"
  },
  "orig_nbformat": 2,
  "kernelspec": {
   "name": "python3",
   "display_name": "Python 3.8.8 64-bit ('base': conda)",
   "metadata": {
    "interpreter": {
     "hash": "e134e05457d34029b6460cd73bbf1ed73f339b5b6d98c95be70b69eba114fe95"
    }
   }
  }
 },
 "nbformat": 4,
 "nbformat_minor": 2,
 "cells": [
  {
   "cell_type": "code",
   "execution_count": 4,
   "metadata": {},
   "outputs": [],
   "source": [
    "import pandas as pd\n",
    "import numpy as np"
   ]
  },
  {
   "source": [
    "## Rappler (Rods)"
   ],
   "cell_type": "markdown",
   "metadata": {}
  },
  {
   "cell_type": "code",
   "execution_count": 15,
   "metadata": {},
   "outputs": [
    {
     "output_type": "stream",
     "name": "stdout",
     "text": [
      "<class 'pandas.core.frame.DataFrame'>\nRangeIndex: 83 entries, 0 to 82\nData columns (total 6 columns):\n #   Column            Non-Null Count  Dtype         \n---  ------            --------------  -----         \n 0   urls              83 non-null     object        \n 1   titles            83 non-null     object        \n 2   authors           83 non-null     object        \n 3   published_dates   83 non-null     datetime64[ns]\n 4   articles_content  83 non-null     object        \n 5   news_org          83 non-null     object        \ndtypes: datetime64[ns](1), object(5)\nmemory usage: 4.0+ KB\n"
     ]
    },
    {
     "output_type": "execute_result",
     "data": {
      "text/plain": [
       "                                                 urls  \\\n",
       "0   https://www.rappler.com/newsbreak/explainers/w...   \n",
       "1   https://www.rappler.com/newsbreak/iq/timeline-...   \n",
       "2   https://www.rappler.com/nation/philippines-rec...   \n",
       "3   https://www.rappler.com/nation/philippines-gra...   \n",
       "4   https://www.rappler.com/nation/philippines-rec...   \n",
       "..                                                ...   \n",
       "78  https://www.rappler.com/nation/health-experts-...   \n",
       "79  https://www.rappler.com/nation/chinese-company...   \n",
       "80  https://www.rappler.com/nation/philippine-gove...   \n",
       "81  https://www.rappler.com/nation/dfa-locsin-shar...   \n",
       "82  https://www.rappler.com/nation/delayed-by-deng...   \n",
       "\n",
       "                                               titles         authors  \\\n",
       "0   Here’s why COVID-19 vaccines haven’t arrived i...  SOFIA TOMACRUZ   \n",
       "1   TIMELINE: The Philippines’ 2021 COVID-19 vacci...  SOFIA TOMACRUZ   \n",
       "2   After initial delay, Philippines to receive As...  SOFIA TOMACRUZ   \n",
       "3   Philippines grants emergency approval for Sino...  SOFIA TOMACRUZ   \n",
       "4   Philippines receives first COVID-19 vaccine de...  SOFIA TOMACRUZ   \n",
       "..                                                ...             ...   \n",
       "78  Health experts 'strongly oppose' bills allowin...  SOFIA TOMACRUZ   \n",
       "79  China's Clover Biopharmaceuticals applies for ...  BONZ MAGSAMBOL   \n",
       "80  Gov't releases new vaccine priority list, incl...      PIA RANADA   \n",
       "81  Locsin shares foiled plan to secure 10M Pfizer...  SOFIA TOMACRUZ   \n",
       "82  Pfizer asking PH only for 'standard' indemnifi...  SOFIA TOMACRUZ   \n",
       "\n",
       "       published_dates                                   articles_content  \\\n",
       "0  2021-02-18 09:22:00  MANILA, PHILIPPINES\\nThe Philippine government...   \n",
       "1  2021-02-04 19:43:00  MANILA, PHILIPPINES\\n(UPDATED) On March 1, the...   \n",
       "2  2021-03-03 14:41:00  MANILA, PHILIPPINES\\n(UPDATED) Malacañang says...   \n",
       "3  2021-02-22 12:19:00  MANILA, PHILIPPINES\\n(UPDATED) Its lower effic...   \n",
       "4  2021-02-28 16:16:00  MANILA, PHILIPPINES\\n(3rd UPDATE) The arrival ...   \n",
       "..                 ...                                                ...   \n",
       "78 2021-02-11 23:49:00  MANILA, PHILIPPINES\\nThe Healthcare Profession...   \n",
       "79 2020-10-30 16:17:00  MANILA, PHILIPPINES\\nFDA Director General Eric...   \n",
       "80 2021-02-05 10:56:00  MANILA, PHILIPPINES\\nThe government allocates ...   \n",
       "81 2020-12-15 20:46:00  MANILA, PHILIPPINES\\n'But somebody dropped the...   \n",
       "82 2021-02-23 17:30:00  MANILA, PHILIPPINES\\n'Requirements and standar...   \n",
       "\n",
       "   news_org  \n",
       "0   Rappler  \n",
       "1   Rappler  \n",
       "2   Rappler  \n",
       "3   Rappler  \n",
       "4   Rappler  \n",
       "..      ...  \n",
       "78  Rappler  \n",
       "79  Rappler  \n",
       "80  Rappler  \n",
       "81  Rappler  \n",
       "82  Rappler  \n",
       "\n",
       "[83 rows x 6 columns]"
      ],
      "text/html": "<div>\n<style scoped>\n    .dataframe tbody tr th:only-of-type {\n        vertical-align: middle;\n    }\n\n    .dataframe tbody tr th {\n        vertical-align: top;\n    }\n\n    .dataframe thead th {\n        text-align: right;\n    }\n</style>\n<table border=\"1\" class=\"dataframe\">\n  <thead>\n    <tr style=\"text-align: right;\">\n      <th></th>\n      <th>urls</th>\n      <th>titles</th>\n      <th>authors</th>\n      <th>published_dates</th>\n      <th>articles_content</th>\n      <th>news_org</th>\n    </tr>\n  </thead>\n  <tbody>\n    <tr>\n      <th>0</th>\n      <td>https://www.rappler.com/newsbreak/explainers/w...</td>\n      <td>Here’s why COVID-19 vaccines haven’t arrived i...</td>\n      <td>SOFIA TOMACRUZ</td>\n      <td>2021-02-18 09:22:00</td>\n      <td>MANILA, PHILIPPINES\\nThe Philippine government...</td>\n      <td>Rappler</td>\n    </tr>\n    <tr>\n      <th>1</th>\n      <td>https://www.rappler.com/newsbreak/iq/timeline-...</td>\n      <td>TIMELINE: The Philippines’ 2021 COVID-19 vacci...</td>\n      <td>SOFIA TOMACRUZ</td>\n      <td>2021-02-04 19:43:00</td>\n      <td>MANILA, PHILIPPINES\\n(UPDATED) On March 1, the...</td>\n      <td>Rappler</td>\n    </tr>\n    <tr>\n      <th>2</th>\n      <td>https://www.rappler.com/nation/philippines-rec...</td>\n      <td>After initial delay, Philippines to receive As...</td>\n      <td>SOFIA TOMACRUZ</td>\n      <td>2021-03-03 14:41:00</td>\n      <td>MANILA, PHILIPPINES\\n(UPDATED) Malacañang says...</td>\n      <td>Rappler</td>\n    </tr>\n    <tr>\n      <th>3</th>\n      <td>https://www.rappler.com/nation/philippines-gra...</td>\n      <td>Philippines grants emergency approval for Sino...</td>\n      <td>SOFIA TOMACRUZ</td>\n      <td>2021-02-22 12:19:00</td>\n      <td>MANILA, PHILIPPINES\\n(UPDATED) Its lower effic...</td>\n      <td>Rappler</td>\n    </tr>\n    <tr>\n      <th>4</th>\n      <td>https://www.rappler.com/nation/philippines-rec...</td>\n      <td>Philippines receives first COVID-19 vaccine de...</td>\n      <td>SOFIA TOMACRUZ</td>\n      <td>2021-02-28 16:16:00</td>\n      <td>MANILA, PHILIPPINES\\n(3rd UPDATE) The arrival ...</td>\n      <td>Rappler</td>\n    </tr>\n    <tr>\n      <th>...</th>\n      <td>...</td>\n      <td>...</td>\n      <td>...</td>\n      <td>...</td>\n      <td>...</td>\n      <td>...</td>\n    </tr>\n    <tr>\n      <th>78</th>\n      <td>https://www.rappler.com/nation/health-experts-...</td>\n      <td>Health experts 'strongly oppose' bills allowin...</td>\n      <td>SOFIA TOMACRUZ</td>\n      <td>2021-02-11 23:49:00</td>\n      <td>MANILA, PHILIPPINES\\nThe Healthcare Profession...</td>\n      <td>Rappler</td>\n    </tr>\n    <tr>\n      <th>79</th>\n      <td>https://www.rappler.com/nation/chinese-company...</td>\n      <td>China's Clover Biopharmaceuticals applies for ...</td>\n      <td>BONZ MAGSAMBOL</td>\n      <td>2020-10-30 16:17:00</td>\n      <td>MANILA, PHILIPPINES\\nFDA Director General Eric...</td>\n      <td>Rappler</td>\n    </tr>\n    <tr>\n      <th>80</th>\n      <td>https://www.rappler.com/nation/philippine-gove...</td>\n      <td>Gov't releases new vaccine priority list, incl...</td>\n      <td>PIA RANADA</td>\n      <td>2021-02-05 10:56:00</td>\n      <td>MANILA, PHILIPPINES\\nThe government allocates ...</td>\n      <td>Rappler</td>\n    </tr>\n    <tr>\n      <th>81</th>\n      <td>https://www.rappler.com/nation/dfa-locsin-shar...</td>\n      <td>Locsin shares foiled plan to secure 10M Pfizer...</td>\n      <td>SOFIA TOMACRUZ</td>\n      <td>2020-12-15 20:46:00</td>\n      <td>MANILA, PHILIPPINES\\n'But somebody dropped the...</td>\n      <td>Rappler</td>\n    </tr>\n    <tr>\n      <th>82</th>\n      <td>https://www.rappler.com/nation/delayed-by-deng...</td>\n      <td>Pfizer asking PH only for 'standard' indemnifi...</td>\n      <td>SOFIA TOMACRUZ</td>\n      <td>2021-02-23 17:30:00</td>\n      <td>MANILA, PHILIPPINES\\n'Requirements and standar...</td>\n      <td>Rappler</td>\n    </tr>\n  </tbody>\n</table>\n<p>83 rows × 6 columns</p>\n</div>"
     },
     "metadata": {},
     "execution_count": 15
    }
   ],
   "source": [
    "df_rappler = pd.read_csv('datasets/rappler.csv')\n",
    "df_rappler['published_dates'] = pd.to_datetime(df_rappler['published_dates'])\n",
    "df_rappler.info()\n",
    "df_rappler"
   ]
  },
  {
   "source": [
    "## GMA News (Rods)"
   ],
   "cell_type": "markdown",
   "metadata": {}
  },
  {
   "cell_type": "code",
   "execution_count": 16,
   "metadata": {},
   "outputs": [
    {
     "output_type": "stream",
     "name": "stdout",
     "text": [
      "<class 'pandas.core.frame.DataFrame'>\nRangeIndex: 287 entries, 0 to 286\nData columns (total 6 columns):\n #   Column            Non-Null Count  Dtype         \n---  ------            --------------  -----         \n 0   urls              287 non-null    object        \n 1   titles            287 non-null    object        \n 2   authors           287 non-null    object        \n 3   published_dates   287 non-null    datetime64[ns]\n 4   articles_content  287 non-null    object        \n 5   news_org          287 non-null    object        \ndtypes: datetime64[ns](1), object(5)\nmemory usage: 13.6+ KB\n"
     ]
    },
    {
     "output_type": "execute_result",
     "data": {
      "text/plain": [
       "                                                  urls  \\\n",
       "0    https://www.gmanetwork.com/news/news/nation/77...   \n",
       "1    https://www.gmanetwork.com/news/news/nation/77...   \n",
       "2    https://www.gmanetwork.com/news/news/content/7...   \n",
       "3    https://www.gmanetwork.com/news/news/nation/77...   \n",
       "4    https://www.gmanetwork.com/news/news/nation/77...   \n",
       "..                                                 ...   \n",
       "282  https://www.gmanetwork.com/news/scitech/scienc...   \n",
       "283  https://www.gmanetwork.com/news/scitech/scienc...   \n",
       "284  https://www.gmanetwork.com/news/news/regions/7...   \n",
       "285  https://www.gmanetwork.com/news/news/nation/75...   \n",
       "286  https://www.gmanetwork.com/news/scitech/scienc...   \n",
       "\n",
       "                                                titles  \\\n",
       "0    Philippines, Indian firm in talks for at least...   \n",
       "1    Philippines administers first official COVID-1...   \n",
       "2    UNICEF chief: $1B more needed for COVAX COVID-...   \n",
       "3    Sinovac COVID-19 vaccine might have better eff...   \n",
       "4    COVID-19 vaccine rollout not a reason to be co...   \n",
       "..                                                 ...   \n",
       "282  UK starts accelerated review for AstraZeneca’s...   \n",
       "283  J&J's COVID-19 vaccine produces strong immune ...   \n",
       "284  COVID-19 vaccine clinical trials for Cavite re...   \n",
       "285  China eyes COVID-19 vaccine by year-end or ear...   \n",
       "286  US firm announces ‘positive interim’ phase 1 r...   \n",
       "\n",
       "                     authors     published_dates  \\\n",
       "0          JULIA MARI ORNEDO 2021-03-10 10:32:00   \n",
       "1          JULIA MARI ORNEDO 2021-03-01 09:46:00   \n",
       "2                   GMA News 2021-03-10 22:03:00   \n",
       "3          JULIA MARI ORNEDO 2021-03-02 16:48:00   \n",
       "4          ANNA FELICIA BAJO 2021-03-08 16:04:00   \n",
       "..                       ...                 ...   \n",
       "282           KANISHKA SINGH 2020-11-01 21:09:00   \n",
       "283              NANCY LAPID 2020-09-26 04:06:00   \n",
       "284        ANNA FELICIA BAJO 2020-08-28 09:31:00   \n",
       "285  NICOLE-ANNE C. LAGRIMAS 2020-09-08 19:09:00   \n",
       "286                 GMA News 2020-05-18 20:53:00   \n",
       "\n",
       "                                      articles_content  news_org  \n",
       "0    The Philippines and Indian firm Bharat Biotech...  GMA News  \n",
       "1    University of the Philippines-Philippine Gener...  GMA News  \n",
       "2    DUBAI - The United Nations' children's fund on...  GMA News  \n",
       "3    The coronavirus vaccine developed by Chinese f...  GMA News  \n",
       "4    House Speaker Lord Allan Velasco on Monday sai...  GMA News  \n",
       "..                                                 ...       ...  \n",
       "282  AstraZeneca Plc said on Sunday Britain's healt...  GMA News  \n",
       "283  A single dose of Johnson & Johnson's experimen...  GMA News  \n",
       "284  The clinical trials for vaccines against COVID...  GMA News  \n",
       "285  China hopes to be ready with a vaccine against...  GMA News  \n",
       "286  WASHINGTON — US biotech firm Moderna on Monday...  GMA News  \n",
       "\n",
       "[287 rows x 6 columns]"
      ],
      "text/html": "<div>\n<style scoped>\n    .dataframe tbody tr th:only-of-type {\n        vertical-align: middle;\n    }\n\n    .dataframe tbody tr th {\n        vertical-align: top;\n    }\n\n    .dataframe thead th {\n        text-align: right;\n    }\n</style>\n<table border=\"1\" class=\"dataframe\">\n  <thead>\n    <tr style=\"text-align: right;\">\n      <th></th>\n      <th>urls</th>\n      <th>titles</th>\n      <th>authors</th>\n      <th>published_dates</th>\n      <th>articles_content</th>\n      <th>news_org</th>\n    </tr>\n  </thead>\n  <tbody>\n    <tr>\n      <th>0</th>\n      <td>https://www.gmanetwork.com/news/news/nation/77...</td>\n      <td>Philippines, Indian firm in talks for at least...</td>\n      <td>JULIA MARI ORNEDO</td>\n      <td>2021-03-10 10:32:00</td>\n      <td>The Philippines and Indian firm Bharat Biotech...</td>\n      <td>GMA News</td>\n    </tr>\n    <tr>\n      <th>1</th>\n      <td>https://www.gmanetwork.com/news/news/nation/77...</td>\n      <td>Philippines administers first official COVID-1...</td>\n      <td>JULIA MARI ORNEDO</td>\n      <td>2021-03-01 09:46:00</td>\n      <td>University of the Philippines-Philippine Gener...</td>\n      <td>GMA News</td>\n    </tr>\n    <tr>\n      <th>2</th>\n      <td>https://www.gmanetwork.com/news/news/content/7...</td>\n      <td>UNICEF chief: $1B more needed for COVAX COVID-...</td>\n      <td>GMA News</td>\n      <td>2021-03-10 22:03:00</td>\n      <td>DUBAI - The United Nations' children's fund on...</td>\n      <td>GMA News</td>\n    </tr>\n    <tr>\n      <th>3</th>\n      <td>https://www.gmanetwork.com/news/news/nation/77...</td>\n      <td>Sinovac COVID-19 vaccine might have better eff...</td>\n      <td>JULIA MARI ORNEDO</td>\n      <td>2021-03-02 16:48:00</td>\n      <td>The coronavirus vaccine developed by Chinese f...</td>\n      <td>GMA News</td>\n    </tr>\n    <tr>\n      <th>4</th>\n      <td>https://www.gmanetwork.com/news/news/nation/77...</td>\n      <td>COVID-19 vaccine rollout not a reason to be co...</td>\n      <td>ANNA FELICIA BAJO</td>\n      <td>2021-03-08 16:04:00</td>\n      <td>House Speaker Lord Allan Velasco on Monday sai...</td>\n      <td>GMA News</td>\n    </tr>\n    <tr>\n      <th>...</th>\n      <td>...</td>\n      <td>...</td>\n      <td>...</td>\n      <td>...</td>\n      <td>...</td>\n      <td>...</td>\n    </tr>\n    <tr>\n      <th>282</th>\n      <td>https://www.gmanetwork.com/news/scitech/scienc...</td>\n      <td>UK starts accelerated review for AstraZeneca’s...</td>\n      <td>KANISHKA SINGH</td>\n      <td>2020-11-01 21:09:00</td>\n      <td>AstraZeneca Plc said on Sunday Britain's healt...</td>\n      <td>GMA News</td>\n    </tr>\n    <tr>\n      <th>283</th>\n      <td>https://www.gmanetwork.com/news/scitech/scienc...</td>\n      <td>J&amp;J's COVID-19 vaccine produces strong immune ...</td>\n      <td>NANCY LAPID</td>\n      <td>2020-09-26 04:06:00</td>\n      <td>A single dose of Johnson &amp; Johnson's experimen...</td>\n      <td>GMA News</td>\n    </tr>\n    <tr>\n      <th>284</th>\n      <td>https://www.gmanetwork.com/news/news/regions/7...</td>\n      <td>COVID-19 vaccine clinical trials for Cavite re...</td>\n      <td>ANNA FELICIA BAJO</td>\n      <td>2020-08-28 09:31:00</td>\n      <td>The clinical trials for vaccines against COVID...</td>\n      <td>GMA News</td>\n    </tr>\n    <tr>\n      <th>285</th>\n      <td>https://www.gmanetwork.com/news/news/nation/75...</td>\n      <td>China eyes COVID-19 vaccine by year-end or ear...</td>\n      <td>NICOLE-ANNE C. LAGRIMAS</td>\n      <td>2020-09-08 19:09:00</td>\n      <td>China hopes to be ready with a vaccine against...</td>\n      <td>GMA News</td>\n    </tr>\n    <tr>\n      <th>286</th>\n      <td>https://www.gmanetwork.com/news/scitech/scienc...</td>\n      <td>US firm announces ‘positive interim’ phase 1 r...</td>\n      <td>GMA News</td>\n      <td>2020-05-18 20:53:00</td>\n      <td>WASHINGTON — US biotech firm Moderna on Monday...</td>\n      <td>GMA News</td>\n    </tr>\n  </tbody>\n</table>\n<p>287 rows × 6 columns</p>\n</div>"
     },
     "metadata": {},
     "execution_count": 16
    }
   ],
   "source": [
    "df_gma = pd.read_csv('datasets/gmanews.csv')\n",
    "df_gma['published_dates'] = pd.to_datetime(df_gma['published_dates'])\n",
    "df_gma.info()\n",
    "df_gma"
   ]
  },
  {
   "source": [
    "## Manila Bulletin (Gee-R)"
   ],
   "cell_type": "markdown",
   "metadata": {}
  },
  {
   "cell_type": "code",
   "execution_count": null,
   "metadata": {},
   "outputs": [],
   "source": [
    "# # TODO\n",
    "# df_manilabulletin = pd.read_csv('datasets/manilabulletin.csv')\n",
    "# df_manilabulletin.info()\n",
    "# df_manilabulletin"
   ]
  },
  {
   "source": [
    "## ABS-CBN (Gee-R)"
   ],
   "cell_type": "markdown",
   "metadata": {}
  },
  {
   "cell_type": "code",
   "execution_count": null,
   "metadata": {},
   "outputs": [],
   "source": [
    "# # TODO\n",
    "# df_abscbn = pd.read_csv('datasets/abscbn.csv')\n",
    "# df_abscbn.info()\n",
    "# df_abscbn"
   ]
  },
  {
   "source": [
    "## Philippine Star (Hurly)"
   ],
   "cell_type": "markdown",
   "metadata": {}
  },
  {
   "cell_type": "code",
   "execution_count": null,
   "metadata": {},
   "outputs": [],
   "source": [
    "# # TODO\n",
    "# df_philstar = pd.read_csv('datasets/philstar.csv')\n",
    "# df_philstar.info()\n",
    "# df_philstar"
   ]
  },
  {
   "source": [
    "## The Manila Times (Hurly)"
   ],
   "cell_type": "markdown",
   "metadata": {}
  },
  {
   "cell_type": "code",
   "execution_count": null,
   "metadata": {},
   "outputs": [],
   "source": [
    "# # TODO\n",
    "# df_themanilatimes = pd.read_csv('datasets/themanilatimes.csv')\n",
    "# df_themanilatimes.info()\n",
    "# df_themanilatimes"
   ]
  },
  {
   "source": [
    "## Sun Star (Gee-R)"
   ],
   "cell_type": "markdown",
   "metadata": {}
  },
  {
   "cell_type": "code",
   "execution_count": null,
   "metadata": {},
   "outputs": [],
   "source": []
  },
  {
   "cell_type": "code",
   "execution_count": null,
   "metadata": {},
   "outputs": [],
   "source": [
    "# # TODO\n",
    "# df_sunstar = pd.read_csv('datasets/sunstar.csv')\n",
    "# df_sunstar.info()\n",
    "# df_sunstar"
   ]
  },
  {
   "source": [
    "## Inquirer (Andrei)"
   ],
   "cell_type": "markdown",
   "metadata": {}
  },
  {
   "cell_type": "code",
   "execution_count": null,
   "metadata": {},
   "outputs": [],
   "source": [
    "# # TODO\n",
    "# df_inquirer = pd.read_csv('datasets/inquirer.csv')\n",
    "# df_inquirer.info()\n",
    "# df_inquirer"
   ]
  },
  {
   "source": [
    "## CNN (Justine)"
   ],
   "cell_type": "markdown",
   "metadata": {}
  },
  {
   "cell_type": "code",
   "execution_count": null,
   "metadata": {},
   "outputs": [],
   "source": [
    "# # TODO\n",
    "# df_cnn = pd.read_csv('datasets/cnn.csv')\n",
    "# df_cnn.info()\n",
    "# df_cnn"
   ]
  },
  {
   "source": [
    "## Philippine News Agency (Justine)"
   ],
   "cell_type": "markdown",
   "metadata": {}
  },
  {
   "cell_type": "code",
   "execution_count": 22,
   "metadata": {},
   "outputs": [],
   "source": [
    "# # TODO\n",
    "# df_pna = pd.read_csv('datasets/pna.csv')\n",
    "# df_pna.info()\n",
    "# df_pna"
   ]
  },
  {
   "source": [
    "# COMBINED DATASET"
   ],
   "cell_type": "markdown",
   "metadata": {}
  },
  {
   "cell_type": "code",
   "execution_count": 19,
   "metadata": {},
   "outputs": [
    {
     "output_type": "stream",
     "name": "stdout",
     "text": [
      "<class 'pandas.core.frame.DataFrame'>\nRangeIndex: 370 entries, 0 to 369\nData columns (total 6 columns):\n #   Column            Non-Null Count  Dtype         \n---  ------            --------------  -----         \n 0   urls              370 non-null    object        \n 1   titles            370 non-null    object        \n 2   authors           370 non-null    object        \n 3   published_dates   370 non-null    datetime64[ns]\n 4   articles_content  370 non-null    object        \n 5   news_org          370 non-null    object        \ndtypes: datetime64[ns](1), object(5)\nmemory usage: 17.5+ KB\n"
     ]
    },
    {
     "output_type": "execute_result",
     "data": {
      "text/plain": [
       "                                                  urls  \\\n",
       "0    https://www.rappler.com/newsbreak/explainers/w...   \n",
       "1    https://www.rappler.com/newsbreak/iq/timeline-...   \n",
       "2    https://www.rappler.com/nation/philippines-rec...   \n",
       "3    https://www.rappler.com/nation/philippines-gra...   \n",
       "4    https://www.rappler.com/nation/philippines-rec...   \n",
       "..                                                 ...   \n",
       "365  https://www.gmanetwork.com/news/scitech/scienc...   \n",
       "366  https://www.gmanetwork.com/news/scitech/scienc...   \n",
       "367  https://www.gmanetwork.com/news/news/regions/7...   \n",
       "368  https://www.gmanetwork.com/news/news/nation/75...   \n",
       "369  https://www.gmanetwork.com/news/scitech/scienc...   \n",
       "\n",
       "                                                titles  \\\n",
       "0    Here’s why COVID-19 vaccines haven’t arrived i...   \n",
       "1    TIMELINE: The Philippines’ 2021 COVID-19 vacci...   \n",
       "2    After initial delay, Philippines to receive As...   \n",
       "3    Philippines grants emergency approval for Sino...   \n",
       "4    Philippines receives first COVID-19 vaccine de...   \n",
       "..                                                 ...   \n",
       "365  UK starts accelerated review for AstraZeneca’s...   \n",
       "366  J&J's COVID-19 vaccine produces strong immune ...   \n",
       "367  COVID-19 vaccine clinical trials for Cavite re...   \n",
       "368  China eyes COVID-19 vaccine by year-end or ear...   \n",
       "369  US firm announces ‘positive interim’ phase 1 r...   \n",
       "\n",
       "                     authors     published_dates  \\\n",
       "0             SOFIA TOMACRUZ 2021-02-18 09:22:00   \n",
       "1             SOFIA TOMACRUZ 2021-02-04 19:43:00   \n",
       "2             SOFIA TOMACRUZ 2021-03-03 14:41:00   \n",
       "3             SOFIA TOMACRUZ 2021-02-22 12:19:00   \n",
       "4             SOFIA TOMACRUZ 2021-02-28 16:16:00   \n",
       "..                       ...                 ...   \n",
       "365           KANISHKA SINGH 2020-11-01 21:09:00   \n",
       "366              NANCY LAPID 2020-09-26 04:06:00   \n",
       "367        ANNA FELICIA BAJO 2020-08-28 09:31:00   \n",
       "368  NICOLE-ANNE C. LAGRIMAS 2020-09-08 19:09:00   \n",
       "369                 GMA News 2020-05-18 20:53:00   \n",
       "\n",
       "                                      articles_content  news_org  \n",
       "0    MANILA, PHILIPPINES\\nThe Philippine government...   Rappler  \n",
       "1    MANILA, PHILIPPINES\\n(UPDATED) On March 1, the...   Rappler  \n",
       "2    MANILA, PHILIPPINES\\n(UPDATED) Malacañang says...   Rappler  \n",
       "3    MANILA, PHILIPPINES\\n(UPDATED) Its lower effic...   Rappler  \n",
       "4    MANILA, PHILIPPINES\\n(3rd UPDATE) The arrival ...   Rappler  \n",
       "..                                                 ...       ...  \n",
       "365  AstraZeneca Plc said on Sunday Britain's healt...  GMA News  \n",
       "366  A single dose of Johnson & Johnson's experimen...  GMA News  \n",
       "367  The clinical trials for vaccines against COVID...  GMA News  \n",
       "368  China hopes to be ready with a vaccine against...  GMA News  \n",
       "369  WASHINGTON — US biotech firm Moderna on Monday...  GMA News  \n",
       "\n",
       "[370 rows x 6 columns]"
      ],
      "text/html": "<div>\n<style scoped>\n    .dataframe tbody tr th:only-of-type {\n        vertical-align: middle;\n    }\n\n    .dataframe tbody tr th {\n        vertical-align: top;\n    }\n\n    .dataframe thead th {\n        text-align: right;\n    }\n</style>\n<table border=\"1\" class=\"dataframe\">\n  <thead>\n    <tr style=\"text-align: right;\">\n      <th></th>\n      <th>urls</th>\n      <th>titles</th>\n      <th>authors</th>\n      <th>published_dates</th>\n      <th>articles_content</th>\n      <th>news_org</th>\n    </tr>\n  </thead>\n  <tbody>\n    <tr>\n      <th>0</th>\n      <td>https://www.rappler.com/newsbreak/explainers/w...</td>\n      <td>Here’s why COVID-19 vaccines haven’t arrived i...</td>\n      <td>SOFIA TOMACRUZ</td>\n      <td>2021-02-18 09:22:00</td>\n      <td>MANILA, PHILIPPINES\\nThe Philippine government...</td>\n      <td>Rappler</td>\n    </tr>\n    <tr>\n      <th>1</th>\n      <td>https://www.rappler.com/newsbreak/iq/timeline-...</td>\n      <td>TIMELINE: The Philippines’ 2021 COVID-19 vacci...</td>\n      <td>SOFIA TOMACRUZ</td>\n      <td>2021-02-04 19:43:00</td>\n      <td>MANILA, PHILIPPINES\\n(UPDATED) On March 1, the...</td>\n      <td>Rappler</td>\n    </tr>\n    <tr>\n      <th>2</th>\n      <td>https://www.rappler.com/nation/philippines-rec...</td>\n      <td>After initial delay, Philippines to receive As...</td>\n      <td>SOFIA TOMACRUZ</td>\n      <td>2021-03-03 14:41:00</td>\n      <td>MANILA, PHILIPPINES\\n(UPDATED) Malacañang says...</td>\n      <td>Rappler</td>\n    </tr>\n    <tr>\n      <th>3</th>\n      <td>https://www.rappler.com/nation/philippines-gra...</td>\n      <td>Philippines grants emergency approval for Sino...</td>\n      <td>SOFIA TOMACRUZ</td>\n      <td>2021-02-22 12:19:00</td>\n      <td>MANILA, PHILIPPINES\\n(UPDATED) Its lower effic...</td>\n      <td>Rappler</td>\n    </tr>\n    <tr>\n      <th>4</th>\n      <td>https://www.rappler.com/nation/philippines-rec...</td>\n      <td>Philippines receives first COVID-19 vaccine de...</td>\n      <td>SOFIA TOMACRUZ</td>\n      <td>2021-02-28 16:16:00</td>\n      <td>MANILA, PHILIPPINES\\n(3rd UPDATE) The arrival ...</td>\n      <td>Rappler</td>\n    </tr>\n    <tr>\n      <th>...</th>\n      <td>...</td>\n      <td>...</td>\n      <td>...</td>\n      <td>...</td>\n      <td>...</td>\n      <td>...</td>\n    </tr>\n    <tr>\n      <th>365</th>\n      <td>https://www.gmanetwork.com/news/scitech/scienc...</td>\n      <td>UK starts accelerated review for AstraZeneca’s...</td>\n      <td>KANISHKA SINGH</td>\n      <td>2020-11-01 21:09:00</td>\n      <td>AstraZeneca Plc said on Sunday Britain's healt...</td>\n      <td>GMA News</td>\n    </tr>\n    <tr>\n      <th>366</th>\n      <td>https://www.gmanetwork.com/news/scitech/scienc...</td>\n      <td>J&amp;J's COVID-19 vaccine produces strong immune ...</td>\n      <td>NANCY LAPID</td>\n      <td>2020-09-26 04:06:00</td>\n      <td>A single dose of Johnson &amp; Johnson's experimen...</td>\n      <td>GMA News</td>\n    </tr>\n    <tr>\n      <th>367</th>\n      <td>https://www.gmanetwork.com/news/news/regions/7...</td>\n      <td>COVID-19 vaccine clinical trials for Cavite re...</td>\n      <td>ANNA FELICIA BAJO</td>\n      <td>2020-08-28 09:31:00</td>\n      <td>The clinical trials for vaccines against COVID...</td>\n      <td>GMA News</td>\n    </tr>\n    <tr>\n      <th>368</th>\n      <td>https://www.gmanetwork.com/news/news/nation/75...</td>\n      <td>China eyes COVID-19 vaccine by year-end or ear...</td>\n      <td>NICOLE-ANNE C. LAGRIMAS</td>\n      <td>2020-09-08 19:09:00</td>\n      <td>China hopes to be ready with a vaccine against...</td>\n      <td>GMA News</td>\n    </tr>\n    <tr>\n      <th>369</th>\n      <td>https://www.gmanetwork.com/news/scitech/scienc...</td>\n      <td>US firm announces ‘positive interim’ phase 1 r...</td>\n      <td>GMA News</td>\n      <td>2020-05-18 20:53:00</td>\n      <td>WASHINGTON — US biotech firm Moderna on Monday...</td>\n      <td>GMA News</td>\n    </tr>\n  </tbody>\n</table>\n<p>370 rows × 6 columns</p>\n</div>"
     },
     "metadata": {},
     "execution_count": 19
    }
   ],
   "source": [
    "# df = df_rappler.append(df_gma, ignore_index=True).\\\n",
    "#     append(df_manilabulletin, ignore_index=True).\\\n",
    "#     append(df_abscbn, ignore_index=True).\\\n",
    "#     append(df_philstar, ignore_index=True).\\\n",
    "#     append(df_themanilatimes, ignore_index=True).\\\n",
    "#     append(df_sunstar, ignore_index=True).\\\n",
    "#     append(df_inquirer, ignore_index=True).\\\n",
    "#     append(df_cnn, ignore_index=True).\\\n",
    "#     append(df_pna, ignore_index=True)\n",
    "\n",
    "df['published_dates'] = pd.to_datetime(df['published_dates'])\n",
    "\n",
    "df.info()\n",
    "df"
   ]
  },
  {
   "source": [
    "# CLEANED DATASET"
   ],
   "cell_type": "markdown",
   "metadata": {}
  },
  {
   "cell_type": "code",
   "execution_count": 24,
   "metadata": {},
   "outputs": [],
   "source": [
    "# TODO"
   ]
  },
  {
   "source": [
    "# SAVE DATASET AS CSV"
   ],
   "cell_type": "markdown",
   "metadata": {}
  },
  {
   "cell_type": "code",
   "execution_count": 21,
   "metadata": {},
   "outputs": [
    {
     "output_type": "stream",
     "name": "stdout",
     "text": [
      "<class 'pandas.core.frame.DataFrame'>\nRangeIndex: 370 entries, 0 to 369\nData columns (total 6 columns):\n #   Column            Non-Null Count  Dtype         \n---  ------            --------------  -----         \n 0   urls              370 non-null    object        \n 1   titles            370 non-null    object        \n 2   authors           370 non-null    object        \n 3   published_dates   370 non-null    datetime64[ns]\n 4   articles_content  370 non-null    object        \n 5   news_org          370 non-null    object        \ndtypes: datetime64[ns](1), object(5)\nmemory usage: 17.5+ KB\n"
     ]
    },
    {
     "output_type": "execute_result",
     "data": {
      "text/plain": [
       "                                                  urls  \\\n",
       "0    https://www.rappler.com/newsbreak/explainers/w...   \n",
       "1    https://www.rappler.com/newsbreak/iq/timeline-...   \n",
       "2    https://www.rappler.com/nation/philippines-rec...   \n",
       "3    https://www.rappler.com/nation/philippines-gra...   \n",
       "4    https://www.rappler.com/nation/philippines-rec...   \n",
       "..                                                 ...   \n",
       "365  https://www.gmanetwork.com/news/scitech/scienc...   \n",
       "366  https://www.gmanetwork.com/news/scitech/scienc...   \n",
       "367  https://www.gmanetwork.com/news/news/regions/7...   \n",
       "368  https://www.gmanetwork.com/news/news/nation/75...   \n",
       "369  https://www.gmanetwork.com/news/scitech/scienc...   \n",
       "\n",
       "                                                titles  \\\n",
       "0    Here’s why COVID-19 vaccines haven’t arrived i...   \n",
       "1    TIMELINE: The Philippines’ 2021 COVID-19 vacci...   \n",
       "2    After initial delay, Philippines to receive As...   \n",
       "3    Philippines grants emergency approval for Sino...   \n",
       "4    Philippines receives first COVID-19 vaccine de...   \n",
       "..                                                 ...   \n",
       "365  UK starts accelerated review for AstraZeneca’s...   \n",
       "366  J&J's COVID-19 vaccine produces strong immune ...   \n",
       "367  COVID-19 vaccine clinical trials for Cavite re...   \n",
       "368  China eyes COVID-19 vaccine by year-end or ear...   \n",
       "369  US firm announces ‘positive interim’ phase 1 r...   \n",
       "\n",
       "                     authors     published_dates  \\\n",
       "0             SOFIA TOMACRUZ 2021-02-18 09:22:00   \n",
       "1             SOFIA TOMACRUZ 2021-02-04 19:43:00   \n",
       "2             SOFIA TOMACRUZ 2021-03-03 14:41:00   \n",
       "3             SOFIA TOMACRUZ 2021-02-22 12:19:00   \n",
       "4             SOFIA TOMACRUZ 2021-02-28 16:16:00   \n",
       "..                       ...                 ...   \n",
       "365           KANISHKA SINGH 2020-11-01 21:09:00   \n",
       "366              NANCY LAPID 2020-09-26 04:06:00   \n",
       "367        ANNA FELICIA BAJO 2020-08-28 09:31:00   \n",
       "368  NICOLE-ANNE C. LAGRIMAS 2020-09-08 19:09:00   \n",
       "369                 GMA News 2020-05-18 20:53:00   \n",
       "\n",
       "                                      articles_content  news_org  \n",
       "0    MANILA, PHILIPPINES\\nThe Philippine government...   Rappler  \n",
       "1    MANILA, PHILIPPINES\\n(UPDATED) On March 1, the...   Rappler  \n",
       "2    MANILA, PHILIPPINES\\n(UPDATED) Malacañang says...   Rappler  \n",
       "3    MANILA, PHILIPPINES\\n(UPDATED) Its lower effic...   Rappler  \n",
       "4    MANILA, PHILIPPINES\\n(3rd UPDATE) The arrival ...   Rappler  \n",
       "..                                                 ...       ...  \n",
       "365  AstraZeneca Plc said on Sunday Britain's healt...  GMA News  \n",
       "366  A single dose of Johnson & Johnson's experimen...  GMA News  \n",
       "367  The clinical trials for vaccines against COVID...  GMA News  \n",
       "368  China hopes to be ready with a vaccine against...  GMA News  \n",
       "369  WASHINGTON — US biotech firm Moderna on Monday...  GMA News  \n",
       "\n",
       "[370 rows x 6 columns]"
      ],
      "text/html": "<div>\n<style scoped>\n    .dataframe tbody tr th:only-of-type {\n        vertical-align: middle;\n    }\n\n    .dataframe tbody tr th {\n        vertical-align: top;\n    }\n\n    .dataframe thead th {\n        text-align: right;\n    }\n</style>\n<table border=\"1\" class=\"dataframe\">\n  <thead>\n    <tr style=\"text-align: right;\">\n      <th></th>\n      <th>urls</th>\n      <th>titles</th>\n      <th>authors</th>\n      <th>published_dates</th>\n      <th>articles_content</th>\n      <th>news_org</th>\n    </tr>\n  </thead>\n  <tbody>\n    <tr>\n      <th>0</th>\n      <td>https://www.rappler.com/newsbreak/explainers/w...</td>\n      <td>Here’s why COVID-19 vaccines haven’t arrived i...</td>\n      <td>SOFIA TOMACRUZ</td>\n      <td>2021-02-18 09:22:00</td>\n      <td>MANILA, PHILIPPINES\\nThe Philippine government...</td>\n      <td>Rappler</td>\n    </tr>\n    <tr>\n      <th>1</th>\n      <td>https://www.rappler.com/newsbreak/iq/timeline-...</td>\n      <td>TIMELINE: The Philippines’ 2021 COVID-19 vacci...</td>\n      <td>SOFIA TOMACRUZ</td>\n      <td>2021-02-04 19:43:00</td>\n      <td>MANILA, PHILIPPINES\\n(UPDATED) On March 1, the...</td>\n      <td>Rappler</td>\n    </tr>\n    <tr>\n      <th>2</th>\n      <td>https://www.rappler.com/nation/philippines-rec...</td>\n      <td>After initial delay, Philippines to receive As...</td>\n      <td>SOFIA TOMACRUZ</td>\n      <td>2021-03-03 14:41:00</td>\n      <td>MANILA, PHILIPPINES\\n(UPDATED) Malacañang says...</td>\n      <td>Rappler</td>\n    </tr>\n    <tr>\n      <th>3</th>\n      <td>https://www.rappler.com/nation/philippines-gra...</td>\n      <td>Philippines grants emergency approval for Sino...</td>\n      <td>SOFIA TOMACRUZ</td>\n      <td>2021-02-22 12:19:00</td>\n      <td>MANILA, PHILIPPINES\\n(UPDATED) Its lower effic...</td>\n      <td>Rappler</td>\n    </tr>\n    <tr>\n      <th>4</th>\n      <td>https://www.rappler.com/nation/philippines-rec...</td>\n      <td>Philippines receives first COVID-19 vaccine de...</td>\n      <td>SOFIA TOMACRUZ</td>\n      <td>2021-02-28 16:16:00</td>\n      <td>MANILA, PHILIPPINES\\n(3rd UPDATE) The arrival ...</td>\n      <td>Rappler</td>\n    </tr>\n    <tr>\n      <th>...</th>\n      <td>...</td>\n      <td>...</td>\n      <td>...</td>\n      <td>...</td>\n      <td>...</td>\n      <td>...</td>\n    </tr>\n    <tr>\n      <th>365</th>\n      <td>https://www.gmanetwork.com/news/scitech/scienc...</td>\n      <td>UK starts accelerated review for AstraZeneca’s...</td>\n      <td>KANISHKA SINGH</td>\n      <td>2020-11-01 21:09:00</td>\n      <td>AstraZeneca Plc said on Sunday Britain's healt...</td>\n      <td>GMA News</td>\n    </tr>\n    <tr>\n      <th>366</th>\n      <td>https://www.gmanetwork.com/news/scitech/scienc...</td>\n      <td>J&amp;J's COVID-19 vaccine produces strong immune ...</td>\n      <td>NANCY LAPID</td>\n      <td>2020-09-26 04:06:00</td>\n      <td>A single dose of Johnson &amp; Johnson's experimen...</td>\n      <td>GMA News</td>\n    </tr>\n    <tr>\n      <th>367</th>\n      <td>https://www.gmanetwork.com/news/news/regions/7...</td>\n      <td>COVID-19 vaccine clinical trials for Cavite re...</td>\n      <td>ANNA FELICIA BAJO</td>\n      <td>2020-08-28 09:31:00</td>\n      <td>The clinical trials for vaccines against COVID...</td>\n      <td>GMA News</td>\n    </tr>\n    <tr>\n      <th>368</th>\n      <td>https://www.gmanetwork.com/news/news/nation/75...</td>\n      <td>China eyes COVID-19 vaccine by year-end or ear...</td>\n      <td>NICOLE-ANNE C. LAGRIMAS</td>\n      <td>2020-09-08 19:09:00</td>\n      <td>China hopes to be ready with a vaccine against...</td>\n      <td>GMA News</td>\n    </tr>\n    <tr>\n      <th>369</th>\n      <td>https://www.gmanetwork.com/news/scitech/scienc...</td>\n      <td>US firm announces ‘positive interim’ phase 1 r...</td>\n      <td>GMA News</td>\n      <td>2020-05-18 20:53:00</td>\n      <td>WASHINGTON — US biotech firm Moderna on Monday...</td>\n      <td>GMA News</td>\n    </tr>\n  </tbody>\n</table>\n<p>370 rows × 6 columns</p>\n</div>"
     },
     "metadata": {},
     "execution_count": 21
    }
   ],
   "source": [
    "FILENAME = 'datasets/combined_and_cleaned.csv'\n",
    "\n",
    "### Save the dataset as CSV\n",
    "df.to_csv(FILENAME, index=False)\n",
    "\n",
    "### Read the CSV dataset\n",
    "df = pd.read_csv(FILENAME)\n",
    "df['published_dates'] = pd.to_datetime(df['published_dates'])\n",
    "df.info()\n",
    "df"
   ]
  },
  {
   "cell_type": "code",
   "execution_count": null,
   "metadata": {},
   "outputs": [],
   "source": []
  }
 ]
}