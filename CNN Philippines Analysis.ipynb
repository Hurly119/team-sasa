{
 "cells": [
  {
   "cell_type": "code",
   "execution_count": 2,
   "id": "second-patch",
   "metadata": {
    "execution": {
     "iopub.execute_input": "2021-03-11T09:48:20.315022Z",
     "iopub.status.busy": "2021-03-11T09:48:20.315022Z",
     "iopub.status.idle": "2021-03-11T09:48:33.232644Z",
     "shell.execute_reply": "2021-03-11T09:48:33.231687Z",
     "shell.execute_reply.started": "2021-03-11T09:48:20.315022Z"
    }
   },
   "outputs": [
    {
     "name": "stderr",
     "output_type": "stream",
     "text": [
      "[nltk_data] Downloading package stopwords to\n",
      "[nltk_data]     C:\\Users\\justine.padayao\\AppData\\Roaming\\nltk_data...\n",
      "[nltk_data]   Package stopwords is already up-to-date!\n",
      "[nltk_data] Downloading package vader_lexicon to\n",
      "[nltk_data]     C:\\Users\\justine.padayao\\AppData\\Roaming\\nltk_data...\n",
      "[nltk_data]   Package vader_lexicon is already up-to-date!\n",
      "[nltk_data] Downloading package punkt to\n",
      "[nltk_data]     C:\\Users\\justine.padayao\\AppData\\Roaming\\nltk_data...\n",
      "[nltk_data]   Package punkt is already up-to-date!\n"
     ]
    }
   ],
   "source": [
    "import matplotlib.pyplot as plt\n",
    "from wordcloud import WordCloud\n",
    "from collections import Counter\n",
    "import gensim\n",
    "import numpy as np\n",
    "import pandas as pd\n",
    "import spacy\n",
    "import math\n",
    "from scipy.sparse import csr_matrix\n",
    "from sklearn.preprocessing import normalize\n",
    "\n",
    "from gensim.models import CoherenceModel, LdaModel, LsiModel, HdpModel\n",
    "from gensim.models.wrappers import LdaMallet\n",
    "from gensim.corpora import Dictionary\n",
    "import pyLDAvis.gensim\n",
    "\n",
    "import nltk\n",
    "nltk.download('stopwords')\n",
    "nltk.download('vader_lexicon')\n",
    "nltk.download('punkt')\n",
    "from nltk.corpus import stopwords\n",
    "from nltk.sentiment.vader import SentimentIntensityAnalyzer\n",
    "\n",
    "from sklearn.feature_extraction.text import TfidfVectorizer\n",
    "from sklearn.feature_extraction import text\n",
    "\n",
    "import os, re, operator, warnings\n",
    "warnings.filterwarnings('ignore')\n",
    "%matplotlib inline"
   ]
  },
  {
   "cell_type": "code",
   "execution_count": 3,
   "id": "synthetic-framing",
   "metadata": {
    "execution": {
     "iopub.execute_input": "2021-03-11T09:48:33.233641Z",
     "iopub.status.busy": "2021-03-11T09:48:33.233641Z",
     "iopub.status.idle": "2021-03-11T09:48:33.264557Z",
     "shell.execute_reply": "2021-03-11T09:48:33.263745Z",
     "shell.execute_reply.started": "2021-03-11T09:48:33.233641Z"
    }
   },
   "outputs": [],
   "source": [
    "df = pd.read_csv('CNN Scraped Articles.csv')"
   ]
  },
  {
   "cell_type": "code",
   "execution_count": null,
   "id": "alpha-monday",
   "metadata": {},
   "outputs": [],
   "source": []
  }
 ],
 "metadata": {
  "kernelspec": {
   "display_name": "Python 3",
   "language": "python",
   "name": "python3"
  },
  "language_info": {
   "codemirror_mode": {
    "name": "ipython",
    "version": 3
   },
   "file_extension": ".py",
   "mimetype": "text/x-python",
   "name": "python",
   "nbconvert_exporter": "python",
   "pygments_lexer": "ipython3",
   "version": "3.8.5"
  }
 },
 "nbformat": 4,
 "nbformat_minor": 5
}
